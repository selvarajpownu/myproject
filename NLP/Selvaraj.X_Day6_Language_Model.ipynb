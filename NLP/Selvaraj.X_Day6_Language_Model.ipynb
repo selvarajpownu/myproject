{
 "cells": [
  {
   "cell_type": "markdown",
   "id": "0b6fc030",
   "metadata": {},
   "source": [
    "## 1. Build a NLP Language model for text generation involves train a neural network to predict the next word in a sequence of words."
   ]
  },
  {
   "cell_type": "code",
   "execution_count": 6,
   "id": "15f84d74",
   "metadata": {},
   "outputs": [],
   "source": [
    "#import libraries\n",
    "import numpy as np\n",
    "import tensorflow as tf\n",
    "from tensorflow.keras.models import Sequential\n",
    "from tensorflow.keras.layers import Embedding,LSTM,Dense"
   ]
  },
  {
   "cell_type": "code",
   "execution_count": 18,
   "id": "cf553772",
   "metadata": {},
   "outputs": [
    {
     "data": {
      "text/plain": [
       "['I am selvaraj', 'The quick brown fox jumps over the lazy dog ']"
      ]
     },
     "execution_count": 18,
     "metadata": {},
     "output_type": "execute_result"
    }
   ],
   "source": [
    "#Sample Data\n",
    "text_data=[\"I am selvaraj\",\"The quick brown fox jumps over the lazy dog \"]\n",
    "text_data"
   ]
  },
  {
   "cell_type": "code",
   "execution_count": 8,
   "id": "17caea7d",
   "metadata": {},
   "outputs": [
    {
     "name": "stdout",
     "output_type": "stream",
     "text": [
      "12\n"
     ]
    }
   ],
   "source": [
    "#Tokenization\n",
    "tokenizer=tf.keras.preprocessing.text.Tokenizer()\n",
    "tokenizer.fit_on_texts(text_data)\n",
    "total_words=len(tokenizer.word_index)+1\n",
    "print(total_words)"
   ]
  },
  {
   "cell_type": "code",
   "execution_count": 10,
   "id": "94eb4b5f",
   "metadata": {},
   "outputs": [],
   "source": [
    "\n",
    "#Create input sequences and targets\n",
    "input_sequences=[]\n",
    "for line in text_data:\n",
    "    token_list=tokenizer.texts_to_sequences([line])[0]\n",
    "    for i in range(1,len(token_list)):\n",
    "        n_gram_sequence=token_list[:i+1]\n",
    "        input_sequences.append(n_gram_sequence)\n",
    "max_sequence_length = max([len(seq) for seq in input_sequences])\n",
    "input_sequences = tf.keras.preprocessing.sequence.pad_sequences(input_sequences, maxlen=max_sequence_length, padding='pre')\n",
    "x, y = input_sequences[:, :-1], input_sequences[:, -1]\n",
    "y = tf.keras.utils.to_categorical(y, num_classes=total_words)"
   ]
  },
  {
   "cell_type": "code",
   "execution_count": 11,
   "id": "5b1d90ae",
   "metadata": {},
   "outputs": [
    {
     "name": "stdout",
     "output_type": "stream",
     "text": [
      "Epoch 1/100\n",
      "1/1 - 5s - loss: 2.4916 - accuracy: 0.1000 - 5s/epoch - 5s/step\n",
      "Epoch 2/100\n",
      "1/1 - 0s - loss: 2.4811 - accuracy: 0.1000 - 17ms/epoch - 17ms/step\n",
      "Epoch 3/100\n",
      "1/1 - 0s - loss: 2.4708 - accuracy: 0.2000 - 55ms/epoch - 55ms/step\n",
      "Epoch 4/100\n",
      "1/1 - 0s - loss: 2.4605 - accuracy: 0.2000 - 33ms/epoch - 33ms/step\n",
      "Epoch 5/100\n",
      "1/1 - 0s - loss: 2.4500 - accuracy: 0.3000 - 42ms/epoch - 42ms/step\n",
      "Epoch 6/100\n",
      "1/1 - 0s - loss: 2.4391 - accuracy: 0.2000 - 37ms/epoch - 37ms/step\n",
      "Epoch 7/100\n",
      "1/1 - 0s - loss: 2.4274 - accuracy: 0.4000 - 42ms/epoch - 42ms/step\n",
      "Epoch 8/100\n",
      "1/1 - 0s - loss: 2.4149 - accuracy: 0.5000 - 27ms/epoch - 27ms/step\n",
      "Epoch 9/100\n",
      "1/1 - 0s - loss: 2.4011 - accuracy: 0.5000 - 33ms/epoch - 33ms/step\n",
      "Epoch 10/100\n",
      "1/1 - 0s - loss: 2.3859 - accuracy: 0.5000 - 24ms/epoch - 24ms/step\n",
      "Epoch 11/100\n",
      "1/1 - 0s - loss: 2.3690 - accuracy: 0.5000 - 14ms/epoch - 14ms/step\n",
      "Epoch 12/100\n",
      "1/1 - 0s - loss: 2.3500 - accuracy: 0.4000 - 15ms/epoch - 15ms/step\n",
      "Epoch 13/100\n",
      "1/1 - 0s - loss: 2.3285 - accuracy: 0.4000 - 20ms/epoch - 20ms/step\n",
      "Epoch 14/100\n",
      "1/1 - 0s - loss: 2.3041 - accuracy: 0.4000 - 18ms/epoch - 18ms/step\n",
      "Epoch 15/100\n",
      "1/1 - 0s - loss: 2.2764 - accuracy: 0.4000 - 18ms/epoch - 18ms/step\n",
      "Epoch 16/100\n",
      "1/1 - 0s - loss: 2.2450 - accuracy: 0.4000 - 16ms/epoch - 16ms/step\n",
      "Epoch 17/100\n",
      "1/1 - 0s - loss: 2.2097 - accuracy: 0.4000 - 27ms/epoch - 27ms/step\n",
      "Epoch 18/100\n",
      "1/1 - 0s - loss: 2.1704 - accuracy: 0.4000 - 43ms/epoch - 43ms/step\n",
      "Epoch 19/100\n",
      "1/1 - 0s - loss: 2.1276 - accuracy: 0.3000 - 35ms/epoch - 35ms/step\n",
      "Epoch 20/100\n",
      "1/1 - 0s - loss: 2.0823 - accuracy: 0.3000 - 33ms/epoch - 33ms/step\n",
      "Epoch 21/100\n",
      "1/1 - 0s - loss: 2.0358 - accuracy: 0.3000 - 40ms/epoch - 40ms/step\n",
      "Epoch 22/100\n",
      "1/1 - 0s - loss: 1.9893 - accuracy: 0.3000 - 35ms/epoch - 35ms/step\n",
      "Epoch 23/100\n",
      "1/1 - 0s - loss: 1.9423 - accuracy: 0.3000 - 39ms/epoch - 39ms/step\n",
      "Epoch 24/100\n",
      "1/1 - 0s - loss: 1.8922 - accuracy: 0.3000 - 43ms/epoch - 43ms/step\n",
      "Epoch 25/100\n",
      "1/1 - 0s - loss: 1.8362 - accuracy: 0.3000 - 32ms/epoch - 32ms/step\n",
      "Epoch 26/100\n",
      "1/1 - 0s - loss: 1.7738 - accuracy: 0.4000 - 17ms/epoch - 17ms/step\n",
      "Epoch 27/100\n",
      "1/1 - 0s - loss: 1.7079 - accuracy: 0.5000 - 18ms/epoch - 18ms/step\n",
      "Epoch 28/100\n",
      "1/1 - 0s - loss: 1.6436 - accuracy: 0.7000 - 14ms/epoch - 14ms/step\n",
      "Epoch 29/100\n",
      "1/1 - 0s - loss: 1.5843 - accuracy: 1.0000 - 15ms/epoch - 15ms/step\n",
      "Epoch 30/100\n",
      "1/1 - 0s - loss: 1.5270 - accuracy: 1.0000 - 16ms/epoch - 16ms/step\n",
      "Epoch 31/100\n",
      "1/1 - 0s - loss: 1.4651 - accuracy: 1.0000 - 16ms/epoch - 16ms/step\n",
      "Epoch 32/100\n",
      "1/1 - 0s - loss: 1.3985 - accuracy: 1.0000 - 16ms/epoch - 16ms/step\n",
      "Epoch 33/100\n",
      "1/1 - 0s - loss: 1.3359 - accuracy: 1.0000 - 16ms/epoch - 16ms/step\n",
      "Epoch 34/100\n",
      "1/1 - 0s - loss: 1.2811 - accuracy: 0.9000 - 16ms/epoch - 16ms/step\n",
      "Epoch 35/100\n",
      "1/1 - 0s - loss: 1.2228 - accuracy: 0.9000 - 15ms/epoch - 15ms/step\n",
      "Epoch 36/100\n",
      "1/1 - 0s - loss: 1.1602 - accuracy: 0.9000 - 19ms/epoch - 19ms/step\n",
      "Epoch 37/100\n",
      "1/1 - 0s - loss: 1.1102 - accuracy: 0.9000 - 15ms/epoch - 15ms/step\n",
      "Epoch 38/100\n",
      "1/1 - 0s - loss: 1.0610 - accuracy: 0.9000 - 17ms/epoch - 17ms/step\n",
      "Epoch 39/100\n",
      "1/1 - 0s - loss: 1.0065 - accuracy: 0.9000 - 18ms/epoch - 18ms/step\n",
      "Epoch 40/100\n",
      "1/1 - 0s - loss: 0.9665 - accuracy: 0.9000 - 17ms/epoch - 17ms/step\n",
      "Epoch 41/100\n",
      "1/1 - 0s - loss: 0.9172 - accuracy: 0.9000 - 17ms/epoch - 17ms/step\n",
      "Epoch 42/100\n",
      "1/1 - 0s - loss: 0.8785 - accuracy: 1.0000 - 16ms/epoch - 16ms/step\n",
      "Epoch 43/100\n",
      "1/1 - 0s - loss: 0.8377 - accuracy: 1.0000 - 15ms/epoch - 15ms/step\n",
      "Epoch 44/100\n",
      "1/1 - 0s - loss: 0.8039 - accuracy: 1.0000 - 15ms/epoch - 15ms/step\n",
      "Epoch 45/100\n",
      "1/1 - 0s - loss: 0.7701 - accuracy: 1.0000 - 15ms/epoch - 15ms/step\n",
      "Epoch 46/100\n",
      "1/1 - 0s - loss: 0.7391 - accuracy: 1.0000 - 33ms/epoch - 33ms/step\n",
      "Epoch 47/100\n",
      "1/1 - 0s - loss: 0.7091 - accuracy: 1.0000 - 17ms/epoch - 17ms/step\n",
      "Epoch 48/100\n",
      "1/1 - 0s - loss: 0.6834 - accuracy: 1.0000 - 18ms/epoch - 18ms/step\n",
      "Epoch 49/100\n",
      "1/1 - 0s - loss: 0.6556 - accuracy: 1.0000 - 16ms/epoch - 16ms/step\n",
      "Epoch 50/100\n",
      "1/1 - 0s - loss: 0.6341 - accuracy: 1.0000 - 17ms/epoch - 17ms/step\n",
      "Epoch 51/100\n",
      "1/1 - 0s - loss: 0.6071 - accuracy: 1.0000 - 15ms/epoch - 15ms/step\n",
      "Epoch 52/100\n",
      "1/1 - 0s - loss: 0.5874 - accuracy: 1.0000 - 19ms/epoch - 19ms/step\n",
      "Epoch 53/100\n",
      "1/1 - 0s - loss: 0.5662 - accuracy: 1.0000 - 17ms/epoch - 17ms/step\n",
      "Epoch 54/100\n",
      "1/1 - 0s - loss: 0.5448 - accuracy: 1.0000 - 15ms/epoch - 15ms/step\n",
      "Epoch 55/100\n",
      "1/1 - 0s - loss: 0.5281 - accuracy: 1.0000 - 16ms/epoch - 16ms/step\n",
      "Epoch 56/100\n",
      "1/1 - 0s - loss: 0.5101 - accuracy: 1.0000 - 15ms/epoch - 15ms/step\n",
      "Epoch 57/100\n",
      "1/1 - 0s - loss: 0.4918 - accuracy: 1.0000 - 17ms/epoch - 17ms/step\n",
      "Epoch 58/100\n",
      "1/1 - 0s - loss: 0.4758 - accuracy: 1.0000 - 15ms/epoch - 15ms/step\n",
      "Epoch 59/100\n",
      "1/1 - 0s - loss: 0.4621 - accuracy: 1.0000 - 13ms/epoch - 13ms/step\n",
      "Epoch 60/100\n",
      "1/1 - 0s - loss: 0.4497 - accuracy: 1.0000 - 13ms/epoch - 13ms/step\n",
      "Epoch 61/100\n",
      "1/1 - 0s - loss: 0.4357 - accuracy: 1.0000 - 12ms/epoch - 12ms/step\n",
      "Epoch 62/100\n",
      "1/1 - 0s - loss: 0.4219 - accuracy: 1.0000 - 14ms/epoch - 14ms/step\n",
      "Epoch 63/100\n",
      "1/1 - 0s - loss: 0.4064 - accuracy: 1.0000 - 13ms/epoch - 13ms/step\n",
      "Epoch 64/100\n",
      "1/1 - 0s - loss: 0.3925 - accuracy: 1.0000 - 13ms/epoch - 13ms/step\n",
      "Epoch 65/100\n",
      "1/1 - 0s - loss: 0.3807 - accuracy: 1.0000 - 14ms/epoch - 14ms/step\n",
      "Epoch 66/100\n",
      "1/1 - 0s - loss: 0.3708 - accuracy: 1.0000 - 17ms/epoch - 17ms/step\n",
      "Epoch 67/100\n",
      "1/1 - 0s - loss: 0.3648 - accuracy: 1.0000 - 20ms/epoch - 20ms/step\n",
      "Epoch 68/100\n",
      "1/1 - 0s - loss: 0.3602 - accuracy: 1.0000 - 37ms/epoch - 37ms/step\n",
      "Epoch 69/100\n",
      "1/1 - 0s - loss: 0.3589 - accuracy: 1.0000 - 44ms/epoch - 44ms/step\n",
      "Epoch 70/100\n",
      "1/1 - 0s - loss: 0.3294 - accuracy: 1.0000 - 38ms/epoch - 38ms/step\n",
      "Epoch 71/100\n",
      "1/1 - 0s - loss: 0.3240 - accuracy: 1.0000 - 35ms/epoch - 35ms/step\n",
      "Epoch 72/100\n",
      "1/1 - 0s - loss: 0.3280 - accuracy: 1.0000 - 21ms/epoch - 21ms/step\n",
      "Epoch 73/100\n",
      "1/1 - 0s - loss: 0.3009 - accuracy: 1.0000 - 40ms/epoch - 40ms/step\n",
      "Epoch 74/100\n",
      "1/1 - 0s - loss: 0.3041 - accuracy: 1.0000 - 26ms/epoch - 26ms/step\n",
      "Epoch 75/100\n",
      "1/1 - 0s - loss: 0.3005 - accuracy: 1.0000 - 37ms/epoch - 37ms/step\n",
      "Epoch 76/100\n",
      "1/1 - 0s - loss: 0.2778 - accuracy: 1.0000 - 42ms/epoch - 42ms/step\n",
      "Epoch 77/100\n",
      "1/1 - 0s - loss: 0.2897 - accuracy: 1.0000 - 27ms/epoch - 27ms/step\n",
      "Epoch 78/100\n",
      "1/1 - 0s - loss: 0.2671 - accuracy: 1.0000 - 22ms/epoch - 22ms/step\n",
      "Epoch 79/100\n",
      "1/1 - 0s - loss: 0.2653 - accuracy: 1.0000 - 19ms/epoch - 19ms/step\n",
      "Epoch 80/100\n",
      "1/1 - 0s - loss: 0.2544 - accuracy: 1.0000 - 20ms/epoch - 20ms/step\n",
      "Epoch 81/100\n",
      "1/1 - 0s - loss: 0.2450 - accuracy: 1.0000 - 17ms/epoch - 17ms/step\n",
      "Epoch 82/100\n",
      "1/1 - 0s - loss: 0.2422 - accuracy: 1.0000 - 19ms/epoch - 19ms/step\n",
      "Epoch 83/100\n",
      "1/1 - 0s - loss: 0.2307 - accuracy: 1.0000 - 24ms/epoch - 24ms/step\n",
      "Epoch 84/100\n",
      "1/1 - 0s - loss: 0.2290 - accuracy: 1.0000 - 21ms/epoch - 21ms/step\n",
      "Epoch 85/100\n",
      "1/1 - 0s - loss: 0.2161 - accuracy: 1.0000 - 20ms/epoch - 20ms/step\n",
      "Epoch 86/100\n",
      "1/1 - 0s - loss: 0.2154 - accuracy: 1.0000 - 16ms/epoch - 16ms/step\n",
      "Epoch 87/100\n",
      "1/1 - 0s - loss: 0.2043 - accuracy: 1.0000 - 17ms/epoch - 17ms/step\n",
      "Epoch 88/100\n",
      "1/1 - 0s - loss: 0.2032 - accuracy: 1.0000 - 17ms/epoch - 17ms/step\n",
      "Epoch 89/100\n",
      "1/1 - 0s - loss: 0.1924 - accuracy: 1.0000 - 15ms/epoch - 15ms/step\n",
      "Epoch 90/100\n",
      "1/1 - 0s - loss: 0.1909 - accuracy: 1.0000 - 17ms/epoch - 17ms/step\n",
      "Epoch 91/100\n",
      "1/1 - 0s - loss: 0.1817 - accuracy: 1.0000 - 16ms/epoch - 16ms/step\n",
      "Epoch 92/100\n",
      "1/1 - 0s - loss: 0.1799 - accuracy: 1.0000 - 15ms/epoch - 15ms/step\n",
      "Epoch 93/100\n",
      "1/1 - 0s - loss: 0.1714 - accuracy: 1.0000 - 14ms/epoch - 14ms/step\n",
      "Epoch 94/100\n",
      "1/1 - 0s - loss: 0.1690 - accuracy: 1.0000 - 13ms/epoch - 13ms/step\n",
      "Epoch 95/100\n",
      "1/1 - 0s - loss: 0.1616 - accuracy: 1.0000 - 13ms/epoch - 13ms/step\n",
      "Epoch 96/100\n",
      "1/1 - 0s - loss: 0.1591 - accuracy: 1.0000 - 14ms/epoch - 14ms/step\n",
      "Epoch 97/100\n",
      "1/1 - 0s - loss: 0.1523 - accuracy: 1.0000 - 15ms/epoch - 15ms/step\n",
      "Epoch 98/100\n",
      "1/1 - 0s - loss: 0.1495 - accuracy: 1.0000 - 13ms/epoch - 13ms/step\n",
      "Epoch 99/100\n",
      "1/1 - 0s - loss: 0.1435 - accuracy: 1.0000 - 13ms/epoch - 13ms/step\n",
      "Epoch 100/100\n",
      "1/1 - 0s - loss: 0.1407 - accuracy: 1.0000 - 14ms/epoch - 14ms/step\n"
     ]
    },
    {
     "data": {
      "text/plain": [
       "<keras.src.callbacks.History at 0x14937771b50>"
      ]
     },
     "execution_count": 11,
     "metadata": {},
     "output_type": "execute_result"
    }
   ],
   "source": [
    "from sys import meta_path\n",
    "#Build the model\n",
    "model=Sequential()\n",
    "model.add(Embedding(total_words,100,input_length=max_sequence_length-1)) # input embedd\n",
    "model.add(LSTM(100)) #hidden layer\n",
    "model.add(Dense(total_words,activation='softmax')) #output layer\n",
    "#Compile the model\n",
    "model.compile(optimizer='adam',loss='categorical_crossentropy',metrics=['accuracy'])\n",
    "#Train\n",
    "model.fit(x,y,epochs=100,verbose=2)"
   ]
  },
  {
   "cell_type": "code",
   "execution_count": 16,
   "id": "b3ebb218",
   "metadata": {},
   "outputs": [
    {
     "name": "stdout",
     "output_type": "stream",
     "text": [
      "1/1 - 0s - 30ms/epoch - 30ms/step\n",
      "1/1 - 0s - 26ms/epoch - 26ms/step\n",
      "1/1 - 0s - 27ms/epoch - 27ms/step\n",
      "i am selvaraj selvaraj selvaraj\n"
     ]
    }
   ],
   "source": [
    "seed_text = \"i am\"\n",
    "next_words = 3\n",
    "\n",
    "for _ in range(next_words):\n",
    "    token_list = tokenizer.texts_to_sequences([seed_text])[0]\n",
    "    \n",
    "    # Truncate or pad sequences to match the expected length\n",
    "    token_list = tf.keras.preprocessing.sequence.pad_sequences([token_list], maxlen=8, padding='pre', truncating='pre')\n",
    "    \n",
    "    predicted = np.argmax(model.predict(token_list, verbose=2))\n",
    "    \n",
    "    output_word = \"\"\n",
    "    for word, index in tokenizer.word_index.items():\n",
    "        if index == predicted:\n",
    "            output_word = word\n",
    "            break\n",
    "    \n",
    "    seed_text += \" \" + output_word\n",
    "\n",
    "print(seed_text)\n"
   ]
  },
  {
   "cell_type": "markdown",
   "id": "6eaa9b10",
   "metadata": {},
   "source": [
    "# "
   ]
  },
  {
   "cell_type": "markdown",
   "id": "5738d619",
   "metadata": {},
   "source": [
    "## 2. Build a Speech to Text model."
   ]
  },
  {
   "cell_type": "code",
   "execution_count": 22,
   "id": "b458a804",
   "metadata": {},
   "outputs": [],
   "source": [
    "import speech_recognition as sr"
   ]
  },
  {
   "cell_type": "code",
   "execution_count": 21,
   "id": "410016df",
   "metadata": {},
   "outputs": [
    {
     "name": "stdout",
     "output_type": "stream",
     "text": [
      "Collecting SpeechRecognition\n",
      "  Downloading SpeechRecognition-3.10.0-py2.py3-none-any.whl (32.8 MB)\n",
      "     ---------------------------------------- 0.0/32.8 MB ? eta -:--:--\n",
      "     --------------------------------------- 0.0/32.8 MB 991.0 kB/s eta 0:00:34\n",
      "     ---------------------------------------- 0.1/32.8 MB 1.3 MB/s eta 0:00:25\n",
      "     ---------------------------------------- 0.2/32.8 MB 1.5 MB/s eta 0:00:22\n",
      "     ---------------------------------------- 0.3/32.8 MB 1.7 MB/s eta 0:00:20\n",
      "      --------------------------------------- 0.5/32.8 MB 2.2 MB/s eta 0:00:15\n",
      "      --------------------------------------- 0.7/32.8 MB 2.4 MB/s eta 0:00:14\n",
      "     - -------------------------------------- 0.9/32.8 MB 2.8 MB/s eta 0:00:12\n",
      "     - -------------------------------------- 1.1/32.8 MB 2.9 MB/s eta 0:00:11\n",
      "     - -------------------------------------- 1.2/32.8 MB 3.0 MB/s eta 0:00:11\n",
      "     - -------------------------------------- 1.4/32.8 MB 3.1 MB/s eta 0:00:11\n",
      "     - -------------------------------------- 1.6/32.8 MB 3.2 MB/s eta 0:00:10\n",
      "     -- ------------------------------------- 1.8/32.8 MB 3.3 MB/s eta 0:00:10\n",
      "     -- ------------------------------------- 2.0/32.8 MB 3.3 MB/s eta 0:00:10\n",
      "     -- ------------------------------------- 2.1/32.8 MB 3.3 MB/s eta 0:00:10\n",
      "     -- ------------------------------------- 2.4/32.8 MB 3.5 MB/s eta 0:00:09\n",
      "     --- ------------------------------------ 2.7/32.8 MB 3.6 MB/s eta 0:00:09\n",
      "     --- ------------------------------------ 2.9/32.8 MB 3.5 MB/s eta 0:00:09\n",
      "     --- ------------------------------------ 3.1/32.8 MB 3.6 MB/s eta 0:00:09\n",
      "     --- ------------------------------------ 3.3/32.8 MB 3.6 MB/s eta 0:00:09\n",
      "     ---- ----------------------------------- 3.4/32.8 MB 3.6 MB/s eta 0:00:09\n",
      "     ---- ----------------------------------- 3.6/32.8 MB 3.6 MB/s eta 0:00:09\n",
      "     ---- ----------------------------------- 3.7/32.8 MB 3.6 MB/s eta 0:00:09\n",
      "     ---- ----------------------------------- 3.9/32.8 MB 3.6 MB/s eta 0:00:09\n",
      "     ---- ----------------------------------- 4.1/32.8 MB 3.6 MB/s eta 0:00:09\n",
      "     ----- ---------------------------------- 4.1/32.8 MB 3.6 MB/s eta 0:00:09\n",
      "     ----- ---------------------------------- 4.1/32.8 MB 3.6 MB/s eta 0:00:09\n",
      "     ----- ---------------------------------- 4.7/32.8 MB 3.6 MB/s eta 0:00:08\n",
      "     ------ --------------------------------- 5.1/32.8 MB 3.7 MB/s eta 0:00:08\n",
      "     ------ --------------------------------- 5.3/32.8 MB 3.8 MB/s eta 0:00:08\n",
      "     ------ --------------------------------- 5.6/32.8 MB 3.9 MB/s eta 0:00:08\n",
      "     ------- -------------------------------- 5.8/32.8 MB 3.9 MB/s eta 0:00:07\n",
      "     ------- -------------------------------- 6.1/32.8 MB 4.0 MB/s eta 0:00:07\n",
      "     ------- -------------------------------- 6.3/32.8 MB 4.0 MB/s eta 0:00:07\n",
      "     ------- -------------------------------- 6.5/32.8 MB 4.0 MB/s eta 0:00:07\n",
      "     -------- ------------------------------- 6.7/32.8 MB 4.0 MB/s eta 0:00:07\n",
      "     -------- ------------------------------- 7.0/32.8 MB 4.1 MB/s eta 0:00:07\n",
      "     -------- ------------------------------- 7.3/32.8 MB 4.1 MB/s eta 0:00:07\n",
      "     --------- ------------------------------ 7.6/32.8 MB 4.2 MB/s eta 0:00:07\n",
      "     --------- ------------------------------ 7.8/32.8 MB 4.2 MB/s eta 0:00:06\n",
      "     --------- ------------------------------ 8.0/32.8 MB 4.2 MB/s eta 0:00:06\n",
      "     ---------- ----------------------------- 8.3/32.8 MB 4.3 MB/s eta 0:00:06\n",
      "     ---------- ----------------------------- 8.5/32.8 MB 4.2 MB/s eta 0:00:06\n",
      "     ---------- ----------------------------- 8.8/32.8 MB 4.3 MB/s eta 0:00:06\n",
      "     ---------- ----------------------------- 9.0/32.8 MB 4.3 MB/s eta 0:00:06\n",
      "     ----------- ---------------------------- 9.3/32.8 MB 4.3 MB/s eta 0:00:06\n",
      "     ----------- ---------------------------- 9.5/32.8 MB 4.3 MB/s eta 0:00:06\n",
      "     ----------- ---------------------------- 9.8/32.8 MB 4.4 MB/s eta 0:00:06\n",
      "     ------------ --------------------------- 10.0/32.8 MB 4.4 MB/s eta 0:00:06\n",
      "     ------------ --------------------------- 10.2/32.8 MB 4.4 MB/s eta 0:00:06\n",
      "     ------------ --------------------------- 10.5/32.8 MB 4.6 MB/s eta 0:00:05\n",
      "     ------------- -------------------------- 10.7/32.8 MB 4.7 MB/s eta 0:00:05\n",
      "     ------------- -------------------------- 11.0/32.8 MB 4.7 MB/s eta 0:00:05\n",
      "     ------------- -------------------------- 11.2/32.8 MB 4.7 MB/s eta 0:00:05\n",
      "     ------------- -------------------------- 11.4/32.8 MB 4.7 MB/s eta 0:00:05\n",
      "     -------------- ------------------------- 11.7/32.8 MB 4.8 MB/s eta 0:00:05\n",
      "     -------------- ------------------------- 11.9/32.8 MB 4.8 MB/s eta 0:00:05\n",
      "     -------------- ------------------------- 12.1/32.8 MB 4.8 MB/s eta 0:00:05\n",
      "     --------------- ------------------------ 12.4/32.8 MB 4.9 MB/s eta 0:00:05\n",
      "     --------------- ------------------------ 12.5/32.8 MB 4.8 MB/s eta 0:00:05\n",
      "     --------------- ------------------------ 12.8/32.8 MB 4.9 MB/s eta 0:00:05\n",
      "     --------------- ------------------------ 13.0/32.8 MB 4.9 MB/s eta 0:00:05\n",
      "     ---------------- ----------------------- 13.2/32.8 MB 4.9 MB/s eta 0:00:05\n",
      "     ---------------- ----------------------- 13.5/32.8 MB 4.9 MB/s eta 0:00:04\n",
      "     ---------------- ----------------------- 13.7/32.8 MB 4.9 MB/s eta 0:00:04\n",
      "     ---------------- ----------------------- 13.9/32.8 MB 5.0 MB/s eta 0:00:04\n",
      "     ----------------- ---------------------- 14.2/32.8 MB 5.0 MB/s eta 0:00:04\n",
      "     ----------------- ---------------------- 14.6/32.8 MB 5.2 MB/s eta 0:00:04\n",
      "     ----------------- ---------------------- 14.8/32.8 MB 5.2 MB/s eta 0:00:04\n",
      "     ------------------ --------------------- 15.2/32.8 MB 5.1 MB/s eta 0:00:04\n",
      "     ------------------ --------------------- 15.4/32.8 MB 5.1 MB/s eta 0:00:04\n",
      "     ------------------- -------------------- 15.6/32.8 MB 5.1 MB/s eta 0:00:04\n",
      "     ------------------- -------------------- 15.9/32.8 MB 5.1 MB/s eta 0:00:04\n",
      "     ------------------- -------------------- 16.2/32.8 MB 5.1 MB/s eta 0:00:04\n",
      "     ------------------- -------------------- 16.4/32.8 MB 5.1 MB/s eta 0:00:04\n",
      "     -------------------- ------------------- 16.7/32.8 MB 5.1 MB/s eta 0:00:04\n",
      "     -------------------- ------------------- 16.9/32.8 MB 5.1 MB/s eta 0:00:04\n",
      "     -------------------- ------------------- 17.1/32.8 MB 5.1 MB/s eta 0:00:04\n",
      "     --------------------- ------------------ 17.4/32.8 MB 5.1 MB/s eta 0:00:04\n",
      "     --------------------- ------------------ 17.6/32.8 MB 5.1 MB/s eta 0:00:03\n",
      "     --------------------- ------------------ 17.9/32.8 MB 5.1 MB/s eta 0:00:03\n",
      "     ---------------------- ----------------- 18.2/32.8 MB 5.2 MB/s eta 0:00:03\n",
      "     ---------------------- ----------------- 18.5/32.8 MB 5.1 MB/s eta 0:00:03\n",
      "     ---------------------- ----------------- 18.6/32.8 MB 5.2 MB/s eta 0:00:03\n",
      "     ---------------------- ----------------- 18.8/32.8 MB 5.1 MB/s eta 0:00:03\n",
      "     ----------------------- ---------------- 19.0/32.8 MB 5.0 MB/s eta 0:00:03\n",
      "     ----------------------- ---------------- 19.2/32.8 MB 5.0 MB/s eta 0:00:03\n",
      "     ----------------------- ---------------- 19.4/32.8 MB 5.0 MB/s eta 0:00:03\n",
      "     ------------------------ --------------- 19.7/32.8 MB 5.1 MB/s eta 0:00:03\n",
      "     ------------------------ --------------- 20.0/32.8 MB 5.0 MB/s eta 0:00:03\n",
      "     ------------------------ --------------- 20.3/32.8 MB 5.1 MB/s eta 0:00:03\n",
      "     ------------------------- -------------- 20.5/32.8 MB 5.1 MB/s eta 0:00:03\n",
      "     ------------------------- -------------- 20.7/32.8 MB 5.1 MB/s eta 0:00:03\n",
      "     ------------------------- -------------- 21.0/32.8 MB 5.1 MB/s eta 0:00:03\n",
      "     ------------------------- -------------- 21.3/32.8 MB 5.1 MB/s eta 0:00:03\n",
      "     -------------------------- ------------- 21.4/32.8 MB 5.1 MB/s eta 0:00:03\n",
      "     -------------------------- ------------- 21.5/32.8 MB 5.0 MB/s eta 0:00:03\n",
      "     -------------------------- ------------- 21.9/32.8 MB 5.0 MB/s eta 0:00:03\n",
      "     -------------------------- ------------- 22.1/32.8 MB 5.0 MB/s eta 0:00:03\n",
      "     --------------------------- ------------ 22.3/32.8 MB 5.0 MB/s eta 0:00:03\n",
      "     --------------------------- ------------ 22.5/32.8 MB 5.0 MB/s eta 0:00:03\n",
      "     --------------------------- ------------ 22.7/32.8 MB 5.0 MB/s eta 0:00:03\n",
      "     --------------------------- ------------ 22.9/32.8 MB 5.0 MB/s eta 0:00:02\n",
      "     ---------------------------- ----------- 23.2/32.8 MB 5.0 MB/s eta 0:00:02\n",
      "     ---------------------------- ----------- 23.4/32.8 MB 5.0 MB/s eta 0:00:02\n",
      "     ---------------------------- ----------- 23.5/32.8 MB 5.0 MB/s eta 0:00:02\n",
      "     ----------------------------- ---------- 23.8/32.8 MB 5.0 MB/s eta 0:00:02\n",
      "     ----------------------------- ---------- 24.1/32.8 MB 5.0 MB/s eta 0:00:02\n",
      "     ----------------------------- ---------- 24.3/32.8 MB 5.0 MB/s eta 0:00:02\n",
      "     ----------------------------- ---------- 24.4/32.8 MB 4.9 MB/s eta 0:00:02\n",
      "     ------------------------------ --------- 24.7/32.8 MB 5.0 MB/s eta 0:00:02\n",
      "     ------------------------------ --------- 25.0/32.8 MB 5.0 MB/s eta 0:00:02\n",
      "     ------------------------------ --------- 25.2/32.8 MB 5.0 MB/s eta 0:00:02\n",
      "     ------------------------------- -------- 25.5/32.8 MB 5.0 MB/s eta 0:00:02\n",
      "     ------------------------------- -------- 25.8/32.8 MB 5.0 MB/s eta 0:00:02\n",
      "     ------------------------------- -------- 26.0/32.8 MB 5.0 MB/s eta 0:00:02\n",
      "     ------------------------------- -------- 26.2/32.8 MB 5.0 MB/s eta 0:00:02\n",
      "     -------------------------------- ------- 26.5/32.8 MB 5.0 MB/s eta 0:00:02\n",
      "     -------------------------------- ------- 26.8/32.8 MB 5.0 MB/s eta 0:00:02\n",
      "     -------------------------------- ------- 27.0/32.8 MB 5.0 MB/s eta 0:00:02\n",
      "     --------------------------------- ------ 27.2/32.8 MB 5.0 MB/s eta 0:00:02\n",
      "     --------------------------------- ------ 27.4/32.8 MB 5.0 MB/s eta 0:00:02\n",
      "     --------------------------------- ------ 27.6/32.8 MB 5.0 MB/s eta 0:00:02\n",
      "     --------------------------------- ------ 27.9/32.8 MB 5.0 MB/s eta 0:00:02\n",
      "     ---------------------------------- ----- 28.1/32.8 MB 5.0 MB/s eta 0:00:01\n",
      "     ---------------------------------- ----- 28.3/32.8 MB 4.9 MB/s eta 0:00:01\n",
      "     ---------------------------------- ----- 28.5/32.8 MB 4.9 MB/s eta 0:00:01\n",
      "     ---------------------------------- ----- 28.7/32.8 MB 4.9 MB/s eta 0:00:01\n",
      "     ----------------------------------- ---- 28.9/32.8 MB 4.9 MB/s eta 0:00:01\n",
      "     ----------------------------------- ---- 29.2/32.8 MB 4.9 MB/s eta 0:00:01\n",
      "     ----------------------------------- ---- 29.3/32.8 MB 4.9 MB/s eta 0:00:01\n",
      "     ------------------------------------ --- 29.6/32.8 MB 4.9 MB/s eta 0:00:01\n",
      "     ------------------------------------ --- 29.7/32.8 MB 4.9 MB/s eta 0:00:01\n",
      "     ------------------------------------ --- 29.9/32.8 MB 4.8 MB/s eta 0:00:01\n",
      "     ------------------------------------ --- 30.0/32.8 MB 4.8 MB/s eta 0:00:01\n",
      "     ------------------------------------ --- 30.3/32.8 MB 4.8 MB/s eta 0:00:01\n",
      "     ------------------------------------- -- 30.5/32.8 MB 4.7 MB/s eta 0:00:01\n",
      "     ------------------------------------- -- 30.7/32.8 MB 4.7 MB/s eta 0:00:01\n",
      "     ------------------------------------- -- 30.9/32.8 MB 4.7 MB/s eta 0:00:01\n",
      "     ------------------------------------- -- 31.1/32.8 MB 4.7 MB/s eta 0:00:01\n",
      "     -------------------------------------- - 31.3/32.8 MB 4.7 MB/s eta 0:00:01\n",
      "     -------------------------------------- - 31.5/32.8 MB 4.6 MB/s eta 0:00:01\n",
      "     -------------------------------------- - 31.8/32.8 MB 4.8 MB/s eta 0:00:01\n",
      "     -------------------------------------- - 31.9/32.8 MB 4.7 MB/s eta 0:00:01\n",
      "     ---------------------------------------  32.2/32.8 MB 4.7 MB/s eta 0:00:01\n",
      "     ---------------------------------------  32.5/32.8 MB 4.8 MB/s eta 0:00:01\n",
      "     ---------------------------------------  32.8/32.8 MB 4.8 MB/s eta 0:00:01\n",
      "     ---------------------------------------  32.8/32.8 MB 4.8 MB/s eta 0:00:01\n",
      "     ---------------------------------------  32.8/32.8 MB 4.8 MB/s eta 0:00:01\n",
      "     ---------------------------------------  32.8/32.8 MB 4.8 MB/s eta 0:00:01\n",
      "     ---------------------------------------  32.8/32.8 MB 4.8 MB/s eta 0:00:01\n",
      "     ---------------------------------------- 32.8/32.8 MB 4.3 MB/s eta 0:00:00\n",
      "Requirement already satisfied: requests>=2.26.0 in c:\\users\\2001s\\anaconda3\\lib\\site-packages (from SpeechRecognition) (2.31.0)\n",
      "Requirement already satisfied: charset-normalizer<4,>=2 in c:\\users\\2001s\\anaconda3\\lib\\site-packages (from requests>=2.26.0->SpeechRecognition) (2.0.4)\n",
      "Requirement already satisfied: idna<4,>=2.5 in c:\\users\\2001s\\anaconda3\\lib\\site-packages (from requests>=2.26.0->SpeechRecognition) (3.4)\n",
      "Requirement already satisfied: urllib3<3,>=1.21.1 in c:\\users\\2001s\\anaconda3\\lib\\site-packages (from requests>=2.26.0->SpeechRecognition) (1.26.16)\n",
      "Requirement already satisfied: certifi>=2017.4.17 in c:\\users\\2001s\\anaconda3\\lib\\site-packages (from requests>=2.26.0->SpeechRecognition) (2023.7.22)\n",
      "Installing collected packages: SpeechRecognition\n",
      "Successfully installed SpeechRecognition-3.10.0\n",
      "Note: you may need to restart the kernel to use updated packages.\n"
     ]
    }
   ],
   "source": [
    "pip install SpeechRecognition\n"
   ]
  },
  {
   "cell_type": "code",
   "execution_count": 25,
   "id": "59b1d865",
   "metadata": {},
   "outputs": [
    {
     "data": {
      "text/plain": [
       "<speech_recognition.AudioFile at 0x1493dcd1c90>"
      ]
     },
     "execution_count": 25,
     "metadata": {},
     "output_type": "execute_result"
    }
   ],
   "source": [
    "# Load the audio file\n",
    "samp=sr.AudioFile(\"harvard.wav\")\n",
    "samp"
   ]
  },
  {
   "cell_type": "code",
   "execution_count": 27,
   "id": "ed4bbe6a",
   "metadata": {},
   "outputs": [],
   "source": [
    "# With this as source,'record' the audio from the file\n",
    "recog=sr.Recognizer()\n",
    "with samp as source:\n",
    "    audio=recog.record(samp)"
   ]
  },
  {
   "cell_type": "markdown",
   "id": "1548eb77",
   "metadata": {},
   "source": [
    "#### Convert the audio to text"
   ]
  },
  {
   "cell_type": "code",
   "execution_count": 28,
   "id": "f573b081",
   "metadata": {},
   "outputs": [
    {
     "name": "stdout",
     "output_type": "stream",
     "text": [
      "Text for the Audio:\n",
      "\n",
      "the still smell of old buildings it takes heat to bring out the order I call dip restores health exist a sole please find with him Tales of pastor are my favourite is just for food is the hot cross bun\n"
     ]
    }
   ],
   "source": [
    "# Method 1: Using 'recognize_google' method,convert the audio to text\n",
    "res=recog.recognize_google(audio)\n",
    "print('Text for the Audio:\\n')\n",
    "print(res)\n"
   ]
  },
  {
   "cell_type": "code",
   "execution_count": 30,
   "id": "a099aa22",
   "metadata": {},
   "outputs": [],
   "source": [
    "# Method 2: create a function to convert text from speech\n",
    "def speech_to_text(file):\n",
    "    samp=sr.AudioFile(file)\n",
    "    with samp as source:\n",
    "        audio=recog.record(samp)\n",
    "    return recog.recognize_google(audio)\n"
   ]
  },
  {
   "cell_type": "code",
   "execution_count": 32,
   "id": "418a1675",
   "metadata": {},
   "outputs": [
    {
     "name": "stdout",
     "output_type": "stream",
     "text": [
      "the still smell of old buildings it takes heat to bring out the order I call dip restores health exist a sole please find with him Tales of pastor are my favourite is just for food is the hot cross bun\n"
     ]
    }
   ],
   "source": [
    "op_text=speech_to_text(\"harvard.wav\")\n",
    "print(op_text)"
   ]
  },
  {
   "cell_type": "code",
   "execution_count": 33,
   "id": "c7b338ce",
   "metadata": {},
   "outputs": [
    {
     "data": {
      "text/plain": [
       "['the',\n",
       " 'still',\n",
       " 'smell',\n",
       " 'of',\n",
       " 'old',\n",
       " 'buildings',\n",
       " 'it',\n",
       " 'takes',\n",
       " 'heat',\n",
       " 'to',\n",
       " 'bring',\n",
       " 'out',\n",
       " 'the',\n",
       " 'order',\n",
       " 'i',\n",
       " 'call',\n",
       " 'dip',\n",
       " 'restores',\n",
       " 'health',\n",
       " 'exist',\n",
       " 'a',\n",
       " 'sole',\n",
       " 'please',\n",
       " 'find',\n",
       " 'with',\n",
       " 'him',\n",
       " 'tales',\n",
       " 'of',\n",
       " 'pastor',\n",
       " 'are',\n",
       " 'my',\n",
       " 'favourite',\n",
       " 'is',\n",
       " 'just',\n",
       " 'for',\n",
       " 'food',\n",
       " 'is',\n",
       " 'the',\n",
       " 'hot',\n",
       " 'cross',\n",
       " 'bun']"
      ]
     },
     "execution_count": 33,
     "metadata": {},
     "output_type": "execute_result"
    }
   ],
   "source": [
    "# Preprocess the Text\n",
    "\n",
    "from nltk.tokenize import word_tokenize\n",
    "tokens=word_tokenize(op_text.lower())\n",
    "tokens\n"
   ]
  },
  {
   "cell_type": "code",
   "execution_count": 36,
   "id": "3c2ec185",
   "metadata": {},
   "outputs": [
    {
     "data": {
      "text/plain": [
       "['food', 'health', 'cross bun', 'pastor', 'smell']"
      ]
     },
     "execution_count": 36,
     "metadata": {},
     "output_type": "execute_result"
    }
   ],
   "source": [
    "feature_list=['food','health','cross bun','pastor','smell']\n",
    "feature_list\n"
   ]
  },
  {
   "cell_type": "code",
   "execution_count": 37,
   "id": "fb4146f4",
   "metadata": {},
   "outputs": [
    {
     "data": {
      "text/plain": [
       "['smell', 'health', 'pastor', 'food']"
      ]
     },
     "execution_count": 37,
     "metadata": {},
     "output_type": "execute_result"
    }
   ],
   "source": [
    "# Identify which of the features are being talked of in the audio review file\n",
    "\n",
    "review_features=[term for term in tokens if term in feature_list]\n",
    "review_features"
   ]
  },
  {
   "cell_type": "code",
   "execution_count": 38,
   "id": "000c2677",
   "metadata": {},
   "outputs": [
    {
     "data": {
      "text/plain": [
       "['food', 'health', 'pastor', 'smell']"
      ]
     },
     "execution_count": 38,
     "metadata": {},
     "output_type": "execute_result"
    }
   ],
   "source": [
    "review_features=list(set(review_features))\n",
    "review_features"
   ]
  },
  {
   "cell_type": "markdown",
   "id": "2e5960f4",
   "metadata": {},
   "source": [
    "### Recording the speech from our own system microphone"
   ]
  },
  {
   "cell_type": "code",
   "execution_count": 41,
   "id": "18d0e263",
   "metadata": {},
   "outputs": [
    {
     "data": {
      "text/plain": [
       "['Microsoft Sound Mapper - Input',\n",
       " 'Microphone Array (Realtek(R) Au',\n",
       " 'Microsoft Sound Mapper - Output',\n",
       " 'Speaker / Headphone (Realtek(R)',\n",
       " 'Primary Sound Capture Driver',\n",
       " 'Microphone Array (Realtek(R) Audio)',\n",
       " 'Primary Sound Driver',\n",
       " 'Speaker / Headphone (Realtek(R) Audio)',\n",
       " 'Speaker / Headphone (Realtek(R) Audio)',\n",
       " 'Microphone Array (Realtek(R) Audio)',\n",
       " 'Speakers (Realtek HD Audio output)',\n",
       " 'Stereo Mix (Realtek HD Audio Stereo input)',\n",
       " 'Microphone (Realtek HD Audio Mic input)']"
      ]
     },
     "execution_count": 41,
     "metadata": {},
     "output_type": "execute_result"
    }
   ],
   "source": [
    "# Recording from mic\n",
    "\n",
    "mic=sr.Microphone()\n",
    "mic.list_microphone_names()"
   ]
  },
  {
   "cell_type": "code",
   "execution_count": 40,
   "id": "ff824cfe",
   "metadata": {},
   "outputs": [
    {
     "name": "stdout",
     "output_type": "stream",
     "text": [
      "Collecting pyaudio\n",
      "  Obtaining dependency information for pyaudio from https://files.pythonhosted.org/packages/82/d8/f043c854aad450a76e476b0cf9cda1956419e1dacf1062eb9df3c0055abe/PyAudio-0.2.14-cp311-cp311-win_amd64.whl.metadata\n",
      "  Downloading PyAudio-0.2.14-cp311-cp311-win_amd64.whl.metadata (2.7 kB)\n",
      "Downloading PyAudio-0.2.14-cp311-cp311-win_amd64.whl (164 kB)\n",
      "   ---------------------------------------- 0.0/164.1 kB ? eta -:--:--\n",
      "   --------- ----------------------------- 41.0/164.1 kB 991.0 kB/s eta 0:00:01\n",
      "   ---------------------------------- ----- 143.4/164.1 kB 1.7 MB/s eta 0:00:01\n",
      "   ---------------------------------------- 164.1/164.1 kB 1.6 MB/s eta 0:00:00\n",
      "Installing collected packages: pyaudio\n",
      "Successfully installed pyaudio-0.2.14\n",
      "Note: you may need to restart the kernel to use updated packages.\n"
     ]
    }
   ],
   "source": [
    "pip install pyaudio"
   ]
  },
  {
   "cell_type": "code",
   "execution_count": 44,
   "id": "006b9a4a",
   "metadata": {},
   "outputs": [
    {
     "data": {
      "text/plain": [
       "'food is amazing'"
      ]
     },
     "execution_count": 44,
     "metadata": {},
     "output_type": "execute_result"
    }
   ],
   "source": [
    "with mic as source:\n",
    "    audio=recog.listen(source)\n",
    "recog.recognize_google(audio)"
   ]
  },
  {
   "cell_type": "code",
   "execution_count": 46,
   "id": "d7cbee4f",
   "metadata": {},
   "outputs": [
    {
     "data": {
      "text/plain": [
       "['food']"
      ]
     },
     "execution_count": 46,
     "metadata": {},
     "output_type": "execute_result"
    }
   ],
   "source": [
    "def get_review_features(review_text):\n",
    "        feature_list=['food','health','cross bun','pastor','smell']\n",
    "        tokens=word_tokenize(review_text.lower())\n",
    "        review_features=[term for term in tokens if term in feature_list]\n",
    "        review_features=list(set(review_features))\n",
    "        return review_features\n",
    "\n",
    "res=recog.recognize_google(audio)\n",
    "get_review_features(res)\n"
   ]
  },
  {
   "cell_type": "markdown",
   "id": "7f4ce3bc",
   "metadata": {},
   "source": [
    "# "
   ]
  },
  {
   "cell_type": "markdown",
   "id": "8367726f",
   "metadata": {},
   "source": [
    "# 3. Build a Text to Speech model."
   ]
  },
  {
   "cell_type": "code",
   "execution_count": 49,
   "id": "92de5497",
   "metadata": {},
   "outputs": [
    {
     "name": "stdout",
     "output_type": "stream",
     "text": [
      "Collecting gtts\n",
      "  Obtaining dependency information for gtts from https://files.pythonhosted.org/packages/a7/ef/190f64a4edeb13165e3c598a08f06a2ae80cdae0aa208c96c20efdb7ad4b/gTTS-2.4.0-py3-none-any.whl.metadata\n",
      "  Downloading gTTS-2.4.0-py3-none-any.whl.metadata (4.1 kB)\n",
      "Requirement already satisfied: requests<3,>=2.27 in c:\\users\\2001s\\anaconda3\\lib\\site-packages (from gtts) (2.31.0)\n",
      "Requirement already satisfied: click<8.2,>=7.1 in c:\\users\\2001s\\anaconda3\\lib\\site-packages (from gtts) (8.0.4)\n",
      "Requirement already satisfied: colorama in c:\\users\\2001s\\anaconda3\\lib\\site-packages (from click<8.2,>=7.1->gtts) (0.4.6)\n",
      "Requirement already satisfied: charset-normalizer<4,>=2 in c:\\users\\2001s\\anaconda3\\lib\\site-packages (from requests<3,>=2.27->gtts) (2.0.4)\n",
      "Requirement already satisfied: idna<4,>=2.5 in c:\\users\\2001s\\anaconda3\\lib\\site-packages (from requests<3,>=2.27->gtts) (3.4)\n",
      "Requirement already satisfied: urllib3<3,>=1.21.1 in c:\\users\\2001s\\anaconda3\\lib\\site-packages (from requests<3,>=2.27->gtts) (1.26.16)\n",
      "Requirement already satisfied: certifi>=2017.4.17 in c:\\users\\2001s\\anaconda3\\lib\\site-packages (from requests<3,>=2.27->gtts) (2023.7.22)\n",
      "Downloading gTTS-2.4.0-py3-none-any.whl (29 kB)\n",
      "Installing collected packages: gtts\n",
      "Successfully installed gtts-2.4.0\n",
      "Note: you may need to restart the kernel to use updated packages.\n"
     ]
    }
   ],
   "source": [
    "# Google Text-to-Speech (gTTS) library\n",
    "pip install gtts"
   ]
  },
  {
   "cell_type": "code",
   "execution_count": 50,
   "id": "917132de",
   "metadata": {},
   "outputs": [
    {
     "name": "stdout",
     "output_type": "stream",
     "text": [
      "User text pl >>:pip install gtts,After running this command, you should be able to import and use the gTTS module in your Python script without encountering the ModuleNotFoundError\n"
     ]
    }
   ],
   "source": [
    "from gtts import gTTS\n",
    "import os\n",
    "def text_to_speech(text,language='en',filename='output.mp3'):\n",
    "    tts=gTTS(text=text,lang=language,slow=False)\n",
    "    tts.save(filename)\n",
    "    os.system(f\"start {filename}\")\n",
    "\n",
    "if __name__==\"__main__\":\n",
    "    input_text=input('User text pl >>:')\n",
    "    text_to_speech(input_text)"
   ]
  },
  {
   "cell_type": "markdown",
   "id": "63993196",
   "metadata": {},
   "source": [
    "# "
   ]
  },
  {
   "cell_type": "markdown",
   "id": "24e878df",
   "metadata": {},
   "source": [
    "# 4. Build a NLP Language model to detect the sentence/word error in the text corpus."
   ]
  },
  {
   "cell_type": "code",
   "execution_count": 52,
   "id": "24615960",
   "metadata": {},
   "outputs": [
    {
     "name": "stdout",
     "output_type": "stream",
     "text": [
      "Collecting spacy\n",
      "  Obtaining dependency information for spacy from https://files.pythonhosted.org/packages/90/f0/0133b684e18932c7bf4075d94819746cee2c0329f2569db526b0fa1df1df/spacy-3.7.2-cp311-cp311-win_amd64.whl.metadata\n",
      "  Downloading spacy-3.7.2-cp311-cp311-win_amd64.whl.metadata (26 kB)\n",
      "Collecting spacy-legacy<3.1.0,>=3.0.11 (from spacy)\n",
      "  Downloading spacy_legacy-3.0.12-py2.py3-none-any.whl (29 kB)\n",
      "Collecting spacy-loggers<2.0.0,>=1.0.0 (from spacy)\n",
      "  Obtaining dependency information for spacy-loggers<2.0.0,>=1.0.0 from https://files.pythonhosted.org/packages/33/78/d1a1a026ef3af911159398c939b1509d5c36fe524c7b644f34a5146c4e16/spacy_loggers-1.0.5-py3-none-any.whl.metadata\n",
      "  Downloading spacy_loggers-1.0.5-py3-none-any.whl.metadata (23 kB)\n",
      "Collecting murmurhash<1.1.0,>=0.28.0 (from spacy)\n",
      "  Obtaining dependency information for murmurhash<1.1.0,>=0.28.0 from https://files.pythonhosted.org/packages/71/46/af01a20ec368bd9cb49a1d2df15e3eca113bbf6952cc1f2a47f1c6801a7f/murmurhash-1.0.10-cp311-cp311-win_amd64.whl.metadata\n",
      "  Downloading murmurhash-1.0.10-cp311-cp311-win_amd64.whl.metadata (2.0 kB)\n",
      "Collecting cymem<2.1.0,>=2.0.2 (from spacy)\n",
      "  Obtaining dependency information for cymem<2.1.0,>=2.0.2 from https://files.pythonhosted.org/packages/c1/c3/dd044e6f62a3d317c461f6f0c153c6573ed13025752d779e514000c15dd2/cymem-2.0.8-cp311-cp311-win_amd64.whl.metadata\n",
      "  Downloading cymem-2.0.8-cp311-cp311-win_amd64.whl.metadata (8.6 kB)\n",
      "Collecting preshed<3.1.0,>=3.0.2 (from spacy)\n",
      "  Obtaining dependency information for preshed<3.1.0,>=3.0.2 from https://files.pythonhosted.org/packages/e4/fc/78cdbdb79f5d6d45949e72c32445d6c060977ad50a1dcfc0392622165f7c/preshed-3.0.9-cp311-cp311-win_amd64.whl.metadata\n",
      "  Downloading preshed-3.0.9-cp311-cp311-win_amd64.whl.metadata (2.2 kB)\n",
      "Collecting thinc<8.3.0,>=8.1.8 (from spacy)\n",
      "  Obtaining dependency information for thinc<8.3.0,>=8.1.8 from https://files.pythonhosted.org/packages/dd/e9/c806bd2b281cc4cb5eea9375c3f45f6c4ff293877f469bb38d78a4f1cf96/thinc-8.2.1-cp311-cp311-win_amd64.whl.metadata\n",
      "  Downloading thinc-8.2.1-cp311-cp311-win_amd64.whl.metadata (15 kB)\n",
      "Collecting wasabi<1.2.0,>=0.9.1 (from spacy)\n",
      "  Obtaining dependency information for wasabi<1.2.0,>=0.9.1 from https://files.pythonhosted.org/packages/8f/69/26cbf0bad11703241cb84d5324d868097f7a8faf2f1888354dac8883f3fc/wasabi-1.1.2-py3-none-any.whl.metadata\n",
      "  Downloading wasabi-1.1.2-py3-none-any.whl.metadata (28 kB)\n",
      "Collecting srsly<3.0.0,>=2.4.3 (from spacy)\n",
      "  Obtaining dependency information for srsly<3.0.0,>=2.4.3 from https://files.pythonhosted.org/packages/eb/f5/e3f29993f673d91623df6413ba64e815dd2676fd7932cbc5e7347402ddae/srsly-2.4.8-cp311-cp311-win_amd64.whl.metadata\n",
      "  Downloading srsly-2.4.8-cp311-cp311-win_amd64.whl.metadata (20 kB)\n",
      "Collecting catalogue<2.1.0,>=2.0.6 (from spacy)\n",
      "  Obtaining dependency information for catalogue<2.1.0,>=2.0.6 from https://files.pythonhosted.org/packages/9e/96/d32b941a501ab566a16358d68b6eb4e4acc373fab3c3c4d7d9e649f7b4bb/catalogue-2.0.10-py3-none-any.whl.metadata\n",
      "  Downloading catalogue-2.0.10-py3-none-any.whl.metadata (14 kB)\n",
      "Collecting weasel<0.4.0,>=0.1.0 (from spacy)\n",
      "  Obtaining dependency information for weasel<0.4.0,>=0.1.0 from https://files.pythonhosted.org/packages/d5/e5/b63b8e255d89ba4155972990d42523251d4d1368c4906c646597f63870e2/weasel-0.3.4-py3-none-any.whl.metadata\n",
      "  Downloading weasel-0.3.4-py3-none-any.whl.metadata (4.7 kB)\n",
      "Collecting typer<0.10.0,>=0.3.0 (from spacy)\n",
      "  Downloading typer-0.9.0-py3-none-any.whl (45 kB)\n",
      "     ---------------------------------------- 0.0/45.9 kB ? eta -:--:--\n",
      "     ---------------------------------------- 45.9/45.9 kB ? eta 0:00:00\n",
      "Requirement already satisfied: smart-open<7.0.0,>=5.2.1 in c:\\users\\2001s\\anaconda3\\lib\\site-packages (from spacy) (5.2.1)\n",
      "Requirement already satisfied: tqdm<5.0.0,>=4.38.0 in c:\\users\\2001s\\anaconda3\\lib\\site-packages (from spacy) (4.65.0)\n",
      "Requirement already satisfied: requests<3.0.0,>=2.13.0 in c:\\users\\2001s\\anaconda3\\lib\\site-packages (from spacy) (2.31.0)\n",
      "Collecting pydantic!=1.8,!=1.8.1,<3.0.0,>=1.7.4 (from spacy)\n",
      "  Obtaining dependency information for pydantic!=1.8,!=1.8.1,<3.0.0,>=1.7.4 from https://files.pythonhosted.org/packages/0a/2b/64066de1c4cf3d4ed623beeb3bbf3f8d0cc26661f1e7d180ec5eb66b75a5/pydantic-2.5.2-py3-none-any.whl.metadata\n",
      "  Downloading pydantic-2.5.2-py3-none-any.whl.metadata (65 kB)\n",
      "     ---------------------------------------- 0.0/65.2 kB ? eta -:--:--\n",
      "     ---------------------------------------- 65.2/65.2 kB 1.8 MB/s eta 0:00:00\n",
      "Requirement already satisfied: jinja2 in c:\\users\\2001s\\anaconda3\\lib\\site-packages (from spacy) (3.1.2)\n",
      "Requirement already satisfied: setuptools in c:\\users\\2001s\\anaconda3\\lib\\site-packages (from spacy) (68.0.0)\n",
      "Requirement already satisfied: packaging>=20.0 in c:\\users\\2001s\\anaconda3\\lib\\site-packages (from spacy) (23.0)\n",
      "Collecting langcodes<4.0.0,>=3.2.0 (from spacy)\n",
      "  Downloading langcodes-3.3.0-py3-none-any.whl (181 kB)\n",
      "     ---------------------------------------- 0.0/181.6 kB ? eta -:--:--\n",
      "     ------------- ------------------------- 61.4/181.6 kB 3.4 MB/s eta 0:00:01\n",
      "     ----------------------------- -------- 143.4/181.6 kB 2.1 MB/s eta 0:00:01\n",
      "     -------------------------------------- 181.6/181.6 kB 1.8 MB/s eta 0:00:00\n",
      "Requirement already satisfied: numpy>=1.19.0 in c:\\users\\2001s\\anaconda3\\lib\\site-packages (from spacy) (1.24.3)\n",
      "Collecting annotated-types>=0.4.0 (from pydantic!=1.8,!=1.8.1,<3.0.0,>=1.7.4->spacy)\n",
      "  Obtaining dependency information for annotated-types>=0.4.0 from https://files.pythonhosted.org/packages/28/78/d31230046e58c207284c6b2c4e8d96e6d3cb4e52354721b944d3e1ee4aa5/annotated_types-0.6.0-py3-none-any.whl.metadata\n",
      "  Using cached annotated_types-0.6.0-py3-none-any.whl.metadata (12 kB)\n",
      "Collecting pydantic-core==2.14.5 (from pydantic!=1.8,!=1.8.1,<3.0.0,>=1.7.4->spacy)\n",
      "  Obtaining dependency information for pydantic-core==2.14.5 from https://files.pythonhosted.org/packages/04/a1/36cea283ded0641e8c374cdcacfdab035c102467ac5ec721b7527c8ac1cf/pydantic_core-2.14.5-cp311-none-win_amd64.whl.metadata\n",
      "  Downloading pydantic_core-2.14.5-cp311-none-win_amd64.whl.metadata (6.6 kB)\n",
      "Requirement already satisfied: typing-extensions>=4.6.1 in c:\\users\\2001s\\anaconda3\\lib\\site-packages (from pydantic!=1.8,!=1.8.1,<3.0.0,>=1.7.4->spacy) (4.7.1)\n",
      "Requirement already satisfied: charset-normalizer<4,>=2 in c:\\users\\2001s\\anaconda3\\lib\\site-packages (from requests<3.0.0,>=2.13.0->spacy) (2.0.4)\n",
      "Requirement already satisfied: idna<4,>=2.5 in c:\\users\\2001s\\anaconda3\\lib\\site-packages (from requests<3.0.0,>=2.13.0->spacy) (3.4)\n",
      "Requirement already satisfied: urllib3<3,>=1.21.1 in c:\\users\\2001s\\anaconda3\\lib\\site-packages (from requests<3.0.0,>=2.13.0->spacy) (1.26.16)\n",
      "Requirement already satisfied: certifi>=2017.4.17 in c:\\users\\2001s\\anaconda3\\lib\\site-packages (from requests<3.0.0,>=2.13.0->spacy) (2023.7.22)\n",
      "Collecting blis<0.8.0,>=0.7.8 (from thinc<8.3.0,>=8.1.8->spacy)\n",
      "  Obtaining dependency information for blis<0.8.0,>=0.7.8 from https://files.pythonhosted.org/packages/2f/09/da0592c74560cc33396504698122f7a56747c82a5e072ca7d2c3397898e1/blis-0.7.11-cp311-cp311-win_amd64.whl.metadata\n",
      "  Downloading blis-0.7.11-cp311-cp311-win_amd64.whl.metadata (7.6 kB)\n",
      "Collecting confection<1.0.0,>=0.0.1 (from thinc<8.3.0,>=8.1.8->spacy)\n",
      "  Obtaining dependency information for confection<1.0.0,>=0.0.1 from https://files.pythonhosted.org/packages/39/78/f9d18da7b979a2e6007bfcea2f3c8cc02ed210538ae1ce7e69092aed7b18/confection-0.1.4-py3-none-any.whl.metadata\n",
      "  Downloading confection-0.1.4-py3-none-any.whl.metadata (19 kB)\n",
      "Requirement already satisfied: colorama in c:\\users\\2001s\\anaconda3\\lib\\site-packages (from tqdm<5.0.0,>=4.38.0->spacy) (0.4.6)\n",
      "Requirement already satisfied: click<9.0.0,>=7.1.1 in c:\\users\\2001s\\anaconda3\\lib\\site-packages (from typer<0.10.0,>=0.3.0->spacy) (8.0.4)\n",
      "Collecting cloudpathlib<0.17.0,>=0.7.0 (from weasel<0.4.0,>=0.1.0->spacy)\n",
      "  Obtaining dependency information for cloudpathlib<0.17.0,>=0.7.0 from https://files.pythonhosted.org/packages/0f/6e/45b57a7d4573d85d0b0a39d99673dc1f5eea9d92a1a4603b35e968fbf89a/cloudpathlib-0.16.0-py3-none-any.whl.metadata\n",
      "  Downloading cloudpathlib-0.16.0-py3-none-any.whl.metadata (14 kB)\n",
      "Requirement already satisfied: MarkupSafe>=2.0 in c:\\users\\2001s\\anaconda3\\lib\\site-packages (from jinja2->spacy) (2.1.1)\n",
      "Downloading spacy-3.7.2-cp311-cp311-win_amd64.whl (12.1 MB)\n",
      "   ---------------------------------------- 0.0/12.1 MB ? eta -:--:--\n",
      "   ---------------------------------------- 0.1/12.1 MB 5.1 MB/s eta 0:00:03\n",
      "    --------------------------------------- 0.2/12.1 MB 2.2 MB/s eta 0:00:06\n",
      "    --------------------------------------- 0.3/12.1 MB 2.1 MB/s eta 0:00:06\n",
      "   - -------------------------------------- 0.4/12.1 MB 2.2 MB/s eta 0:00:06\n",
      "   - -------------------------------------- 0.5/12.1 MB 2.3 MB/s eta 0:00:06\n",
      "   - -------------------------------------- 0.6/12.1 MB 2.3 MB/s eta 0:00:06\n",
      "   -- ------------------------------------- 0.6/12.1 MB 2.0 MB/s eta 0:00:06\n",
      "   -- ------------------------------------- 0.8/12.1 MB 2.1 MB/s eta 0:00:06\n",
      "   --- ------------------------------------ 0.9/12.1 MB 2.3 MB/s eta 0:00:05\n",
      "   --- ------------------------------------ 1.0/12.1 MB 2.2 MB/s eta 0:00:06\n",
      "   --- ------------------------------------ 1.2/12.1 MB 2.3 MB/s eta 0:00:05\n",
      "   ---- ----------------------------------- 1.2/12.1 MB 2.2 MB/s eta 0:00:05\n",
      "   ---- ----------------------------------- 1.4/12.1 MB 2.4 MB/s eta 0:00:05\n",
      "   ----- ---------------------------------- 1.5/12.1 MB 2.4 MB/s eta 0:00:05\n",
      "   ----- ---------------------------------- 1.6/12.1 MB 2.4 MB/s eta 0:00:05\n",
      "   ----- ---------------------------------- 1.8/12.1 MB 2.4 MB/s eta 0:00:05\n",
      "   ------ --------------------------------- 1.9/12.1 MB 2.5 MB/s eta 0:00:05\n",
      "   ------ --------------------------------- 2.1/12.1 MB 2.6 MB/s eta 0:00:04\n",
      "   ------- -------------------------------- 2.3/12.1 MB 2.6 MB/s eta 0:00:04\n",
      "   -------- ------------------------------- 2.4/12.1 MB 2.7 MB/s eta 0:00:04\n",
      "   -------- ------------------------------- 2.6/12.1 MB 2.7 MB/s eta 0:00:04\n",
      "   --------- ------------------------------ 2.8/12.1 MB 2.8 MB/s eta 0:00:04\n",
      "   --------- ------------------------------ 3.0/12.1 MB 2.8 MB/s eta 0:00:04\n",
      "   ---------- ----------------------------- 3.2/12.1 MB 2.9 MB/s eta 0:00:04\n",
      "   ---------- ----------------------------- 3.2/12.1 MB 2.8 MB/s eta 0:00:04\n",
      "   ----------- ---------------------------- 3.4/12.1 MB 2.9 MB/s eta 0:00:03\n",
      "   ----------- ---------------------------- 3.6/12.1 MB 2.9 MB/s eta 0:00:03\n",
      "   ------------ --------------------------- 3.8/12.1 MB 2.9 MB/s eta 0:00:03\n",
      "   ------------- -------------------------- 4.0/12.1 MB 3.0 MB/s eta 0:00:03\n",
      "   ------------- -------------------------- 4.2/12.1 MB 3.0 MB/s eta 0:00:03\n",
      "   -------------- ------------------------- 4.4/12.1 MB 3.1 MB/s eta 0:00:03\n",
      "   --------------- ------------------------ 4.6/12.1 MB 3.1 MB/s eta 0:00:03\n",
      "   --------------- ------------------------ 4.8/12.1 MB 3.1 MB/s eta 0:00:03\n",
      "   ---------------- ----------------------- 4.9/12.1 MB 3.1 MB/s eta 0:00:03\n",
      "   ----------------- ---------------------- 5.1/12.1 MB 3.2 MB/s eta 0:00:03\n",
      "   ----------------- ---------------------- 5.3/12.1 MB 3.2 MB/s eta 0:00:03\n",
      "   ------------------ --------------------- 5.6/12.1 MB 3.3 MB/s eta 0:00:02\n",
      "   ------------------- -------------------- 5.8/12.1 MB 3.3 MB/s eta 0:00:02\n",
      "   ------------------- -------------------- 5.9/12.1 MB 3.3 MB/s eta 0:00:02\n",
      "   -------------------- ------------------- 6.1/12.1 MB 3.3 MB/s eta 0:00:02\n",
      "   -------------------- ------------------- 6.3/12.1 MB 3.3 MB/s eta 0:00:02\n",
      "   --------------------- ------------------ 6.6/12.1 MB 3.4 MB/s eta 0:00:02\n",
      "   ---------------------- ----------------- 6.8/12.1 MB 3.4 MB/s eta 0:00:02\n",
      "   ----------------------- ---------------- 7.1/12.1 MB 3.5 MB/s eta 0:00:02\n",
      "   ------------------------ --------------- 7.3/12.1 MB 3.5 MB/s eta 0:00:02\n",
      "   ------------------------ --------------- 7.5/12.1 MB 3.5 MB/s eta 0:00:02\n",
      "   ------------------------- -------------- 7.7/12.1 MB 3.5 MB/s eta 0:00:02\n",
      "   -------------------------- ------------- 7.9/12.1 MB 3.6 MB/s eta 0:00:02\n",
      "   -------------------------- ------------- 8.1/12.1 MB 3.6 MB/s eta 0:00:02\n",
      "   --------------------------- ------------ 8.4/12.1 MB 3.6 MB/s eta 0:00:02\n",
      "   ---------------------------- ----------- 8.6/12.1 MB 3.6 MB/s eta 0:00:01\n",
      "   ----------------------------- ---------- 8.8/12.1 MB 3.7 MB/s eta 0:00:01\n",
      "   ----------------------------- ---------- 9.0/12.1 MB 3.7 MB/s eta 0:00:01\n",
      "   ------------------------------ --------- 9.2/12.1 MB 3.7 MB/s eta 0:00:01\n",
      "   ------------------------------- -------- 9.5/12.1 MB 3.7 MB/s eta 0:00:01\n",
      "   -------------------------------- ------- 9.7/12.1 MB 3.7 MB/s eta 0:00:01\n",
      "   -------------------------------- ------- 9.9/12.1 MB 3.8 MB/s eta 0:00:01\n",
      "   --------------------------------- ------ 10.2/12.1 MB 3.8 MB/s eta 0:00:01\n",
      "   ---------------------------------- ----- 10.4/12.1 MB 3.9 MB/s eta 0:00:01\n",
      "   ----------------------------------- ---- 10.6/12.1 MB 3.9 MB/s eta 0:00:01\n",
      "   ----------------------------------- ---- 10.7/12.1 MB 3.9 MB/s eta 0:00:01\n",
      "   ------------------------------------ --- 10.9/12.1 MB 4.0 MB/s eta 0:00:01\n",
      "   ------------------------------------- -- 11.3/12.1 MB 4.2 MB/s eta 0:00:01\n",
      "   ------------------------------------- -- 11.4/12.1 MB 4.1 MB/s eta 0:00:01\n",
      "   -------------------------------------- - 11.6/12.1 MB 4.2 MB/s eta 0:00:01\n",
      "   ---------------------------------------  11.8/12.1 MB 4.3 MB/s eta 0:00:01\n",
      "   ---------------------------------------  12.1/12.1 MB 4.3 MB/s eta 0:00:01\n",
      "   ---------------------------------------  12.1/12.1 MB 4.3 MB/s eta 0:00:01\n",
      "   ---------------------------------------  12.1/12.1 MB 4.3 MB/s eta 0:00:01\n",
      "   ---------------------------------------- 12.1/12.1 MB 4.0 MB/s eta 0:00:00\n",
      "Downloading catalogue-2.0.10-py3-none-any.whl (17 kB)\n",
      "Downloading cymem-2.0.8-cp311-cp311-win_amd64.whl (39 kB)\n",
      "Downloading murmurhash-1.0.10-cp311-cp311-win_amd64.whl (25 kB)\n",
      "Downloading preshed-3.0.9-cp311-cp311-win_amd64.whl (122 kB)\n",
      "   ---------------------------------------- 0.0/122.3 kB ? eta -:--:--\n",
      "   ---------------------------------------- 122.3/122.3 kB 3.6 MB/s eta 0:00:00\n",
      "Downloading pydantic-2.5.2-py3-none-any.whl (381 kB)\n",
      "   ---------------------------------------- 0.0/381.9 kB ? eta -:--:--\n",
      "   -------------------- ------------------- 194.6/381.9 kB 3.9 MB/s eta 0:00:01\n",
      "   -------------------------------------- - 368.6/381.9 kB 3.8 MB/s eta 0:00:01\n",
      "   ---------------------------------------- 381.9/381.9 kB 3.4 MB/s eta 0:00:00\n",
      "Downloading pydantic_core-2.14.5-cp311-none-win_amd64.whl (1.9 MB)\n",
      "   ---------------------------------------- 0.0/1.9 MB ? eta -:--:--\n",
      "   ----- ---------------------------------- 0.3/1.9 MB 5.4 MB/s eta 0:00:01\n",
      "   ---------- ----------------------------- 0.5/1.9 MB 5.0 MB/s eta 0:00:01\n",
      "   ---------------- ----------------------- 0.8/1.9 MB 6.1 MB/s eta 0:00:01\n",
      "   ---------------- ----------------------- 0.8/1.9 MB 4.6 MB/s eta 0:00:01\n",
      "   --------------------- ------------------ 1.0/1.9 MB 4.3 MB/s eta 0:00:01\n",
      "   ------------------------- -------------- 1.2/1.9 MB 4.5 MB/s eta 0:00:01\n",
      "   ----------------------------- ---------- 1.4/1.9 MB 4.2 MB/s eta 0:00:01\n",
      "   ----------------------------------- ---- 1.7/1.9 MB 4.6 MB/s eta 0:00:01\n",
      "   ---------------------------------------  1.9/1.9 MB 4.6 MB/s eta 0:00:01\n",
      "   ---------------------------------------- 1.9/1.9 MB 4.3 MB/s eta 0:00:00\n",
      "Downloading spacy_loggers-1.0.5-py3-none-any.whl (22 kB)\n",
      "Downloading srsly-2.4.8-cp311-cp311-win_amd64.whl (479 kB)\n",
      "   ---------------------------------------- 0.0/479.7 kB ? eta -:--:--\n",
      "   ---------------- ----------------------- 194.6/479.7 kB 3.9 MB/s eta 0:00:01\n",
      "   ------------------------------------ --- 440.3/479.7 kB 4.6 MB/s eta 0:00:01\n",
      "   ---------------------------------------- 479.7/479.7 kB 3.8 MB/s eta 0:00:00\n",
      "Downloading thinc-8.2.1-cp311-cp311-win_amd64.whl (1.5 MB)\n",
      "   ---------------------------------------- 0.0/1.5 MB ? eta -:--:--\n",
      "   ----- ---------------------------------- 0.2/1.5 MB 5.9 MB/s eta 0:00:01\n",
      "   ----------- ---------------------------- 0.4/1.5 MB 5.4 MB/s eta 0:00:01\n",
      "   ------------------- -------------------- 0.7/1.5 MB 5.7 MB/s eta 0:00:01\n",
      "   ---------------------------- ----------- 1.0/1.5 MB 6.0 MB/s eta 0:00:01\n",
      "   ---------------------------------- ----- 1.3/1.5 MB 5.8 MB/s eta 0:00:01\n",
      "   ---------------------------------------  1.5/1.5 MB 5.5 MB/s eta 0:00:01\n",
      "   ---------------------------------------- 1.5/1.5 MB 5.2 MB/s eta 0:00:00\n",
      "Downloading wasabi-1.1.2-py3-none-any.whl (27 kB)\n",
      "Downloading weasel-0.3.4-py3-none-any.whl (50 kB)\n",
      "   ---------------------------------------- 0.0/50.1 kB ? eta -:--:--\n",
      "   ------------------------ --------------- 30.7/50.1 kB 640.0 kB/s eta 0:00:01\n",
      "   ---------------------------------------- 50.1/50.1 kB 848.3 kB/s eta 0:00:00\n",
      "Using cached annotated_types-0.6.0-py3-none-any.whl (12 kB)\n",
      "Downloading blis-0.7.11-cp311-cp311-win_amd64.whl (6.6 MB)\n",
      "   ---------------------------------------- 0.0/6.6 MB ? eta -:--:--\n",
      "   - -------------------------------------- 0.2/6.6 MB 7.0 MB/s eta 0:00:01\n",
      "   --- ------------------------------------ 0.5/6.6 MB 6.5 MB/s eta 0:00:01\n",
      "   ---- ----------------------------------- 0.7/6.6 MB 5.7 MB/s eta 0:00:02\n",
      "   ----- ---------------------------------- 0.9/6.6 MB 4.9 MB/s eta 0:00:02\n",
      "   ------ --------------------------------- 1.0/6.6 MB 4.7 MB/s eta 0:00:02\n",
      "   -------- ------------------------------- 1.3/6.6 MB 5.0 MB/s eta 0:00:02\n",
      "   --------- ------------------------------ 1.5/6.6 MB 4.9 MB/s eta 0:00:02\n",
      "   ----------- ---------------------------- 1.8/6.6 MB 5.0 MB/s eta 0:00:01\n",
      "   ------------ --------------------------- 2.1/6.6 MB 5.1 MB/s eta 0:00:01\n",
      "   -------------- ------------------------- 2.3/6.6 MB 5.1 MB/s eta 0:00:01\n",
      "   --------------- ------------------------ 2.6/6.6 MB 5.2 MB/s eta 0:00:01\n",
      "   ---------------- ----------------------- 2.8/6.6 MB 5.1 MB/s eta 0:00:01\n",
      "   ------------------ --------------------- 3.0/6.6 MB 5.1 MB/s eta 0:00:01\n",
      "   ------------------- -------------------- 3.3/6.6 MB 5.1 MB/s eta 0:00:01\n",
      "   --------------------- ------------------ 3.5/6.6 MB 5.0 MB/s eta 0:00:01\n",
      "   ---------------------- ----------------- 3.8/6.6 MB 5.1 MB/s eta 0:00:01\n",
      "   ------------------------ --------------- 4.0/6.6 MB 5.2 MB/s eta 0:00:01\n",
      "   -------------------------- ------------- 4.3/6.6 MB 5.2 MB/s eta 0:00:01\n",
      "   --------------------------- ------------ 4.5/6.6 MB 5.1 MB/s eta 0:00:01\n",
      "   ----------------------------- ---------- 4.8/6.6 MB 5.2 MB/s eta 0:00:01\n",
      "   ------------------------------ --------- 5.1/6.6 MB 5.3 MB/s eta 0:00:01\n",
      "   -------------------------------- ------- 5.4/6.6 MB 5.3 MB/s eta 0:00:01\n",
      "   --------------------------------- ------ 5.6/6.6 MB 5.3 MB/s eta 0:00:01\n",
      "   ---------------------------------- ----- 5.8/6.6 MB 5.3 MB/s eta 0:00:01\n",
      "   ------------------------------------ --- 6.0/6.6 MB 5.2 MB/s eta 0:00:01\n",
      "   -------------------------------------- - 6.3/6.6 MB 5.2 MB/s eta 0:00:01\n",
      "   ---------------------------------------  6.5/6.6 MB 5.3 MB/s eta 0:00:01\n",
      "   ---------------------------------------  6.6/6.6 MB 5.2 MB/s eta 0:00:01\n",
      "   ---------------------------------------- 6.6/6.6 MB 5.0 MB/s eta 0:00:00\n",
      "Downloading cloudpathlib-0.16.0-py3-none-any.whl (45 kB)\n",
      "   ---------------------------------------- 0.0/45.0 kB ? eta -:--:--\n",
      "   ---------------------------------------- 45.0/45.0 kB ? eta 0:00:00\n",
      "Downloading confection-0.1.4-py3-none-any.whl (35 kB)\n",
      "Installing collected packages: cymem, wasabi, spacy-loggers, spacy-legacy, pydantic-core, murmurhash, langcodes, cloudpathlib, catalogue, blis, annotated-types, typer, srsly, pydantic, preshed, confection, weasel, thinc, spacy\n",
      "Successfully installed annotated-types-0.6.0 blis-0.7.11 catalogue-2.0.10 cloudpathlib-0.16.0 confection-0.1.4 cymem-2.0.8 langcodes-3.3.0 murmurhash-1.0.10 preshed-3.0.9 pydantic-2.5.2 pydantic-core-2.14.5 spacy-3.7.2 spacy-legacy-3.0.12 spacy-loggers-1.0.5 srsly-2.4.8 thinc-8.2.1 typer-0.9.0 wasabi-1.1.2 weasel-0.3.4\n",
      "Note: you may need to restart the kernel to use updated packages.\n"
     ]
    }
   ],
   "source": [
    "pip install spacy"
   ]
  },
  {
   "cell_type": "code",
   "execution_count": 19,
   "id": "09a468bc",
   "metadata": {},
   "outputs": [],
   "source": [
    "import spacy\n",
    "from spacy.tokens import Doc"
   ]
  },
  {
   "cell_type": "code",
   "execution_count": 20,
   "id": "6e8aee45",
   "metadata": {},
   "outputs": [],
   "source": [
    "# Load a pre-trained spaCy language model and tagger\n",
    "nlp = spacy.load(\"en_core_web_sm\")"
   ]
  },
  {
   "cell_type": "code",
   "execution_count": 25,
   "id": "d4aca155",
   "metadata": {},
   "outputs": [],
   "source": [
    "# Define a custom pipeline component for error detection\n",
    "def detect_errors(doc):\n",
    "    errors = []\n",
    "\n",
    "    # Check for missing articles (a, an, the)\n",
    "    for token in doc:\n",
    "        if token.pos_ == \"ADJ\" and token.head.pos_ == \"NOUN\" and not token.head.text.lower() in [\"a\", \"an\", \"the\"]:\n",
    "            errors.append({\"text\": token.text, \"start\": token.idx, \"end\": token.idx + len(token.text), \"error_type\": \"Missing article\"})\n",
    "\n",
    "    # Check for subject-verb agreement\n",
    "    for verb in doc:\n",
    "        if verb.pos_ == \"VERB\" and verb.head.pos_ == \"NOUN\" and verb.number != verb.head.number:\n",
    "            errors.append({\"text\": verb.text, \"start\": verb.idx, \"end\": verb.idx + len(verb.text), \"error_type\": \"Subject-verb agreement error\"})\n",
    "\n",
    "    # Add errors to doc as a custom extension attribute\n",
    "    doc._.errors = errors\n",
    "\n",
    "    return doc\n"
   ]
  },
  {
   "cell_type": "code",
   "execution_count": 26,
   "id": "fa5e5b3b",
   "metadata": {},
   "outputs": [],
   "source": [
    "# Example text with intentional errors\n",
    "text = \"The cat are playing in the garden.\"\n",
    "doc = nlp(text)"
   ]
  },
  {
   "cell_type": "code",
   "execution_count": null,
   "id": "076d8265",
   "metadata": {},
   "outputs": [],
   "source": []
  },
  {
   "cell_type": "code",
   "execution_count": null,
   "id": "c30a4123",
   "metadata": {},
   "outputs": [],
   "source": []
  }
 ],
 "metadata": {
  "kernelspec": {
   "display_name": "Python 3 (ipykernel)",
   "language": "python",
   "name": "python3"
  },
  "language_info": {
   "codemirror_mode": {
    "name": "ipython",
    "version": 3
   },
   "file_extension": ".py",
   "mimetype": "text/x-python",
   "name": "python",
   "nbconvert_exporter": "python",
   "pygments_lexer": "ipython3",
   "version": "3.11.4"
  }
 },
 "nbformat": 4,
 "nbformat_minor": 5
}
