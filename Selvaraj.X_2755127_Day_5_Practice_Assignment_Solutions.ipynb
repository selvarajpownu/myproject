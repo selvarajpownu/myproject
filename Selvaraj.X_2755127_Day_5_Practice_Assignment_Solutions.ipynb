{
 "cells": [
  {
   "cell_type": "markdown",
   "id": "35aa4928",
   "metadata": {},
   "source": [
    "# Module and Virtual Environments"
   ]
  },
  {
   "cell_type": "markdown",
   "id": "6a0be6f2",
   "metadata": {},
   "source": [
    "### 1. Module Import and Management Scenario"
   ]
  },
  {
   "cell_type": "code",
   "execution_count": 16,
   "id": "f7934e15",
   "metadata": {},
   "outputs": [
    {
     "name": "stdout",
     "output_type": "stream",
     "text": [
      "Value of pi: 3.141592653589793\n",
      "Random number between 1 and 10: 3\n",
      "Today's date: 2023-09-15\n"
     ]
    }
   ],
   "source": [
    "# i) Import multiple modules within your project.\n",
    "import math\n",
    "import random\n",
    "import datetime\n",
    "\n",
    "\n",
    "print(f\"Value of pi: {math.pi}\")\n",
    "print(f\"Random number between 1 and 10: {random.randint(1, 10)}\")\n",
    "\n",
    "current_date = datetime.date.today()\n",
    "print(f\"Today's date: {current_date}\")\n"
   ]
  },
  {
   "cell_type": "code",
   "execution_count": 18,
   "id": "4b5b4d52",
   "metadata": {},
   "outputs": [
    {
     "name": "stdout",
     "output_type": "stream",
     "text": [
      "Addition of 10 and 70 is 80\n"
     ]
    }
   ],
   "source": [
    "#creating my own module called mymodule.py\n",
    "\n",
    "\"\"\"def add(a, b):\n",
    "    a = int(a)\n",
    "    b = int(b)\n",
    "    return f\"Addition of {a} and {b} is {a + b}\"\"\"\"\n",
    "\n",
    "# ii) Use the import statement to access functions, classes, and variables from imported modules.\n",
    "# iii) Create your custom module and use it in your main program.\n",
    "\n",
    "\n",
    "#imported mymodule which has add() function...\n",
    "\n",
    "import mymodule\n",
    "result = add(10, 70)\n",
    "print(result)\n"
   ]
  },
  {
   "cell_type": "code",
   "execution_count": 32,
   "id": "142ee1f5",
   "metadata": {},
   "outputs": [
    {
     "name": "stdout",
     "output_type": "stream",
     "text": [
      "There was a naming conflict with 'mymodule'. Renaming our custom module to 'mymodule2'.\n",
      "\n",
      "Addition of 20 and 40 is 60\n"
     ]
    }
   ],
   "source": [
    "# iv)Handle naming conflicts and ensure proper namespacing.\n",
    "\n",
    "try:\n",
    "    #imported incorrect module\n",
    "    import mymodule1\n",
    "except ImportError:\n",
    "    print(\"There was a naming conflict with 'mymodule'. Renaming our mymodule to 'mymodule2'.\")\n",
    "    import mymodule as mymodule2\n",
    "    print()\n",
    "    print(add(20,40))"
   ]
  },
  {
   "cell_type": "code",
   "execution_count": 22,
   "id": "ddf4e1f7",
   "metadata": {},
   "outputs": [
    {
     "name": "stdout",
     "output_type": "stream",
     "text": [
      "Error: No module named 'module'\n"
     ]
    }
   ],
   "source": [
    "# v) Implement error handling for missing modules \n",
    "try:\n",
    "    import module\n",
    "except ModuleNotFoundError as e:\n",
    "    print(f\"Error: {e}\")"
   ]
  },
  {
   "cell_type": "code",
   "execution_count": 28,
   "id": "836b3f9c",
   "metadata": {},
   "outputs": [
    {
     "name": "stdout",
     "output_type": "stream",
     "text": [
      "Error: math domain error\n"
     ]
    }
   ],
   "source": [
    "import math\n",
    "try:\n",
    "    #imported math module but usage is incorrect. we cant do square root on negative value\n",
    "    result = math.sqrt(-20)\n",
    "except ValueError as e:\n",
    "    print(f\"Error: {e}\")"
   ]
  },
  {
   "cell_type": "markdown",
   "id": "03988f7a",
   "metadata": {},
   "source": [
    "### 2.Virtual Environment Management Scenario"
   ]
  },
  {
   "cell_type": "code",
   "execution_count": 8,
   "id": "1622b27a",
   "metadata": {},
   "outputs": [
    {
     "name": "stdout",
     "output_type": "stream",
     "text": [
      "Virtual environment 'python_env' created successfully.\n",
      "Activated virtual environment 'python_env'.\n",
      "Package 'requests' installed successfully in 'python_env'.\n",
      "Installed packages in 'python_env':\n",
      "Package            Version\n",
      "------------------ ---------\n",
      "certifi            2023.7.22\n",
      "charset-normalizer 3.2.0\n",
      "idna               3.4\n",
      "pip                23.1.2\n",
      "requests           2.31.0\n",
      "setuptools         65.5.0\n",
      "urllib3            2.0.4\n",
      "\n",
      "Deactivated virtual environment.\n"
     ]
    }
   ],
   "source": [
    "import os\n",
    "import subprocess\n",
    "import sys\n",
    "\n",
    "def create(env_name):\n",
    "    try:\n",
    "        subprocess.run([sys.executable, '-m', 'venv', env_name], check=True)\n",
    "        print(f\"Virtual environment '{env_name}' created successfully.\")\n",
    "    except subprocess.CalledProcessError:\n",
    "        print(f\"Error creating virtual environment '{env_name}'.\")\n",
    "\n",
    "def activate(env_name):\n",
    "    try:\n",
    "        subprocess.run(['activate'], shell=True, check=True)\n",
    "        print(f\"Activated virtual environment '{env_name}'.\")\n",
    "    except subprocess.CalledProcessError:\n",
    "        print(f\"Error activating virtual environment '{env_name}'.\")\n",
    "\n",
    "def deactivate():\n",
    "    try:\n",
    "        subprocess.run(['deactivate'], shell=True, check=False)\n",
    "        print(\"Deactivated virtual environment.\")\n",
    "    except subprocess.CalledProcessError:\n",
    "        print(\"Error deactivating virtual environment.\")\n",
    "\n",
    "def install_package(env_name, package_name):\n",
    "    try:\n",
    "        subprocess.run([os.path.join(env_name, 'Scripts' if sys.platform == 'win32' else 'bin', 'pip'), 'install', package_name], check=True)\n",
    "        print(f\"Package '{package_name}' installed successfully in '{env_name}'.\")\n",
    "    except subprocess.CalledProcessError:\n",
    "        print(f\"Error installing package '{package_name}' in '{env_name}'.\")\n",
    "\n",
    "def list_packages(env_name):\n",
    "    try:\n",
    "        result = subprocess.run([os.path.join(env_name, 'Scripts' if sys.platform == 'win32' else 'bin', 'pip'), 'list'], stdout=subprocess.PIPE, text=True, check=True)\n",
    "        print(f\"Installed packages in '{env_name}':\\n{result.stdout}\")\n",
    "    except subprocess.CalledProcessError:\n",
    "        print(f\"Error listing installed packages in '{env_name}'.\")\n",
    "\n",
    "\n",
    "env_name = \"python_env\"\n",
    "\n",
    "create(env_name)\n",
    "\n",
    "activate(env_name)\n",
    "\n",
    "install_package(env_name, \"requests\")\n",
    "\n",
    "list_packages(env_name)\n",
    "\n",
    "deactivate()\n"
   ]
  },
  {
   "cell_type": "markdown",
   "id": "61621583",
   "metadata": {},
   "source": [
    "### 3.Module Dependency Resolution Scenario"
   ]
  },
  {
   "cell_type": "code",
   "execution_count": 3,
   "id": "684e6d6f",
   "metadata": {},
   "outputs": [
    {
     "name": "stdout",
     "output_type": "stream",
     "text": [
      "Dependency installation successful!\n"
     ]
    }
   ],
   "source": [
    "import sys\n",
    "import os\n",
    "import venv\n",
    "import pip\n",
    "\n",
    "def create_virtual_environment(venv_dir):\n",
    "    try:\n",
    "        venv.create(venv_dir, with_pip=True)\n",
    "        return True\n",
    "    except Exception as e:\n",
    "        print(f\"Error creating virtual environment: {str(e)}\")\n",
    "        return False\n",
    "\n",
    "def install_dependencies(venv_dir, requirements_file):\n",
    "    venv_python = os.path.join(venv_dir, 'bin', 'python')\n",
    "    pip_main = os.path.join(venv_dir, 'bin', 'pip')\n",
    "    \n",
    "    try:\n",
    "        # Upgrade pip within the virtual environment\n",
    "        os.system(f\"{venv_python} -m pip install --upgrade pip\")\n",
    "        \n",
    "        # Install project dependencies from requirements.txt\n",
    "        os.system(f\"{pip_main} install -r {requirements_file}\")\n",
    "        return True\n",
    "    except Exception as e:\n",
    "        print(f\"Error installing dependencies: {str(e)}\")\n",
    "        return False\n",
    "\n",
    "def main():\n",
    "    venv_dir = \"my_venv\"\n",
    "    requirements_file = \"requirements.txt\"\n",
    "    \n",
    "    if not create_virtual_environment(venv_dir):\n",
    "        sys.exit(1)\n",
    "    \n",
    "    if not install_dependencies(venv_dir, requirements_file):\n",
    "        sys.exit(1)\n",
    "    \n",
    "    print(\"Dependency installation successful!\")\n",
    "\n",
    "if __name__ == \"__main__\":\n",
    "    main()\n",
    "\n"
   ]
  },
  {
   "cell_type": "code",
   "execution_count": null,
   "id": "965914f3",
   "metadata": {},
   "outputs": [],
   "source": [
    "Database programming with Mysql"
   ]
  },
  {
   "cell_type": "markdown",
   "id": "c43fd854",
   "metadata": {},
   "source": [
    "### 1 .Implement Inventory Management in Python with MySQL"
   ]
  },
  {
   "cell_type": "code",
   "execution_count": 1,
   "id": "602c60d1",
   "metadata": {},
   "outputs": [
    {
     "name": "stdout",
     "output_type": "stream",
     "text": [
      "<mysql.connector.connection_cext.CMySQLConnection object at 0x000001D6DE77C7D0>\n"
     ]
    }
   ],
   "source": [
    "import mysql.connector\n",
    "\n",
    "conn = mysql.connector.connect(\n",
    "  host=\"127.0.0.1\",\n",
    "  user=\"root\",\n",
    "  password=\"0000\",\n",
    "  database=\"python\"\n",
    ")\n",
    "\n",
    "print(conn)"
   ]
  },
  {
   "cell_type": "code",
   "execution_count": 3,
   "id": "03d9c50b",
   "metadata": {},
   "outputs": [],
   "source": [
    "cursor = conn.cursor()"
   ]
  },
  {
   "cell_type": "code",
   "execution_count": 17,
   "id": "f6276e33",
   "metadata": {},
   "outputs": [
    {
     "name": "stdout",
     "output_type": "stream",
     "text": [
      "CMySQLCursor: CREATE DATABASE Inventory\n"
     ]
    }
   ],
   "source": [
    "cursor.execute(\"CREATE DATABASE Inventory\")\n",
    "print(cursor)"
   ]
  },
  {
   "cell_type": "code",
   "execution_count": 4,
   "id": "95abda06",
   "metadata": {},
   "outputs": [],
   "source": [
    "cursor.execute(\"USE Inventory\")"
   ]
  },
  {
   "cell_type": "code",
   "execution_count": 19,
   "id": "bb914788",
   "metadata": {},
   "outputs": [
    {
     "name": "stdout",
     "output_type": "stream",
     "text": [
      "CMySQLCursor: \n",
      "CREATE TABLE Inventory (\n",
      "    id INT AUT..\n"
     ]
    }
   ],
   "source": [
    "cursor.execute(\"\"\"\n",
    "CREATE TABLE Inventory (\n",
    "    id INT AUTO_INCREMENT PRIMARY KEY,\n",
    "    product_name VARCHAR(255) NOT NULL,\n",
    "    quantity INT NOT NULL\n",
    ")\n",
    "\"\"\")\n",
    "\n",
    "print(cursor)"
   ]
  },
  {
   "cell_type": "code",
   "execution_count": 5,
   "id": "ae57d0cd",
   "metadata": {},
   "outputs": [],
   "source": [
    "cursor.execute(\"\"\"\n",
    "CREATE TABLE IF NOT EXISTS Purchases (\n",
    "    id INT AUTO_INCREMENT PRIMARY KEY,\n",
    "    product_id INT,\n",
    "    purchase_date DATE NOT NULL,\n",
    "    quantity INT NOT NULL,\n",
    "    FOREIGN KEY (product_id) REFERENCES Inventory(id)\n",
    ")\n",
    "\"\"\")\n",
    "\n",
    "# Create the Sales table\n",
    "cursor.execute(\"\"\"\n",
    "CREATE TABLE IF NOT EXISTS Sales (\n",
    "    id INT AUTO_INCREMENT PRIMARY KEY,\n",
    "    product_id INT,\n",
    "    sale_date DATE NOT NULL,\n",
    "    quantity INT NOT NULL,\n",
    "    FOREIGN KEY (product_id) REFERENCES Inventory(id)\n",
    ")\n",
    "\"\"\")"
   ]
  },
  {
   "cell_type": "code",
   "execution_count": 21,
   "id": "0b5473a1",
   "metadata": {},
   "outputs": [],
   "source": [
    "def add_product(product_name, quantity):\n",
    "    cursor.execute(\"INSERT INTO Inventory (product_name, quantity) VALUES (%s, %s)\", (product_name, quantity))\n",
    "    conn.commit()\n",
    "    \n",
    "add_product(\"iPhone 15\", 100)\n",
    "add_product(\"iPhone 15 pro\", 50)"
   ]
  },
  {
   "cell_type": "code",
   "execution_count": 22,
   "id": "17badaa0",
   "metadata": {},
   "outputs": [
    {
     "name": "stdout",
     "output_type": "stream",
     "text": [
      "CMySQLCursor: INSERT INTO Inventory (product_name, qua..\n"
     ]
    }
   ],
   "source": [
    "print(cursor)"
   ]
  },
  {
   "cell_type": "code",
   "execution_count": 8,
   "id": "7f549f34",
   "metadata": {},
   "outputs": [
    {
     "name": "stdout",
     "output_type": "stream",
     "text": [
      "[(1, 'iPhone 15', 80), (2, 'iPhone 15 pro', 50)]\n"
     ]
    }
   ],
   "source": [
    "cursor.execute(\"select* from Inventory\")\n",
    "data = cursor.fetchall()\n",
    "print(data)"
   ]
  },
  {
   "cell_type": "code",
   "execution_count": 6,
   "id": "c99315f9",
   "metadata": {},
   "outputs": [],
   "source": [
    "def record_purchase(product_id, purchase_date, quantity):\n",
    "    cursor.execute(\"INSERT INTO Purchases (product_id, purchase_date, quantity) VALUES (%s, %s, %s)\",\n",
    "                   (product_id, purchase_date, quantity))\n",
    "    cursor.execute(\"UPDATE Inventory SET quantity = quantity + %s WHERE id = %s\", (quantity, product_id))\n",
    "    conn.commit()\n",
    "\n",
    "record_purchase(1, \"2023-09-17\", 20)"
   ]
  },
  {
   "cell_type": "code",
   "execution_count": 7,
   "id": "491cd62b",
   "metadata": {},
   "outputs": [],
   "source": [
    "def record_sale(product_id, sale_date, quantity):\n",
    "    cursor.execute(\"INSERT INTO Sales (product_id, sale_date, quantity) VALUES (%s, %s, %s)\",\n",
    "                   (product_id, sale_date, quantity))\n",
    "    cursor.execute(\"UPDATE Inventory SET quantity = quantity - %s WHERE id = %s\", (quantity, product_id))\n",
    "    conn.commit()\n",
    "record_sale(1, \"2023-09-18\", 40)"
   ]
  },
  {
   "cell_type": "code",
   "execution_count": 9,
   "id": "bc22d9c3",
   "metadata": {},
   "outputs": [
    {
     "name": "stdout",
     "output_type": "stream",
     "text": [
      "[(1, 1, datetime.date(2023, 9, 17), 20)]\n"
     ]
    }
   ],
   "source": [
    "cursor.execute(\"select* from Purchases\")\n",
    "data = cursor.fetchall()\n",
    "print(data)"
   ]
  },
  {
   "cell_type": "code",
   "execution_count": 10,
   "id": "7c146cd8",
   "metadata": {},
   "outputs": [
    {
     "name": "stdout",
     "output_type": "stream",
     "text": [
      "[(1, 1, datetime.date(2023, 9, 18), 40)]\n"
     ]
    }
   ],
   "source": [
    "cursor.execute(\"select* from Sales\")\n",
    "data = cursor.fetchall()\n",
    "print(data)"
   ]
  },
  {
   "cell_type": "code",
   "execution_count": 11,
   "id": "ff677a06",
   "metadata": {},
   "outputs": [],
   "source": [
    "cursor.close()\n",
    "conn.close()"
   ]
  },
  {
   "cell_type": "markdown",
   "id": "c3db5e3d",
   "metadata": {},
   "source": [
    "### 2.Customer Order Processing Scenario"
   ]
  },
  {
   "cell_type": "code",
   "execution_count": 71,
   "id": "c206f48c",
   "metadata": {},
   "outputs": [
    {
     "name": "stdout",
     "output_type": "stream",
     "text": [
      "<mysql.connector.connection_cext.CMySQLConnection object at 0x000001ADFC3ACF50>\n"
     ]
    }
   ],
   "source": [
    "import mysql.connector\n",
    "\n",
    "conn = mysql.connector.connect(\n",
    "  host=\"127.0.0.1\",\n",
    "  user=\"root\",\n",
    "  password=\"0000\",\n",
    "  database=\"python\"\n",
    ")\n",
    "\n",
    "print(conn)"
   ]
  },
  {
   "cell_type": "code",
   "execution_count": 72,
   "id": "d8437db1",
   "metadata": {},
   "outputs": [],
   "source": [
    "cursor = conn.cursor()\n",
    "cursor.execute(\"USE python\")"
   ]
  },
  {
   "cell_type": "code",
   "execution_count": 14,
   "id": "49b785cd",
   "metadata": {},
   "outputs": [
    {
     "name": "stdout",
     "output_type": "stream",
     "text": [
      "Tables created successfully.\n"
     ]
    }
   ],
   "source": [
    "# Create Customers Table\n",
    "cursor.execute(\"\"\"\n",
    "    CREATE TABLE IF NOT EXISTS Customers (\n",
    "        customer_id INT AUTO_INCREMENT PRIMARY KEY,\n",
    "        name VARCHAR(255) NOT NULL,\n",
    "        email VARCHAR(255) NOT NULL UNIQUE,\n",
    "        phone VARCHAR(20),\n",
    "        address TEXT\n",
    "    )\n",
    "\"\"\")\n",
    "\n",
    "# Create Products Table\n",
    "cursor.execute(\"\"\"\n",
    "    CREATE TABLE IF NOT EXISTS Products (\n",
    "        product_id INT AUTO_INCREMENT PRIMARY KEY,\n",
    "        name VARCHAR(255) NOT NULL,\n",
    "        description TEXT,\n",
    "        price DECIMAL(10, 2) NOT NULL,\n",
    "        quantity_available INT NOT NULL\n",
    "    )\n",
    "\"\"\")\n",
    "\n",
    "# Create Orders Table\n",
    "cursor.execute(\"\"\"\n",
    "    CREATE TABLE IF NOT EXISTS Orders (\n",
    "        order_id INT AUTO_INCREMENT PRIMARY KEY,\n",
    "        customer_id INT NOT NULL,\n",
    "        order_date TIMESTAMP DEFAULT CURRENT_TIMESTAMP,\n",
    "        status ENUM('Pending', 'Shipped', 'Delivered') DEFAULT 'Pending',\n",
    "        FOREIGN KEY (customer_id) REFERENCES Customers(customer_id)\n",
    "    )\n",
    "\"\"\")\n",
    "\n",
    "# Create OrderDetails Table\n",
    "cursor.execute(\"\"\"\n",
    "    CREATE TABLE IF NOT EXISTS OrderDetails (\n",
    "        order_detail_id INT AUTO_INCREMENT PRIMARY KEY,\n",
    "        order_id INT NOT NULL,\n",
    "        product_id INT NOT NULL,\n",
    "        quantity_ordered INT NOT NULL,\n",
    "        total_price DECIMAL(10, 2) NOT NULL,\n",
    "        FOREIGN KEY (order_id) REFERENCES Orders(order_id),\n",
    "        FOREIGN KEY (product_id) REFERENCES Products(product_id)\n",
    "    )\n",
    "\"\"\")\n",
    "\n",
    "print(\"Tables created successfully.\")\n"
   ]
  },
  {
   "cell_type": "code",
   "execution_count": 35,
   "id": "acd81015",
   "metadata": {},
   "outputs": [],
   "source": [
    "cursor.execute(\"\"\"\n",
    "    INSERT INTO Customers (name, email, phone, address)\n",
    "    VALUES\n",
    "    ('Selvaraj', 'selva@gmail.com', '1234567898', 'Krishnagiri')\n",
    "\"\"\")"
   ]
  },
  {
   "cell_type": "code",
   "execution_count": 36,
   "id": "21bc7f9d",
   "metadata": {},
   "outputs": [
    {
     "name": "stdout",
     "output_type": "stream",
     "text": [
      "[(1, 'Deivanai', 'deiva@gmail.com', '1234567899', 'Krishnagiri'), (2, 'Selvaraj', 'selva@gmail.com', '1234567898', 'Krishnagiri')]\n"
     ]
    }
   ],
   "source": [
    "cursor.execute(\"select* from Customers\")\n",
    "data = cursor.fetchall()\n",
    "print(data)"
   ]
  },
  {
   "cell_type": "code",
   "execution_count": 37,
   "id": "44d6c0f6",
   "metadata": {},
   "outputs": [],
   "source": [
    "cursor.execute(\"\"\"\n",
    "    INSERT INTO Products (name, description, price, quantity_available)\n",
    "    VALUES ('iphone 15 pro', 'Retina display', 180, 100) \"\"\")"
   ]
  },
  {
   "cell_type": "code",
   "execution_count": 38,
   "id": "eb5288c0",
   "metadata": {},
   "outputs": [
    {
     "name": "stdout",
     "output_type": "stream",
     "text": [
      "[(1, 'iphone 15', 'Retina display', Decimal('80.00'), 13), (2, 'iphone 15 pro', 'Retina display', Decimal('180.00'), 100)]\n"
     ]
    }
   ],
   "source": [
    "cursor.execute(\"select* from Products\")\n",
    "data = cursor.fetchall()\n",
    "print(data)"
   ]
  },
  {
   "cell_type": "code",
   "execution_count": 58,
   "id": "179b2212",
   "metadata": {},
   "outputs": [],
   "source": [
    "cursor.execute(\"\"\"\n",
    "    INSERT INTO Orders (customer_id, status)\n",
    "    VALUES\n",
    "    (2, 'Shipped')\"\"\")"
   ]
  },
  {
   "cell_type": "code",
   "execution_count": 60,
   "id": "35029878",
   "metadata": {},
   "outputs": [
    {
     "name": "stdout",
     "output_type": "stream",
     "text": [
      "Order placed successfully.\n"
     ]
    }
   ],
   "source": [
    "# calculates the total cost of an order and updates product quantities in the database\n",
    "def place_order(customer_id, product_id, quantity_ordered):\n",
    "    \n",
    "    cursor.execute(\"SELECT quantity_available, price FROM Products WHERE product_id = %s\", (product_id,))\n",
    "    result = cursor.fetchone()\n",
    "    if result is None:\n",
    "        print(\"Product not found.\")\n",
    "        return\n",
    "    \n",
    "    quantity_available, price = result\n",
    "    if quantity_ordered > quantity_available:\n",
    "        print(\"Product is not available in the requested quantity.\")\n",
    "        return\n",
    "\n",
    "    # Calculate total cost\n",
    "    total_price = price * quantity_ordered\n",
    "\n",
    "    cursor.execute(\"UPDATE Products SET quantity_available = quantity_available - %s WHERE product_id = %s\", (quantity_ordered, product_id))\n",
    "    cursor.execute(\"INSERT INTO Orders (customer_id, order_date, status) VALUES (%s, NOW(), 'Pending')\", (customer_id,))\n",
    "    order_id = cursor.lastrowid\n",
    "    cursor.execute(\"INSERT INTO OrderDetails (order_id, product_id, quantity_ordered, total_price) VALUES (%s, %s, %s, %s)\",\n",
    "                   (order_id, product_id, quantity_ordered, total_price))\n",
    "    \n",
    "    conn.commit()\n",
    "    print(\"Order placed successfully.\")\n",
    "\n",
    "\n",
    "# customer_id, product_id, quantity_ordered\n",
    "place_order(2, 1, 1) \n",
    "  \n",
    "\n"
   ]
  },
  {
   "cell_type": "code",
   "execution_count": 73,
   "id": "0c04603a",
   "metadata": {},
   "outputs": [
    {
     "name": "stdout",
     "output_type": "stream",
     "text": [
      "[(3, 1, datetime.datetime(2023, 9, 17, 20, 36, 53), 'Shipped'), (4, 1, datetime.datetime(2023, 9, 17, 20, 42, 23), 'Pending'), (5, 1, datetime.datetime(2023, 9, 17, 20, 47, 16), 'Pending'), (6, 1, datetime.datetime(2023, 9, 17, 20, 48, 55), 'Pending'), (7, 2, datetime.datetime(2023, 9, 17, 20, 54), 'Pending'), (8, 2, datetime.datetime(2023, 9, 17, 20, 54, 12), 'Pending'), (9, 2, datetime.datetime(2023, 9, 17, 21, 10, 24), 'Shipped'), (10, 2, datetime.datetime(2023, 9, 17, 21, 10, 40), 'Pending')]\n"
     ]
    }
   ],
   "source": [
    "\n",
    "\n",
    "cursor.execute(\"select* from Orders\")\n",
    "data = cursor.fetchall()\n",
    "print(data)"
   ]
  },
  {
   "cell_type": "code",
   "execution_count": 74,
   "id": "1565ca95",
   "metadata": {},
   "outputs": [
    {
     "name": "stdout",
     "output_type": "stream",
     "text": [
      "[(3, 6, 1, 7, Decimal('560.00')), (4, 8, 1, 7, Decimal('560.00')), (5, 10, 1, 1, Decimal('80.00'))]\n"
     ]
    }
   ],
   "source": [
    "cursor.execute(\"select* from OrderDetails\")\n",
    "data = cursor.fetchall()\n",
    "print(data)"
   ]
  },
  {
   "cell_type": "code",
   "execution_count": 78,
   "id": "c68da165",
   "metadata": {},
   "outputs": [
    {
     "name": "stdout",
     "output_type": "stream",
     "text": [
      "Order Report for Order ID 4:\n",
      "Customer: Deivanai, Order ID: 4\n"
     ]
    }
   ],
   "source": [
    "def generate_order_report():\n",
    "    #generate a report for order_id 4\n",
    "    order_id = 4 \n",
    "    cursor.execute(\"\"\"\n",
    "        SELECT O.order_id, C.name\n",
    "        FROM Orders O\n",
    "        JOIN Customers C ON O.customer_id = C.customer_id\n",
    "        WHERE O.order_id = %s\n",
    "    \"\"\", (order_id,))\n",
    "    \n",
    "    order_report = cursor.fetchall()\n",
    "\n",
    "    # Handling case where the order is not found\n",
    "    if not order_report:\n",
    "        print(f\"Order ID {order_id} not found.\")\n",
    "        return\n",
    "    \n",
    "    print(f\"Order Report for Order ID {order_id}:\")\n",
    "    for row in order_report:\n",
    "        order_id, customer_name = row\n",
    "        print(f\"Customer: {customer_name}, Order ID: {order_id}\")\n",
    "\n",
    "\n",
    "generate_order_report()\n",
    "\n"
   ]
  },
  {
   "cell_type": "code",
   "execution_count": 80,
   "id": "7b08a744",
   "metadata": {},
   "outputs": [],
   "source": [
    "# Close the cursor and connection when done\n",
    "cursor.close()\n",
    "conn.close()\n"
   ]
  },
  {
   "cell_type": "markdown",
   "id": "a5d747e0",
   "metadata": {},
   "source": [
    "### 3. Python program that connects to a MySQL database, retrieves data from a table, performs some operations on the data, and updates the database with the modified data.\n",
    "\n",
    "Instructions:\n",
    "\n",
    "Your Python program should:\n",
    "\n",
    "i. Connect to the MySQL database.\n",
    "\n",
    "ii. Retrieve all records from the your table table. \n",
    "\n",
    "iii. Calculate the total quantity of all records retrieved.\n",
    "\n",
    "iv. Update the quantity column of each record by doubling its value.\n",
    "\n",
    "v. Commit the changes to the database. \n",
    "\n",
    "vi. Close the database connection.\n",
    "\n",
    "Handle any potential errors that may occur during the database connection and data manipulation, such as connection failures or SQL errors."
   ]
  },
  {
   "cell_type": "code",
   "execution_count": 131,
   "id": "167cc773",
   "metadata": {},
   "outputs": [
    {
     "name": "stdout",
     "output_type": "stream",
     "text": [
      "<mysql.connector.connection_cext.CMySQLConnection object at 0x000001ADFD198950>\n"
     ]
    }
   ],
   "source": [
    "import mysql.connector\n",
    "\n",
    "conn = mysql.connector.connect(\n",
    "  host=\"127.0.0.1\",\n",
    "  user=\"root\",\n",
    "  password=\"0000\",\n",
    "  database=\"python\"\n",
    ")\n",
    "print(conn)\n",
    "cursor = conn.cursor()\n",
    "cursor.execute(\"USE python\")"
   ]
  },
  {
   "cell_type": "code",
   "execution_count": null,
   "id": "cb65a30c",
   "metadata": {},
   "outputs": [],
   "source": [
    "cursor.execute(\"\"\"\n",
    "    CREATE TABLE products_3 (\n",
    "        id INT AUTO_INCREMENT PRIMARY KEY,\n",
    "        quantity_available INT,\n",
    "        price DECIMAL(10, 2)\n",
    "    )\n",
    "\"\"\")\n"
   ]
  },
  {
   "cell_type": "code",
   "execution_count": 110,
   "id": "b462d507",
   "metadata": {},
   "outputs": [],
   "source": [
    "cursor.execute(\"INSERT INTO products_3 (quantity_available, price) VALUES (13, 10)\")\n"
   ]
  },
  {
   "cell_type": "code",
   "execution_count": 132,
   "id": "b727b562",
   "metadata": {},
   "outputs": [
    {
     "name": "stdout",
     "output_type": "stream",
     "text": [
      "[(1, 1216, Decimal('19.99')), (2, 960, Decimal('19.99')), (3, 160, Decimal('40.00')), (4, 104, Decimal('10.00'))]\n"
     ]
    }
   ],
   "source": [
    "cursor.execute(\"select* from products_3\")\n",
    "data = cursor.fetchall()\n",
    "print(data)"
   ]
  },
  {
   "cell_type": "code",
   "execution_count": 133,
   "id": "530c3d4d",
   "metadata": {},
   "outputs": [
    {
     "name": "stdout",
     "output_type": "stream",
     "text": [
      "Total Quantity of all products before Doubling :  2440\n",
      "\n",
      "[(1, 2432, Decimal('19.99')), (2, 1920, Decimal('19.99')), (3, 320, Decimal('40.00')), (4, 208, Decimal('10.00'))]\n",
      "\n",
      "Total Quantity of all products After Doubling :  4880\n",
      "\n",
      "Data successfully updated.\n"
     ]
    }
   ],
   "source": [
    "try:\n",
    "    # Retrieve all records from the table\n",
    "    cursor.execute(\"SELECT quantity_available FROM products_3\")\n",
    "\n",
    "    # Fetch all records\n",
    "    records = cursor.fetchall()\n",
    "\n",
    "    # Calculate the total quantity of all records retrieved\n",
    "    total_quantity = sum(int(record[0]) for record in records)\n",
    "    print(\"Total Quantity of all products before Doubling : \",total_quantity)\n",
    "    print()\n",
    "    \n",
    "    #Update the quantity column of each record by doubling its value.\n",
    "    cursor.execute(\"select* from products_3\")\n",
    "    records = cursor.fetchall()\n",
    "\n",
    "   \n",
    "    for record in records:\n",
    "        new_quantity = int(record[1]) * 2 \n",
    "        cursor.execute(\"UPDATE products_3 SET quantity_available = %s WHERE id = %s\", (new_quantity, record[0]))\n",
    "\n",
    "    # Commit the changes to the database\n",
    "    conn.commit()\n",
    "    \n",
    "    cursor.execute(\"select* from products_3\")\n",
    "    data = cursor.fetchall()\n",
    "    print(data)\n",
    "    \n",
    "    print()\n",
    "    cursor.execute(\"SELECT quantity_available FROM products_3\")\n",
    "    records = cursor.fetchall()\n",
    "    total_quantity = sum(int(record[0]) for record in records)\n",
    "    print(\"Total Quantity of all products After Doubling : \",total_quantity)\n",
    "    print()\n",
    "\n",
    "    # Close the cursor and the database connection\n",
    "    cursor.close()\n",
    "    conn.close()\n",
    "\n",
    "    print(\"Data successfully updated.\")\n",
    "except mysql.connector.Error as e:\n",
    "    print(\"Error:\", e)\n"
   ]
  },
  {
   "cell_type": "markdown",
   "id": "df9e4019",
   "metadata": {},
   "source": [
    "### 4. Designing the database schema for an employee management system "
   ]
  },
  {
   "cell_type": "markdown",
   "id": "839f64bd",
   "metadata": {},
   "source": [
    "#### 2 .Python Code to Connect to the Database and Retrieve Employees in a Specific Department:"
   ]
  },
  {
   "cell_type": "code",
   "execution_count": 134,
   "id": "ec3665fc",
   "metadata": {},
   "outputs": [
    {
     "name": "stdout",
     "output_type": "stream",
     "text": [
      "<mysql.connector.connection_cext.CMySQLConnection object at 0x000001ADFC3436D0>\n"
     ]
    }
   ],
   "source": [
    "import mysql.connector\n",
    "\n",
    "conn = mysql.connector.connect(\n",
    "  host=\"127.0.0.1\",\n",
    "  user=\"root\",\n",
    "  password=\"0000\",\n",
    "  database=\"python\"\n",
    ")\n",
    "print(conn)\n",
    "cursor = conn.cursor()\n",
    "cursor.execute(\"USE python\")"
   ]
  },
  {
   "cell_type": "markdown",
   "id": "fe276e5d",
   "metadata": {},
   "source": [
    "#### 1.Database Schema"
   ]
  },
  {
   "cell_type": "code",
   "execution_count": 135,
   "id": "36a68948",
   "metadata": {},
   "outputs": [],
   "source": [
    "cursor.execute(\"\"\"\n",
    "        CREATE TABLE departments (\n",
    "            dept_id INT AUTO_INCREMENT PRIMARY KEY,\n",
    "            dept_name VARCHAR(255) NOT NULL\n",
    "        )\n",
    "    \"\"\")"
   ]
  },
  {
   "cell_type": "code",
   "execution_count": 136,
   "id": "48082722",
   "metadata": {},
   "outputs": [],
   "source": [
    "cursor.execute(\"\"\"\n",
    "        CREATE TABLE employees (\n",
    "            employee_id INT AUTO_INCREMENT PRIMARY KEY,\n",
    "            name VARCHAR(255) NOT NULL,\n",
    "            salary DECIMAL(10, 2),\n",
    "            hire_date DATE,\n",
    "            dept_id INT,\n",
    "            FOREIGN KEY (dept_id) REFERENCES departments(dept_id)\n",
    "        )\n",
    "    \"\"\")"
   ]
  },
  {
   "cell_type": "code",
   "execution_count": 137,
   "id": "563f1a38",
   "metadata": {},
   "outputs": [],
   "source": [
    "cursor.execute(\"INSERT INTO departments (dept_name) VALUES (%s)\", (\"Python Instructor\",))"
   ]
  },
  {
   "cell_type": "code",
   "execution_count": 138,
   "id": "cad6d57f",
   "metadata": {},
   "outputs": [],
   "source": [
    " cursor.execute(\"INSERT INTO employees (name, salary, hire_date, dept_id) VALUES (%s, %s, %s, %s)\",\n",
    "                   (\"Govind\", 90000.00, \"2023-09-16\", 1))"
   ]
  },
  {
   "cell_type": "code",
   "execution_count": 139,
   "id": "27c6063d",
   "metadata": {},
   "outputs": [
    {
     "name": "stdout",
     "output_type": "stream",
     "text": [
      "[('Govind', Decimal('90000.00'))]\n"
     ]
    }
   ],
   "source": [
    "department_name = 'Python Instructor'\n",
    "\n",
    "# Retrieve employees in a specific department\n",
    "cursor.execute(\"\"\"\n",
    "    SELECT e.name, e.salary\n",
    "    FROM employees e\n",
    "    JOIN departments d ON e.dept_id = d.dept_id\n",
    "    WHERE d.dept_name = %s\n",
    "\"\"\", (department_name,))\n",
    "\n",
    "employees = cursor.fetchall()\n",
    "print(employees)"
   ]
  },
  {
   "cell_type": "markdown",
   "id": "359528e8",
   "metadata": {},
   "source": [
    "#### 3. Update employee Salary"
   ]
  },
  {
   "cell_type": "code",
   "execution_count": 141,
   "id": "784746e5",
   "metadata": {},
   "outputs": [
    {
     "name": "stdout",
     "output_type": "stream",
     "text": [
      "[(1, 'Govind', Decimal('150000.00'), datetime.date(2023, 9, 16), 1)]\n"
     ]
    }
   ],
   "source": [
    "employee_name = 'Govind'\n",
    "new_salary = 150000\n",
    "\n",
    "# Update the employee's salary\n",
    "cursor.execute(\"UPDATE employees SET salary = %s WHERE name = %s\", (new_salary, employee_name))\n",
    "\n",
    "cursor.execute(\"select* from employees\")\n",
    "\n",
    "employees = cursor.fetchall()\n",
    "print(employees)"
   ]
  }
 ],
 "metadata": {
  "kernelspec": {
   "display_name": "Python 3 (ipykernel)",
   "language": "python",
   "name": "python3"
  },
  "language_info": {
   "codemirror_mode": {
    "name": "ipython",
    "version": 3
   },
   "file_extension": ".py",
   "mimetype": "text/x-python",
   "name": "python",
   "nbconvert_exporter": "python",
   "pygments_lexer": "ipython3",
   "version": "3.11.4"
  }
 },
 "nbformat": 4,
 "nbformat_minor": 5
}
