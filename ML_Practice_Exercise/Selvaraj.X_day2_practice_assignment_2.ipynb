{
 "cells": [
  {
   "cell_type": "markdown",
   "id": "233e7b73",
   "metadata": {},
   "source": [
    "# Predicting Housing Prices with regularized regression"
   ]
  },
  {
   "cell_type": "code",
   "execution_count": 76,
   "id": "459676c0",
   "metadata": {},
   "outputs": [],
   "source": [
    "import numpy as np\n",
    "import pandas as pd\n",
    "import matplotlib.pyplot as plt\n",
    "import seaborn as sns "
   ]
  },
  {
   "cell_type": "code",
   "execution_count": 77,
   "id": "6215bf38",
   "metadata": {},
   "outputs": [],
   "source": [
    "from sklearn.datasets import load_boston\n",
    "from sklearn.model_selection import train_test_split \n",
    "from sklearn.linear_model import LinearRegression \n",
    "from sklearn.linear_model import Ridge \n",
    "from sklearn.linear_model import Lasso\n",
    "import statsmodels.api as sm"
   ]
  },
  {
   "cell_type": "code",
   "execution_count": 40,
   "id": "2cf94b70",
   "metadata": {},
   "outputs": [
    {
     "data": {
      "text/html": [
       "<div>\n",
       "<style scoped>\n",
       "    .dataframe tbody tr th:only-of-type {\n",
       "        vertical-align: middle;\n",
       "    }\n",
       "\n",
       "    .dataframe tbody tr th {\n",
       "        vertical-align: top;\n",
       "    }\n",
       "\n",
       "    .dataframe thead th {\n",
       "        text-align: right;\n",
       "    }\n",
       "</style>\n",
       "<table border=\"1\" class=\"dataframe\">\n",
       "  <thead>\n",
       "    <tr style=\"text-align: right;\">\n",
       "      <th></th>\n",
       "      <th>Avg. Area Income</th>\n",
       "      <th>House Age</th>\n",
       "      <th>Number of Rooms</th>\n",
       "      <th>Number of Bedrooms</th>\n",
       "      <th>Area Population</th>\n",
       "      <th>Price</th>\n",
       "      <th>Address</th>\n",
       "    </tr>\n",
       "  </thead>\n",
       "  <tbody>\n",
       "    <tr>\n",
       "      <th>0</th>\n",
       "      <td>79545.45857</td>\n",
       "      <td>5.682861</td>\n",
       "      <td>7.009188</td>\n",
       "      <td>4.09</td>\n",
       "      <td>23086.80050</td>\n",
       "      <td>1.059034e+06</td>\n",
       "      <td>208 Michael Ferry Apt. 674\\nLaurabury, NE 3701...</td>\n",
       "    </tr>\n",
       "    <tr>\n",
       "      <th>1</th>\n",
       "      <td>79248.64245</td>\n",
       "      <td>6.002900</td>\n",
       "      <td>6.730821</td>\n",
       "      <td>3.09</td>\n",
       "      <td>40173.07217</td>\n",
       "      <td>1.505891e+06</td>\n",
       "      <td>188 Johnson Views Suite 079\\nLake Kathleen, CA...</td>\n",
       "    </tr>\n",
       "    <tr>\n",
       "      <th>2</th>\n",
       "      <td>61287.06718</td>\n",
       "      <td>5.865890</td>\n",
       "      <td>8.512727</td>\n",
       "      <td>5.13</td>\n",
       "      <td>36882.15940</td>\n",
       "      <td>1.058988e+06</td>\n",
       "      <td>9127 Elizabeth Stravenue\\nDanieltown, WI 06482...</td>\n",
       "    </tr>\n",
       "    <tr>\n",
       "      <th>3</th>\n",
       "      <td>63345.24005</td>\n",
       "      <td>7.188236</td>\n",
       "      <td>5.586729</td>\n",
       "      <td>3.26</td>\n",
       "      <td>34310.24283</td>\n",
       "      <td>1.260617e+06</td>\n",
       "      <td>USS Barnett\\nFPO AP 44820</td>\n",
       "    </tr>\n",
       "    <tr>\n",
       "      <th>4</th>\n",
       "      <td>59982.19723</td>\n",
       "      <td>5.040555</td>\n",
       "      <td>7.839388</td>\n",
       "      <td>4.23</td>\n",
       "      <td>26354.10947</td>\n",
       "      <td>6.309435e+05</td>\n",
       "      <td>USNS Raymond\\nFPO AE 09386</td>\n",
       "    </tr>\n",
       "  </tbody>\n",
       "</table>\n",
       "</div>"
      ],
      "text/plain": [
       "   Avg. Area Income  House Age  Number of Rooms  Number of Bedrooms  \\\n",
       "0       79545.45857   5.682861         7.009188                4.09   \n",
       "1       79248.64245   6.002900         6.730821                3.09   \n",
       "2       61287.06718   5.865890         8.512727                5.13   \n",
       "3       63345.24005   7.188236         5.586729                3.26   \n",
       "4       59982.19723   5.040555         7.839388                4.23   \n",
       "\n",
       "   Area Population         Price  \\\n",
       "0      23086.80050  1.059034e+06   \n",
       "1      40173.07217  1.505891e+06   \n",
       "2      36882.15940  1.058988e+06   \n",
       "3      34310.24283  1.260617e+06   \n",
       "4      26354.10947  6.309435e+05   \n",
       "\n",
       "                                             Address  \n",
       "0  208 Michael Ferry Apt. 674\\nLaurabury, NE 3701...  \n",
       "1  188 Johnson Views Suite 079\\nLake Kathleen, CA...  \n",
       "2  9127 Elizabeth Stravenue\\nDanieltown, WI 06482...  \n",
       "3                          USS Barnett\\nFPO AP 44820  \n",
       "4                         USNS Raymond\\nFPO AE 09386  "
      ]
     },
     "execution_count": 40,
     "metadata": {},
     "output_type": "execute_result"
    }
   ],
   "source": [
    "# Data preparation\n",
    "data = pd.read_csv('data/House_price.csv')\n",
    "data.head()"
   ]
  },
  {
   "cell_type": "code",
   "execution_count": 41,
   "id": "e04a574a",
   "metadata": {},
   "outputs": [
    {
     "data": {
      "text/plain": [
       "Avg. Area Income      0\n",
       "House Age             0\n",
       "Number of Rooms       0\n",
       "Number of Bedrooms    0\n",
       "Area Population       0\n",
       "Price                 0\n",
       "Address               0\n",
       "dtype: int64"
      ]
     },
     "execution_count": 41,
     "metadata": {},
     "output_type": "execute_result"
    }
   ],
   "source": [
    "data.isna().sum()"
   ]
  },
  {
   "cell_type": "code",
   "execution_count": 43,
   "id": "b92d7665",
   "metadata": {},
   "outputs": [
    {
     "data": {
      "text/html": [
       "<div>\n",
       "<style scoped>\n",
       "    .dataframe tbody tr th:only-of-type {\n",
       "        vertical-align: middle;\n",
       "    }\n",
       "\n",
       "    .dataframe tbody tr th {\n",
       "        vertical-align: top;\n",
       "    }\n",
       "\n",
       "    .dataframe thead th {\n",
       "        text-align: right;\n",
       "    }\n",
       "</style>\n",
       "<table border=\"1\" class=\"dataframe\">\n",
       "  <thead>\n",
       "    <tr style=\"text-align: right;\">\n",
       "      <th></th>\n",
       "      <th>Avg. Area Income</th>\n",
       "      <th>House Age</th>\n",
       "      <th>Number of Rooms</th>\n",
       "      <th>Number of Bedrooms</th>\n",
       "      <th>Area Population</th>\n",
       "    </tr>\n",
       "  </thead>\n",
       "  <tbody>\n",
       "    <tr>\n",
       "      <th>0</th>\n",
       "      <td>79545.45857</td>\n",
       "      <td>5.682861</td>\n",
       "      <td>7.009188</td>\n",
       "      <td>4.09</td>\n",
       "      <td>23086.80050</td>\n",
       "    </tr>\n",
       "    <tr>\n",
       "      <th>1</th>\n",
       "      <td>79248.64245</td>\n",
       "      <td>6.002900</td>\n",
       "      <td>6.730821</td>\n",
       "      <td>3.09</td>\n",
       "      <td>40173.07217</td>\n",
       "    </tr>\n",
       "    <tr>\n",
       "      <th>2</th>\n",
       "      <td>61287.06718</td>\n",
       "      <td>5.865890</td>\n",
       "      <td>8.512727</td>\n",
       "      <td>5.13</td>\n",
       "      <td>36882.15940</td>\n",
       "    </tr>\n",
       "    <tr>\n",
       "      <th>3</th>\n",
       "      <td>63345.24005</td>\n",
       "      <td>7.188236</td>\n",
       "      <td>5.586729</td>\n",
       "      <td>3.26</td>\n",
       "      <td>34310.24283</td>\n",
       "    </tr>\n",
       "    <tr>\n",
       "      <th>4</th>\n",
       "      <td>59982.19723</td>\n",
       "      <td>5.040555</td>\n",
       "      <td>7.839388</td>\n",
       "      <td>4.23</td>\n",
       "      <td>26354.10947</td>\n",
       "    </tr>\n",
       "    <tr>\n",
       "      <th>...</th>\n",
       "      <td>...</td>\n",
       "      <td>...</td>\n",
       "      <td>...</td>\n",
       "      <td>...</td>\n",
       "      <td>...</td>\n",
       "    </tr>\n",
       "    <tr>\n",
       "      <th>4543</th>\n",
       "      <td>84556.63627</td>\n",
       "      <td>5.092459</td>\n",
       "      <td>6.723412</td>\n",
       "      <td>2.42</td>\n",
       "      <td>31797.31744</td>\n",
       "    </tr>\n",
       "    <tr>\n",
       "      <th>4544</th>\n",
       "      <td>82732.98111</td>\n",
       "      <td>5.332712</td>\n",
       "      <td>6.198476</td>\n",
       "      <td>3.49</td>\n",
       "      <td>41136.52722</td>\n",
       "    </tr>\n",
       "    <tr>\n",
       "      <th>4545</th>\n",
       "      <td>65694.05127</td>\n",
       "      <td>6.436741</td>\n",
       "      <td>6.704929</td>\n",
       "      <td>3.14</td>\n",
       "      <td>43406.71203</td>\n",
       "    </tr>\n",
       "    <tr>\n",
       "      <th>4546</th>\n",
       "      <td>76061.35071</td>\n",
       "      <td>7.148713</td>\n",
       "      <td>7.546066</td>\n",
       "      <td>6.30</td>\n",
       "      <td>40876.96459</td>\n",
       "    </tr>\n",
       "    <tr>\n",
       "      <th>4547</th>\n",
       "      <td>66935.47508</td>\n",
       "      <td>6.376390</td>\n",
       "      <td>8.513826</td>\n",
       "      <td>5.47</td>\n",
       "      <td>17573.61710</td>\n",
       "    </tr>\n",
       "  </tbody>\n",
       "</table>\n",
       "<p>4548 rows × 5 columns</p>\n",
       "</div>"
      ],
      "text/plain": [
       "      Avg. Area Income  House Age  Number of Rooms  Number of Bedrooms  \\\n",
       "0          79545.45857   5.682861         7.009188                4.09   \n",
       "1          79248.64245   6.002900         6.730821                3.09   \n",
       "2          61287.06718   5.865890         8.512727                5.13   \n",
       "3          63345.24005   7.188236         5.586729                3.26   \n",
       "4          59982.19723   5.040555         7.839388                4.23   \n",
       "...                ...        ...              ...                 ...   \n",
       "4543       84556.63627   5.092459         6.723412                2.42   \n",
       "4544       82732.98111   5.332712         6.198476                3.49   \n",
       "4545       65694.05127   6.436741         6.704929                3.14   \n",
       "4546       76061.35071   7.148713         7.546066                6.30   \n",
       "4547       66935.47508   6.376390         8.513826                5.47   \n",
       "\n",
       "      Area Population  \n",
       "0         23086.80050  \n",
       "1         40173.07217  \n",
       "2         36882.15940  \n",
       "3         34310.24283  \n",
       "4         26354.10947  \n",
       "...               ...  \n",
       "4543      31797.31744  \n",
       "4544      41136.52722  \n",
       "4545      43406.71203  \n",
       "4546      40876.96459  \n",
       "4547      17573.61710  \n",
       "\n",
       "[4548 rows x 5 columns]"
      ]
     },
     "execution_count": 43,
     "metadata": {},
     "output_type": "execute_result"
    }
   ],
   "source": [
    "x = data.iloc[:,0:5]\n",
    "x"
   ]
  },
  {
   "cell_type": "code",
   "execution_count": 45,
   "id": "504acbee",
   "metadata": {},
   "outputs": [
    {
     "data": {
      "text/html": [
       "<div>\n",
       "<style scoped>\n",
       "    .dataframe tbody tr th:only-of-type {\n",
       "        vertical-align: middle;\n",
       "    }\n",
       "\n",
       "    .dataframe tbody tr th {\n",
       "        vertical-align: top;\n",
       "    }\n",
       "\n",
       "    .dataframe thead th {\n",
       "        text-align: right;\n",
       "    }\n",
       "</style>\n",
       "<table border=\"1\" class=\"dataframe\">\n",
       "  <thead>\n",
       "    <tr style=\"text-align: right;\">\n",
       "      <th></th>\n",
       "      <th>Price</th>\n",
       "    </tr>\n",
       "  </thead>\n",
       "  <tbody>\n",
       "    <tr>\n",
       "      <th>0</th>\n",
       "      <td>1.059034e+06</td>\n",
       "    </tr>\n",
       "    <tr>\n",
       "      <th>1</th>\n",
       "      <td>1.505891e+06</td>\n",
       "    </tr>\n",
       "    <tr>\n",
       "      <th>2</th>\n",
       "      <td>1.058988e+06</td>\n",
       "    </tr>\n",
       "    <tr>\n",
       "      <th>3</th>\n",
       "      <td>1.260617e+06</td>\n",
       "    </tr>\n",
       "    <tr>\n",
       "      <th>4</th>\n",
       "      <td>6.309435e+05</td>\n",
       "    </tr>\n",
       "    <tr>\n",
       "      <th>...</th>\n",
       "      <td>...</td>\n",
       "    </tr>\n",
       "    <tr>\n",
       "      <th>4543</th>\n",
       "      <td>1.326847e+06</td>\n",
       "    </tr>\n",
       "    <tr>\n",
       "      <th>4544</th>\n",
       "      <td>1.252664e+06</td>\n",
       "    </tr>\n",
       "    <tr>\n",
       "      <th>4545</th>\n",
       "      <td>1.359763e+06</td>\n",
       "    </tr>\n",
       "    <tr>\n",
       "      <th>4546</th>\n",
       "      <td>1.778013e+06</td>\n",
       "    </tr>\n",
       "    <tr>\n",
       "      <th>4547</th>\n",
       "      <td>1.109059e+06</td>\n",
       "    </tr>\n",
       "  </tbody>\n",
       "</table>\n",
       "<p>4548 rows × 1 columns</p>\n",
       "</div>"
      ],
      "text/plain": [
       "             Price\n",
       "0     1.059034e+06\n",
       "1     1.505891e+06\n",
       "2     1.058988e+06\n",
       "3     1.260617e+06\n",
       "4     6.309435e+05\n",
       "...            ...\n",
       "4543  1.326847e+06\n",
       "4544  1.252664e+06\n",
       "4545  1.359763e+06\n",
       "4546  1.778013e+06\n",
       "4547  1.109059e+06\n",
       "\n",
       "[4548 rows x 1 columns]"
      ]
     },
     "execution_count": 45,
     "metadata": {},
     "output_type": "execute_result"
    }
   ],
   "source": [
    "\n",
    "y=data.iloc[:,-2:-1]\n",
    "y"
   ]
  },
  {
   "cell_type": "code",
   "execution_count": 46,
   "id": "572c27c9",
   "metadata": {},
   "outputs": [],
   "source": [
    "#spliting the dataset into train & test sets\n",
    "\n",
    "from sklearn.model_selection import train_test_split\n",
    "xtrain,xtest,ytrain,ytest = train_test_split(x,y,test_size=0.2,random_state=2)\n"
   ]
  },
  {
   "cell_type": "code",
   "execution_count": 47,
   "id": "bea82fd7",
   "metadata": {},
   "outputs": [
    {
     "data": {
      "text/plain": [
       "(910, 1)"
      ]
     },
     "execution_count": 47,
     "metadata": {},
     "output_type": "execute_result"
    }
   ],
   "source": [
    "ytest.shape"
   ]
  },
  {
   "cell_type": "code",
   "execution_count": 48,
   "id": "9af985ea",
   "metadata": {},
   "outputs": [
    {
     "name": "stdout",
     "output_type": "stream",
     "text": [
      "<--------- Base Regression --------------> \n",
      "\n",
      "base Train score \t 0.9197738489341133\n",
      "\n",
      "base Test score \t 0.9142829141607485\n",
      "\n",
      "R-Square \t 0.9142829141607485\n",
      "\n",
      "MAE \t 81900.35937202121\n",
      "MSE \t 10228988039.408834\n",
      "RMSE \t 101138.4597440995\n"
     ]
    }
   ],
   "source": [
    "print('<--------- Base Regression --------------> \\n')\n",
    "from sklearn.linear_model import LinearRegression\n",
    "base_reg = LinearRegression()\n",
    "base_reg.fit(xtrain,ytrain)\n",
    "base_pred = base_reg.predict(xtest)\n",
    "\n",
    "#PERFORMANCE METRIC\n",
    "\n",
    "from sklearn.metrics import r2_score\n",
    "print(\"base Train score \\t\",base_reg.score(xtrain,ytrain))\n",
    "print()\n",
    "print(\"base Test score \\t\",base_reg.score(xtest,ytest))\n",
    "print()\n",
    "print(\"R-Square \\t\",r2_score(ytest,base_pred))\n",
    "print()\n",
    "print('MAE \\t',mean_absolute_error(ytest,base_pred))\n",
    "print('MSE \\t',mean_squared_error(ytest,base_pred))\n",
    "print('RMSE \\t',np.sqrt(mean_squared_error(ytest,base_pred)))"
   ]
  },
  {
   "cell_type": "code",
   "execution_count": 57,
   "id": "c2ae01d7",
   "metadata": {},
   "outputs": [
    {
     "name": "stdout",
     "output_type": "stream",
     "text": [
      "<------------ Lasso Regression model ----------->\n",
      "\n",
      "Lasso Train score \t 0.9197738489339476\n",
      "\n",
      "Lasso Test score \t 0.9142829139914695\n",
      "\n",
      "R-Square \t 0.9142829139914695\n"
     ]
    }
   ],
   "source": [
    "# Implement the Lasso regression Model\n",
    "print('<------------ Lasso Regression model ----------->\\n')\n",
    "lasso_reg = Lasso(alpha = 0.1)\n",
    "lasso_reg.fit(xtrain,ytrain)\n",
    "lasso_pred = lasso_reg.predict(xtest)\n",
    "\n",
    "print(\"Lasso Train score \\t\",lasso_reg.score(xtrain,ytrain))\n",
    "print()\n",
    "print(\"Lasso Test score \\t\",lasso_reg.score(xtest,ytest))\n",
    "print()\n",
    "print(\"R-Square \\t\",r2_score(ytest,lasso_pred))"
   ]
  },
  {
   "cell_type": "code",
   "execution_count": 58,
   "id": "d6b2e792",
   "metadata": {},
   "outputs": [
    {
     "name": "stdout",
     "output_type": "stream",
     "text": [
      "MAE \t 81900.35745321751\n",
      "MSE \t 10228988059.609615\n",
      "RMSE \t 101138.45984396646\n"
     ]
    }
   ],
   "source": [
    "# Evaluate the Lasso regression Model\n",
    "from sklearn.metrics import mean_squared_error,explained_variance_score,mean_absolute_error\n",
    "print('MAE \\t',mean_absolute_error(ytest,lasso_pred))\n",
    "print('MSE \\t',mean_squared_error(ytest,lasso_pred))\n",
    "print('RMSE \\t',np.sqrt(mean_squared_error(ytest,lasso_pred)))"
   ]
  },
  {
   "cell_type": "code",
   "execution_count": 59,
   "id": "8c014f47",
   "metadata": {},
   "outputs": [
    {
     "name": "stdout",
     "output_type": "stream",
     "text": [
      "<------------ Ridge Regression model ----------->\n",
      "\n",
      "Lasso Train score:\t 0.9197738489314025\n",
      "\n",
      "Lasso Test score:\t 0.9142828866250594\n",
      "\n",
      "R-Square:\t 0.9142828866250594\n"
     ]
    }
   ],
   "source": [
    "# Implement the Ridge regression Model\n",
    "print('<------------ Ridge Regression model ----------->\\n')\n",
    "ridge_reg = Ridge(alpha = 0.01)\n",
    "ridge_reg.fit(xtrain,ytrain)\n",
    "ridge_pred = ridge_reg.predict(xtest)\n",
    "\n",
    "print(\"Lasso Train score:\\t\",ridge_reg.score(xtrain,ytrain))\n",
    "print()\n",
    "print(\"Lasso Test score:\\t\",ridge_reg.score(xtest,ytest))\n",
    "print()\n",
    "print(\"R-Square:\\t\",r2_score(ytest,ridge_pred))"
   ]
  },
  {
   "cell_type": "code",
   "execution_count": 60,
   "id": "40f85af1",
   "metadata": {},
   "outputs": [
    {
     "name": "stdout",
     "output_type": "stream",
     "text": [
      "MAE \t 81900.3814680321\n",
      "MSE \t 10228991325.360895\n",
      "RMSE \t 101138.47598891777\n"
     ]
    }
   ],
   "source": [
    "# Evaluate the Ridge regression Model\n",
    "print('MAE \\t',mean_absolute_error(ytest,ridge_pred))\n",
    "print('MSE \\t',mean_squared_error(ytest,ridge_pred))\n",
    "print('RMSE \\t',np.sqrt(mean_squared_error(ytest,ridge_pred)))"
   ]
  },
  {
   "cell_type": "code",
   "execution_count": 61,
   "id": "48d14858",
   "metadata": {},
   "outputs": [
    {
     "name": "stdout",
     "output_type": "stream",
     "text": [
      "MAE \t 0.3733457761376605\n",
      "MSE \t 0.22182923697202034\n",
      "RMSE \t 0.4709875125436133\n"
     ]
    }
   ],
   "source": [
    "# Model Comparision of Lasso and Ridge regression using performance metric..\n",
    "print('MAE \\t',mean_absolute_error(lasso_pred,ridge_pred))\n",
    "print('MSE \\t',mean_squared_error(lasso_pred,ridge_pred))\n",
    "print('RMSE \\t',np.sqrt(mean_squared_error(lasso_pred,ridge_pred)))"
   ]
  },
  {
   "cell_type": "code",
   "execution_count": 71,
   "id": "a68c4887",
   "metadata": {},
   "outputs": [
    {
     "name": "stdout",
     "output_type": "stream",
     "text": [
      "<------------ Lasso Regression model ----------->\n",
      "\n",
      "R-Square \t 0.9142829141605685\n"
     ]
    }
   ],
   "source": [
    "# Hyperparameter Tuning of Lasso Regression model\n",
    "\n",
    "print('<------------ Lasso Regression model ----------->\\n')\n",
    "lasso_reg = Lasso(alpha = 0.0001)  #tuning alpha value\n",
    "lasso_reg.fit(xtrain,ytrain)\n",
    "lasso_pred = lasso_reg.predict(xtest)\n",
    "\n",
    "print(\"R-Square \\t\",r2_score(ytest,lasso_pred))"
   ]
  },
  {
   "cell_type": "code",
   "execution_count": 72,
   "id": "da8ae4e5",
   "metadata": {},
   "outputs": [
    {
     "name": "stdout",
     "output_type": "stream",
     "text": [
      "<------------ Ridge Regression model ----------->\n",
      "\n",
      "R-Square:\t 0.9142829138854277\n"
     ]
    }
   ],
   "source": [
    "# Hyperparameter Tuning of Ridge Regression model\n",
    "\n",
    "print('<------------ Ridge Regression model ----------->\\n')\n",
    "ridge_reg = Ridge(alpha = 0.0001) #tuning alpha value\n",
    "ridge_reg.fit(xtrain,ytrain)\n",
    "ridge_pred = ridge_reg.predict(xtest)\n",
    "\n",
    "print(\"R-Square:\\t\",r2_score(ytest,ridge_pred))"
   ]
  },
  {
   "cell_type": "code",
   "execution_count": 73,
   "id": "51a0032f",
   "metadata": {},
   "outputs": [
    {
     "name": "stdout",
     "output_type": "stream",
     "text": [
      "MAE \t 0.004477770066727976\n",
      "MSE \t 3.2139714303251204e-05\n",
      "RMSE \t 0.005669189915962527\n"
     ]
    }
   ],
   "source": [
    "# Model Comparision after Hyperparameter Tuning\n",
    "print('MAE \\t',mean_absolute_error(lasso_pred,ridge_pred))\n",
    "print('MSE \\t',mean_squared_error(lasso_pred,ridge_pred))\n",
    "print('RMSE \\t',np.sqrt(mean_squared_error(lasso_pred,ridge_pred)))"
   ]
  },
  {
   "cell_type": "markdown",
   "id": "0bada494",
   "metadata": {},
   "source": [
    "# "
   ]
  },
  {
   "cell_type": "markdown",
   "id": "e9b73f6e",
   "metadata": {},
   "source": [
    "\n",
    "# "
   ]
  },
  {
   "cell_type": "markdown",
   "id": "d5c89933",
   "metadata": {},
   "source": [
    "## Diagnosing and Remedying Heteroscedasticity and Multicollinearity"
   ]
  },
  {
   "cell_type": "code",
   "execution_count": 78,
   "id": "24677d87",
   "metadata": {},
   "outputs": [
    {
     "data": {
      "text/html": [
       "<div>\n",
       "<style scoped>\n",
       "    .dataframe tbody tr th:only-of-type {\n",
       "        vertical-align: middle;\n",
       "    }\n",
       "\n",
       "    .dataframe tbody tr th {\n",
       "        vertical-align: top;\n",
       "    }\n",
       "\n",
       "    .dataframe thead th {\n",
       "        text-align: right;\n",
       "    }\n",
       "</style>\n",
       "<table border=\"1\" class=\"dataframe\">\n",
       "  <thead>\n",
       "    <tr style=\"text-align: right;\">\n",
       "      <th></th>\n",
       "      <th>Name</th>\n",
       "      <th>Age</th>\n",
       "      <th>Gender</th>\n",
       "      <th>Projects Completed</th>\n",
       "      <th>Productivity (%)</th>\n",
       "      <th>Satisfaction Rate (%)</th>\n",
       "      <th>Feedback Score</th>\n",
       "      <th>Department</th>\n",
       "      <th>Position</th>\n",
       "      <th>Joining Date</th>\n",
       "      <th>Salary</th>\n",
       "    </tr>\n",
       "  </thead>\n",
       "  <tbody>\n",
       "    <tr>\n",
       "      <th>0</th>\n",
       "      <td>Douglas Lindsey</td>\n",
       "      <td>25</td>\n",
       "      <td>Male</td>\n",
       "      <td>11</td>\n",
       "      <td>57</td>\n",
       "      <td>25</td>\n",
       "      <td>4.7</td>\n",
       "      <td>Marketing</td>\n",
       "      <td>Analyst</td>\n",
       "      <td>Jan-20</td>\n",
       "      <td>63596</td>\n",
       "    </tr>\n",
       "    <tr>\n",
       "      <th>1</th>\n",
       "      <td>Anthony Roberson</td>\n",
       "      <td>59</td>\n",
       "      <td>Female</td>\n",
       "      <td>19</td>\n",
       "      <td>55</td>\n",
       "      <td>76</td>\n",
       "      <td>2.8</td>\n",
       "      <td>IT</td>\n",
       "      <td>Manager</td>\n",
       "      <td>Jan-99</td>\n",
       "      <td>112540</td>\n",
       "    </tr>\n",
       "    <tr>\n",
       "      <th>2</th>\n",
       "      <td>Thomas Miller</td>\n",
       "      <td>30</td>\n",
       "      <td>Male</td>\n",
       "      <td>8</td>\n",
       "      <td>87</td>\n",
       "      <td>10</td>\n",
       "      <td>2.4</td>\n",
       "      <td>IT</td>\n",
       "      <td>Analyst</td>\n",
       "      <td>Jan-17</td>\n",
       "      <td>66292</td>\n",
       "    </tr>\n",
       "    <tr>\n",
       "      <th>3</th>\n",
       "      <td>Joshua Lewis</td>\n",
       "      <td>26</td>\n",
       "      <td>Female</td>\n",
       "      <td>1</td>\n",
       "      <td>53</td>\n",
       "      <td>4</td>\n",
       "      <td>1.4</td>\n",
       "      <td>Marketing</td>\n",
       "      <td>Intern</td>\n",
       "      <td>Jan-22</td>\n",
       "      <td>38303</td>\n",
       "    </tr>\n",
       "    <tr>\n",
       "      <th>4</th>\n",
       "      <td>Stephanie Bailey</td>\n",
       "      <td>43</td>\n",
       "      <td>Male</td>\n",
       "      <td>14</td>\n",
       "      <td>3</td>\n",
       "      <td>9</td>\n",
       "      <td>4.5</td>\n",
       "      <td>IT</td>\n",
       "      <td>Team Lead</td>\n",
       "      <td>Jan-05</td>\n",
       "      <td>101133</td>\n",
       "    </tr>\n",
       "  </tbody>\n",
       "</table>\n",
       "</div>"
      ],
      "text/plain": [
       "               Name  Age  Gender  Projects Completed  Productivity (%)  \\\n",
       "0   Douglas Lindsey   25    Male                  11                57   \n",
       "1  Anthony Roberson   59  Female                  19                55   \n",
       "2     Thomas Miller   30    Male                   8                87   \n",
       "3      Joshua Lewis   26  Female                   1                53   \n",
       "4  Stephanie Bailey   43    Male                  14                 3   \n",
       "\n",
       "   Satisfaction Rate (%)  Feedback Score Department   Position Joining Date  \\\n",
       "0                     25             4.7  Marketing    Analyst       Jan-20   \n",
       "1                     76             2.8         IT    Manager       Jan-99   \n",
       "2                     10             2.4         IT    Analyst       Jan-17   \n",
       "3                      4             1.4  Marketing     Intern       Jan-22   \n",
       "4                      9             4.5         IT  Team Lead       Jan-05   \n",
       "\n",
       "   Salary  \n",
       "0   63596  \n",
       "1  112540  \n",
       "2   66292  \n",
       "3   38303  \n",
       "4  101133  "
      ]
     },
     "execution_count": 78,
     "metadata": {},
     "output_type": "execute_result"
    }
   ],
   "source": [
    "data = pd.read_csv('data/employee_performance.csv')\n",
    "data.head()"
   ]
  },
  {
   "cell_type": "code",
   "execution_count": 79,
   "id": "732a732b",
   "metadata": {},
   "outputs": [
    {
     "data": {
      "text/plain": [
       "Name                     0\n",
       "Age                      0\n",
       "Gender                   0\n",
       "Projects Completed       0\n",
       "Productivity (%)         0\n",
       "Satisfaction Rate (%)    0\n",
       "Feedback Score           0\n",
       "Department               0\n",
       "Position                 0\n",
       "Joining Date             0\n",
       "Salary                   0\n",
       "dtype: int64"
      ]
     },
     "execution_count": 79,
     "metadata": {},
     "output_type": "execute_result"
    }
   ],
   "source": [
    "data.isna().sum()"
   ]
  },
  {
   "cell_type": "code",
   "execution_count": 80,
   "id": "c5a6004f",
   "metadata": {},
   "outputs": [],
   "source": [
    "x=data[['Age','Projects Completed','Productivity (%)','Satisfaction Rate (%)','Feedback Score']]\n",
    "y=data['Salary']"
   ]
  },
  {
   "cell_type": "code",
   "execution_count": 81,
   "id": "b709a712",
   "metadata": {},
   "outputs": [],
   "source": [
    "from sklearn.model_selection import train_test_split\n",
    "xtrain,xtest,ytrain,ytest = train_test_split(x,y,test_size=0.2,random_state=2)"
   ]
  },
  {
   "cell_type": "code",
   "execution_count": 82,
   "id": "2476e092",
   "metadata": {},
   "outputs": [
    {
     "name": "stdout",
     "output_type": "stream",
     "text": [
      "<--------- Base Regression --------------> \n",
      "\n",
      "base Train score \t 0.8388872878091449\n",
      "\n",
      "base Test score \t 0.8063796938180696\n",
      "\n",
      "R-Square \t 0.8063796938180696\n",
      "\n",
      "MAE \t 8953.8979704157\n",
      "MSE \t 118976861.28845832\n",
      "RMSE \t 10907.651501971372\n"
     ]
    }
   ],
   "source": [
    "print('<--------- Base Regression --------------> \\n')\n",
    "from sklearn.linear_model import LinearRegression\n",
    "base_reg = LinearRegression()\n",
    "base_reg.fit(xtrain,ytrain)\n",
    "base_pred = base_reg.predict(xtest)\n",
    "\n",
    "#PERFORMANCE METRIC\n",
    "\n",
    "from sklearn.metrics import r2_score,mean_absolute_error\n",
    "from sklearn.metrics import mean_squared_error,explained_variance_score\n",
    "print(\"base Train score \\t\",base_reg.score(xtrain,ytrain))\n",
    "print()\n",
    "print(\"base Test score \\t\",base_reg.score(xtest,ytest))\n",
    "print()\n",
    "print(\"R-Square \\t\",r2_score(ytest,base_pred))\n",
    "print()\n",
    "print('MAE \\t',mean_absolute_error(ytest,base_pred))\n",
    "print('MSE \\t',mean_squared_error(ytest,base_pred))\n",
    "print('RMSE \\t',np.sqrt(mean_squared_error(ytest,base_pred)))"
   ]
  },
  {
   "cell_type": "raw",
   "id": "891d145c",
   "metadata": {},
   "source": [
    "...........Heteroscedasticity...........\n",
    ">>> Heteroscedasticity in linear regression refers to the situation where the variance of the \n",
    "errors (residuals) is not constant across different levels of the predictor variables.\n",
    ">>> To diagnose heteroscedasticity, you can create a scatterplot of the residuals against \n",
    "the predicted values and look for patterns of increasing or decreasing spread."
   ]
  },
  {
   "cell_type": "code",
   "execution_count": 93,
   "id": "3c782642",
   "metadata": {
    "scrolled": true
   },
   "outputs": [
    {
     "data": {
      "text/plain": [
       "112     4815.670020\n",
       "29     -7254.715432\n",
       "182    -1076.012136\n",
       "199    23784.345322\n",
       "193    17329.174568\n",
       "85    -19825.428583\n",
       "10      3542.494118\n",
       "54      6545.275554\n",
       "115    15632.112257\n",
       "35      2511.544111\n",
       "12     -7307.635344\n",
       "92     -4431.468466\n",
       "13    -10934.882071\n",
       "126    -2342.292649\n",
       "174     1108.094731\n",
       "2       2434.729392\n",
       "44     15049.651516\n",
       "3      -5818.173215\n",
       "113    -5521.547519\n",
       "14      1944.423565\n",
       "23     10525.838267\n",
       "25    -18371.443421\n",
       "6      -6060.450861\n",
       "134   -11748.415505\n",
       "165    21112.664864\n",
       "173    13470.830230\n",
       "45     -4881.573246\n",
       "65    -13456.203821\n",
       "48      7831.095311\n",
       "122   -11210.523237\n",
       "178     -889.423170\n",
       "64     17605.027297\n",
       "9      -5517.825888\n",
       "57      5165.178030\n",
       "78    -10017.631498\n",
       "71      6025.439223\n",
       "128   -14638.734882\n",
       "176     -120.557796\n",
       "131    -5141.263743\n",
       "53    -15156.127960\n",
       "Name: Salary, dtype: float64"
      ]
     },
     "execution_count": 93,
     "metadata": {},
     "output_type": "execute_result"
    }
   ],
   "source": [
    "import statsmodels.api as sm\n",
    "from statsmodels.stats.outliers_influence import variance_inflation_factor\n",
    "\n",
    "residuals = ytest-base_pred\n",
    "residuals"
   ]
  },
  {
   "cell_type": "code",
   "execution_count": 84,
   "id": "d47c087d",
   "metadata": {
    "scrolled": true
   },
   "outputs": [
    {
     "data": {
      "image/png": "[encoded data removed]",
      "text/plain": [
       "<Figure size 640x480 with 1 Axes>"
      ]
     },
     "metadata": {},
     "output_type": "display_data"
    }
   ],
   "source": [
    "plt.scatter(base_pred,residuals,c='red')\n",
    "plt.xlabel('Predicted Values')\n",
    "plt.ylabel('Residuals')\n",
    "plt.title('Residuals vs Predicted Values')\n",
    "plt.show()"
   ]
  },
  {
   "cell_type": "code",
   "execution_count": 85,
   "id": "41edf2bd",
   "metadata": {},
   "outputs": [
    {
     "data": {
      "text/plain": [
       "8.196075027839576e-09"
      ]
     },
     "execution_count": 85,
     "metadata": {},
     "output_type": "execute_result"
    }
   ],
   "source": [
    "# Remedying Heteroscedasticity using weighted least squares regression\n",
    "# this formula give more importance to observations with smaller variances\n",
    "weights = 1 / (residuals.var())\n",
    "weights"
   ]
  },
  {
   "cell_type": "code",
   "execution_count": 100,
   "id": "cc1ee674",
   "metadata": {},
   "outputs": [],
   "source": [
    "wls_model = sm.WLS(y, sm.add_constant(x), weights=weights).fit()"
   ]
  },
  {
   "cell_type": "code",
   "execution_count": 89,
   "id": "6141aaae",
   "metadata": {},
   "outputs": [
    {
     "data": {
      "text/html": [
       "<table class=\"simpletable\">\n",
       "<caption>WLS Regression Results</caption>\n",
       "<tr>\n",
       "  <th>Dep. Variable:</th>         <td>Salary</td>      <th>  R-squared:         </th> <td>   0.835</td>\n",
       "</tr>\n",
       "<tr>\n",
       "  <th>Model:</th>                   <td>WLS</td>       <th>  Adj. R-squared:    </th> <td>   0.831</td>\n",
       "</tr>\n",
       "<tr>\n",
       "  <th>Method:</th>             <td>Least Squares</td>  <th>  F-statistic:       </th> <td>   196.3</td>\n",
       "</tr>\n",
       "<tr>\n",
       "  <th>Date:</th>             <td>Mon, 30 Oct 2023</td> <th>  Prob (F-statistic):</th> <td>7.22e-74</td>\n",
       "</tr>\n",
       "<tr>\n",
       "  <th>Time:</th>                 <td>10:36:20</td>     <th>  Log-Likelihood:    </th> <td> -2144.5</td>\n",
       "</tr>\n",
       "<tr>\n",
       "  <th>No. Observations:</th>      <td>   200</td>      <th>  AIC:               </th> <td>   4301.</td>\n",
       "</tr>\n",
       "<tr>\n",
       "  <th>Df Residuals:</th>          <td>   194</td>      <th>  BIC:               </th> <td>   4321.</td>\n",
       "</tr>\n",
       "<tr>\n",
       "  <th>Df Model:</th>              <td>     5</td>      <th>                     </th>     <td> </td>   \n",
       "</tr>\n",
       "<tr>\n",
       "  <th>Covariance Type:</th>      <td>nonrobust</td>    <th>                     </th>     <td> </td>   \n",
       "</tr>\n",
       "</table>\n",
       "<table class=\"simpletable\">\n",
       "<tr>\n",
       "            <td></td>               <th>coef</th>     <th>std err</th>      <th>t</th>      <th>P>|t|</th>  <th>[0.025</th>    <th>0.975]</th>  \n",
       "</tr>\n",
       "<tr>\n",
       "  <th>const</th>                 <td> 1.353e+04</td> <td> 4143.929</td> <td>    3.265</td> <td> 0.001</td> <td> 5357.404</td> <td> 2.17e+04</td>\n",
       "</tr>\n",
       "<tr>\n",
       "  <th>Age</th>                   <td> 1114.2473</td> <td>  124.485</td> <td>    8.951</td> <td> 0.000</td> <td>  868.730</td> <td> 1359.765</td>\n",
       "</tr>\n",
       "<tr>\n",
       "  <th>Projects Completed</th>    <td> 2412.3472</td> <td>  191.189</td> <td>   12.618</td> <td> 0.000</td> <td> 2035.272</td> <td> 2789.422</td>\n",
       "</tr>\n",
       "<tr>\n",
       "  <th>Productivity (%)</th>      <td>  -16.2215</td> <td>   27.805</td> <td>   -0.583</td> <td> 0.560</td> <td>  -71.061</td> <td>   38.618</td>\n",
       "</tr>\n",
       "<tr>\n",
       "  <th>Satisfaction Rate (%)</th> <td>  -23.7348</td> <td>   27.406</td> <td>   -0.866</td> <td> 0.388</td> <td>  -77.787</td> <td>   30.318</td>\n",
       "</tr>\n",
       "<tr>\n",
       "  <th>Feedback Score</th>        <td> -419.5511</td> <td>  708.048</td> <td>   -0.593</td> <td> 0.554</td> <td>-1816.012</td> <td>  976.910</td>\n",
       "</tr>\n",
       "</table>\n",
       "<table class=\"simpletable\">\n",
       "<tr>\n",
       "  <th>Omnibus:</th>       <td> 7.367</td> <th>  Durbin-Watson:     </th> <td>   2.089</td>\n",
       "</tr>\n",
       "<tr>\n",
       "  <th>Prob(Omnibus):</th> <td> 0.025</td> <th>  Jarque-Bera (JB):  </th> <td>   7.607</td>\n",
       "</tr>\n",
       "<tr>\n",
       "  <th>Skew:</th>          <td> 0.457</td> <th>  Prob(JB):          </th> <td>  0.0223</td>\n",
       "</tr>\n",
       "<tr>\n",
       "  <th>Kurtosis:</th>      <td> 2.719</td> <th>  Cond. No.          </th> <td>    434.</td>\n",
       "</tr>\n",
       "</table><br/><br/>Notes:<br/>[1] Standard Errors assume that the covariance matrix of the errors is correctly specified."
      ],
      "text/latex": [
       "\\begin{center}\n",
       "\\begin{tabular}{lclc}\n",
       "\\toprule\n",
       "\\textbf{Dep. Variable:}         &      Salary      & \\textbf{  R-squared:         } &     0.835   \\\\\n",
       "\\textbf{Model:}                 &       WLS        & \\textbf{  Adj. R-squared:    } &     0.831   \\\\\n",
       "\\textbf{Method:}                &  Least Squares   & \\textbf{  F-statistic:       } &     196.3   \\\\\n",
       "\\textbf{Date:}                  & Mon, 30 Oct 2023 & \\textbf{  Prob (F-statistic):} &  7.22e-74   \\\\\n",
       "\\textbf{Time:}                  &     10:36:20     & \\textbf{  Log-Likelihood:    } &   -2144.5   \\\\\n",
       "\\textbf{No. Observations:}      &         200      & \\textbf{  AIC:               } &     4301.   \\\\\n",
       "\\textbf{Df Residuals:}          &         194      & \\textbf{  BIC:               } &     4321.   \\\\\n",
       "\\textbf{Df Model:}              &           5      & \\textbf{                     } &             \\\\\n",
       "\\textbf{Covariance Type:}       &    nonrobust     & \\textbf{                     } &             \\\\\n",
       "\\bottomrule\n",
       "\\end{tabular}\n",
       "\\begin{tabular}{lcccccc}\n",
       "                                & \\textbf{coef} & \\textbf{std err} & \\textbf{t} & \\textbf{P$> |$t$|$} & \\textbf{[0.025} & \\textbf{0.975]}  \\\\\n",
       "\\midrule\n",
       "\\textbf{const}                  &    1.353e+04  &     4143.929     &     3.265  &         0.001        &     5357.404    &     2.17e+04     \\\\\n",
       "\\textbf{Age}                    &    1114.2473  &      124.485     &     8.951  &         0.000        &      868.730    &     1359.765     \\\\\n",
       "\\textbf{Projects Completed}     &    2412.3472  &      191.189     &    12.618  &         0.000        &     2035.272    &     2789.422     \\\\\n",
       "\\textbf{Productivity (\\%)}      &     -16.2215  &       27.805     &    -0.583  &         0.560        &      -71.061    &       38.618     \\\\\n",
       "\\textbf{Satisfaction Rate (\\%)} &     -23.7348  &       27.406     &    -0.866  &         0.388        &      -77.787    &       30.318     \\\\\n",
       "\\textbf{Feedback Score}         &    -419.5511  &      708.048     &    -0.593  &         0.554        &    -1816.012    &      976.910     \\\\\n",
       "\\bottomrule\n",
       "\\end{tabular}\n",
       "\\begin{tabular}{lclc}\n",
       "\\textbf{Omnibus:}       &  7.367 & \\textbf{  Durbin-Watson:     } &    2.089  \\\\\n",
       "\\textbf{Prob(Omnibus):} &  0.025 & \\textbf{  Jarque-Bera (JB):  } &    7.607  \\\\\n",
       "\\textbf{Skew:}          &  0.457 & \\textbf{  Prob(JB):          } &   0.0223  \\\\\n",
       "\\textbf{Kurtosis:}      &  2.719 & \\textbf{  Cond. No.          } &     434.  \\\\\n",
       "\\bottomrule\n",
       "\\end{tabular}\n",
       "%\\caption{WLS Regression Results}\n",
       "\\end{center}\n",
       "\n",
       "Notes: \\newline\n",
       " [1] Standard Errors assume that the covariance matrix of the errors is correctly specified."
      ],
      "text/plain": [
       "<class 'statsmodels.iolib.summary.Summary'>\n",
       "\"\"\"\n",
       "                            WLS Regression Results                            \n",
       "==============================================================================\n",
       "Dep. Variable:                 Salary   R-squared:                       0.835\n",
       "Model:                            WLS   Adj. R-squared:                  0.831\n",
       "Method:                 Least Squares   F-statistic:                     196.3\n",
       "Date:                Mon, 30 Oct 2023   Prob (F-statistic):           7.22e-74\n",
       "Time:                        10:36:20   Log-Likelihood:                -2144.5\n",
       "No. Observations:                 200   AIC:                             4301.\n",
       "Df Residuals:                     194   BIC:                             4321.\n",
       "Df Model:                           5                                         \n",
       "Covariance Type:            nonrobust                                         \n",
       "=========================================================================================\n",
       "                            coef    std err          t      P>|t|      [0.025      0.975]\n",
       "-----------------------------------------------------------------------------------------\n",
       "const                  1.353e+04   4143.929      3.265      0.001    5357.404    2.17e+04\n",
       "Age                    1114.2473    124.485      8.951      0.000     868.730    1359.765\n",
       "Projects Completed     2412.3472    191.189     12.618      0.000    2035.272    2789.422\n",
       "Productivity (%)        -16.2215     27.805     -0.583      0.560     -71.061      38.618\n",
       "Satisfaction Rate (%)   -23.7348     27.406     -0.866      0.388     -77.787      30.318\n",
       "Feedback Score         -419.5511    708.048     -0.593      0.554   -1816.012     976.910\n",
       "==============================================================================\n",
       "Omnibus:                        7.367   Durbin-Watson:                   2.089\n",
       "Prob(Omnibus):                  0.025   Jarque-Bera (JB):                7.607\n",
       "Skew:                           0.457   Prob(JB):                       0.0223\n",
       "Kurtosis:                       2.719   Cond. No.                         434.\n",
       "==============================================================================\n",
       "\n",
       "Notes:\n",
       "[1] Standard Errors assume that the covariance matrix of the errors is correctly specified.\n",
       "\"\"\""
      ]
     },
     "execution_count": 89,
     "metadata": {},
     "output_type": "execute_result"
    }
   ],
   "source": [
    "wls_model.summary()"
   ]
  },
  {
   "cell_type": "code",
   "execution_count": 97,
   "id": "f7ab4c7e",
   "metadata": {},
   "outputs": [
    {
     "name": "stdout",
     "output_type": "stream",
     "text": [
      "                            Age  Projects Completed  Productivity (%)  \\\n",
      "Age                    1.000000            0.758364          0.021193   \n",
      "Projects Completed     0.758364            1.000000          0.061707   \n",
      "Productivity (%)       0.021193            0.061707          1.000000   \n",
      "Satisfaction Rate (%)  0.035284           -0.010815          0.049897   \n",
      "Feedback Score         0.012014            0.083170         -0.005948   \n",
      "Salary                 0.834550            0.874329          0.025519   \n",
      "\n",
      "                       Satisfaction Rate (%)  Feedback Score    Salary  \n",
      "Age                                 0.035284        0.012014  0.834550  \n",
      "Projects Completed                 -0.010815        0.083170  0.874329  \n",
      "Productivity (%)                    0.049897       -0.005948  0.025519  \n",
      "Satisfaction Rate (%)               1.000000        0.008068 -0.018302  \n",
      "Feedback Score                      0.008068        1.000000  0.034818  \n",
      "Salary                             -0.018302        0.034818  1.000000  \n"
     ]
    },
    {
     "name": "stderr",
     "output_type": "stream",
     "text": [
      "C:\\Users\\2001s\\AppData\\Local\\Temp\\ipykernel_11936\\3055052630.py:3: FutureWarning: The default value of numeric_only in DataFrame.corr is deprecated. In a future version, it will default to False. Select only valid columns or specify the value of numeric_only to silence this warning.\n",
      "  correlation_matrix = data.corr()\n"
     ]
    }
   ],
   "source": [
    "# Detecting Multicollinearity Using Correlation Matrices\n",
    "\n",
    "correlation_matrix = data.corr()\n",
    "print(correlation_matrix)"
   ]
  },
  {
   "cell_type": "raw",
   "id": "1c04715f",
   "metadata": {},
   "source": [
    "# Mitigating Multicollinearity:\n",
    "\n",
    ">>Multicollinearity can lead to unstable coefficient estimates.\n",
    ">>Strategies include feature selection, regularization techniques \n",
    "e.g., Ridge or Lasso regression"
   ]
  },
  {
   "cell_type": "code",
   "execution_count": 105,
   "id": "3b54d1ea",
   "metadata": {},
   "outputs": [],
   "source": [
    "from sklearn.linear_model import Ridge\n",
    "\n",
    "ridge_model = Ridge(alpha=0.001)\n",
    "ridge_model.fit(x, y)\n",
    "y_pred = ridge_model.predict(xtest)"
   ]
  },
  {
   "cell_type": "code",
   "execution_count": 108,
   "id": "1fd9f235",
   "metadata": {},
   "outputs": [
    {
     "name": "stdout",
     "output_type": "stream",
     "text": [
      "R-Square \t 0.8135484043662291\n",
      "\n",
      "MAE \t 8837.720172202298\n",
      "MSE \t 114571792.9496857\n",
      "RMSE \t 10703.821418058398\n"
     ]
    }
   ],
   "source": [
    "# PERFORMANCE METRIC\n",
    "\n",
    "print(\"R-Square \\t\",r2_score(ytest,y_pred))\n",
    "print()\n",
    "print('MAE \\t',mean_absolute_error(ytest,y_pred))\n",
    "print('MSE \\t',mean_squared_error(ytest,y_pred))\n",
    "print('RMSE \\t',np.sqrt(mean_squared_error(ytest,y_pred)))"
   ]
  },
  {
   "cell_type": "code",
   "execution_count": 109,
   "id": "42eab83e",
   "metadata": {},
   "outputs": [
    {
     "name": "stdout",
     "output_type": "stream",
     "text": [
      "intercept/constant \t 13530.332455556803\n",
      "Coefficient/slope \t [1114.24748738 2412.34660831  -16.22152085  -23.73477038 -419.54919365]\n"
     ]
    }
   ],
   "source": [
    "print('intercept/constant \\t',ridge_model.intercept_)\n",
    "print('Coefficient/slope \\t',ridge_model.coef_)"
   ]
  },
  {
   "cell_type": "code",
   "execution_count": null,
   "id": "564aa45c",
   "metadata": {},
   "outputs": [],
   "source": []
  }
 ],
 "metadata": {
  "kernelspec": {
   "display_name": "Python 3 (ipykernel)",
   "language": "python",
   "name": "python3"
  },
  "language_info": {
   "codemirror_mode": {
    "name": "ipython",
    "version": 3
   },
   "file_extension": ".py",
   "mimetype": "text/x-python",
   "name": "python",
   "nbconvert_exporter": "python",
   "pygments_lexer": "ipython3",
   "version": "3.11.4"
  }
 },
 "nbformat": 4,
 "nbformat_minor": 5
}
