{
 "cells": [
  {
   "cell_type": "markdown",
   "id": "233e7b73",
   "metadata": {},
   "source": [
    "# Predicting Housing Prices with regularized regression"
   ]
  },
  {
   "cell_type": "markdown",
   "id": "bc836cdc",
   "metadata": {},
   "source": [
    "#### 1.Data preparation"
   ]
  },
  {
   "cell_type": "code",
   "execution_count": 1,
   "id": "459676c0",
   "metadata": {},
   "outputs": [],
   "source": [
    "import numpy as np\n",
    "import pandas as pd\n",
    "import matplotlib.pyplot as plt\n",
    "import seaborn as sns "
   ]
  },
  {
   "cell_type": "code",
   "execution_count": 2,
   "id": "6215bf38",
   "metadata": {},
   "outputs": [],
   "source": [
    "from sklearn.datasets import load_boston\n",
    "from sklearn.model_selection import train_test_split \n",
    "from sklearn.linear_model import LinearRegression \n",
    "from sklearn.linear_model import Ridge \n",
    "from sklearn.linear_model import Lasso"
   ]
  },
  {
   "cell_type": "code",
   "execution_count": 67,
   "id": "2cf94b70",
   "metadata": {},
   "outputs": [
    {
     "data": {
      "text/html": [
       "<div>\n",
       "<style scoped>\n",
       "    .dataframe tbody tr th:only-of-type {\n",
       "        vertical-align: middle;\n",
       "    }\n",
       "\n",
       "    .dataframe tbody tr th {\n",
       "        vertical-align: top;\n",
       "    }\n",
       "\n",
       "    .dataframe thead th {\n",
       "        text-align: right;\n",
       "    }\n",
       "</style>\n",
       "<table border=\"1\" class=\"dataframe\">\n",
       "  <thead>\n",
       "    <tr style=\"text-align: right;\">\n",
       "      <th></th>\n",
       "      <th>Area</th>\n",
       "      <th>BHK</th>\n",
       "      <th>Bathroom</th>\n",
       "      <th>Furnishing</th>\n",
       "      <th>Locality</th>\n",
       "      <th>Parking</th>\n",
       "      <th>Price</th>\n",
       "      <th>Status</th>\n",
       "      <th>Transaction</th>\n",
       "      <th>Type</th>\n",
       "      <th>Per_Sqft</th>\n",
       "    </tr>\n",
       "  </thead>\n",
       "  <tbody>\n",
       "    <tr>\n",
       "      <th>0</th>\n",
       "      <td>800.0</td>\n",
       "      <td>3</td>\n",
       "      <td>2.0</td>\n",
       "      <td>Semi-Furnished</td>\n",
       "      <td>Rohini Sector 25</td>\n",
       "      <td>1.0</td>\n",
       "      <td>6500000</td>\n",
       "      <td>Ready_to_move</td>\n",
       "      <td>New_Property</td>\n",
       "      <td>Builder_Floor</td>\n",
       "      <td>NaN</td>\n",
       "    </tr>\n",
       "    <tr>\n",
       "      <th>1</th>\n",
       "      <td>750.0</td>\n",
       "      <td>2</td>\n",
       "      <td>2.0</td>\n",
       "      <td>Semi-Furnished</td>\n",
       "      <td>J R Designers Floors, Rohini Sector 24</td>\n",
       "      <td>1.0</td>\n",
       "      <td>5000000</td>\n",
       "      <td>Ready_to_move</td>\n",
       "      <td>New_Property</td>\n",
       "      <td>Apartment</td>\n",
       "      <td>6667.0</td>\n",
       "    </tr>\n",
       "    <tr>\n",
       "      <th>2</th>\n",
       "      <td>950.0</td>\n",
       "      <td>2</td>\n",
       "      <td>2.0</td>\n",
       "      <td>Furnished</td>\n",
       "      <td>Citizen Apartment, Rohini Sector 13</td>\n",
       "      <td>1.0</td>\n",
       "      <td>15500000</td>\n",
       "      <td>Ready_to_move</td>\n",
       "      <td>Resale</td>\n",
       "      <td>Apartment</td>\n",
       "      <td>6667.0</td>\n",
       "    </tr>\n",
       "    <tr>\n",
       "      <th>3</th>\n",
       "      <td>600.0</td>\n",
       "      <td>2</td>\n",
       "      <td>2.0</td>\n",
       "      <td>Semi-Furnished</td>\n",
       "      <td>Rohini Sector 24</td>\n",
       "      <td>1.0</td>\n",
       "      <td>4200000</td>\n",
       "      <td>Ready_to_move</td>\n",
       "      <td>Resale</td>\n",
       "      <td>Builder_Floor</td>\n",
       "      <td>6667.0</td>\n",
       "    </tr>\n",
       "    <tr>\n",
       "      <th>4</th>\n",
       "      <td>650.0</td>\n",
       "      <td>2</td>\n",
       "      <td>2.0</td>\n",
       "      <td>Semi-Furnished</td>\n",
       "      <td>Rohini Sector 24 carpet area 650 sqft status R...</td>\n",
       "      <td>1.0</td>\n",
       "      <td>6200000</td>\n",
       "      <td>Ready_to_move</td>\n",
       "      <td>New_Property</td>\n",
       "      <td>Builder_Floor</td>\n",
       "      <td>6667.0</td>\n",
       "    </tr>\n",
       "  </tbody>\n",
       "</table>\n",
       "</div>"
      ],
      "text/plain": [
       "    Area  BHK  Bathroom      Furnishing  \\\n",
       "0  800.0    3       2.0  Semi-Furnished   \n",
       "1  750.0    2       2.0  Semi-Furnished   \n",
       "2  950.0    2       2.0       Furnished   \n",
       "3  600.0    2       2.0  Semi-Furnished   \n",
       "4  650.0    2       2.0  Semi-Furnished   \n",
       "\n",
       "                                            Locality  Parking     Price  \\\n",
       "0                                   Rohini Sector 25      1.0   6500000   \n",
       "1             J R Designers Floors, Rohini Sector 24      1.0   5000000   \n",
       "2                Citizen Apartment, Rohini Sector 13      1.0  15500000   \n",
       "3                                   Rohini Sector 24      1.0   4200000   \n",
       "4  Rohini Sector 24 carpet area 650 sqft status R...      1.0   6200000   \n",
       "\n",
       "          Status   Transaction           Type  Per_Sqft  \n",
       "0  Ready_to_move  New_Property  Builder_Floor       NaN  \n",
       "1  Ready_to_move  New_Property      Apartment    6667.0  \n",
       "2  Ready_to_move        Resale      Apartment    6667.0  \n",
       "3  Ready_to_move        Resale  Builder_Floor    6667.0  \n",
       "4  Ready_to_move  New_Property  Builder_Floor    6667.0  "
      ]
     },
     "execution_count": 67,
     "metadata": {},
     "output_type": "execute_result"
    }
   ],
   "source": [
    "data = pd.read_csv('data/Delhi_house_data.csv')\n",
    "data.head()"
   ]
  },
  {
   "cell_type": "code",
   "execution_count": 68,
   "id": "e04a574a",
   "metadata": {},
   "outputs": [
    {
     "data": {
      "text/plain": [
       "Area             0\n",
       "BHK              0\n",
       "Bathroom         2\n",
       "Furnishing       5\n",
       "Locality         0\n",
       "Parking         33\n",
       "Price            0\n",
       "Status           0\n",
       "Transaction      0\n",
       "Type             5\n",
       "Per_Sqft       241\n",
       "dtype: int64"
      ]
     },
     "execution_count": 68,
     "metadata": {},
     "output_type": "execute_result"
    }
   ],
   "source": [
    "data.isna().sum()"
   ]
  },
  {
   "cell_type": "code",
   "execution_count": 69,
   "id": "b92d7665",
   "metadata": {},
   "outputs": [
    {
     "data": {
      "text/html": [
       "<div>\n",
       "<style scoped>\n",
       "    .dataframe tbody tr th:only-of-type {\n",
       "        vertical-align: middle;\n",
       "    }\n",
       "\n",
       "    .dataframe tbody tr th {\n",
       "        vertical-align: top;\n",
       "    }\n",
       "\n",
       "    .dataframe thead th {\n",
       "        text-align: right;\n",
       "    }\n",
       "</style>\n",
       "<table border=\"1\" class=\"dataframe\">\n",
       "  <thead>\n",
       "    <tr style=\"text-align: right;\">\n",
       "      <th></th>\n",
       "      <th>Area</th>\n",
       "      <th>BHK</th>\n",
       "    </tr>\n",
       "  </thead>\n",
       "  <tbody>\n",
       "    <tr>\n",
       "      <th>0</th>\n",
       "      <td>800.0</td>\n",
       "      <td>3</td>\n",
       "    </tr>\n",
       "    <tr>\n",
       "      <th>1</th>\n",
       "      <td>750.0</td>\n",
       "      <td>2</td>\n",
       "    </tr>\n",
       "    <tr>\n",
       "      <th>2</th>\n",
       "      <td>950.0</td>\n",
       "      <td>2</td>\n",
       "    </tr>\n",
       "    <tr>\n",
       "      <th>3</th>\n",
       "      <td>600.0</td>\n",
       "      <td>2</td>\n",
       "    </tr>\n",
       "    <tr>\n",
       "      <th>4</th>\n",
       "      <td>650.0</td>\n",
       "      <td>2</td>\n",
       "    </tr>\n",
       "    <tr>\n",
       "      <th>...</th>\n",
       "      <td>...</td>\n",
       "      <td>...</td>\n",
       "    </tr>\n",
       "    <tr>\n",
       "      <th>1254</th>\n",
       "      <td>4118.0</td>\n",
       "      <td>4</td>\n",
       "    </tr>\n",
       "    <tr>\n",
       "      <th>1255</th>\n",
       "      <td>1050.0</td>\n",
       "      <td>3</td>\n",
       "    </tr>\n",
       "    <tr>\n",
       "      <th>1256</th>\n",
       "      <td>875.0</td>\n",
       "      <td>3</td>\n",
       "    </tr>\n",
       "    <tr>\n",
       "      <th>1257</th>\n",
       "      <td>990.0</td>\n",
       "      <td>2</td>\n",
       "    </tr>\n",
       "    <tr>\n",
       "      <th>1258</th>\n",
       "      <td>11050.0</td>\n",
       "      <td>3</td>\n",
       "    </tr>\n",
       "  </tbody>\n",
       "</table>\n",
       "<p>1259 rows × 2 columns</p>\n",
       "</div>"
      ],
      "text/plain": [
       "         Area  BHK\n",
       "0       800.0    3\n",
       "1       750.0    2\n",
       "2       950.0    2\n",
       "3       600.0    2\n",
       "4       650.0    2\n",
       "...       ...  ...\n",
       "1254   4118.0    4\n",
       "1255   1050.0    3\n",
       "1256    875.0    3\n",
       "1257    990.0    2\n",
       "1258  11050.0    3\n",
       "\n",
       "[1259 rows x 2 columns]"
      ]
     },
     "execution_count": 69,
     "metadata": {},
     "output_type": "execute_result"
    }
   ],
   "source": [
    "x = data.iloc[:,0:2]\n",
    "x"
   ]
  },
  {
   "cell_type": "code",
   "execution_count": 70,
   "id": "504acbee",
   "metadata": {},
   "outputs": [
    {
     "data": {
      "text/html": [
       "<div>\n",
       "<style scoped>\n",
       "    .dataframe tbody tr th:only-of-type {\n",
       "        vertical-align: middle;\n",
       "    }\n",
       "\n",
       "    .dataframe tbody tr th {\n",
       "        vertical-align: top;\n",
       "    }\n",
       "\n",
       "    .dataframe thead th {\n",
       "        text-align: right;\n",
       "    }\n",
       "</style>\n",
       "<table border=\"1\" class=\"dataframe\">\n",
       "  <thead>\n",
       "    <tr style=\"text-align: right;\">\n",
       "      <th></th>\n",
       "      <th>Price</th>\n",
       "    </tr>\n",
       "  </thead>\n",
       "  <tbody>\n",
       "    <tr>\n",
       "      <th>0</th>\n",
       "      <td>6500000</td>\n",
       "    </tr>\n",
       "    <tr>\n",
       "      <th>1</th>\n",
       "      <td>5000000</td>\n",
       "    </tr>\n",
       "    <tr>\n",
       "      <th>2</th>\n",
       "      <td>15500000</td>\n",
       "    </tr>\n",
       "    <tr>\n",
       "      <th>3</th>\n",
       "      <td>4200000</td>\n",
       "    </tr>\n",
       "    <tr>\n",
       "      <th>4</th>\n",
       "      <td>6200000</td>\n",
       "    </tr>\n",
       "    <tr>\n",
       "      <th>...</th>\n",
       "      <td>...</td>\n",
       "    </tr>\n",
       "    <tr>\n",
       "      <th>1254</th>\n",
       "      <td>55000000</td>\n",
       "    </tr>\n",
       "    <tr>\n",
       "      <th>1255</th>\n",
       "      <td>12500000</td>\n",
       "    </tr>\n",
       "    <tr>\n",
       "      <th>1256</th>\n",
       "      <td>17500000</td>\n",
       "    </tr>\n",
       "    <tr>\n",
       "      <th>1257</th>\n",
       "      <td>11500000</td>\n",
       "    </tr>\n",
       "    <tr>\n",
       "      <th>1258</th>\n",
       "      <td>18500000</td>\n",
       "    </tr>\n",
       "  </tbody>\n",
       "</table>\n",
       "<p>1259 rows × 1 columns</p>\n",
       "</div>"
      ],
      "text/plain": [
       "         Price\n",
       "0      6500000\n",
       "1      5000000\n",
       "2     15500000\n",
       "3      4200000\n",
       "4      6200000\n",
       "...        ...\n",
       "1254  55000000\n",
       "1255  12500000\n",
       "1256  17500000\n",
       "1257  11500000\n",
       "1258  18500000\n",
       "\n",
       "[1259 rows x 1 columns]"
      ]
     },
     "execution_count": 70,
     "metadata": {},
     "output_type": "execute_result"
    }
   ],
   "source": [
    "\n",
    "y=data.iloc[:,6:7]\n",
    "y"
   ]
  },
  {
   "cell_type": "code",
   "execution_count": 71,
   "id": "572c27c9",
   "metadata": {},
   "outputs": [],
   "source": [
    "#spliting the dataset into train & test sets\n",
    "\n",
    "from sklearn.model_selection import train_test_split\n",
    "xtrain,xtest,ytrain,ytest = train_test_split(x,y,test_size=0.2,random_state=2)\n"
   ]
  },
  {
   "cell_type": "code",
   "execution_count": 72,
   "id": "bea82fd7",
   "metadata": {},
   "outputs": [
    {
     "data": {
      "text/plain": [
       "(252, 1)"
      ]
     },
     "execution_count": 72,
     "metadata": {},
     "output_type": "execute_result"
    }
   ],
   "source": [
    "ytest.shape"
   ]
  },
  {
   "cell_type": "code",
   "execution_count": 73,
   "id": "9af985ea",
   "metadata": {},
   "outputs": [
    {
     "name": "stdout",
     "output_type": "stream",
     "text": [
      "<--------- Base Regression --------------> \n",
      "\n",
      "base Train score \t 0.43650726581878574\n",
      "\n",
      "base Test score \t 0.5737902953254839\n",
      "\n",
      "R-Square \t 0.5737902953254839\n",
      "\n",
      "MAE \t 10338503.435916116\n",
      "MSE \t 206748822856445.66\n",
      "RMSE \t 14378762.911198085\n"
     ]
    }
   ],
   "source": [
    "print('<--------- Base Regression --------------> \\n')\n",
    "from sklearn.linear_model import LinearRegression\n",
    "base_reg = LinearRegression()\n",
    "base_reg.fit(xtrain,ytrain)\n",
    "base_pred = base_reg.predict(xtest)\n",
    "\n",
    "#PERFORMANCE METRIC\n",
    "\n",
    "from sklearn.metrics import r2_score\n",
    "print(\"base Train score \\t\",base_reg.score(xtrain,ytrain))\n",
    "print()\n",
    "print(\"base Test score \\t\",base_reg.score(xtest,ytest))\n",
    "print()\n",
    "print(\"R-Square \\t\",r2_score(ytest,base_pred))\n",
    "print()\n",
    "print('MAE \\t',mean_absolute_error(ytest,base_pred))\n",
    "print('MSE \\t',mean_squared_error(ytest,base_pred))\n",
    "print('RMSE \\t',np.sqrt(mean_squared_error(ytest,base_pred)))"
   ]
  },
  {
   "cell_type": "markdown",
   "id": "ee3777ce",
   "metadata": {},
   "source": [
    "#### 2.Implement the Lasso regression Model"
   ]
  },
  {
   "cell_type": "code",
   "execution_count": 74,
   "id": "c2ae01d7",
   "metadata": {},
   "outputs": [
    {
     "name": "stdout",
     "output_type": "stream",
     "text": [
      "<------------ Lasso Regression model ----------->\n",
      "\n",
      "Lasso Train score \t 0.43650726581878574\n",
      "\n",
      "Lasso Test score \t 0.5737902954137406\n",
      "\n",
      "R-Square \t 0.5737902954137406\n"
     ]
    }
   ],
   "source": [
    "print('<------------ Lasso Regression model ----------->\\n')\n",
    "lasso_reg = Lasso(alpha = 0.01)\n",
    "lasso_reg.fit(xtrain,ytrain)\n",
    "lasso_pred = lasso_reg.predict(xtest)\n",
    "\n",
    "print(\"Lasso Train score \\t\",lasso_reg.score(xtrain,ytrain))\n",
    "print()\n",
    "print(\"Lasso Test score \\t\",lasso_reg.score(xtest,ytest))\n",
    "print()\n",
    "print(\"R-Square \\t\",r2_score(ytest,lasso_pred))"
   ]
  },
  {
   "cell_type": "markdown",
   "id": "49904aaa",
   "metadata": {},
   "source": [
    "#### 3.Evaluate the Lasso regression Model"
   ]
  },
  {
   "cell_type": "code",
   "execution_count": 75,
   "id": "d6b2e792",
   "metadata": {},
   "outputs": [
    {
     "name": "stdout",
     "output_type": "stream",
     "text": [
      "MAE \t 10338503.434044452\n",
      "MSE \t 206748822813633.4\n",
      "RMSE \t 14378762.909709353\n"
     ]
    }
   ],
   "source": [
    "from sklearn.metrics import mean_squared_error,explained_variance_score,mean_absolute_error\n",
    "print('MAE \\t',mean_absolute_error(ytest,lasso_pred))\n",
    "print('MSE \\t',mean_squared_error(ytest,lasso_pred))\n",
    "print('RMSE \\t',np.sqrt(mean_squared_error(ytest,lasso_pred)))"
   ]
  },
  {
   "cell_type": "markdown",
   "id": "b7b4863d",
   "metadata": {},
   "source": [
    "#### 4.Implement the Ridge regression Model"
   ]
  },
  {
   "cell_type": "code",
   "execution_count": 58,
   "id": "8c014f47",
   "metadata": {},
   "outputs": [
    {
     "name": "stdout",
     "output_type": "stream",
     "text": [
      "<------------ Ridge Regression model ----------->\n",
      "\n",
      "Lasso Train score:\t 0.43650726579665156\n",
      "\n",
      "Lasso Test score:\t 0.5737912511518266\n",
      "\n",
      "R-Square:\t 0.5737912511518266\n"
     ]
    }
   ],
   "source": [
    "print('<------------ Ridge Regression model ----------->\\n')\n",
    "ridge_reg = Ridge(alpha = 0.01)\n",
    "ridge_reg.fit(xtrain,ytrain)\n",
    "ridge_pred = ridge_reg.predict(xtest)\n",
    "\n",
    "print(\"Lasso Train score:\\t\",ridge_reg.score(xtrain,ytrain))\n",
    "print()\n",
    "print(\"Lasso Test score:\\t\",ridge_reg.score(xtest,ytest))\n",
    "print()\n",
    "print(\"R-Square:\\t\",r2_score(ytest,ridge_pred))"
   ]
  },
  {
   "cell_type": "markdown",
   "id": "b192e856",
   "metadata": {},
   "source": [
    "#### 5.Evaluate the Ridge regression Model"
   ]
  },
  {
   "cell_type": "code",
   "execution_count": 55,
   "id": "40f85af1",
   "metadata": {},
   "outputs": [
    {
     "name": "stdout",
     "output_type": "stream",
     "text": [
      "MAE \t 10338483.161486758\n",
      "MSE \t 206748359197432.12\n",
      "RMSE \t 14378746.788139505\n"
     ]
    }
   ],
   "source": [
    "print('MAE \\t',mean_absolute_error(ytest,ridge_pred))\n",
    "print('MSE \\t',mean_squared_error(ytest,ridge_pred))\n",
    "print('RMSE \\t',np.sqrt(mean_squared_error(ytest,ridge_pred)))"
   ]
  },
  {
   "cell_type": "code",
   "execution_count": null,
   "id": "5db18f79",
   "metadata": {},
   "outputs": [],
   "source": []
  },
  {
   "cell_type": "code",
   "execution_count": null,
   "id": "28c6b324",
   "metadata": {},
   "outputs": [],
   "source": []
  },
  {
   "cell_type": "markdown",
   "id": "d5c89933",
   "metadata": {},
   "source": [
    "## Diagnosing and Remedying Heteroscedasticity and Multicollinearity"
   ]
  },
  {
   "cell_type": "code",
   "execution_count": 3,
   "id": "24677d87",
   "metadata": {},
   "outputs": [
    {
     "data": {
      "text/html": [
       "<div>\n",
       "<style scoped>\n",
       "    .dataframe tbody tr th:only-of-type {\n",
       "        vertical-align: middle;\n",
       "    }\n",
       "\n",
       "    .dataframe tbody tr th {\n",
       "        vertical-align: top;\n",
       "    }\n",
       "\n",
       "    .dataframe thead th {\n",
       "        text-align: right;\n",
       "    }\n",
       "</style>\n",
       "<table border=\"1\" class=\"dataframe\">\n",
       "  <thead>\n",
       "    <tr style=\"text-align: right;\">\n",
       "      <th></th>\n",
       "      <th>Name</th>\n",
       "      <th>Age</th>\n",
       "      <th>Gender</th>\n",
       "      <th>Projects Completed</th>\n",
       "      <th>Productivity (%)</th>\n",
       "      <th>Satisfaction Rate (%)</th>\n",
       "      <th>Feedback Score</th>\n",
       "      <th>Department</th>\n",
       "      <th>Position</th>\n",
       "      <th>Joining Date</th>\n",
       "      <th>Salary</th>\n",
       "    </tr>\n",
       "  </thead>\n",
       "  <tbody>\n",
       "    <tr>\n",
       "      <th>0</th>\n",
       "      <td>Douglas Lindsey</td>\n",
       "      <td>25</td>\n",
       "      <td>Male</td>\n",
       "      <td>11</td>\n",
       "      <td>57</td>\n",
       "      <td>25</td>\n",
       "      <td>4.7</td>\n",
       "      <td>Marketing</td>\n",
       "      <td>Analyst</td>\n",
       "      <td>Jan-20</td>\n",
       "      <td>63596</td>\n",
       "    </tr>\n",
       "    <tr>\n",
       "      <th>1</th>\n",
       "      <td>Anthony Roberson</td>\n",
       "      <td>59</td>\n",
       "      <td>Female</td>\n",
       "      <td>19</td>\n",
       "      <td>55</td>\n",
       "      <td>76</td>\n",
       "      <td>2.8</td>\n",
       "      <td>IT</td>\n",
       "      <td>Manager</td>\n",
       "      <td>Jan-99</td>\n",
       "      <td>112540</td>\n",
       "    </tr>\n",
       "    <tr>\n",
       "      <th>2</th>\n",
       "      <td>Thomas Miller</td>\n",
       "      <td>30</td>\n",
       "      <td>Male</td>\n",
       "      <td>8</td>\n",
       "      <td>87</td>\n",
       "      <td>10</td>\n",
       "      <td>2.4</td>\n",
       "      <td>IT</td>\n",
       "      <td>Analyst</td>\n",
       "      <td>Jan-17</td>\n",
       "      <td>66292</td>\n",
       "    </tr>\n",
       "    <tr>\n",
       "      <th>3</th>\n",
       "      <td>Joshua Lewis</td>\n",
       "      <td>26</td>\n",
       "      <td>Female</td>\n",
       "      <td>1</td>\n",
       "      <td>53</td>\n",
       "      <td>4</td>\n",
       "      <td>1.4</td>\n",
       "      <td>Marketing</td>\n",
       "      <td>Intern</td>\n",
       "      <td>Jan-22</td>\n",
       "      <td>38303</td>\n",
       "    </tr>\n",
       "    <tr>\n",
       "      <th>4</th>\n",
       "      <td>Stephanie Bailey</td>\n",
       "      <td>43</td>\n",
       "      <td>Male</td>\n",
       "      <td>14</td>\n",
       "      <td>3</td>\n",
       "      <td>9</td>\n",
       "      <td>4.5</td>\n",
       "      <td>IT</td>\n",
       "      <td>Team Lead</td>\n",
       "      <td>Jan-05</td>\n",
       "      <td>101133</td>\n",
       "    </tr>\n",
       "  </tbody>\n",
       "</table>\n",
       "</div>"
      ],
      "text/plain": [
       "               Name  Age  Gender  Projects Completed  Productivity (%)  \\\n",
       "0   Douglas Lindsey   25    Male                  11                57   \n",
       "1  Anthony Roberson   59  Female                  19                55   \n",
       "2     Thomas Miller   30    Male                   8                87   \n",
       "3      Joshua Lewis   26  Female                   1                53   \n",
       "4  Stephanie Bailey   43    Male                  14                 3   \n",
       "\n",
       "   Satisfaction Rate (%)  Feedback Score Department   Position Joining Date  \\\n",
       "0                     25             4.7  Marketing    Analyst       Jan-20   \n",
       "1                     76             2.8         IT    Manager       Jan-99   \n",
       "2                     10             2.4         IT    Analyst       Jan-17   \n",
       "3                      4             1.4  Marketing     Intern       Jan-22   \n",
       "4                      9             4.5         IT  Team Lead       Jan-05   \n",
       "\n",
       "   Salary  \n",
       "0   63596  \n",
       "1  112540  \n",
       "2   66292  \n",
       "3   38303  \n",
       "4  101133  "
      ]
     },
     "execution_count": 3,
     "metadata": {},
     "output_type": "execute_result"
    }
   ],
   "source": [
    "data = pd.read_csv('data/employee_performance.csv')\n",
    "data.head()"
   ]
  },
  {
   "cell_type": "code",
   "execution_count": 4,
   "id": "732a732b",
   "metadata": {},
   "outputs": [
    {
     "data": {
      "text/plain": [
       "Name                     0\n",
       "Age                      0\n",
       "Gender                   0\n",
       "Projects Completed       0\n",
       "Productivity (%)         0\n",
       "Satisfaction Rate (%)    0\n",
       "Feedback Score           0\n",
       "Department               0\n",
       "Position                 0\n",
       "Joining Date             0\n",
       "Salary                   0\n",
       "dtype: int64"
      ]
     },
     "execution_count": 4,
     "metadata": {},
     "output_type": "execute_result"
    }
   ],
   "source": [
    "data.isna().sum()"
   ]
  },
  {
   "cell_type": "code",
   "execution_count": 36,
   "id": "c5a6004f",
   "metadata": {},
   "outputs": [],
   "source": [
    "x=data[['Age','Projects Completed','Productivity (%)','Satisfaction Rate (%)','Feedback Score']]\n",
    "y=data['Salary']"
   ]
  },
  {
   "cell_type": "code",
   "execution_count": 37,
   "id": "b709a712",
   "metadata": {},
   "outputs": [],
   "source": [
    "from sklearn.model_selection import train_test_split\n",
    "xtrain,xtest,ytrain,ytest = train_test_split(x,y,test_size=0.2,random_state=2)"
   ]
  },
  {
   "cell_type": "code",
   "execution_count": 38,
   "id": "2476e092",
   "metadata": {},
   "outputs": [
    {
     "name": "stdout",
     "output_type": "stream",
     "text": [
      "<--------- Base Regression --------------> \n",
      "\n",
      "base Train score \t 0.8388872878091449\n",
      "\n",
      "base Test score \t 0.8063796938180696\n",
      "\n",
      "R-Square \t 0.8063796938180696\n",
      "\n",
      "MAE \t 8953.8979704157\n",
      "MSE \t 118976861.28845832\n",
      "RMSE \t 10907.651501971372\n"
     ]
    }
   ],
   "source": [
    "print('<--------- Base Regression --------------> \\n')\n",
    "from sklearn.linear_model import LinearRegression\n",
    "base_reg = LinearRegression()\n",
    "base_reg.fit(xtrain,ytrain)\n",
    "base_pred = base_reg.predict(xtest)\n",
    "\n",
    "#PERFORMANCE METRIC\n",
    "\n",
    "from sklearn.metrics import r2_score,mean_absolute_error\n",
    "from sklearn.metrics import mean_squared_error,explained_variance_score\n",
    "print(\"base Train score \\t\",base_reg.score(xtrain,ytrain))\n",
    "print()\n",
    "print(\"base Test score \\t\",base_reg.score(xtest,ytest))\n",
    "print()\n",
    "print(\"R-Square \\t\",r2_score(ytest,base_pred))\n",
    "print()\n",
    "print('MAE \\t',mean_absolute_error(ytest,base_pred))\n",
    "print('MSE \\t',mean_squared_error(ytest,base_pred))\n",
    "print('RMSE \\t',np.sqrt(mean_squared_error(ytest,base_pred)))"
   ]
  },
  {
   "cell_type": "raw",
   "id": "891d145c",
   "metadata": {},
   "source": [
    "...........Heteroscedasticity...........\n",
    ">>> Heteroscedasticity in linear regression refers to the situation where the variance of the \n",
    "errors (residuals) is not constant across different levels of the predictor variables.\n",
    ">>> To diagnose heteroscedasticity, you can create a scatterplot of the residuals against \n",
    "the predicted values and look for patterns of increasing or decreasing spread."
   ]
  },
  {
   "cell_type": "code",
   "execution_count": 39,
   "id": "3c782642",
   "metadata": {},
   "outputs": [
    {
     "data": {
      "text/plain": [
       "array([ 66002.32998021,  54442.71543173,  88017.01213576,  80556.65467824,\n",
       "        90484.82543237, 122997.42858278,  77178.50588242,  94554.72444636,\n",
       "        78657.88774281,  69046.45588892,  42476.63534363,  38201.46846568,\n",
       "        81205.88207066,  65641.29264945,  83043.90526898,  63857.27060821,\n",
       "        50583.34848352,  44121.17321492,  40896.54751941,  87626.57643509,\n",
       "        46420.16173338,  65281.44342124,  79562.45086109,  50462.41550513,\n",
       "        63139.33513592,  83916.16977016,  54659.5732456 ,  60711.2038206 ,\n",
       "        65325.90468912,  43088.52323675, 116928.42317031,  83259.97270287,\n",
       "        98432.82588835,  75062.82197006, 129225.63149839,  86191.5607774 ,\n",
       "        83725.73488246,  75038.55779624,  36597.26374279,  96132.1279597 ])"
      ]
     },
     "execution_count": 39,
     "metadata": {},
     "output_type": "execute_result"
    }
   ],
   "source": [
    "import statsmodels.api as sm\n",
    "from statsmodels.stats.outliers_influence import variance_inflation_factor\n",
    "\n",
    "residuals = ytest-base_pred\n",
    "base_pred"
   ]
  },
  {
   "cell_type": "code",
   "execution_count": 56,
   "id": "d47c087d",
   "metadata": {},
   "outputs": [
    {
     "data": {
      "image/png": "[encoded data removed]",
      "text/plain": [
       "<Figure size 640x480 with 1 Axes>"
      ]
     },
     "metadata": {},
     "output_type": "display_data"
    }
   ],
   "source": [
    "plt.scatter(base_pred,residuals,c='red')\n",
    "plt.xlabel('Predicted Values')\n",
    "plt.ylabel('Residuals')\n",
    "plt.title('Residuals vs Predicted Values')\n",
    "plt.show()"
   ]
  },
  {
   "cell_type": "code",
   "execution_count": 57,
   "id": "41edf2bd",
   "metadata": {},
   "outputs": [
    {
     "data": {
      "text/plain": [
       "8.196075027839576e-09"
      ]
     },
     "execution_count": 57,
     "metadata": {},
     "output_type": "execute_result"
    }
   ],
   "source": [
    "#Remedying Heteroscedasticity\n",
    "\n",
    "weights = 1 / (residuals.var())\n",
    "weights"
   ]
  },
  {
   "cell_type": "code",
   "execution_count": null,
   "id": "cc1ee674",
   "metadata": {},
   "outputs": [],
   "source": []
  }
 ],
 "metadata": {
  "kernelspec": {
   "display_name": "Python 3 (ipykernel)",
   "language": "python",
   "name": "python3"
  },
  "language_info": {
   "codemirror_mode": {
    "name": "ipython",
    "version": 3
   },
   "file_extension": ".py",
   "mimetype": "text/x-python",
   "name": "python",
   "nbconvert_exporter": "python",
   "pygments_lexer": "ipython3",
   "version": "3.11.4"
  }
 },
 "nbformat": 4,
 "nbformat_minor": 5
}
