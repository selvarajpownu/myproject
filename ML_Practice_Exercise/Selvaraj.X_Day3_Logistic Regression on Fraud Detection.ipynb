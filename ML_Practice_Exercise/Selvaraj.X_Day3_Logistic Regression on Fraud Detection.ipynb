{
 "cells": [
  {
   "cell_type": "code",
   "execution_count": 1,
   "id": "b995cf1f",
   "metadata": {},
   "outputs": [],
   "source": [
    "import numpy as np\n",
    "import pandas as pd\n",
    "import matplotlib.pyplot as plt\n",
    "import seaborn as sns \n",
    "\n",
    "from sklearn.model_selection import train_test_split \n",
    "from sklearn.linear_model import LogisticRegression"
   ]
  },
  {
   "cell_type": "code",
   "execution_count": 2,
   "id": "4673a3f2",
   "metadata": {},
   "outputs": [
    {
     "data": {
      "text/html": [
       "<div>\n",
       "<style scoped>\n",
       "    .dataframe tbody tr th:only-of-type {\n",
       "        vertical-align: middle;\n",
       "    }\n",
       "\n",
       "    .dataframe tbody tr th {\n",
       "        vertical-align: top;\n",
       "    }\n",
       "\n",
       "    .dataframe thead th {\n",
       "        text-align: right;\n",
       "    }\n",
       "</style>\n",
       "<table border=\"1\" class=\"dataframe\">\n",
       "  <thead>\n",
       "    <tr style=\"text-align: right;\">\n",
       "      <th></th>\n",
       "      <th>distance_from_home</th>\n",
       "      <th>distance_from_last_transaction</th>\n",
       "      <th>ratio_to_median_purchase_price</th>\n",
       "      <th>repeat_retailer</th>\n",
       "      <th>used_chip</th>\n",
       "      <th>used_pin_number</th>\n",
       "      <th>online_order</th>\n",
       "      <th>fraud</th>\n",
       "    </tr>\n",
       "  </thead>\n",
       "  <tbody>\n",
       "    <tr>\n",
       "      <th>0</th>\n",
       "      <td>57.877857</td>\n",
       "      <td>0.311140</td>\n",
       "      <td>1.945940</td>\n",
       "      <td>1.0</td>\n",
       "      <td>1.0</td>\n",
       "      <td>0.0</td>\n",
       "      <td>0.0</td>\n",
       "      <td>0.0</td>\n",
       "    </tr>\n",
       "    <tr>\n",
       "      <th>1</th>\n",
       "      <td>10.829943</td>\n",
       "      <td>0.175592</td>\n",
       "      <td>1.294219</td>\n",
       "      <td>1.0</td>\n",
       "      <td>0.0</td>\n",
       "      <td>0.0</td>\n",
       "      <td>0.0</td>\n",
       "      <td>0.0</td>\n",
       "    </tr>\n",
       "    <tr>\n",
       "      <th>2</th>\n",
       "      <td>5.091079</td>\n",
       "      <td>0.805153</td>\n",
       "      <td>0.427715</td>\n",
       "      <td>1.0</td>\n",
       "      <td>0.0</td>\n",
       "      <td>0.0</td>\n",
       "      <td>1.0</td>\n",
       "      <td>0.0</td>\n",
       "    </tr>\n",
       "    <tr>\n",
       "      <th>3</th>\n",
       "      <td>2.247564</td>\n",
       "      <td>5.600044</td>\n",
       "      <td>0.362663</td>\n",
       "      <td>1.0</td>\n",
       "      <td>1.0</td>\n",
       "      <td>0.0</td>\n",
       "      <td>1.0</td>\n",
       "      <td>0.0</td>\n",
       "    </tr>\n",
       "    <tr>\n",
       "      <th>4</th>\n",
       "      <td>44.190936</td>\n",
       "      <td>0.566486</td>\n",
       "      <td>2.222767</td>\n",
       "      <td>1.0</td>\n",
       "      <td>1.0</td>\n",
       "      <td>0.0</td>\n",
       "      <td>1.0</td>\n",
       "      <td>0.0</td>\n",
       "    </tr>\n",
       "  </tbody>\n",
       "</table>\n",
       "</div>"
      ],
      "text/plain": [
       "   distance_from_home  distance_from_last_transaction  \\\n",
       "0           57.877857                        0.311140   \n",
       "1           10.829943                        0.175592   \n",
       "2            5.091079                        0.805153   \n",
       "3            2.247564                        5.600044   \n",
       "4           44.190936                        0.566486   \n",
       "\n",
       "   ratio_to_median_purchase_price  repeat_retailer  used_chip  \\\n",
       "0                        1.945940              1.0        1.0   \n",
       "1                        1.294219              1.0        0.0   \n",
       "2                        0.427715              1.0        0.0   \n",
       "3                        0.362663              1.0        1.0   \n",
       "4                        2.222767              1.0        1.0   \n",
       "\n",
       "   used_pin_number  online_order  fraud  \n",
       "0              0.0           0.0    0.0  \n",
       "1              0.0           0.0    0.0  \n",
       "2              0.0           1.0    0.0  \n",
       "3              0.0           1.0    0.0  \n",
       "4              0.0           1.0    0.0  "
      ]
     },
     "execution_count": 2,
     "metadata": {},
     "output_type": "execute_result"
    }
   ],
   "source": [
    "# Data Preparation\n",
    "\n",
    "data = pd.read_csv('data/card_transdata.csv')\n",
    "data.head()"
   ]
  },
  {
   "cell_type": "code",
   "execution_count": 3,
   "id": "fc8cd1ff",
   "metadata": {},
   "outputs": [],
   "source": [
    "x = data.iloc[:,:-1].values\n",
    "y = data.iloc[:,-1:].values"
   ]
  },
  {
   "cell_type": "code",
   "execution_count": 4,
   "id": "7afdf39d",
   "metadata": {},
   "outputs": [
    {
     "data": {
      "text/plain": [
       "((1000000, 7), (1000000, 1))"
      ]
     },
     "execution_count": 4,
     "metadata": {},
     "output_type": "execute_result"
    }
   ],
   "source": [
    "x.shape,y.shape"
   ]
  },
  {
   "cell_type": "code",
   "execution_count": 5,
   "id": "6e76cc53",
   "metadata": {},
   "outputs": [],
   "source": [
    "# spliting train and Test dataset\n",
    "xtrain,xtest,ytrain,ytest = train_test_split(x,y,test_size=0.25,random_state=2)"
   ]
  },
  {
   "cell_type": "code",
   "execution_count": 6,
   "id": "8e50a3f6",
   "metadata": {},
   "outputs": [
    {
     "name": "stderr",
     "output_type": "stream",
     "text": [
      "C:\\Users\\2001s\\anaconda3\\Lib\\site-packages\\sklearn\\utils\\validation.py:1111: DataConversionWarning: A column-vector y was passed when a 1d array was expected. Please change the shape of y to (n_samples, ), for example using ravel().\n",
      "  y = column_or_1d(y, warn=True)\n"
     ]
    },
    {
     "data": {
      "text/plain": [
       "array([0., 0., 0., ..., 0., 0., 0.])"
      ]
     },
     "execution_count": 6,
     "metadata": {},
     "output_type": "execute_result"
    }
   ],
   "source": [
    "log_reg = LogisticRegression(solver='liblinear')\n",
    "log_reg.fit(xtrain,ytrain)\n",
    "log_pred = log_reg.predict(xtest)\n",
    "log_pred"
   ]
  },
  {
   "cell_type": "code",
   "execution_count": 7,
   "id": "b654833c",
   "metadata": {},
   "outputs": [
    {
     "name": "stdout",
     "output_type": "stream",
     "text": [
      "Accuracy Score \t 0.958936\n",
      "Confusion Matrix \n",
      " [[226491   1549]\n",
      " [  8717  13243]]\n",
      "classification Report \n",
      "               precision    recall  f1-score   support\n",
      "\n",
      "         0.0       0.96      0.99      0.98    228040\n",
      "         1.0       0.90      0.60      0.72     21960\n",
      "\n",
      "    accuracy                           0.96    250000\n",
      "   macro avg       0.93      0.80      0.85    250000\n",
      "weighted avg       0.96      0.96      0.96    250000\n",
      "\n"
     ]
    }
   ],
   "source": [
    "# initial Logistic Regression Model\n",
    "\n",
    "from sklearn.metrics import accuracy_score,confusion_matrix,classification_report\n",
    "\n",
    "print(\"Accuracy Score \\t\",accuracy_score(ytest,log_pred))\n",
    "print(\"Confusion Matrix \\n\",confusion_matrix(ytest,log_pred))\n",
    "print(\"classification Report \\n\", classification_report(ytest,log_pred))"
   ]
  },
  {
   "cell_type": "code",
   "execution_count": 8,
   "id": "af1ccdde",
   "metadata": {},
   "outputs": [
    {
     "name": "stderr",
     "output_type": "stream",
     "text": [
      "C:\\Users\\2001s\\anaconda3\\Lib\\site-packages\\pandas\\core\\arraylike.py:402: RuntimeWarning: divide by zero encountered in log\n",
      "  result = getattr(ufunc, method)(*inputs, **kwargs)\n"
     ]
    }
   ],
   "source": [
    "# Feature Engineering\n",
    "\n",
    "# Creating new features\n",
    "# If the target variable is imbalanced (i.e., there are many more 0s than 1s, or vice versa), \n",
    "# then encoding the target variable can help to improve the performance.\n",
    "\n",
    "data['fraud_encoded'] = np.log(data['fraud'] / (1 - data['fraud']))"
   ]
  },
  {
   "cell_type": "code",
   "execution_count": 8,
   "id": "65f0a61e",
   "metadata": {},
   "outputs": [
    {
     "data": {
      "text/plain": [
       "distance_from_home                0\n",
       "distance_from_last_transaction    0\n",
       "ratio_to_median_purchase_price    0\n",
       "repeat_retailer                   0\n",
       "used_chip                         0\n",
       "used_pin_number                   0\n",
       "online_order                      0\n",
       "fraud                             0\n",
       "dtype: int64"
      ]
     },
     "execution_count": 8,
     "metadata": {},
     "output_type": "execute_result"
    }
   ],
   "source": [
    "# Handling missing values & Scaling or normalizing features\n",
    "data.isna().sum() # no missing values"
   ]
  },
  {
   "cell_type": "code",
   "execution_count": 17,
   "id": "643d6976",
   "metadata": {},
   "outputs": [],
   "source": [
    "# Upsampling\n",
    "\n",
    "# Separate the majority and minority classes\n",
    "from sklearn.utils import resample\n",
    "\n",
    "majority_class = data[data['fraud'] == 0]\n",
    "minority_class = data[data['fraud'] == 1]\n",
    "\n",
    "# Upsample the minority class to match the number of samples in the majority class\n",
    "upsampled_minority = resample(minority_class, replace=True, n_samples=len(majority_class), random_state=2)\n",
    "\n",
    "# Combine the upsampled minority class with the majority class\n",
    "upsampled_data = pd.concat([majority_class, upsampled_minority])"
   ]
  },
  {
   "cell_type": "code",
   "execution_count": 18,
   "id": "2d15e92a",
   "metadata": {},
   "outputs": [
    {
     "data": {
      "text/html": [
       "<div>\n",
       "<style scoped>\n",
       "    .dataframe tbody tr th:only-of-type {\n",
       "        vertical-align: middle;\n",
       "    }\n",
       "\n",
       "    .dataframe tbody tr th {\n",
       "        vertical-align: top;\n",
       "    }\n",
       "\n",
       "    .dataframe thead th {\n",
       "        text-align: right;\n",
       "    }\n",
       "</style>\n",
       "<table border=\"1\" class=\"dataframe\">\n",
       "  <thead>\n",
       "    <tr style=\"text-align: right;\">\n",
       "      <th></th>\n",
       "      <th>distance_from_home</th>\n",
       "      <th>distance_from_last_transaction</th>\n",
       "      <th>ratio_to_median_purchase_price</th>\n",
       "      <th>repeat_retailer</th>\n",
       "      <th>used_chip</th>\n",
       "      <th>used_pin_number</th>\n",
       "      <th>online_order</th>\n",
       "      <th>fraud</th>\n",
       "    </tr>\n",
       "  </thead>\n",
       "  <tbody>\n",
       "    <tr>\n",
       "      <th>0</th>\n",
       "      <td>57.877857</td>\n",
       "      <td>0.311140</td>\n",
       "      <td>1.945940</td>\n",
       "      <td>1.0</td>\n",
       "      <td>1.0</td>\n",
       "      <td>0.0</td>\n",
       "      <td>0.0</td>\n",
       "      <td>0.0</td>\n",
       "    </tr>\n",
       "    <tr>\n",
       "      <th>1</th>\n",
       "      <td>10.829943</td>\n",
       "      <td>0.175592</td>\n",
       "      <td>1.294219</td>\n",
       "      <td>1.0</td>\n",
       "      <td>0.0</td>\n",
       "      <td>0.0</td>\n",
       "      <td>0.0</td>\n",
       "      <td>0.0</td>\n",
       "    </tr>\n",
       "    <tr>\n",
       "      <th>2</th>\n",
       "      <td>5.091079</td>\n",
       "      <td>0.805153</td>\n",
       "      <td>0.427715</td>\n",
       "      <td>1.0</td>\n",
       "      <td>0.0</td>\n",
       "      <td>0.0</td>\n",
       "      <td>1.0</td>\n",
       "      <td>0.0</td>\n",
       "    </tr>\n",
       "    <tr>\n",
       "      <th>3</th>\n",
       "      <td>2.247564</td>\n",
       "      <td>5.600044</td>\n",
       "      <td>0.362663</td>\n",
       "      <td>1.0</td>\n",
       "      <td>1.0</td>\n",
       "      <td>0.0</td>\n",
       "      <td>1.0</td>\n",
       "      <td>0.0</td>\n",
       "    </tr>\n",
       "    <tr>\n",
       "      <th>4</th>\n",
       "      <td>44.190936</td>\n",
       "      <td>0.566486</td>\n",
       "      <td>2.222767</td>\n",
       "      <td>1.0</td>\n",
       "      <td>1.0</td>\n",
       "      <td>0.0</td>\n",
       "      <td>1.0</td>\n",
       "      <td>0.0</td>\n",
       "    </tr>\n",
       "    <tr>\n",
       "      <th>...</th>\n",
       "      <td>...</td>\n",
       "      <td>...</td>\n",
       "      <td>...</td>\n",
       "      <td>...</td>\n",
       "      <td>...</td>\n",
       "      <td>...</td>\n",
       "      <td>...</td>\n",
       "      <td>...</td>\n",
       "    </tr>\n",
       "    <tr>\n",
       "      <th>851922</th>\n",
       "      <td>11.007025</td>\n",
       "      <td>0.386596</td>\n",
       "      <td>4.666583</td>\n",
       "      <td>1.0</td>\n",
       "      <td>0.0</td>\n",
       "      <td>0.0</td>\n",
       "      <td>1.0</td>\n",
       "      <td>1.0</td>\n",
       "    </tr>\n",
       "    <tr>\n",
       "      <th>495625</th>\n",
       "      <td>35.813249</td>\n",
       "      <td>1.360039</td>\n",
       "      <td>5.386531</td>\n",
       "      <td>1.0</td>\n",
       "      <td>1.0</td>\n",
       "      <td>0.0</td>\n",
       "      <td>1.0</td>\n",
       "      <td>1.0</td>\n",
       "    </tr>\n",
       "    <tr>\n",
       "      <th>930081</th>\n",
       "      <td>286.643708</td>\n",
       "      <td>0.037750</td>\n",
       "      <td>5.021484</td>\n",
       "      <td>1.0</td>\n",
       "      <td>0.0</td>\n",
       "      <td>1.0</td>\n",
       "      <td>1.0</td>\n",
       "      <td>1.0</td>\n",
       "    </tr>\n",
       "    <tr>\n",
       "      <th>827484</th>\n",
       "      <td>2.089931</td>\n",
       "      <td>0.198649</td>\n",
       "      <td>5.847176</td>\n",
       "      <td>1.0</td>\n",
       "      <td>1.0</td>\n",
       "      <td>0.0</td>\n",
       "      <td>1.0</td>\n",
       "      <td>1.0</td>\n",
       "    </tr>\n",
       "    <tr>\n",
       "      <th>349415</th>\n",
       "      <td>22.251491</td>\n",
       "      <td>8.169915</td>\n",
       "      <td>9.528499</td>\n",
       "      <td>1.0</td>\n",
       "      <td>1.0</td>\n",
       "      <td>0.0</td>\n",
       "      <td>1.0</td>\n",
       "      <td>1.0</td>\n",
       "    </tr>\n",
       "  </tbody>\n",
       "</table>\n",
       "<p>1825194 rows × 8 columns</p>\n",
       "</div>"
      ],
      "text/plain": [
       "        distance_from_home  distance_from_last_transaction  \\\n",
       "0                57.877857                        0.311140   \n",
       "1                10.829943                        0.175592   \n",
       "2                 5.091079                        0.805153   \n",
       "3                 2.247564                        5.600044   \n",
       "4                44.190936                        0.566486   \n",
       "...                    ...                             ...   \n",
       "851922           11.007025                        0.386596   \n",
       "495625           35.813249                        1.360039   \n",
       "930081          286.643708                        0.037750   \n",
       "827484            2.089931                        0.198649   \n",
       "349415           22.251491                        8.169915   \n",
       "\n",
       "        ratio_to_median_purchase_price  repeat_retailer  used_chip  \\\n",
       "0                             1.945940              1.0        1.0   \n",
       "1                             1.294219              1.0        0.0   \n",
       "2                             0.427715              1.0        0.0   \n",
       "3                             0.362663              1.0        1.0   \n",
       "4                             2.222767              1.0        1.0   \n",
       "...                                ...              ...        ...   \n",
       "851922                        4.666583              1.0        0.0   \n",
       "495625                        5.386531              1.0        1.0   \n",
       "930081                        5.021484              1.0        0.0   \n",
       "827484                        5.847176              1.0        1.0   \n",
       "349415                        9.528499              1.0        1.0   \n",
       "\n",
       "        used_pin_number  online_order  fraud  \n",
       "0                   0.0           0.0    0.0  \n",
       "1                   0.0           0.0    0.0  \n",
       "2                   0.0           1.0    0.0  \n",
       "3                   0.0           1.0    0.0  \n",
       "4                   0.0           1.0    0.0  \n",
       "...                 ...           ...    ...  \n",
       "851922              0.0           1.0    1.0  \n",
       "495625              0.0           1.0    1.0  \n",
       "930081              1.0           1.0    1.0  \n",
       "827484              0.0           1.0    1.0  \n",
       "349415              0.0           1.0    1.0  \n",
       "\n",
       "[1825194 rows x 8 columns]"
      ]
     },
     "execution_count": 18,
     "metadata": {},
     "output_type": "execute_result"
    }
   ],
   "source": [
    "upsampled_data"
   ]
  },
  {
   "cell_type": "code",
   "execution_count": 19,
   "id": "527c9787",
   "metadata": {},
   "outputs": [],
   "source": [
    "upsa_x = upsampled_data.drop('fraud', axis=1)\n",
    "upsa_y = upsampled_data.iloc[:,-1:].values"
   ]
  },
  {
   "cell_type": "code",
   "execution_count": 20,
   "id": "91e8a0ea",
   "metadata": {},
   "outputs": [
    {
     "data": {
      "text/plain": [
       "(        distance_from_home  distance_from_last_transaction  \\\n",
       " 0                57.877857                        0.311140   \n",
       " 1                10.829943                        0.175592   \n",
       " 2                 5.091079                        0.805153   \n",
       " 3                 2.247564                        5.600044   \n",
       " 4                44.190936                        0.566486   \n",
       " ...                    ...                             ...   \n",
       " 851922           11.007025                        0.386596   \n",
       " 495625           35.813249                        1.360039   \n",
       " 930081          286.643708                        0.037750   \n",
       " 827484            2.089931                        0.198649   \n",
       " 349415           22.251491                        8.169915   \n",
       " \n",
       "         ratio_to_median_purchase_price  repeat_retailer  used_chip  \\\n",
       " 0                             1.945940              1.0        1.0   \n",
       " 1                             1.294219              1.0        0.0   \n",
       " 2                             0.427715              1.0        0.0   \n",
       " 3                             0.362663              1.0        1.0   \n",
       " 4                             2.222767              1.0        1.0   \n",
       " ...                                ...              ...        ...   \n",
       " 851922                        4.666583              1.0        0.0   \n",
       " 495625                        5.386531              1.0        1.0   \n",
       " 930081                        5.021484              1.0        0.0   \n",
       " 827484                        5.847176              1.0        1.0   \n",
       " 349415                        9.528499              1.0        1.0   \n",
       " \n",
       "         used_pin_number  online_order  \n",
       " 0                   0.0           0.0  \n",
       " 1                   0.0           0.0  \n",
       " 2                   0.0           1.0  \n",
       " 3                   0.0           1.0  \n",
       " 4                   0.0           1.0  \n",
       " ...                 ...           ...  \n",
       " 851922              0.0           1.0  \n",
       " 495625              0.0           1.0  \n",
       " 930081              1.0           1.0  \n",
       " 827484              0.0           1.0  \n",
       " 349415              0.0           1.0  \n",
       " \n",
       " [1825194 rows x 7 columns],\n",
       " array([[0.],\n",
       "        [0.],\n",
       "        [0.],\n",
       "        ...,\n",
       "        [1.],\n",
       "        [1.],\n",
       "        [1.]]))"
      ]
     },
     "execution_count": 20,
     "metadata": {},
     "output_type": "execute_result"
    }
   ],
   "source": [
    "upsa_x,upsa_y"
   ]
  },
  {
   "cell_type": "code",
   "execution_count": 21,
   "id": "25eb5ce3",
   "metadata": {},
   "outputs": [],
   "source": [
    "# spliting train and Test dataset\n",
    "xtrain,xtest,ytrain,ytest = train_test_split(upsa_x,upsa_y,test_size=0.25,random_state=2)"
   ]
  },
  {
   "cell_type": "code",
   "execution_count": 22,
   "id": "90db1f09",
   "metadata": {},
   "outputs": [
    {
     "name": "stderr",
     "output_type": "stream",
     "text": [
      "C:\\Users\\2001s\\anaconda3\\Lib\\site-packages\\sklearn\\utils\\validation.py:1111: DataConversionWarning: A column-vector y was passed when a 1d array was expected. Please change the shape of y to (n_samples, ), for example using ravel().\n",
      "  y = column_or_1d(y, warn=True)\n"
     ]
    },
    {
     "data": {
      "text/plain": [
       "array([1., 0., 0., ..., 0., 1., 1.])"
      ]
     },
     "execution_count": 22,
     "metadata": {},
     "output_type": "execute_result"
    }
   ],
   "source": [
    "upsample_log_reg = LogisticRegression(solver='liblinear')\n",
    "upsample_log_reg.fit(xtrain,ytrain)\n",
    "upsample_log_pred = upsample_log_reg.predict(xtest)\n",
    "upsample_log_pred"
   ]
  },
  {
   "cell_type": "code",
   "execution_count": 23,
   "id": "a3eae06a",
   "metadata": {},
   "outputs": [
    {
     "name": "stdout",
     "output_type": "stream",
     "text": [
      "Accuracy Score: \t 0.9411109820534342\n",
      "\n",
      "Confusion Matrix: \n",
      " [[212733  15259]\n",
      " [ 11612 216695]]\n",
      "\n",
      "classification Report :\n",
      "               precision    recall  f1-score   support\n",
      "\n",
      "         0.0       0.95      0.93      0.94    227992\n",
      "         1.0       0.93      0.95      0.94    228307\n",
      "\n",
      "    accuracy                           0.94    456299\n",
      "   macro avg       0.94      0.94      0.94    456299\n",
      "weighted avg       0.94      0.94      0.94    456299\n",
      "\n"
     ]
    }
   ],
   "source": [
    "print(\"Accuracy Score: \\t\",accuracy_score(ytest,upsample_log_pred))\n",
    "print()\n",
    "print(\"Confusion Matrix: \\n\",confusion_matrix(ytest,upsample_log_pred))\n",
    "print()\n",
    "print(\"classification Report :\\n\", classification_report(ytest,upsample_log_pred))"
   ]
  },
  {
   "cell_type": "code",
   "execution_count": 24,
   "id": "59e6d39c",
   "metadata": {},
   "outputs": [],
   "source": [
    "# Downsampling\n",
    "downsampled_majority = majority_class.sample(n=len(minority_class), random_state=2)\n",
    "\n",
    "# Combine the downsampled majority class with the minority class\n",
    "downsampled_data = pd.concat([downsampled_majority, minority_class])"
   ]
  },
  {
   "cell_type": "code",
   "execution_count": 25,
   "id": "31f242ed",
   "metadata": {},
   "outputs": [],
   "source": [
    "downsa_x = downsampled_data.iloc[:,:-1].values\n",
    "downsa_y = downsampled_data.iloc[:,-1:].values"
   ]
  },
  {
   "cell_type": "code",
   "execution_count": 26,
   "id": "bda0465e",
   "metadata": {},
   "outputs": [],
   "source": [
    "# spliting train and Test dataset\n",
    "xtrain,xtest,ytrain,ytest = train_test_split(downsa_x,downsa_y,test_size=0.25,random_state=2)"
   ]
  },
  {
   "cell_type": "code",
   "execution_count": 27,
   "id": "1d72af4e",
   "metadata": {},
   "outputs": [
    {
     "name": "stderr",
     "output_type": "stream",
     "text": [
      "C:\\Users\\2001s\\anaconda3\\Lib\\site-packages\\sklearn\\utils\\validation.py:1111: DataConversionWarning: A column-vector y was passed when a 1d array was expected. Please change the shape of y to (n_samples, ), for example using ravel().\n",
      "  y = column_or_1d(y, warn=True)\n"
     ]
    },
    {
     "data": {
      "text/plain": [
       "array([0., 1., 0., ..., 0., 0., 0.])"
      ]
     },
     "execution_count": 27,
     "metadata": {},
     "output_type": "execute_result"
    }
   ],
   "source": [
    "downsample_log_reg = LogisticRegression(solver='liblinear')\n",
    "downsample_log_reg.fit(xtrain,ytrain)\n",
    "downsample_log_pred = downsample_log_reg.predict(xtest)\n",
    "downsample_log_pred"
   ]
  },
  {
   "cell_type": "code",
   "execution_count": 28,
   "id": "9b375641",
   "metadata": {},
   "outputs": [
    {
     "name": "stdout",
     "output_type": "stream",
     "text": [
      "Accuracy Score: \t 0.9400256281177063\n",
      "\n",
      "Confusion Matrix: \n",
      " [[20327  1489]\n",
      " [ 1132 20754]]\n",
      "\n",
      "classification Report :\n",
      "               precision    recall  f1-score   support\n",
      "\n",
      "         0.0       0.95      0.93      0.94     21816\n",
      "         1.0       0.93      0.95      0.94     21886\n",
      "\n",
      "    accuracy                           0.94     43702\n",
      "   macro avg       0.94      0.94      0.94     43702\n",
      "weighted avg       0.94      0.94      0.94     43702\n",
      "\n"
     ]
    }
   ],
   "source": [
    "print(\"Accuracy Score: \\t\",accuracy_score(ytest,downsample_log_pred))\n",
    "print()\n",
    "print(\"Confusion Matrix: \\n\",confusion_matrix(ytest,downsample_log_pred))\n",
    "print()\n",
    "print(\"classification Report :\\n\", classification_report(ytest,downsample_log_pred))"
   ]
  },
  {
   "cell_type": "code",
   "execution_count": 35,
   "id": "bba5a0dc",
   "metadata": {},
   "outputs": [
    {
     "data": {
      "text/plain": [
       "(43702, 7)"
      ]
     },
     "execution_count": 35,
     "metadata": {},
     "output_type": "execute_result"
    }
   ],
   "source": [
    "# Using synthetic data generation techniques (e.g., SMOTE)\n",
    "\n",
    "from sklearn.datasets import make_classification\n",
    "from imblearn.over_sampling import SMOTE\n",
    "from sklearn.preprocessing import StandardScaler\n",
    "\n",
    "# Scale the training and test data\n",
    "scaler = StandardScaler()\n",
    "X_train_scaled = scaler.fit_transform(xtrain)\n",
    "X_test_scaled = scaler.transform(xtest)\n",
    "\n",
    "smote = SMOTE()\n",
    "X_train_resampled, y_train_resampled = smote.fit_resample(X_train_scaled, ytrain)\n",
    "\n"
   ]
  },
  {
   "cell_type": "code",
   "execution_count": 40,
   "id": "1bc6d51e",
   "metadata": {},
   "outputs": [
    {
     "data": {
      "text/plain": [
       "((43702, 7), (131104, 7), (131174, 7))"
      ]
     },
     "execution_count": 40,
     "metadata": {},
     "output_type": "execute_result"
    }
   ],
   "source": [
    "X_test_scaled.shape,X_train_scaled.shape,X_train_resampled.shape"
   ]
  },
  {
   "cell_type": "code",
   "execution_count": 41,
   "id": "313cc3d9",
   "metadata": {},
   "outputs": [],
   "source": [
    "# spliting train and Test dataset\n",
    "xtrain,xtest,ytrain,ytest = train_test_split(X_train_resampled,y_train_resampled,test_size=0.25,random_state=2)"
   ]
  },
  {
   "cell_type": "code",
   "execution_count": 44,
   "id": "a7bffaf5",
   "metadata": {},
   "outputs": [
    {
     "data": {
      "text/plain": [
       "array([1., 0., 1., ..., 0., 1., 0.])"
      ]
     },
     "execution_count": 44,
     "metadata": {},
     "output_type": "execute_result"
    }
   ],
   "source": [
    "smote_log_reg = LogisticRegression(solver='liblinear')\n",
    "smote_log_reg.fit(xtrain,ytrain)\n",
    "smote_log_pred = smote_log_reg.predict(xtest)\n",
    "smote_log_pred"
   ]
  },
  {
   "cell_type": "code",
   "execution_count": 45,
   "id": "4983feda",
   "metadata": {},
   "outputs": [
    {
     "name": "stdout",
     "output_type": "stream",
     "text": [
      "Accuracy Score: \t 0.9401719826797585\n",
      "\n",
      "Confusion Matrix: \n",
      " [[15329  1134]\n",
      " [  828 15503]]\n",
      "\n",
      "classification Report :\n",
      "               precision    recall  f1-score   support\n",
      "\n",
      "         0.0       0.95      0.93      0.94     16463\n",
      "         1.0       0.93      0.95      0.94     16331\n",
      "\n",
      "    accuracy                           0.94     32794\n",
      "   macro avg       0.94      0.94      0.94     32794\n",
      "weighted avg       0.94      0.94      0.94     32794\n",
      "\n"
     ]
    }
   ],
   "source": [
    "print(\"Accuracy Score: \\t\",accuracy_score(ytest,smote_log_pred))\n",
    "print()\n",
    "print(\"Confusion Matrix: \\n\",confusion_matrix(ytest,smote_log_pred))\n",
    "print()\n",
    "print(\"classification Report :\\n\", classification_report(ytest,smote_log_pred))"
   ]
  },
  {
   "cell_type": "code",
   "execution_count": 29,
   "id": "60505fc7",
   "metadata": {},
   "outputs": [
    {
     "data": {
      "text/plain": [
       "array([[  0.0151646 ,   0.02449207,   0.86096227,  -0.62260492,\n",
       "         -1.04048923, -13.35022274,   6.67488996]])"
      ]
     },
     "execution_count": 29,
     "metadata": {},
     "output_type": "execute_result"
    }
   ],
   "source": [
    "#coefficient\n",
    "log_reg.coef_"
   ]
  },
  {
   "cell_type": "code",
   "execution_count": 30,
   "id": "cfbe1847",
   "metadata": {},
   "outputs": [
    {
     "data": {
      "text/plain": [
       "array([-10.37644757])"
      ]
     },
     "execution_count": 30,
     "metadata": {},
     "output_type": "execute_result"
    }
   ],
   "source": [
    "# interpret\n",
    "log_reg.intercept_"
   ]
  },
  {
   "cell_type": "code",
   "execution_count": null,
   "id": "cd52e0e6",
   "metadata": {},
   "outputs": [],
   "source": [
    "# model comparison\n",
    "\n",
    "Among all the methods like upsampling,downsampling,SMOTE and \n",
    "Feature Engineering of Logistic Regression model has Accuracy less than\n",
    "the normal Logistic Regression model\n"
   ]
  }
 ],
 "metadata": {
  "kernelspec": {
   "display_name": "Python 3 (ipykernel)",
   "language": "python",
   "name": "python3"
  },
  "language_info": {
   "codemirror_mode": {
    "name": "ipython",
    "version": 3
   },
   "file_extension": ".py",
   "mimetype": "text/x-python",
   "name": "python",
   "nbconvert_exporter": "python",
   "pygments_lexer": "ipython3",
   "version": "3.11.4"
  }
 },
 "nbformat": 4,
 "nbformat_minor": 5
}
