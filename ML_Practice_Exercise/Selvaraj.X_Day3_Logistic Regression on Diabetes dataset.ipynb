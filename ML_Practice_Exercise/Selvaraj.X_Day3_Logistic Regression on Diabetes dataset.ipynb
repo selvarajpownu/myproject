{
 "cells": [
  {
   "cell_type": "code",
   "execution_count": 56,
   "id": "f3c96510",
   "metadata": {},
   "outputs": [],
   "source": [
    "import numpy as np\n",
    "import pandas as pd\n",
    "import matplotlib.pyplot as plt\n",
    "import seaborn as sns \n",
    "\n",
    "from sklearn.model_selection import train_test_split \n",
    "from sklearn.linear_model import LogisticRegression"
   ]
  },
  {
   "cell_type": "code",
   "execution_count": 57,
   "id": "d99236db",
   "metadata": {},
   "outputs": [
    {
     "data": {
      "text/html": [
       "<div>\n",
       "<style scoped>\n",
       "    .dataframe tbody tr th:only-of-type {\n",
       "        vertical-align: middle;\n",
       "    }\n",
       "\n",
       "    .dataframe tbody tr th {\n",
       "        vertical-align: top;\n",
       "    }\n",
       "\n",
       "    .dataframe thead th {\n",
       "        text-align: right;\n",
       "    }\n",
       "</style>\n",
       "<table border=\"1\" class=\"dataframe\">\n",
       "  <thead>\n",
       "    <tr style=\"text-align: right;\">\n",
       "      <th></th>\n",
       "      <th>Pregnancies</th>\n",
       "      <th>Glucose</th>\n",
       "      <th>BloodPressure</th>\n",
       "      <th>SkinThickness</th>\n",
       "      <th>Insulin</th>\n",
       "      <th>BMI</th>\n",
       "      <th>DiabetesPedigreeFunction</th>\n",
       "      <th>Age</th>\n",
       "      <th>Outcome</th>\n",
       "    </tr>\n",
       "  </thead>\n",
       "  <tbody>\n",
       "    <tr>\n",
       "      <th>0</th>\n",
       "      <td>6.0</td>\n",
       "      <td>148</td>\n",
       "      <td>72</td>\n",
       "      <td>35.0</td>\n",
       "      <td>0</td>\n",
       "      <td>33.6</td>\n",
       "      <td>0.627</td>\n",
       "      <td>50.0</td>\n",
       "      <td>1</td>\n",
       "    </tr>\n",
       "    <tr>\n",
       "      <th>1</th>\n",
       "      <td>NaN</td>\n",
       "      <td>85</td>\n",
       "      <td>66</td>\n",
       "      <td>29.0</td>\n",
       "      <td>0</td>\n",
       "      <td>26.6</td>\n",
       "      <td>0.351</td>\n",
       "      <td>NaN</td>\n",
       "      <td>0</td>\n",
       "    </tr>\n",
       "    <tr>\n",
       "      <th>2</th>\n",
       "      <td>8.0</td>\n",
       "      <td>183</td>\n",
       "      <td>64</td>\n",
       "      <td>0.0</td>\n",
       "      <td>0</td>\n",
       "      <td>NaN</td>\n",
       "      <td>0.672</td>\n",
       "      <td>32.0</td>\n",
       "      <td>1</td>\n",
       "    </tr>\n",
       "    <tr>\n",
       "      <th>3</th>\n",
       "      <td>1.0</td>\n",
       "      <td>89</td>\n",
       "      <td>66</td>\n",
       "      <td>23.0</td>\n",
       "      <td>94</td>\n",
       "      <td>28.1</td>\n",
       "      <td>0.167</td>\n",
       "      <td>21.0</td>\n",
       "      <td>0</td>\n",
       "    </tr>\n",
       "    <tr>\n",
       "      <th>4</th>\n",
       "      <td>0.0</td>\n",
       "      <td>137</td>\n",
       "      <td>40</td>\n",
       "      <td>35.0</td>\n",
       "      <td>168</td>\n",
       "      <td>43.1</td>\n",
       "      <td>2.288</td>\n",
       "      <td>33.0</td>\n",
       "      <td>1</td>\n",
       "    </tr>\n",
       "  </tbody>\n",
       "</table>\n",
       "</div>"
      ],
      "text/plain": [
       "   Pregnancies  Glucose  BloodPressure  SkinThickness  Insulin   BMI  \\\n",
       "0          6.0      148             72           35.0        0  33.6   \n",
       "1          NaN       85             66           29.0        0  26.6   \n",
       "2          8.0      183             64            0.0        0   NaN   \n",
       "3          1.0       89             66           23.0       94  28.1   \n",
       "4          0.0      137             40           35.0      168  43.1   \n",
       "\n",
       "   DiabetesPedigreeFunction   Age  Outcome  \n",
       "0                     0.627  50.0        1  \n",
       "1                     0.351   NaN        0  \n",
       "2                     0.672  32.0        1  \n",
       "3                     0.167  21.0        0  \n",
       "4                     2.288  33.0        1  "
      ]
     },
     "execution_count": 57,
     "metadata": {},
     "output_type": "execute_result"
    }
   ],
   "source": [
    "data = pd.read_csv('data/diabetes_na.csv')\n",
    "data.head()"
   ]
  },
  {
   "cell_type": "code",
   "execution_count": 58,
   "id": "a510f538",
   "metadata": {},
   "outputs": [
    {
     "data": {
      "text/plain": [
       "Pregnancies                 2\n",
       "Glucose                     0\n",
       "BloodPressure               0\n",
       "SkinThickness               1\n",
       "Insulin                     0\n",
       "BMI                         1\n",
       "DiabetesPedigreeFunction    0\n",
       "Age                         1\n",
       "Outcome                     0\n",
       "dtype: int64"
      ]
     },
     "execution_count": 58,
     "metadata": {},
     "output_type": "execute_result"
    }
   ],
   "source": [
    "data.isna().sum()"
   ]
  },
  {
   "cell_type": "code",
   "execution_count": 59,
   "id": "5abfcc46",
   "metadata": {},
   "outputs": [
    {
     "data": {
      "text/plain": [
       "Pregnancies                 0\n",
       "Glucose                     0\n",
       "BloodPressure               0\n",
       "SkinThickness               0\n",
       "Insulin                     0\n",
       "BMI                         0\n",
       "DiabetesPedigreeFunction    0\n",
       "Age                         0\n",
       "Outcome                     0\n",
       "dtype: int64"
      ]
     },
     "execution_count": 59,
     "metadata": {},
     "output_type": "execute_result"
    }
   ],
   "source": [
    "df = data.fillna(method='bfill')\n",
    "df.isna().sum()"
   ]
  },
  {
   "cell_type": "code",
   "execution_count": null,
   "id": "fde2b3c1",
   "metadata": {},
   "outputs": [],
   "source": [
    "x = df.iloc[:,:-1].values\n",
    "y = df.iloc[:,-1:].values"
   ]
  },
  {
   "cell_type": "code",
   "execution_count": null,
   "id": "86ec87e8",
   "metadata": {},
   "outputs": [],
   "source": [
    "# spliting train and Test dataset\n",
    "xtrain,xtest,ytrain,ytest = train_test_split(x,y,test_size=0.25,random_state=2)"
   ]
  },
  {
   "cell_type": "code",
   "execution_count": 61,
   "id": "920c1300",
   "metadata": {},
   "outputs": [
    {
     "name": "stderr",
     "output_type": "stream",
     "text": [
      "C:\\Users\\2001s\\anaconda3\\Lib\\site-packages\\sklearn\\utils\\validation.py:1111: DataConversionWarning: A column-vector y was passed when a 1d array was expected. Please change the shape of y to (n_samples, ), for example using ravel().\n",
      "  y = column_or_1d(y, warn=True)\n"
     ]
    },
    {
     "data": {
      "text/plain": [
       "array([0, 0, 0, 0, 0, 0, 0, 0, 0, 1, 0, 0, 1, 0, 0, 1, 1, 0, 0, 1, 1, 1,\n",
       "       0, 0, 0, 0, 1, 0, 0, 0, 0, 0, 0, 0, 0, 1, 0, 1, 0, 0, 0, 0, 1, 0,\n",
       "       0, 0, 0, 0, 0, 0, 1, 0, 0, 1, 0, 0, 1, 0, 0, 0, 0, 1, 1, 1, 0, 0,\n",
       "       1, 0, 0, 0, 0, 0, 0, 0, 0, 1, 0, 0, 0, 0, 0, 0, 0, 0, 1, 0, 0, 0,\n",
       "       0, 0, 0, 0, 0, 0, 0, 1, 0, 1, 1, 0, 0, 1, 0, 0, 0, 0, 1, 0, 0, 0,\n",
       "       0, 0, 0, 0, 0, 1, 0, 0, 0, 0, 0, 0, 0, 0, 0, 1, 0, 0, 0, 0, 1, 0,\n",
       "       0, 0, 1, 1, 0, 0, 0, 1, 0, 1, 0, 0, 0, 0, 0, 0, 0, 0, 0, 0, 0, 0,\n",
       "       0, 0, 0, 1, 0, 1, 0, 0, 0, 0, 0, 0, 0, 1, 0, 0, 0, 1, 0, 0, 0, 0,\n",
       "       0, 0, 0, 0, 0, 0, 1, 0, 0, 0, 0, 0, 0, 1, 0, 0], dtype=int64)"
      ]
     },
     "execution_count": 61,
     "metadata": {},
     "output_type": "execute_result"
    }
   ],
   "source": [
    "log_reg = LogisticRegression(solver='liblinear')\n",
    "log_reg.fit(xtrain,ytrain)\n",
    "log_pred = log_reg.predict(xtest)\n",
    "log_pred"
   ]
  },
  {
   "cell_type": "code",
   "execution_count": 97,
   "id": "650d2b23",
   "metadata": {},
   "outputs": [
    {
     "data": {
      "text/plain": [
       "192"
      ]
     },
     "execution_count": 97,
     "metadata": {},
     "output_type": "execute_result"
    }
   ],
   "source": [
    "len(log_pred)"
   ]
  },
  {
   "cell_type": "code",
   "execution_count": 62,
   "id": "fa9c2e9a",
   "metadata": {},
   "outputs": [
    {
     "name": "stdout",
     "output_type": "stream",
     "text": [
      "Accuracy Score \t 0.7604166666666666\n",
      "Confusion Matrix \t [[121  13]\n",
      " [ 33  25]]\n",
      "classification Report \t               precision    recall  f1-score   support\n",
      "\n",
      "           0       0.79      0.90      0.84       134\n",
      "           1       0.66      0.43      0.52        58\n",
      "\n",
      "    accuracy                           0.76       192\n",
      "   macro avg       0.72      0.67      0.68       192\n",
      "weighted avg       0.75      0.76      0.74       192\n",
      "\n"
     ]
    }
   ],
   "source": [
    "# performance Measures\n",
    "\n",
    "from sklearn.metrics import accuracy_score,confusion_matrix,classification_report\n",
    "\n",
    "print(\"Accuracy Score \\t\",accuracy_score(ytest,log_pred))\n",
    "print(\"Confusion Matrix \\t\",confusion_matrix(ytest,log_pred))\n",
    "print(\"classification Report \\t\", classification_report(ytest,log_pred))"
   ]
  },
  {
   "cell_type": "code",
   "execution_count": 63,
   "id": "a49dcdca",
   "metadata": {},
   "outputs": [
    {
     "data": {
      "text/plain": [
       "{'C': 1.0,\n",
       " 'class_weight': None,\n",
       " 'dual': False,\n",
       " 'fit_intercept': True,\n",
       " 'intercept_scaling': 1,\n",
       " 'l1_ratio': None,\n",
       " 'max_iter': 100,\n",
       " 'multi_class': 'auto',\n",
       " 'n_jobs': None,\n",
       " 'penalty': 'l2',\n",
       " 'random_state': None,\n",
       " 'solver': 'liblinear',\n",
       " 'tol': 0.0001,\n",
       " 'verbose': 0,\n",
       " 'warm_start': False}"
      ]
     },
     "execution_count": 63,
     "metadata": {},
     "output_type": "execute_result"
    }
   ],
   "source": [
    "log_reg.get_params()"
   ]
  },
  {
   "cell_type": "code",
   "execution_count": 69,
   "id": "97ab7d9c",
   "metadata": {},
   "outputs": [],
   "source": [
    "# ROC Curve\n",
    "# finding the probabilties of all samples.\n",
    "\n",
    "log_prob=log_reg.predict_proba(xtest)[:,1]"
   ]
  },
  {
   "cell_type": "code",
   "execution_count": 70,
   "id": "b1d86b5e",
   "metadata": {},
   "outputs": [
    {
     "data": {
      "text/plain": [
       "array([0.08866522, 0.20435858, 0.11851859, 0.20294092, 0.45907642,\n",
       "       0.17105769, 0.11084799, 0.42839368, 0.10476779, 0.54997449,\n",
       "       0.4138107 , 0.46049792, 0.7054914 , 0.20449237, 0.05026097,\n",
       "       0.78688753, 0.79831468, 0.07028641, 0.33818831, 0.80800738,\n",
       "       0.91464034, 0.79013158, 0.17503598, 0.32744759, 0.14755621,\n",
       "       0.11410799, 0.54291248, 0.37265134, 0.19656906, 0.31019846,\n",
       "       0.24430981, 0.43058578, 0.06675678, 0.27557248, 0.40641509,\n",
       "       0.9200716 , 0.35746867, 0.75684716, 0.31756236, 0.11258514,\n",
       "       0.25101752, 0.1009352 , 0.58546362, 0.22503329, 0.05905463,\n",
       "       0.08312015, 0.27409398, 0.43344043, 0.12994607, 0.44022003,\n",
       "       0.96313272, 0.09594847, 0.32136478, 0.73733006, 0.37600542,\n",
       "       0.47334514, 0.88165521, 0.38264966, 0.2580877 , 0.09171063,\n",
       "       0.40420982, 0.81081807, 0.79040269, 0.8408945 , 0.32465101,\n",
       "       0.11975108, 0.9366833 , 0.3496819 , 0.32312925, 0.34307948,\n",
       "       0.14510841, 0.11635831, 0.47319775, 0.12563098, 0.13923925,\n",
       "       0.50898346, 0.38917931, 0.12185231, 0.2832471 , 0.38625648,\n",
       "       0.08116385, 0.19559189, 0.06672813, 0.24569157, 0.64241638,\n",
       "       0.29221838, 0.1120133 , 0.15054435, 0.21748673, 0.4936927 ,\n",
       "       0.1653367 , 0.28059722, 0.15679128, 0.21935327, 0.16386666,\n",
       "       0.59381462, 0.34033721, 0.50306886, 0.58430225, 0.08063988,\n",
       "       0.39930199, 0.53361609, 0.14962773, 0.13701795, 0.25888293,\n",
       "       0.16893373, 0.96183363, 0.19769344, 0.14023066, 0.0062564 ,\n",
       "       0.07819847, 0.34973277, 0.45943785, 0.11077546, 0.30029384,\n",
       "       0.58234868, 0.4694953 , 0.33474106, 0.19920521, 0.2183141 ,\n",
       "       0.03794259, 0.26107033, 0.16521941, 0.15906715, 0.29395914,\n",
       "       0.80422802, 0.19717426, 0.42526383, 0.34990528, 0.44552396,\n",
       "       0.58028237, 0.27668917, 0.44132716, 0.10767028, 0.63853772,\n",
       "       0.55064001, 0.29953097, 0.28174145, 0.22395797, 0.50202239,\n",
       "       0.16486136, 0.55729691, 0.17639033, 0.35136416, 0.26939351,\n",
       "       0.27196478, 0.05487329, 0.38713241, 0.06296282, 0.19690819,\n",
       "       0.12318892, 0.23688555, 0.48509578, 0.05777775, 0.17764574,\n",
       "       0.09074317, 0.16681763, 0.82963979, 0.1037006 , 0.77297838,\n",
       "       0.22735674, 0.00984369, 0.34606422, 0.08820885, 0.16880156,\n",
       "       0.10897902, 0.3876452 , 0.83335815, 0.27679365, 0.12723902,\n",
       "       0.28904639, 0.69795221, 0.17739537, 0.21771899, 0.153816  ,\n",
       "       0.29469029, 0.4540178 , 0.34654203, 0.2758113 , 0.10039589,\n",
       "       0.19438827, 0.07066003, 0.71955847, 0.42776952, 0.0834161 ,\n",
       "       0.10964379, 0.10996983, 0.40012843, 0.16885002, 0.69841666,\n",
       "       0.25509982, 0.20542219])"
      ]
     },
     "execution_count": 70,
     "metadata": {},
     "output_type": "execute_result"
    }
   ],
   "source": [
    "log_prob"
   ]
  },
  {
   "cell_type": "code",
   "execution_count": 71,
   "id": "3855b507",
   "metadata": {},
   "outputs": [],
   "source": [
    "from sklearn.metrics import roc_curve,roc_auc_score,auc\n",
    "\n",
    "# calculate ROC & AUC\n",
    "\n",
    "fpr,tpr,thresholds = roc_curve(ytest,log_prob)\n",
    "roc_curve =auc(fpr,tpr)"
   ]
  },
  {
   "cell_type": "code",
   "execution_count": 72,
   "id": "fd6f76b6",
   "metadata": {},
   "outputs": [
    {
     "data": {
      "image/png": "[encoded data removed]",
      "text/plain": [
       "<Figure size 640x480 with 1 Axes>"
      ]
     },
     "metadata": {},
     "output_type": "display_data"
    }
   ],
   "source": [
    "plt.plot(fpr,tpr,label='ROC curve')\n",
    "plt.xlabel('False Positive rate')\n",
    "plt.ylabel('True Positive rate')\n",
    "plt.title('ROC Curve')\n",
    "plt.legend()\n",
    "plt.show()"
   ]
  },
  {
   "cell_type": "code",
   "execution_count": 73,
   "id": "f6846e46",
   "metadata": {},
   "outputs": [
    {
     "data": {
      "text/plain": [
       "0.7759907359752959"
      ]
     },
     "execution_count": 73,
     "metadata": {},
     "output_type": "execute_result"
    }
   ],
   "source": [
    "roc_curve"
   ]
  },
  {
   "cell_type": "code",
   "execution_count": 76,
   "id": "dcc1cc74",
   "metadata": {},
   "outputs": [
    {
     "data": {
      "text/plain": [
       "array([[121,  13],\n",
       "       [ 33,  25]], dtype=int64)"
      ]
     },
     "execution_count": 76,
     "metadata": {},
     "output_type": "execute_result"
    }
   ],
   "source": [
    "Confusion_Matrix = confusion_matrix(ytest,log_pred)\n",
    "Confusion_Matrix"
   ]
  },
  {
   "cell_type": "code",
   "execution_count": 83,
   "id": "1741424e",
   "metadata": {},
   "outputs": [
    {
     "data": {
      "image/png": "[encoded data removed]",
      "text/plain": [
       "<Figure size 800x600 with 2 Axes>"
      ]
     },
     "metadata": {},
     "output_type": "display_data"
    }
   ],
   "source": [
    "plt.figure(figsize=(8, 6))\n",
    "sns.heatmap(Confusion_Matrix, annot=True, fmt='d', xticklabels=['Predicted 0 (No diabetes)', 'Predicted 1 (Have Diabetes)'],\n",
    "            yticklabels=['Actual 0', 'Actual 1'])\n",
    "plt.xlabel('Predicted')\n",
    "plt.ylabel('Actual')\n",
    "plt.show()"
   ]
  },
  {
   "cell_type": "code",
   "execution_count": 84,
   "id": "0d6a9478",
   "metadata": {},
   "outputs": [
    {
     "data": {
      "text/plain": [
       "0    500\n",
       "1    268\n",
       "Name: Outcome, dtype: int64"
      ]
     },
     "execution_count": 84,
     "metadata": {},
     "output_type": "execute_result"
    }
   ],
   "source": [
    "df['Outcome'].value_counts()"
   ]
  },
  {
   "cell_type": "markdown",
   "id": "bee77ca6",
   "metadata": {},
   "source": [
    "## Upsampling"
   ]
  },
  {
   "cell_type": "code",
   "execution_count": 109,
   "id": "42c16034",
   "metadata": {},
   "outputs": [],
   "source": [
    "# Upsampling\n",
    "\n",
    "# Separate the majority and minority classes\n",
    "from sklearn.utils import resample\n",
    "\n",
    "majority_class = df[df['Outcome'] == 0]\n",
    "minority_class = df[df['Outcome'] == 1]\n",
    "\n",
    "# Upsample the minority class to match the number of samples in the majority class\n",
    "upsampled_minority = resample(minority_class, replace=True, n_samples=len(majority_class), random_state=2)\n",
    "\n",
    "# Combine the upsampled minority class with the majority class\n",
    "upsampled_data = pd.concat([majority_class, upsampled_minority])"
   ]
  },
  {
   "cell_type": "code",
   "execution_count": 110,
   "id": "a3344b11",
   "metadata": {},
   "outputs": [
    {
     "data": {
      "text/plain": [
       "0    500\n",
       "1    500\n",
       "Name: Outcome, dtype: int64"
      ]
     },
     "execution_count": 110,
     "metadata": {},
     "output_type": "execute_result"
    }
   ],
   "source": [
    "upsampled_data['Outcome'].value_counts()"
   ]
  },
  {
   "cell_type": "code",
   "execution_count": 111,
   "id": "6bc46419",
   "metadata": {},
   "outputs": [
    {
     "data": {
      "text/html": [
       "<div>\n",
       "<style scoped>\n",
       "    .dataframe tbody tr th:only-of-type {\n",
       "        vertical-align: middle;\n",
       "    }\n",
       "\n",
       "    .dataframe tbody tr th {\n",
       "        vertical-align: top;\n",
       "    }\n",
       "\n",
       "    .dataframe thead th {\n",
       "        text-align: right;\n",
       "    }\n",
       "</style>\n",
       "<table border=\"1\" class=\"dataframe\">\n",
       "  <thead>\n",
       "    <tr style=\"text-align: right;\">\n",
       "      <th></th>\n",
       "      <th>Pregnancies</th>\n",
       "      <th>Glucose</th>\n",
       "      <th>BloodPressure</th>\n",
       "      <th>SkinThickness</th>\n",
       "      <th>Insulin</th>\n",
       "      <th>BMI</th>\n",
       "      <th>DiabetesPedigreeFunction</th>\n",
       "      <th>Age</th>\n",
       "      <th>Outcome</th>\n",
       "    </tr>\n",
       "  </thead>\n",
       "  <tbody>\n",
       "    <tr>\n",
       "      <th>1</th>\n",
       "      <td>8.0</td>\n",
       "      <td>85</td>\n",
       "      <td>66</td>\n",
       "      <td>29.0</td>\n",
       "      <td>0</td>\n",
       "      <td>26.6</td>\n",
       "      <td>0.351</td>\n",
       "      <td>32.0</td>\n",
       "      <td>0</td>\n",
       "    </tr>\n",
       "    <tr>\n",
       "      <th>3</th>\n",
       "      <td>1.0</td>\n",
       "      <td>89</td>\n",
       "      <td>66</td>\n",
       "      <td>23.0</td>\n",
       "      <td>94</td>\n",
       "      <td>28.1</td>\n",
       "      <td>0.167</td>\n",
       "      <td>21.0</td>\n",
       "      <td>0</td>\n",
       "    </tr>\n",
       "    <tr>\n",
       "      <th>5</th>\n",
       "      <td>5.0</td>\n",
       "      <td>116</td>\n",
       "      <td>74</td>\n",
       "      <td>0.0</td>\n",
       "      <td>0</td>\n",
       "      <td>25.6</td>\n",
       "      <td>0.201</td>\n",
       "      <td>30.0</td>\n",
       "      <td>0</td>\n",
       "    </tr>\n",
       "    <tr>\n",
       "      <th>7</th>\n",
       "      <td>10.0</td>\n",
       "      <td>115</td>\n",
       "      <td>0</td>\n",
       "      <td>0.0</td>\n",
       "      <td>0</td>\n",
       "      <td>35.3</td>\n",
       "      <td>0.134</td>\n",
       "      <td>29.0</td>\n",
       "      <td>0</td>\n",
       "    </tr>\n",
       "    <tr>\n",
       "      <th>10</th>\n",
       "      <td>4.0</td>\n",
       "      <td>110</td>\n",
       "      <td>92</td>\n",
       "      <td>0.0</td>\n",
       "      <td>0</td>\n",
       "      <td>37.6</td>\n",
       "      <td>0.191</td>\n",
       "      <td>30.0</td>\n",
       "      <td>0</td>\n",
       "    </tr>\n",
       "    <tr>\n",
       "      <th>...</th>\n",
       "      <td>...</td>\n",
       "      <td>...</td>\n",
       "      <td>...</td>\n",
       "      <td>...</td>\n",
       "      <td>...</td>\n",
       "      <td>...</td>\n",
       "      <td>...</td>\n",
       "      <td>...</td>\n",
       "      <td>...</td>\n",
       "    </tr>\n",
       "    <tr>\n",
       "      <th>603</th>\n",
       "      <td>7.0</td>\n",
       "      <td>150</td>\n",
       "      <td>78</td>\n",
       "      <td>29.0</td>\n",
       "      <td>126</td>\n",
       "      <td>35.2</td>\n",
       "      <td>0.692</td>\n",
       "      <td>54.0</td>\n",
       "      <td>1</td>\n",
       "    </tr>\n",
       "    <tr>\n",
       "      <th>130</th>\n",
       "      <td>4.0</td>\n",
       "      <td>173</td>\n",
       "      <td>70</td>\n",
       "      <td>14.0</td>\n",
       "      <td>168</td>\n",
       "      <td>29.7</td>\n",
       "      <td>0.361</td>\n",
       "      <td>33.0</td>\n",
       "      <td>1</td>\n",
       "    </tr>\n",
       "    <tr>\n",
       "      <th>19</th>\n",
       "      <td>1.0</td>\n",
       "      <td>115</td>\n",
       "      <td>70</td>\n",
       "      <td>30.0</td>\n",
       "      <td>96</td>\n",
       "      <td>34.6</td>\n",
       "      <td>0.529</td>\n",
       "      <td>32.0</td>\n",
       "      <td>1</td>\n",
       "    </tr>\n",
       "    <tr>\n",
       "      <th>115</th>\n",
       "      <td>4.0</td>\n",
       "      <td>146</td>\n",
       "      <td>92</td>\n",
       "      <td>0.0</td>\n",
       "      <td>0</td>\n",
       "      <td>31.2</td>\n",
       "      <td>0.539</td>\n",
       "      <td>61.0</td>\n",
       "      <td>1</td>\n",
       "    </tr>\n",
       "    <tr>\n",
       "      <th>6</th>\n",
       "      <td>10.0</td>\n",
       "      <td>78</td>\n",
       "      <td>50</td>\n",
       "      <td>32.0</td>\n",
       "      <td>88</td>\n",
       "      <td>31.0</td>\n",
       "      <td>0.248</td>\n",
       "      <td>26.0</td>\n",
       "      <td>1</td>\n",
       "    </tr>\n",
       "  </tbody>\n",
       "</table>\n",
       "<p>1000 rows × 9 columns</p>\n",
       "</div>"
      ],
      "text/plain": [
       "     Pregnancies  Glucose  BloodPressure  SkinThickness  Insulin   BMI  \\\n",
       "1            8.0       85             66           29.0        0  26.6   \n",
       "3            1.0       89             66           23.0       94  28.1   \n",
       "5            5.0      116             74            0.0        0  25.6   \n",
       "7           10.0      115              0            0.0        0  35.3   \n",
       "10           4.0      110             92            0.0        0  37.6   \n",
       "..           ...      ...            ...            ...      ...   ...   \n",
       "603          7.0      150             78           29.0      126  35.2   \n",
       "130          4.0      173             70           14.0      168  29.7   \n",
       "19           1.0      115             70           30.0       96  34.6   \n",
       "115          4.0      146             92            0.0        0  31.2   \n",
       "6           10.0       78             50           32.0       88  31.0   \n",
       "\n",
       "     DiabetesPedigreeFunction   Age  Outcome  \n",
       "1                       0.351  32.0        0  \n",
       "3                       0.167  21.0        0  \n",
       "5                       0.201  30.0        0  \n",
       "7                       0.134  29.0        0  \n",
       "10                      0.191  30.0        0  \n",
       "..                        ...   ...      ...  \n",
       "603                     0.692  54.0        1  \n",
       "130                     0.361  33.0        1  \n",
       "19                      0.529  32.0        1  \n",
       "115                     0.539  61.0        1  \n",
       "6                       0.248  26.0        1  \n",
       "\n",
       "[1000 rows x 9 columns]"
      ]
     },
     "execution_count": 111,
     "metadata": {},
     "output_type": "execute_result"
    }
   ],
   "source": [
    "upsampled_data"
   ]
  },
  {
   "cell_type": "code",
   "execution_count": 112,
   "id": "be16620c",
   "metadata": {},
   "outputs": [],
   "source": [
    "upsa_x = upsampled_data.iloc[:,:-1].values\n",
    "upsa_y = upsampled_data.iloc[:,-1:].values"
   ]
  },
  {
   "cell_type": "code",
   "execution_count": 113,
   "id": "bd380146",
   "metadata": {},
   "outputs": [],
   "source": [
    "# spliting train and Test dataset\n",
    "xtrain,xtest,ytrain,ytest = train_test_split(upsa_x,upsa_y,test_size=0.25,random_state=2)"
   ]
  },
  {
   "cell_type": "code",
   "execution_count": 114,
   "id": "70d67ed0",
   "metadata": {},
   "outputs": [
    {
     "data": {
      "text/plain": [
       "(250, 1)"
      ]
     },
     "execution_count": 114,
     "metadata": {},
     "output_type": "execute_result"
    }
   ],
   "source": [
    "ytest.shape"
   ]
  },
  {
   "cell_type": "code",
   "execution_count": 115,
   "id": "f4696954",
   "metadata": {},
   "outputs": [
    {
     "name": "stderr",
     "output_type": "stream",
     "text": [
      "C:\\Users\\2001s\\anaconda3\\Lib\\site-packages\\sklearn\\utils\\validation.py:1111: DataConversionWarning: A column-vector y was passed when a 1d array was expected. Please change the shape of y to (n_samples, ), for example using ravel().\n",
      "  y = column_or_1d(y, warn=True)\n"
     ]
    },
    {
     "data": {
      "text/plain": [
       "array([0, 1, 1, 0, 0, 0, 1, 0, 1, 0, 1, 1, 1, 1, 1, 1, 1, 1, 1, 0, 1, 0,\n",
       "       1, 1, 0, 0, 1, 0, 1, 1, 0, 0, 1, 1, 0, 0, 0, 1, 1, 0, 1, 1, 1, 1,\n",
       "       1, 0, 1, 1, 1, 1, 1, 1, 0, 1, 0, 1, 0, 1, 0, 1, 1, 1, 0, 1, 1, 0,\n",
       "       1, 1, 0, 0, 0, 0, 0, 1, 0, 1, 1, 1, 0, 0, 1, 0, 1, 0, 1, 0, 1, 1,\n",
       "       1, 0, 0, 1, 1, 1, 0, 0, 1, 1, 1, 1, 0, 0, 1, 0, 0, 1, 0, 0, 1, 1,\n",
       "       1, 1, 1, 1, 1, 0, 0, 1, 0, 0, 0, 0, 1, 1, 0, 1, 1, 0, 1, 0, 1, 0,\n",
       "       1, 1, 1, 0, 1, 0, 0, 0, 0, 0, 0, 0, 0, 0, 0, 1, 1, 0, 0, 1, 1, 0,\n",
       "       0, 1, 0, 0, 0, 0, 0, 0, 0, 0, 1, 0, 0, 1, 1, 0, 1, 1, 1, 1, 1, 0,\n",
       "       1, 0, 1, 1, 1, 0, 0, 0, 0, 0, 0, 1, 1, 0, 0, 0, 1, 0, 1, 1, 1, 0,\n",
       "       1, 1, 1, 1, 1, 1, 0, 1, 0, 1, 1, 0, 0, 1, 1, 1, 1, 0, 0, 1, 0, 1,\n",
       "       0, 0, 1, 0, 1, 0, 0, 1, 1, 1, 1, 1, 0, 1, 1, 1, 1, 1, 0, 0, 0, 0,\n",
       "       1, 1, 0, 1, 0, 0, 0, 0], dtype=int64)"
      ]
     },
     "execution_count": 115,
     "metadata": {},
     "output_type": "execute_result"
    }
   ],
   "source": [
    "upsample_log_reg = LogisticRegression(solver='liblinear')\n",
    "upsample_log_reg.fit(xtrain,ytrain)\n",
    "upsample_log_pred = upsample_log_reg.predict(xtest)\n",
    "upsample_log_pred"
   ]
  },
  {
   "cell_type": "code",
   "execution_count": 116,
   "id": "12ef2180",
   "metadata": {},
   "outputs": [
    {
     "data": {
      "text/plain": [
       "250"
      ]
     },
     "execution_count": 116,
     "metadata": {},
     "output_type": "execute_result"
    }
   ],
   "source": [
    "len(upsample_log_pred)"
   ]
  },
  {
   "cell_type": "code",
   "execution_count": 117,
   "id": "825f5cca",
   "metadata": {},
   "outputs": [
    {
     "name": "stdout",
     "output_type": "stream",
     "text": [
      "Accuracy Score: \t 0.764\n",
      "\n",
      "Confusion Matrix: \n",
      " [[ 89  32]\n",
      " [ 27 102]]\n",
      "\n",
      "classification Report :\n",
      "               precision    recall  f1-score   support\n",
      "\n",
      "           0       0.77      0.74      0.75       121\n",
      "           1       0.76      0.79      0.78       129\n",
      "\n",
      "    accuracy                           0.76       250\n",
      "   macro avg       0.76      0.76      0.76       250\n",
      "weighted avg       0.76      0.76      0.76       250\n",
      "\n"
     ]
    }
   ],
   "source": [
    "print(\"Accuracy Score: \\t\",accuracy_score(ytest,upsample_log_pred))\n",
    "print()\n",
    "print(\"Confusion Matrix: \\n\",confusion_matrix(ytest,upsample_log_pred))\n",
    "print()\n",
    "print(\"classification Report :\\n\", classification_report(ytest,upsample_log_pred))"
   ]
  },
  {
   "cell_type": "code",
   "execution_count": 118,
   "id": "f37ecb6c",
   "metadata": {},
   "outputs": [
    {
     "data": {
      "image/png": "[encoded data removed]",
      "text/plain": [
       "<Figure size 640x480 with 1 Axes>"
      ]
     },
     "metadata": {},
     "output_type": "display_data"
    }
   ],
   "source": [
    "from sklearn.metrics import roc_curve,roc_auc_score,auc\n",
    "\n",
    "# calculate ROC & AUC\n",
    "fpr,tpr,thresholds = roc_curve(ytest,upsample_log_pred)\n",
    "roc_curve =auc(fpr,tpr)\n",
    "\n",
    "plt.plot(fpr,tpr,label='ROC curve')\n",
    "plt.xlabel('False Positive rate')\n",
    "plt.ylabel('True Positive rate')\n",
    "plt.title('ROC Curve')\n",
    "plt.legend()\n",
    "plt.show()"
   ]
  },
  {
   "cell_type": "code",
   "execution_count": 119,
   "id": "b4b6187c",
   "metadata": {},
   "outputs": [
    {
     "data": {
      "image/png": "[encoded data removed]",
      "text/plain": [
       "<Figure size 800x600 with 2 Axes>"
      ]
     },
     "metadata": {},
     "output_type": "display_data"
    }
   ],
   "source": [
    "Confusion_Matrix = confusion_matrix(ytest,upsample_log_pred)\n",
    "Confusion_Matrix\n",
    "\n",
    "plt.figure(figsize=(8, 6))\n",
    "sns.heatmap(Confusion_Matrix, annot=True, fmt='d', xticklabels=['Predicted 0 (No diabetes)', 'Predicted 1 (Have Diabetes)'],\n",
    "            yticklabels=['Actual 0', 'Actual 1'])\n",
    "plt.xlabel('Predicted')\n",
    "plt.ylabel('Actual')\n",
    "plt.show()"
   ]
  },
  {
   "cell_type": "markdown",
   "id": "6976898a",
   "metadata": {},
   "source": [
    "## Downsampling"
   ]
  },
  {
   "cell_type": "code",
   "execution_count": 120,
   "id": "10f73d0b",
   "metadata": {},
   "outputs": [],
   "source": [
    "# Downsample the majority class to match the number of samples in the minority class\n",
    "downsampled_majority = majority_class.sample(n=len(minority_class), random_state=2)\n",
    "\n",
    "# Combine the downsampled majority class with the minority class\n",
    "downsampled_data = pd.concat([downsampled_majority, minority_class])"
   ]
  },
  {
   "cell_type": "code",
   "execution_count": 121,
   "id": "2356b14c",
   "metadata": {},
   "outputs": [
    {
     "data": {
      "text/html": [
       "<div>\n",
       "<style scoped>\n",
       "    .dataframe tbody tr th:only-of-type {\n",
       "        vertical-align: middle;\n",
       "    }\n",
       "\n",
       "    .dataframe tbody tr th {\n",
       "        vertical-align: top;\n",
       "    }\n",
       "\n",
       "    .dataframe thead th {\n",
       "        text-align: right;\n",
       "    }\n",
       "</style>\n",
       "<table border=\"1\" class=\"dataframe\">\n",
       "  <thead>\n",
       "    <tr style=\"text-align: right;\">\n",
       "      <th></th>\n",
       "      <th>Pregnancies</th>\n",
       "      <th>Glucose</th>\n",
       "      <th>BloodPressure</th>\n",
       "      <th>SkinThickness</th>\n",
       "      <th>Insulin</th>\n",
       "      <th>BMI</th>\n",
       "      <th>DiabetesPedigreeFunction</th>\n",
       "      <th>Age</th>\n",
       "      <th>Outcome</th>\n",
       "    </tr>\n",
       "  </thead>\n",
       "  <tbody>\n",
       "    <tr>\n",
       "      <th>204</th>\n",
       "      <td>6.0</td>\n",
       "      <td>103</td>\n",
       "      <td>72</td>\n",
       "      <td>32.0</td>\n",
       "      <td>190</td>\n",
       "      <td>37.7</td>\n",
       "      <td>0.324</td>\n",
       "      <td>55.0</td>\n",
       "      <td>0</td>\n",
       "    </tr>\n",
       "    <tr>\n",
       "      <th>453</th>\n",
       "      <td>2.0</td>\n",
       "      <td>119</td>\n",
       "      <td>0</td>\n",
       "      <td>0.0</td>\n",
       "      <td>0</td>\n",
       "      <td>19.6</td>\n",
       "      <td>0.832</td>\n",
       "      <td>72.0</td>\n",
       "      <td>0</td>\n",
       "    </tr>\n",
       "    <tr>\n",
       "      <th>671</th>\n",
       "      <td>1.0</td>\n",
       "      <td>99</td>\n",
       "      <td>58</td>\n",
       "      <td>10.0</td>\n",
       "      <td>0</td>\n",
       "      <td>25.4</td>\n",
       "      <td>0.551</td>\n",
       "      <td>21.0</td>\n",
       "      <td>0</td>\n",
       "    </tr>\n",
       "    <tr>\n",
       "      <th>587</th>\n",
       "      <td>6.0</td>\n",
       "      <td>103</td>\n",
       "      <td>66</td>\n",
       "      <td>0.0</td>\n",
       "      <td>0</td>\n",
       "      <td>24.3</td>\n",
       "      <td>0.249</td>\n",
       "      <td>29.0</td>\n",
       "      <td>0</td>\n",
       "    </tr>\n",
       "    <tr>\n",
       "      <th>365</th>\n",
       "      <td>5.0</td>\n",
       "      <td>99</td>\n",
       "      <td>54</td>\n",
       "      <td>28.0</td>\n",
       "      <td>83</td>\n",
       "      <td>34.0</td>\n",
       "      <td>0.499</td>\n",
       "      <td>30.0</td>\n",
       "      <td>0</td>\n",
       "    </tr>\n",
       "    <tr>\n",
       "      <th>...</th>\n",
       "      <td>...</td>\n",
       "      <td>...</td>\n",
       "      <td>...</td>\n",
       "      <td>...</td>\n",
       "      <td>...</td>\n",
       "      <td>...</td>\n",
       "      <td>...</td>\n",
       "      <td>...</td>\n",
       "      <td>...</td>\n",
       "    </tr>\n",
       "    <tr>\n",
       "      <th>755</th>\n",
       "      <td>1.0</td>\n",
       "      <td>128</td>\n",
       "      <td>88</td>\n",
       "      <td>39.0</td>\n",
       "      <td>110</td>\n",
       "      <td>36.5</td>\n",
       "      <td>1.057</td>\n",
       "      <td>37.0</td>\n",
       "      <td>1</td>\n",
       "    </tr>\n",
       "    <tr>\n",
       "      <th>757</th>\n",
       "      <td>0.0</td>\n",
       "      <td>123</td>\n",
       "      <td>72</td>\n",
       "      <td>0.0</td>\n",
       "      <td>0</td>\n",
       "      <td>36.3</td>\n",
       "      <td>0.258</td>\n",
       "      <td>52.0</td>\n",
       "      <td>1</td>\n",
       "    </tr>\n",
       "    <tr>\n",
       "      <th>759</th>\n",
       "      <td>6.0</td>\n",
       "      <td>190</td>\n",
       "      <td>92</td>\n",
       "      <td>0.0</td>\n",
       "      <td>0</td>\n",
       "      <td>35.5</td>\n",
       "      <td>0.278</td>\n",
       "      <td>66.0</td>\n",
       "      <td>1</td>\n",
       "    </tr>\n",
       "    <tr>\n",
       "      <th>761</th>\n",
       "      <td>9.0</td>\n",
       "      <td>170</td>\n",
       "      <td>74</td>\n",
       "      <td>31.0</td>\n",
       "      <td>0</td>\n",
       "      <td>44.0</td>\n",
       "      <td>0.403</td>\n",
       "      <td>43.0</td>\n",
       "      <td>1</td>\n",
       "    </tr>\n",
       "    <tr>\n",
       "      <th>766</th>\n",
       "      <td>1.0</td>\n",
       "      <td>126</td>\n",
       "      <td>60</td>\n",
       "      <td>0.0</td>\n",
       "      <td>0</td>\n",
       "      <td>30.1</td>\n",
       "      <td>0.349</td>\n",
       "      <td>47.0</td>\n",
       "      <td>1</td>\n",
       "    </tr>\n",
       "  </tbody>\n",
       "</table>\n",
       "<p>536 rows × 9 columns</p>\n",
       "</div>"
      ],
      "text/plain": [
       "     Pregnancies  Glucose  BloodPressure  SkinThickness  Insulin   BMI  \\\n",
       "204          6.0      103             72           32.0      190  37.7   \n",
       "453          2.0      119              0            0.0        0  19.6   \n",
       "671          1.0       99             58           10.0        0  25.4   \n",
       "587          6.0      103             66            0.0        0  24.3   \n",
       "365          5.0       99             54           28.0       83  34.0   \n",
       "..           ...      ...            ...            ...      ...   ...   \n",
       "755          1.0      128             88           39.0      110  36.5   \n",
       "757          0.0      123             72            0.0        0  36.3   \n",
       "759          6.0      190             92            0.0        0  35.5   \n",
       "761          9.0      170             74           31.0        0  44.0   \n",
       "766          1.0      126             60            0.0        0  30.1   \n",
       "\n",
       "     DiabetesPedigreeFunction   Age  Outcome  \n",
       "204                     0.324  55.0        0  \n",
       "453                     0.832  72.0        0  \n",
       "671                     0.551  21.0        0  \n",
       "587                     0.249  29.0        0  \n",
       "365                     0.499  30.0        0  \n",
       "..                        ...   ...      ...  \n",
       "755                     1.057  37.0        1  \n",
       "757                     0.258  52.0        1  \n",
       "759                     0.278  66.0        1  \n",
       "761                     0.403  43.0        1  \n",
       "766                     0.349  47.0        1  \n",
       "\n",
       "[536 rows x 9 columns]"
      ]
     },
     "execution_count": 121,
     "metadata": {},
     "output_type": "execute_result"
    }
   ],
   "source": [
    "downsampled_data"
   ]
  },
  {
   "cell_type": "code",
   "execution_count": 122,
   "id": "80bcf1b0",
   "metadata": {},
   "outputs": [],
   "source": [
    "downsa_x = downsampled_data.iloc[:,:-1].values\n",
    "downsa_y = downsampled_data.iloc[:,-1:].values"
   ]
  },
  {
   "cell_type": "code",
   "execution_count": 126,
   "id": "f219d2e8",
   "metadata": {},
   "outputs": [],
   "source": [
    "# spliting train and Test dataset\n",
    "xtrain,xtest,ytrain,ytest = train_test_split(downsa_x,downsa_y,test_size=0.25,random_state=2)"
   ]
  },
  {
   "cell_type": "code",
   "execution_count": 129,
   "id": "6a95f493",
   "metadata": {},
   "outputs": [
    {
     "data": {
      "text/plain": [
       "(402, 8)"
      ]
     },
     "execution_count": 129,
     "metadata": {},
     "output_type": "execute_result"
    }
   ],
   "source": [
    "xtrain.shape"
   ]
  },
  {
   "cell_type": "code",
   "execution_count": 130,
   "id": "a5d49ebf",
   "metadata": {},
   "outputs": [
    {
     "name": "stderr",
     "output_type": "stream",
     "text": [
      "C:\\Users\\2001s\\anaconda3\\Lib\\site-packages\\sklearn\\utils\\validation.py:1111: DataConversionWarning: A column-vector y was passed when a 1d array was expected. Please change the shape of y to (n_samples, ), for example using ravel().\n",
      "  y = column_or_1d(y, warn=True)\n"
     ]
    },
    {
     "data": {
      "text/plain": [
       "array([0, 1, 0, 0, 1, 1, 1, 1, 0, 1, 1, 1, 1, 0, 0, 0, 0, 1, 0, 1, 0, 1,\n",
       "       0, 1, 1, 0, 0, 1, 0, 1, 1, 1, 0, 0, 1, 1, 0, 0, 1, 0, 0, 0, 1, 0,\n",
       "       0, 0, 1, 0, 1, 0, 0, 0, 1, 1, 1, 1, 0, 0, 1, 1, 0, 1, 0, 0, 0, 1,\n",
       "       1, 1, 1, 0, 1, 0, 0, 1, 1, 1, 1, 1, 1, 0, 0, 1, 0, 0, 0, 1, 0, 0,\n",
       "       1, 0, 1, 0, 1, 0, 1, 0, 1, 0, 1, 0, 0, 0, 0, 0, 1, 0, 1, 1, 1, 0,\n",
       "       1, 1, 1, 1, 0, 0, 0, 1, 0, 1, 0, 1, 1, 0, 1, 1, 0, 0, 0, 0, 0, 1,\n",
       "       1, 1], dtype=int64)"
      ]
     },
     "execution_count": 130,
     "metadata": {},
     "output_type": "execute_result"
    }
   ],
   "source": [
    "downsample_log_reg = LogisticRegression(solver='liblinear')\n",
    "downsample_log_reg.fit(xtrain,ytrain)\n",
    "downsample_log_pred = downsample_log_reg.predict(xtest)\n",
    "downsample_log_pred"
   ]
  },
  {
   "cell_type": "code",
   "execution_count": 131,
   "id": "b712182d",
   "metadata": {},
   "outputs": [
    {
     "data": {
      "text/plain": [
       "134"
      ]
     },
     "execution_count": 131,
     "metadata": {},
     "output_type": "execute_result"
    }
   ],
   "source": [
    "len(downsample_log_pred)"
   ]
  },
  {
   "cell_type": "code",
   "execution_count": 132,
   "id": "4e30d327",
   "metadata": {},
   "outputs": [
    {
     "name": "stdout",
     "output_type": "stream",
     "text": [
      "Accuracy Score: \t 0.7761194029850746\n",
      "\n",
      "Confusion Matrix: \n",
      " [[54 17]\n",
      " [13 50]]\n",
      "\n",
      "classification Report :\n",
      "               precision    recall  f1-score   support\n",
      "\n",
      "           0       0.81      0.76      0.78        71\n",
      "           1       0.75      0.79      0.77        63\n",
      "\n",
      "    accuracy                           0.78       134\n",
      "   macro avg       0.78      0.78      0.78       134\n",
      "weighted avg       0.78      0.78      0.78       134\n",
      "\n"
     ]
    }
   ],
   "source": [
    "print(\"Accuracy Score: \\t\",accuracy_score(ytest,downsample_log_pred))\n",
    "print()\n",
    "print(\"Confusion Matrix: \\n\",confusion_matrix(ytest,downsample_log_pred))\n",
    "print()\n",
    "print(\"classification Report :\\n\", classification_report(ytest,downsample_log_pred))"
   ]
  },
  {
   "cell_type": "code",
   "execution_count": 133,
   "id": "edbc9d8d",
   "metadata": {},
   "outputs": [
    {
     "data": {
      "image/png": "[encoded data removed]",
      "text/plain": [
       "<Figure size 640x480 with 1 Axes>"
      ]
     },
     "metadata": {},
     "output_type": "display_data"
    }
   ],
   "source": [
    "from sklearn.metrics import roc_curve,roc_auc_score,auc\n",
    "\n",
    "# calculate ROC & AUC\n",
    "fpr,tpr,thresholds = roc_curve(ytest,downsample_log_pred)\n",
    "roc_curve =auc(fpr,tpr)\n",
    "\n",
    "plt.plot(fpr,tpr,label='ROC curve')\n",
    "plt.xlabel('False Positive rate')\n",
    "plt.ylabel('True Positive rate')\n",
    "plt.title('ROC Curve')\n",
    "plt.legend()\n",
    "plt.show()"
   ]
  },
  {
   "cell_type": "code",
   "execution_count": 134,
   "id": "c9e48c52",
   "metadata": {},
   "outputs": [
    {
     "data": {
      "image/png": "[encoded data removed]",
      "text/plain": [
       "<Figure size 800x600 with 2 Axes>"
      ]
     },
     "metadata": {},
     "output_type": "display_data"
    }
   ],
   "source": [
    "Confusion_Matrix = confusion_matrix(ytest,downsample_log_pred)\n",
    "Confusion_Matrix\n",
    "\n",
    "plt.figure(figsize=(8, 6))\n",
    "sns.heatmap(Confusion_Matrix, annot=True, fmt='d', xticklabels=['Predicted 0 (No diabetes)', 'Predicted 1 (Have Diabetes)'],\n",
    "            yticklabels=['Actual 0', 'Actual 1'])\n",
    "plt.xlabel('Predicted')\n",
    "plt.ylabel('Actual')\n",
    "plt.show()"
   ]
  },
  {
   "cell_type": "markdown",
   "id": "6a0cc356",
   "metadata": {},
   "source": [
    "## ----------------------------------------------- Analysis Report -------------------------------------------------------\n",
    "After performing three models of logistic regression classification, Downsampling approach yields \n",
    "the highest accuracy score, while the normal dataset and the upsampled dataset have similar accuracy.."
   ]
  },
  {
   "cell_type": "code",
   "execution_count": null,
   "id": "09562f94",
   "metadata": {},
   "outputs": [],
   "source": []
  }
 ],
 "metadata": {
  "kernelspec": {
   "display_name": "Python 3 (ipykernel)",
   "language": "python",
   "name": "python3"
  },
  "language_info": {
   "codemirror_mode": {
    "name": "ipython",
    "version": 3
   },
   "file_extension": ".py",
   "mimetype": "text/x-python",
   "name": "python",
   "nbconvert_exporter": "python",
   "pygments_lexer": "ipython3",
   "version": "3.11.4"
  }
 },
 "nbformat": 4,
 "nbformat_minor": 5
}
