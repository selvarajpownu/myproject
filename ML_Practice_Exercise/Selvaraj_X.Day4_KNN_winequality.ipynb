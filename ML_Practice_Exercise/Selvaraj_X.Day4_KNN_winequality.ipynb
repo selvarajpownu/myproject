{
 "cells": [
  {
   "cell_type": "markdown",
   "id": "895d9bd0",
   "metadata": {},
   "source": [
    "### KNN(K-Nearest Neighbors) Implementation for redwine dataset"
   ]
  },
  {
   "cell_type": "code",
   "execution_count": 10,
   "id": "3572d3ed",
   "metadata": {},
   "outputs": [],
   "source": [
    "import numpy as np\n",
    "import pandas as pd\n",
    "import matplotlib.pyplot as plt\n",
    "import seaborn as sns"
   ]
  },
  {
   "cell_type": "code",
   "execution_count": 11,
   "id": "5644bf1c",
   "metadata": {},
   "outputs": [
    {
     "data": {
      "text/html": [
       "<div>\n",
       "<style scoped>\n",
       "    .dataframe tbody tr th:only-of-type {\n",
       "        vertical-align: middle;\n",
       "    }\n",
       "\n",
       "    .dataframe tbody tr th {\n",
       "        vertical-align: top;\n",
       "    }\n",
       "\n",
       "    .dataframe thead th {\n",
       "        text-align: right;\n",
       "    }\n",
       "</style>\n",
       "<table border=\"1\" class=\"dataframe\">\n",
       "  <thead>\n",
       "    <tr style=\"text-align: right;\">\n",
       "      <th></th>\n",
       "      <th>fixed acidity</th>\n",
       "      <th>volatile acidity</th>\n",
       "      <th>citric acid</th>\n",
       "      <th>residual sugar</th>\n",
       "      <th>chlorides</th>\n",
       "      <th>free sulfur dioxide</th>\n",
       "      <th>total sulfur dioxide</th>\n",
       "      <th>density</th>\n",
       "      <th>pH</th>\n",
       "      <th>sulphates</th>\n",
       "      <th>alcohol</th>\n",
       "      <th>quality</th>\n",
       "    </tr>\n",
       "  </thead>\n",
       "  <tbody>\n",
       "    <tr>\n",
       "      <th>0</th>\n",
       "      <td>7.4</td>\n",
       "      <td>0.70</td>\n",
       "      <td>0.00</td>\n",
       "      <td>1.9</td>\n",
       "      <td>0.076</td>\n",
       "      <td>11.0</td>\n",
       "      <td>34.0</td>\n",
       "      <td>0.9978</td>\n",
       "      <td>3.51</td>\n",
       "      <td>0.56</td>\n",
       "      <td>9.4</td>\n",
       "      <td>5</td>\n",
       "    </tr>\n",
       "    <tr>\n",
       "      <th>1</th>\n",
       "      <td>7.8</td>\n",
       "      <td>0.88</td>\n",
       "      <td>0.00</td>\n",
       "      <td>2.6</td>\n",
       "      <td>0.098</td>\n",
       "      <td>25.0</td>\n",
       "      <td>67.0</td>\n",
       "      <td>0.9968</td>\n",
       "      <td>3.20</td>\n",
       "      <td>0.68</td>\n",
       "      <td>9.8</td>\n",
       "      <td>5</td>\n",
       "    </tr>\n",
       "    <tr>\n",
       "      <th>2</th>\n",
       "      <td>7.8</td>\n",
       "      <td>0.76</td>\n",
       "      <td>0.04</td>\n",
       "      <td>2.3</td>\n",
       "      <td>0.092</td>\n",
       "      <td>15.0</td>\n",
       "      <td>54.0</td>\n",
       "      <td>0.9970</td>\n",
       "      <td>3.26</td>\n",
       "      <td>0.65</td>\n",
       "      <td>9.8</td>\n",
       "      <td>5</td>\n",
       "    </tr>\n",
       "    <tr>\n",
       "      <th>3</th>\n",
       "      <td>11.2</td>\n",
       "      <td>0.28</td>\n",
       "      <td>0.56</td>\n",
       "      <td>1.9</td>\n",
       "      <td>0.075</td>\n",
       "      <td>17.0</td>\n",
       "      <td>60.0</td>\n",
       "      <td>0.9980</td>\n",
       "      <td>3.16</td>\n",
       "      <td>0.58</td>\n",
       "      <td>9.8</td>\n",
       "      <td>6</td>\n",
       "    </tr>\n",
       "    <tr>\n",
       "      <th>4</th>\n",
       "      <td>7.4</td>\n",
       "      <td>0.70</td>\n",
       "      <td>0.00</td>\n",
       "      <td>1.9</td>\n",
       "      <td>0.076</td>\n",
       "      <td>11.0</td>\n",
       "      <td>34.0</td>\n",
       "      <td>0.9978</td>\n",
       "      <td>3.51</td>\n",
       "      <td>0.56</td>\n",
       "      <td>9.4</td>\n",
       "      <td>5</td>\n",
       "    </tr>\n",
       "  </tbody>\n",
       "</table>\n",
       "</div>"
      ],
      "text/plain": [
       "   fixed acidity  volatile acidity  citric acid  residual sugar  chlorides  \\\n",
       "0            7.4              0.70         0.00             1.9      0.076   \n",
       "1            7.8              0.88         0.00             2.6      0.098   \n",
       "2            7.8              0.76         0.04             2.3      0.092   \n",
       "3           11.2              0.28         0.56             1.9      0.075   \n",
       "4            7.4              0.70         0.00             1.9      0.076   \n",
       "\n",
       "   free sulfur dioxide  total sulfur dioxide  density    pH  sulphates  \\\n",
       "0                 11.0                  34.0   0.9978  3.51       0.56   \n",
       "1                 25.0                  67.0   0.9968  3.20       0.68   \n",
       "2                 15.0                  54.0   0.9970  3.26       0.65   \n",
       "3                 17.0                  60.0   0.9980  3.16       0.58   \n",
       "4                 11.0                  34.0   0.9978  3.51       0.56   \n",
       "\n",
       "   alcohol  quality  \n",
       "0      9.4        5  \n",
       "1      9.8        5  \n",
       "2      9.8        5  \n",
       "3      9.8        6  \n",
       "4      9.4        5  "
      ]
     },
     "execution_count": 11,
     "metadata": {},
     "output_type": "execute_result"
    }
   ],
   "source": [
    "data = pd.read_csv('data/winequality-red.csv')\n",
    "data.head()"
   ]
  },
  {
   "cell_type": "code",
   "execution_count": 12,
   "id": "2b75afe5",
   "metadata": {},
   "outputs": [],
   "source": [
    "x = data.iloc[:,:-1].values\n",
    "y = data.iloc[:,-1:].values"
   ]
  },
  {
   "cell_type": "code",
   "execution_count": 13,
   "id": "681d10e8",
   "metadata": {},
   "outputs": [],
   "source": [
    "from sklearn.model_selection import train_test_split\n",
    "\n",
    "xtrain,xtest,ytrain,ytest = train_test_split(x,y,test_size =0.25,random_state = 2)"
   ]
  },
  {
   "cell_type": "code",
   "execution_count": 14,
   "id": "99714c8f",
   "metadata": {},
   "outputs": [],
   "source": [
    "# KNN\n",
    "\n",
    "from sklearn.neighbors import KNeighborsClassifier\n",
    "from sklearn.metrics import accuracy_score\n",
    "from sklearn.metrics import confusion_matrix\n",
    "from sklearn.metrics import classification_report"
   ]
  },
  {
   "cell_type": "code",
   "execution_count": 15,
   "id": "46c94a1b",
   "metadata": {},
   "outputs": [
    {
     "name": "stdout",
     "output_type": "stream",
     "text": [
      "<--------------------KNN Classifier model------------------>\n"
     ]
    },
    {
     "name": "stderr",
     "output_type": "stream",
     "text": [
      "C:\\Users\\2001s\\anaconda3\\Lib\\site-packages\\sklearn\\neighbors\\_classification.py:207: DataConversionWarning: A column-vector y was passed when a 1d array was expected. Please change the shape of y to (n_samples,), for example using ravel().\n",
      "  return self._fit(X, y)\n"
     ]
    },
    {
     "data": {
      "text/plain": [
       "array([7, 7, 4, 6, 6, 5, 6, 6, 5, 5, 4, 6, 6, 6, 5, 7, 6, 6, 6, 6, 4, 6,\n",
       "       6, 6, 5, 7, 5, 5, 7, 6, 5, 5, 5, 5, 5, 5, 6, 6, 7, 6, 5, 5, 6, 5,\n",
       "       5, 6, 5, 5, 6, 6, 5, 5, 5, 5, 7, 5, 5, 5, 5, 5, 6, 6, 6, 6, 6, 6,\n",
       "       7, 6, 6, 6, 5, 5, 5, 5, 5, 5, 5, 5, 5, 5, 5, 4, 7, 6, 7, 5, 5, 6,\n",
       "       5, 6, 7, 5, 6, 4, 6, 6, 5, 5, 5, 5, 6, 5, 3, 5, 5, 6, 5, 6, 6, 6,\n",
       "       5, 5, 5, 6, 5, 6, 5, 6, 6, 6, 5, 5, 6, 5, 7, 5, 6, 4, 6, 5, 6, 5,\n",
       "       5, 6, 7, 5, 6, 5, 5, 6, 5, 6, 6, 6, 5, 5, 5, 5, 6, 5, 7, 6, 5, 5,\n",
       "       7, 4, 7, 5, 4, 6, 5, 5, 6, 5, 7, 6, 7, 5, 5, 5, 6, 6, 7, 6, 5, 5,\n",
       "       5, 6, 5, 6, 5, 6, 5, 6, 5, 7, 5, 5, 6, 6, 4, 5, 6, 4, 4, 6, 5, 6,\n",
       "       6, 7, 6, 5, 5, 5, 5, 5, 6, 7, 5, 6, 7, 4, 5, 6, 5, 7, 6, 5, 6, 5,\n",
       "       6, 6, 5, 7, 5, 5, 5, 6, 5, 5, 5, 5, 5, 5, 5, 5, 3, 6, 5, 5, 5, 7,\n",
       "       5, 6, 5, 5, 5, 6, 5, 6, 5, 5, 5, 5, 7, 6, 5, 5, 6, 6, 5, 6, 5, 6,\n",
       "       5, 7, 5, 5, 5, 5, 5, 6, 5, 6, 5, 5, 5, 5, 6, 6, 3, 6, 5, 5, 7, 5,\n",
       "       4, 7, 6, 5, 7, 6, 5, 6, 3, 5, 6, 5, 6, 5, 7, 6, 7, 5, 6, 5, 6, 6,\n",
       "       5, 7, 5, 5, 5, 5, 5, 6, 5, 6, 5, 6, 5, 5, 5, 6, 6, 5, 5, 5, 5, 5,\n",
       "       5, 5, 6, 5, 5, 6, 6, 5, 5, 6, 6, 5, 6, 5, 6, 5, 5, 7, 6, 4, 5, 7,\n",
       "       6, 6, 5, 5, 5, 6, 5, 5, 5, 5, 5, 5, 6, 5, 6, 5, 5, 5, 6, 6, 6, 5,\n",
       "       6, 5, 5, 6, 6, 6, 6, 6, 5, 6, 5, 7, 6, 5, 6, 5, 5, 5, 6, 6, 5, 6,\n",
       "       5, 6, 6, 5], dtype=int64)"
      ]
     },
     "execution_count": 15,
     "metadata": {},
     "output_type": "execute_result"
    }
   ],
   "source": [
    "knn_model = KNeighborsClassifier(n_neighbors=3)\n",
    "\n",
    "print('<--------------------KNN Classifier model------------------>')\n",
    "knn_model.fit(xtrain,ytrain)\n",
    "ypred = knn_model.predict(xtest)\n",
    "ypred"
   ]
  },
  {
   "cell_type": "code",
   "execution_count": 16,
   "id": "d3d7b12d",
   "metadata": {
    "scrolled": true
   },
   "outputs": [
    {
     "name": "stdout",
     "output_type": "stream",
     "text": [
      "Accuracy score :\t 0.5025\n",
      "\n",
      "Confusion Martix :\n",
      " [[  0   0   0   1   0   0]\n",
      " [  1   1   7   4   0   0]\n",
      " [  1   6 101  34   6   0]\n",
      " [  1   7  81  83  13   0]\n",
      " [  1   0  12  19  16   0]\n",
      " [  0   0   2   1   2   0]]\n",
      "\n",
      "classification Report :\n",
      "               precision    recall  f1-score   support\n",
      "\n",
      "           3       0.00      0.00      0.00         1\n",
      "           4       0.07      0.08      0.07        13\n",
      "           5       0.50      0.68      0.58       148\n",
      "           6       0.58      0.45      0.51       185\n",
      "           7       0.43      0.33      0.38        48\n",
      "           8       0.00      0.00      0.00         5\n",
      "\n",
      "    accuracy                           0.50       400\n",
      "   macro avg       0.26      0.26      0.26       400\n",
      "weighted avg       0.51      0.50      0.50       400\n",
      "\n"
     ]
    },
    {
     "name": "stderr",
     "output_type": "stream",
     "text": [
      "C:\\Users\\2001s\\anaconda3\\Lib\\site-packages\\sklearn\\metrics\\_classification.py:1334: UndefinedMetricWarning: Precision and F-score are ill-defined and being set to 0.0 in labels with no predicted samples. Use `zero_division` parameter to control this behavior.\n",
      "  _warn_prf(average, modifier, msg_start, len(result))\n",
      "C:\\Users\\2001s\\anaconda3\\Lib\\site-packages\\sklearn\\metrics\\_classification.py:1334: UndefinedMetricWarning: Precision and F-score are ill-defined and being set to 0.0 in labels with no predicted samples. Use `zero_division` parameter to control this behavior.\n",
      "  _warn_prf(average, modifier, msg_start, len(result))\n",
      "C:\\Users\\2001s\\anaconda3\\Lib\\site-packages\\sklearn\\metrics\\_classification.py:1334: UndefinedMetricWarning: Precision and F-score are ill-defined and being set to 0.0 in labels with no predicted samples. Use `zero_division` parameter to control this behavior.\n",
      "  _warn_prf(average, modifier, msg_start, len(result))\n"
     ]
    }
   ],
   "source": [
    "# performance metric\n",
    "\n",
    "print(\"Accuracy score :\\t\",accuracy_score(ytest,ypred))\n",
    "print()\n",
    "print('Confusion Martix :\\n',confusion_matrix(ytest,ypred))\n",
    "print()\n",
    "print('classification Report :\\n', classification_report(ytest,ypred))"
   ]
  },
  {
   "cell_type": "code",
   "execution_count": 17,
   "id": "2290e868",
   "metadata": {},
   "outputs": [],
   "source": [
    "# KNN model after scaling\n",
    "\n",
    "from sklearn.preprocessing import StandardScaler\n",
    "sc = StandardScaler()\n",
    "sc_x = sc.fit_transform(x)"
   ]
  },
  {
   "cell_type": "code",
   "execution_count": 18,
   "id": "25c4ebe0",
   "metadata": {},
   "outputs": [
    {
     "data": {
      "text/plain": [
       "(1599, 11)"
      ]
     },
     "execution_count": 18,
     "metadata": {},
     "output_type": "execute_result"
    }
   ],
   "source": [
    "sc_x.shape"
   ]
  },
  {
   "cell_type": "code",
   "execution_count": 19,
   "id": "da5930d2",
   "metadata": {},
   "outputs": [],
   "source": [
    "from sklearn.model_selection import train_test_split\n",
    "\n",
    "xtrain,xtest,ytrain,ytest = train_test_split(sc_x,y,test_size =0.25,random_state = 2)"
   ]
  },
  {
   "cell_type": "code",
   "execution_count": 20,
   "id": "81ecba62",
   "metadata": {},
   "outputs": [
    {
     "name": "stdout",
     "output_type": "stream",
     "text": [
      "<--------------------KNN Classifier model------------------>\n"
     ]
    },
    {
     "name": "stderr",
     "output_type": "stream",
     "text": [
      "C:\\Users\\2001s\\anaconda3\\Lib\\site-packages\\sklearn\\neighbors\\_classification.py:207: DataConversionWarning: A column-vector y was passed when a 1d array was expected. Please change the shape of y to (n_samples,), for example using ravel().\n",
      "  return self._fit(X, y)\n"
     ]
    },
    {
     "data": {
      "text/plain": [
       "array([6, 5, 5, 6, 6, 6, 4, 5, 5, 5, 6, 6, 5, 6, 5, 5, 6, 7, 6, 6, 6, 6,\n",
       "       6, 6, 5, 7, 5, 6, 7, 5, 5, 6, 5, 6, 6, 5, 6, 5, 6, 6, 5, 6, 5, 5,\n",
       "       5, 5, 5, 6, 5, 6, 5, 5, 5, 6, 6, 5, 7, 5, 6, 6, 4, 5, 6, 5, 6, 6,\n",
       "       7, 6, 5, 6, 5, 6, 6, 5, 5, 6, 6, 5, 6, 5, 5, 7, 5, 5, 7, 6, 7, 6,\n",
       "       5, 5, 6, 5, 6, 5, 5, 6, 5, 5, 5, 5, 6, 5, 3, 4, 6, 6, 6, 5, 6, 7,\n",
       "       6, 5, 6, 5, 6, 6, 6, 6, 6, 6, 6, 5, 6, 6, 5, 5, 6, 7, 6, 5, 5, 5,\n",
       "       7, 5, 6, 6, 6, 5, 5, 7, 6, 5, 6, 6, 5, 5, 4, 5, 6, 4, 6, 6, 6, 6,\n",
       "       6, 6, 7, 5, 6, 6, 5, 5, 6, 5, 6, 6, 7, 6, 3, 5, 6, 6, 7, 6, 6, 6,\n",
       "       6, 6, 5, 6, 5, 6, 5, 6, 5, 4, 5, 5, 6, 6, 6, 7, 5, 5, 5, 5, 5, 5,\n",
       "       5, 7, 5, 5, 5, 5, 5, 5, 6, 7, 6, 5, 7, 5, 5, 5, 7, 5, 6, 5, 5, 6,\n",
       "       5, 6, 4, 6, 6, 5, 6, 6, 6, 6, 5, 4, 5, 5, 6, 5, 6, 6, 5, 5, 7, 6,\n",
       "       6, 6, 5, 6, 6, 6, 5, 7, 6, 5, 6, 5, 7, 5, 5, 4, 6, 6, 6, 5, 5, 5,\n",
       "       6, 6, 5, 5, 5, 6, 5, 5, 5, 5, 5, 5, 6, 5, 6, 5, 5, 6, 5, 6, 7, 5,\n",
       "       5, 5, 7, 6, 7, 7, 5, 5, 3, 5, 6, 6, 4, 6, 7, 6, 7, 5, 6, 7, 5, 5,\n",
       "       5, 7, 5, 5, 6, 5, 5, 3, 5, 6, 6, 5, 5, 6, 6, 6, 3, 5, 5, 6, 7, 7,\n",
       "       6, 5, 6, 6, 5, 6, 6, 5, 5, 7, 5, 6, 5, 6, 6, 6, 6, 7, 6, 7, 6, 6,\n",
       "       6, 6, 5, 6, 6, 6, 6, 4, 5, 6, 5, 6, 6, 6, 6, 5, 6, 6, 6, 6, 6, 6,\n",
       "       6, 5, 5, 5, 6, 6, 6, 5, 7, 6, 5, 7, 5, 6, 7, 5, 5, 5, 7, 5, 5, 6,\n",
       "       4, 5, 6, 7], dtype=int64)"
      ]
     },
     "execution_count": 20,
     "metadata": {},
     "output_type": "execute_result"
    }
   ],
   "source": [
    "knn_model = KNeighborsClassifier(n_neighbors=3)\n",
    "\n",
    "print('<--------------------KNN Classifier model------------------>')\n",
    "knn_model.fit(xtrain,ytrain)\n",
    "ypred = knn_model.predict(xtest)\n",
    "ypred"
   ]
  },
  {
   "cell_type": "code",
   "execution_count": 21,
   "id": "a2e8667c",
   "metadata": {},
   "outputs": [
    {
     "name": "stdout",
     "output_type": "stream",
     "text": [
      "Accuracy score :\t 0.5425\n",
      "\n",
      "Confusion Martix :\n",
      " [[  0   0   0   1   0   0]\n",
      " [  2   1   7   3   0   0]\n",
      " [  2   6  91  45   4   0]\n",
      " [  0   5  58 106  16   0]\n",
      " [  1   0  10  18  19   0]\n",
      " [  0   0   0   3   2   0]]\n",
      "\n"
     ]
    },
    {
     "name": "stderr",
     "output_type": "stream",
     "text": [
      "C:\\Users\\2001s\\anaconda3\\Lib\\site-packages\\sklearn\\metrics\\_classification.py:1334: UndefinedMetricWarning: Precision and F-score are ill-defined and being set to 0.0 in labels with no predicted samples. Use `zero_division` parameter to control this behavior.\n",
      "  _warn_prf(average, modifier, msg_start, len(result))\n"
     ]
    },
    {
     "name": "stdout",
     "output_type": "stream",
     "text": [
      "classification Report :\n",
      "               precision    recall  f1-score   support\n",
      "\n",
      "           3       0.00      0.00      0.00         1\n",
      "           4       0.08      0.08      0.08        13\n",
      "           5       0.55      0.61      0.58       148\n",
      "           6       0.60      0.57      0.59       185\n",
      "           7       0.46      0.40      0.43        48\n",
      "           8       0.00      0.00      0.00         5\n",
      "\n",
      "    accuracy                           0.54       400\n",
      "   macro avg       0.28      0.28      0.28       400\n",
      "weighted avg       0.54      0.54      0.54       400\n",
      "\n"
     ]
    },
    {
     "name": "stderr",
     "output_type": "stream",
     "text": [
      "C:\\Users\\2001s\\anaconda3\\Lib\\site-packages\\sklearn\\metrics\\_classification.py:1334: UndefinedMetricWarning: Precision and F-score are ill-defined and being set to 0.0 in labels with no predicted samples. Use `zero_division` parameter to control this behavior.\n",
      "  _warn_prf(average, modifier, msg_start, len(result))\n",
      "C:\\Users\\2001s\\anaconda3\\Lib\\site-packages\\sklearn\\metrics\\_classification.py:1334: UndefinedMetricWarning: Precision and F-score are ill-defined and being set to 0.0 in labels with no predicted samples. Use `zero_division` parameter to control this behavior.\n",
      "  _warn_prf(average, modifier, msg_start, len(result))\n"
     ]
    }
   ],
   "source": [
    "# performance metric after scaling\n",
    "\n",
    "print(\"Accuracy score :\\t\",accuracy_score(ytest,ypred))\n",
    "print()\n",
    "print('Confusion Martix :\\n',confusion_matrix(ytest,ypred))\n",
    "print()\n",
    "print('classification Report :\\n', classification_report(ytest,ypred))"
   ]
  },
  {
   "cell_type": "code",
   "execution_count": 22,
   "id": "fd0d623a",
   "metadata": {},
   "outputs": [
    {
     "name": "stdout",
     "output_type": "stream",
     "text": [
      "<--------------------KNN Classifier model------------------>"
     ]
    },
    {
     "name": "stderr",
     "output_type": "stream",
     "text": [
      "C:\\Users\\2001s\\anaconda3\\Lib\\site-packages\\sklearn\\neighbors\\_classification.py:207: DataConversionWarning: A column-vector y was passed when a 1d array was expected. Please change the shape of y to (n_samples,), for example using ravel().\n",
      "  return self._fit(X, y)\n"
     ]
    },
    {
     "name": "stdout",
     "output_type": "stream",
     "text": [
      "\n",
      "Accuracy score :\t 0.55\n",
      "\n",
      "Confusion Martix :\n",
      " [[  0   0   1   0   0   0]\n",
      " [  0   0  10   3   0   0]\n",
      " [  0   0 113  35   0   0]\n",
      " [  0   0  79 106   0   0]\n",
      " [  0   0   6  41   1   0]\n",
      " [  0   0   0   4   1   0]]\n",
      "\n",
      "classification Report :\n",
      "               precision    recall  f1-score   support\n",
      "\n",
      "           3       0.00      0.00      0.00         1\n",
      "           4       0.00      0.00      0.00        13\n",
      "           5       0.54      0.76      0.63       148\n",
      "           6       0.56      0.57      0.57       185\n",
      "           7       0.50      0.02      0.04        48\n",
      "           8       0.00      0.00      0.00         5\n",
      "\n",
      "    accuracy                           0.55       400\n",
      "   macro avg       0.27      0.23      0.21       400\n",
      "weighted avg       0.52      0.55      0.50       400\n",
      "\n"
     ]
    },
    {
     "name": "stderr",
     "output_type": "stream",
     "text": [
      "C:\\Users\\2001s\\anaconda3\\Lib\\site-packages\\sklearn\\metrics\\_classification.py:1334: UndefinedMetricWarning: Precision and F-score are ill-defined and being set to 0.0 in labels with no predicted samples. Use `zero_division` parameter to control this behavior.\n",
      "  _warn_prf(average, modifier, msg_start, len(result))\n",
      "C:\\Users\\2001s\\anaconda3\\Lib\\site-packages\\sklearn\\metrics\\_classification.py:1334: UndefinedMetricWarning: Precision and F-score are ill-defined and being set to 0.0 in labels with no predicted samples. Use `zero_division` parameter to control this behavior.\n",
      "  _warn_prf(average, modifier, msg_start, len(result))\n",
      "C:\\Users\\2001s\\anaconda3\\Lib\\site-packages\\sklearn\\metrics\\_classification.py:1334: UndefinedMetricWarning: Precision and F-score are ill-defined and being set to 0.0 in labels with no predicted samples. Use `zero_division` parameter to control this behavior.\n",
      "  _warn_prf(average, modifier, msg_start, len(result))\n"
     ]
    }
   ],
   "source": [
    "# Different K\n",
    "\n",
    "knn_model = KNeighborsClassifier(n_neighbors=126)\n",
    "\n",
    "print('<--------------------KNN Classifier model------------------>')\n",
    "knn_model.fit(xtrain,ytrain)\n",
    "ypred = knn_model.predict(xtest)\n",
    "\n",
    "print(\"Accuracy score :\\t\",accuracy_score(ytest,ypred))\n",
    "print()\n",
    "print('Confusion Martix :\\n',confusion_matrix(ytest,ypred))\n",
    "print()\n",
    "print('classification Report :\\n', classification_report(ytest,ypred))"
   ]
  },
  {
   "cell_type": "code",
   "execution_count": 25,
   "id": "db6a607e",
   "metadata": {},
   "outputs": [],
   "source": [
    "### After scaling independent variable-x, the accuracy of knn model improves slightly\n",
    "# IN k = 26, WE get optimum better performance"
   ]
  },
  {
   "cell_type": "code",
   "execution_count": null,
   "id": "f334ff3d",
   "metadata": {},
   "outputs": [],
   "source": []
  }
 ],
 "metadata": {
  "kernelspec": {
   "display_name": "Python 3 (ipykernel)",
   "language": "python",
   "name": "python3"
  },
  "language_info": {
   "codemirror_mode": {
    "name": "ipython",
    "version": 3
   },
   "file_extension": ".py",
   "mimetype": "text/x-python",
   "name": "python",
   "nbconvert_exporter": "python",
   "pygments_lexer": "ipython3",
   "version": "3.11.4"
  }
 },
 "nbformat": 4,
 "nbformat_minor": 5
}
