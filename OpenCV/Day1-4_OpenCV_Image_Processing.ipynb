{
 "cells": [
  {
   "cell_type": "markdown",
   "id": "c5a59ab0",
   "metadata": {},
   "source": [
    "## Basics of OpenCV"
   ]
  },
  {
   "cell_type": "code",
   "execution_count": 1,
   "id": "91d6747f",
   "metadata": {},
   "outputs": [],
   "source": [
    "import cv2\n",
    "import numpy as np"
   ]
  },
  {
   "cell_type": "markdown",
   "id": "b136b80a",
   "metadata": {},
   "source": [
    "### Drawing line, circle and rectangle using openCV"
   ]
  },
  {
   "cell_type": "code",
   "execution_count": 45,
   "id": "2190ccd3",
   "metadata": {},
   "outputs": [],
   "source": [
    "image=np.zeros((400,300,3),dtype= np.uint8)\n",
    "cv2.line(image,(100,100),(50,50),(123,255,255),6)\n",
    "cv2.imshow(\"TestImages\",image)\n",
    "cv2.waitKey(0) \n",
    "cv2.destroyAllWindows()"
   ]
  },
  {
   "cell_type": "code",
   "execution_count": 46,
   "id": "fd3dc621",
   "metadata": {},
   "outputs": [],
   "source": [
    "image=np.zeros((400,300,3),dtype= np.uint8)\n",
    "cv2.rectangle(image,(100,100),(50,50),(12,255,255),6)\n",
    "cv2.imshow(\"TestImages\",image)\n",
    "cv2.waitKey(0) \n",
    "cv2.destroyAllWindows()"
   ]
  },
  {
   "cell_type": "code",
   "execution_count": 47,
   "id": "e9ddde6b",
   "metadata": {},
   "outputs": [],
   "source": [
    "image=np.zeros((800,600,3),dtype= np.uint8)\n",
    "cv2.rectangle(image,(100,100),(500,500),(0,0,255),-1)\n",
    "cv2.circle(image,(300,300),90,(255,255,255),-1)\n",
    "cv2.imshow(\"TestImages\",image)\n",
    "cv2.waitKey(0) \n",
    "cv2.destroyAllWindows()"
   ]
  },
  {
   "cell_type": "code",
   "execution_count": 39,
   "id": "253c55fe",
   "metadata": {},
   "outputs": [],
   "source": [
    "image = cv2.imread(\"person.jpg\")\n",
    "cvtd=cv2.cvtColor(image,cv2.COLOR_BGR2GRAY)\n",
    "cv2.imshow(\"Original Image\",image)\n",
    "cv2.imshow(\"Grayscale Image\",cvtd)\n",
    "cv2.waitKey(0)\n",
    "cv2.destroyAllWindows()"
   ]
  },
  {
   "cell_type": "code",
   "execution_count": 2,
   "id": "ad681308",
   "metadata": {},
   "outputs": [],
   "source": [
    "import cv2\n",
    "import numpy as np\n",
    "\n",
    "original_image = cv2.imread(\"IMG_0028.jpg\")\n",
    "\n",
    "cv2.imshow(\"Original Image\", original_image)\n",
    "\n",
    "# Convert BGR to RGB\n",
    "# OpenCV reads in BGR by default\n",
    "rgb_image = cv2.cvtColor(original_image, cv2.COLOR_BGR2RGB)\n",
    "\n",
    "cv2.imshow(\"RGB Image\", rgb_image)\n",
    "\n",
    "# Convertfrom RGB to grayscale\n",
    "gray_image = cv2.cvtColor(original_image, cv2.COLOR_BGR2GRAY)\n",
    "\n",
    "cv2.imshow(\"Grayscale Image\", gray_image)\n",
    "\n",
    "# Convertfrom BGR to HSV\n",
    "hsv_image = cv2.cvtColor(original_image, cv2.COLOR_BGR2HSV)\n",
    "\n",
    "cv2.imshow(\"HSV Image\", hsv_image)\n",
    "\n",
    "# Convert from BGR to LAB\n",
    "lab_image = cv2.cvtColor(original_image, cv2.COLOR_BGR2LAB)\n",
    "\n",
    "# Display the image in LAB colorspace\n",
    "cv2.imshow(\"LAB Image\", lab_image)\n",
    "cv2.waitKey(0)\n",
    "cv2.destroyAllWindows()"
   ]
  },
  {
   "cell_type": "code",
   "execution_count": 6,
   "id": "c08185fd",
   "metadata": {},
   "outputs": [],
   "source": [
    "image = cv2.imread(\"IMG_0028.jpg\",cv2.IMREAD_GRAYSCALE)\n",
    "\n",
    "cv2.imshow(\"Original Image\",image)\n",
    "cv2.waitKey(0)\n",
    "cv2.destroyAllWindows()"
   ]
  },
  {
   "cell_type": "code",
   "execution_count": 8,
   "id": "5bae4e44",
   "metadata": {},
   "outputs": [
    {
     "name": "stdout",
     "output_type": "stream",
     "text": [
      "(628, 1200)\n"
     ]
    }
   ],
   "source": [
    "image = cv2.imread(\"IMG_0028.jpg\",cv2.IMREAD_GRAYSCALE)\n",
    "print(image.shape)"
   ]
  },
  {
   "cell_type": "code",
   "execution_count": 19,
   "id": "d5973cdf",
   "metadata": {},
   "outputs": [
    {
     "data": {
      "text/plain": [
       "(303, 401)"
      ]
     },
     "execution_count": 19,
     "metadata": {},
     "output_type": "execute_result"
    }
   ],
   "source": [
    "image = cv2.imread(\"dog.jpg\",cv2.IMREAD_GRAYSCALE)\n",
    "width,height=image.shape[:2]\n",
    "\n",
    "width,height"
   ]
  },
  {
   "cell_type": "code",
   "execution_count": 37,
   "id": "49044f74",
   "metadata": {},
   "outputs": [],
   "source": [
    "scaling_factor = 0.5\n",
    "scaled_image = cv2.resize(image, None, fx=scaling_factor, fy=scaling_factor)\n",
    "cv2.imshow(\"Original Image\",image)\n",
    "cv2.imshow(\"Scaled Image\",scaled_image)\n",
    "scaled_image.shape\n",
    "cv2.waitKey(0)\n",
    "cv2.destroyAllWindows()"
   ]
  },
  {
   "cell_type": "code",
   "execution_count": 38,
   "id": "e21b8374",
   "metadata": {},
   "outputs": [],
   "source": [
    "scaled_image = cv2.resize(image, (480,720))\n",
    "cv2.imshow(\"Original Image\",image)\n",
    "cv2.imshow(\"Scaled Image\",scaled_image)\n",
    "scaled_image.shape\n",
    "cv2.waitKey(0)\n",
    "cv2.destroyAllWindows()"
   ]
  },
  {
   "cell_type": "markdown",
   "id": "7c749e4c",
   "metadata": {},
   "source": [
    "### Rotating image"
   ]
  },
  {
   "cell_type": "code",
   "execution_count": 21,
   "id": "dc98875c",
   "metadata": {},
   "outputs": [],
   "source": [
    "rotation_center=(width//2,height//2)\n",
    "rotation_angle=360 #in Degrees\n",
    "scale = 1\n",
    "rotation_matrix = cv2.getRotationMatrix2D(rotation_center, rotation_angle, scale)\n",
    "rotated_image = cv2.warpAffine(image, rotation_matrix, (width, height))\n",
    "cv2.imshow(\"Original Image\",image)\n",
    "cv2.imshow(\"Transformed Image\",rotated_image)\n",
    "cv2.waitKey(0)\n",
    "cv2.destroyAllWindows()"
   ]
  },
  {
   "cell_type": "markdown",
   "id": "abfb8566",
   "metadata": {},
   "source": [
    "### Rotating image via function"
   ]
  },
  {
   "cell_type": "code",
   "execution_count": 33,
   "id": "aa711eb6",
   "metadata": {},
   "outputs": [],
   "source": [
    "def rotationMatrix():\n",
    "    image = cv2.imread(\"dog.jpg\",cv2.IMREAD_GRAYSCALE)\n",
    "    width,height=image.shape[:2]\n",
    "    rotation_center=(width//2,height//2)\n",
    "    rotation_angle = int(input('Enter Rotation angle :'))\n",
    "    scale = int(input('Enter Scale :'))\n",
    "    rotation_matrix = cv2.getRotationMatrix2D(rotation_center, rotation_angle, scale)\n",
    "    rotated_image = cv2.warpAffine(image, rotation_matrix, (width, height))\n",
    "    cv2.imshow(\"Original Image\",image)\n",
    "    cv2.imshow(\"Transformed Image\",rotated_image)\n",
    "    cv2.waitKey(0)\n",
    "    cv2.destroyAllWindows()"
   ]
  },
  {
   "cell_type": "code",
   "execution_count": 34,
   "id": "18b5aa8d",
   "metadata": {
    "scrolled": true
   },
   "outputs": [
    {
     "name": "stdout",
     "output_type": "stream",
     "text": [
      "Enter Rotation angle :180\n",
      "Enter Scale :5\n"
     ]
    }
   ],
   "source": [
    "rotationMatrix()"
   ]
  },
  {
   "cell_type": "markdown",
   "id": "de9abd7f",
   "metadata": {},
   "source": [
    "### Resize image as passport size photo"
   ]
  },
  {
   "cell_type": "code",
   "execution_count": 44,
   "id": "ef55d8df",
   "metadata": {},
   "outputs": [],
   "source": [
    "image = cv2.imread(\"person.jpg\",cv2.COLOR_BGR2RGB)\n",
    "scaled_image = cv2.resize(image, (300,350))\n",
    "cv2.imshow(\"Original Image\",image)\n",
    "cv2.imshow(\"Scaled Image\",scaled_image)\n",
    "scaled_image.shape\n",
    "cv2.waitKey(0)\n",
    "cv2.destroyAllWindows()"
   ]
  },
  {
   "cell_type": "code",
   "execution_count": 20,
   "id": "f7141b3c",
   "metadata": {},
   "outputs": [],
   "source": [
    "image = cv2.imread('person.jpg', cv2.IMREAD_GRAYSCALE)\n",
    "scaled_image = cv2.resize(image, (300,350))\n",
    "cv2.imshow('Original Grayscale Image', scaled_image)\n",
    "\n",
    "threshold_value = 127  # Threshold value\n",
    "_, binary_threshold_image = cv2.threshold(image, threshold_value, 255, cv2.THRESH_BINARY)\n",
    "scaled_image = cv2.resize(binary_threshold_image, (300,350))\n",
    "cv2.imshow('Binary Threshold Image', scaled_image)\n",
    "cv2.waitKey(0)\n",
    "cv2.destroyAllWindows()"
   ]
  },
  {
   "cell_type": "markdown",
   "id": "7ffb68c9",
   "metadata": {},
   "source": [
    "# "
   ]
  },
  {
   "cell_type": "markdown",
   "id": "03015859",
   "metadata": {},
   "source": [
    "##                                                                Day 2"
   ]
  },
  {
   "cell_type": "markdown",
   "id": "6f81c7d9",
   "metadata": {},
   "source": [
    "### Overlaying / Blunding the color with  image"
   ]
  },
  {
   "cell_type": "code",
   "execution_count": 13,
   "id": "47d0c055",
   "metadata": {},
   "outputs": [],
   "source": [
    "image = cv2.imread('person.jpg')"
   ]
  },
  {
   "cell_type": "code",
   "execution_count": 8,
   "id": "c49f2890",
   "metadata": {},
   "outputs": [],
   "source": [
    "blue_overlay = np.zeros_like(image)\n",
    "blue_overlay[:, :] = [255, 0, 0]  # Blue (BGR format)\n",
    "\n",
    "alpha = 0.5  # 0.0: fully transparent, 1.0: fully opaque\n",
    "\n",
    "# Blend the image with the blue overlay\n",
    "result_image = cv2.addWeighted(image, 1 - alpha, blue_overlay, alpha, 0)\n",
    "\n",
    "cv2.imshow('Original Image', image)\n",
    "cv2.imshow('Blue Image', result_image)\n",
    "cv2.waitKey(0)\n",
    "cv2.destroyAllWindows()"
   ]
  },
  {
   "cell_type": "code",
   "execution_count": 9,
   "id": "ebc852ff",
   "metadata": {},
   "outputs": [],
   "source": [
    "red_overlay = np.zeros_like(image)\n",
    "red_overlay[:, :] = [0, 0, 255]  # Red (RGB format)\n",
    "\n",
    "alpha = 0.5  # 0.0: fully transparent, 1.0: fully opaque\n",
    "\n",
    "# Blend the image with the red overlay\n",
    "result_image = cv2.addWeighted(image, 1 - alpha, red_overlay, alpha, 0)\n",
    "\n",
    "cv2.imshow('Original Image', image)\n",
    "cv2.imshow('Red Image', result_image)\n",
    "cv2.waitKey(0)\n",
    "cv2.destroyAllWindows()"
   ]
  },
  {
   "cell_type": "code",
   "execution_count": 16,
   "id": "9b089fa4",
   "metadata": {},
   "outputs": [],
   "source": [
    "color_overlay = np.zeros_like(image)\n",
    "color_overlay[:, :] = [148, 76, 143]  #(BGR format)\n",
    "result_image = cv2.addWeighted(image, 1, color_overlay, 1, 0)\n",
    "\n",
    "green_overlay = np.zeros_like(image)\n",
    "green_overlay[:, :] = [153, 255, 51]  #(BGR format)\n",
    "result_image1 = cv2.addWeighted(image, 2, green_overlay, 1, 0)\n",
    "\n",
    "cv2.imshow('Original Image', image)\n",
    "cv2.imshow('Color Blunded Image', result_image)\n",
    "cv2.imshow('Color Blunded Image', result_image1)\n",
    "cv2.waitKey(0)\n",
    "cv2.destroyAllWindows()"
   ]
  },
  {
   "cell_type": "markdown",
   "id": "629f1ed5",
   "metadata": {},
   "source": [
    "### Blur image"
   ]
  },
  {
   "cell_type": "code",
   "execution_count": 2,
   "id": "b5b5288c",
   "metadata": {},
   "outputs": [],
   "source": [
    "#image = cv2.imread('dog.jpg')\n",
    "\n",
    "image = cv2.imread(\"dog.jpg\",cv2.IMREAD_GRAYSCALE)\n",
    "cv2.imshow('Original Image', image)\n",
    "\n",
    "# Average Blurring: Replacing each pixel value with the average value of its neighborhood\n",
    "\n",
    "kernel_size = (25, 25)  # Kernel size for the average blur filter\n",
    "\n",
    "average_blur_image = cv2.blur(image, kernel_size)\n",
    "gaussian_blur_image = cv2.GaussianBlur(image, kernel_size, 0)\n",
    "median_blur_image = cv2.medianBlur(image, 25)\n",
    "\n",
    "cv2.imshow('Average Blurred Image', average_blur_image)\n",
    "cv2.imshow('Gaussian Blurred Image', gaussian_blur_image)\n",
    "cv2.imshow('Median Blurred Image', median_blur_image)\n",
    "cv2.waitKey(0)\n",
    "cv2.destroyAllWindows()"
   ]
  },
  {
   "cell_type": "markdown",
   "id": "665bb02c",
   "metadata": {},
   "source": [
    "### Color Overlay on Blur images"
   ]
  },
  {
   "cell_type": "code",
   "execution_count": 11,
   "id": "1baecd59",
   "metadata": {},
   "outputs": [],
   "source": [
    "image = cv2.imread('dog.jpg')\n",
    "color_overlay = np.zeros_like(image)\n",
    "color_overlay[:, :] = [148, 76, 143]  #(BGR format)\n",
    "\n",
    "alpha = 2 # Transparancy\n",
    "result_image = cv2.addWeighted(image, 1 - alpha, color_overlay, alpha, 0)\n",
    "\n",
    "gaussian_blur_image = cv2.GaussianBlur(result_image, kernel_size, 0)\n",
    "median_blur_image = cv2.medianBlur(result_image, 25)\n",
    "\n",
    "cv2.imshow('Original Image', image)\n",
    "cv2.imshow('Gaussian Blurred Image', gaussian_blur_image)\n",
    "cv2.imshow('Median Blurred Image', median_blur_image)\n",
    "cv2.waitKey(0)\n",
    "cv2.destroyAllWindows()"
   ]
  },
  {
   "cell_type": "markdown",
   "id": "fc25b918",
   "metadata": {},
   "source": [
    "### Overlapping / Adding Two Images."
   ]
  },
  {
   "cell_type": "code",
   "execution_count": 17,
   "id": "1915bd50",
   "metadata": {},
   "outputs": [],
   "source": [
    "image = cv2.imread(\"person.jpg\")\n",
    "img2=cv2.imread(\"person2.jpg\")\n",
    "img3=cv2.add(image,img2)\n",
    "cv2.imshow('Original Image', img3)\n",
    "cv2.waitKey(0)\n",
    "cv2.destroyAllWindows()"
   ]
  },
  {
   "cell_type": "code",
   "execution_count": 2,
   "id": "71fcdbcb",
   "metadata": {},
   "outputs": [],
   "source": [
    "# increase/decrease weight of an image\n",
    "\n",
    "image = cv2.imread(\"person.jpg\")\n",
    "img2=cv2.imread(\"person1.jpg\")\n",
    "img3=cv2.addWeighted(image,0.1,img2,0.7,0)\n",
    "cv2.imshow('Overalapped Image', img3)\n",
    "cv2.waitKey(0)\n",
    "cv2.destroyAllWindows()"
   ]
  },
  {
   "cell_type": "markdown",
   "id": "e85ceee3",
   "metadata": {},
   "source": [
    "### Save the image file"
   ]
  },
  {
   "cell_type": "code",
   "execution_count": 3,
   "id": "cee74ea6",
   "metadata": {},
   "outputs": [],
   "source": [
    "image = cv2.imread(\"person.jpg\")\n",
    "img2=cv2.imread(\"person1.jpg\")\n",
    "img3=cv2.addWeighted(image,0.1,img2,0.7,0)\n",
    "cv2.imshow('Overalapped Image', img3)\n",
    "cv2.imwrite(\"newImage.jpg\",img3)\n",
    "cv2.waitKey(0)\n",
    "cv2.destroyAllWindows()"
   ]
  },
  {
   "cell_type": "code",
   "execution_count": 5,
   "id": "4b8770e8",
   "metadata": {},
   "outputs": [],
   "source": [
    "# Resizing the images\n",
    "image1 = cv2.imread(\"person.jpg\")\n",
    "scaled_image1 = cv2.resize(image1, (300,350))\n",
    "image2 = cv2.imread(\"dog.jpg\")\n",
    "scaled_image2 = cv2.resize(image2, (300,350))\n",
    "\n",
    "img3=cv2.addWeighted(scaled_image1,0.4,scaled_image2,0.5,0)\n",
    "cv2.imshow('Overalapped Image', img3)\n",
    "cv2.imwrite(\"newImage.jpg\",img3)\n",
    "cv2.waitKey(0)\n",
    "cv2.destroyAllWindows()"
   ]
  },
  {
   "cell_type": "markdown",
   "id": "db35c7c4",
   "metadata": {},
   "source": [
    "### Subtract, Multiply and Divide the Images"
   ]
  },
  {
   "cell_type": "code",
   "execution_count": 16,
   "id": "807c2f2c",
   "metadata": {},
   "outputs": [],
   "source": [
    "image = cv2.imread(\"newImage.jpg\")\n",
    "img2=cv2.imread(\"dog.jpg\")\n",
    "scaled_image1 = cv2.resize(img2, (300,350))\n",
    "\n",
    "img3=cv2.subtract(image,scaled_image1) # Alter method : image = image-scaled_image1\n",
    "img4=cv2.multiply(image,scaled_image1)\n",
    "img5=cv2.divide(image,scaled_image1)\n",
    "\n",
    "cv2.imshow('Original Image', image)\n",
    "cv2.imshow('subtract Image', img3)\n",
    "cv2.imshow('multiply Image', img4)\n",
    "cv2.imshow('divide Image', img5)\n",
    "cv2.waitKey(0)\n",
    "cv2.destroyAllWindows()"
   ]
  },
  {
   "cell_type": "markdown",
   "id": "d55483d3",
   "metadata": {},
   "source": [
    "## Canny Edges"
   ]
  },
  {
   "cell_type": "code",
   "execution_count": 37,
   "id": "19603c82",
   "metadata": {},
   "outputs": [],
   "source": [
    "image1 = cv2.imread(\"person.jpg\")\n",
    "scaled_image1 = cv2.resize(image1, (300,350))\n",
    "canny_edges = cv2.Canny(scaled_image1, 50, 150)  # Adjust the threshold values as needed\n",
    "\n",
    "cv2.imshow('Canny edges Image', canny_edges)\n",
    "cv2.waitKey(0)\n",
    "cv2.destroyAllWindows()"
   ]
  },
  {
   "cell_type": "markdown",
   "id": "310c3bec",
   "metadata": {},
   "source": [
    "### Contours\n",
    "Contours are defined as the line joining all the points along the boundary of an image that are having the same intensity. \n",
    "Contours come handy in shape analysis, finding the size of the object of interest, and object detection."
   ]
  },
  {
   "cell_type": "code",
   "execution_count": 4,
   "id": "382759a8",
   "metadata": {},
   "outputs": [
    {
     "name": "stdout",
     "output_type": "stream",
     "text": [
      "1\n"
     ]
    }
   ],
   "source": [
    "image = cv2.imread('person.jpg', cv2.IMREAD_GRAYSCALE)\n",
    "scaled_image = cv2.resize(image, (300,350))\n",
    "contours, _ = cv2.findContours(scaled_image, cv2.RETR_EXTERNAL, cv2.CHAIN_APPROX_SIMPLE)\n",
    "print(len(contours))\n",
    "# Create a copy of the original image to draw contours on\n",
    "contour_image = scaled_image.copy()\n",
    "\n",
    "cv2.drawContours(contour_image, contours, -1, (0, 255, 0), 2)\n",
    "\n",
    "cv2.imshow('Image with Contours', contour_image)\n",
    "cv2.waitKey(0)\n",
    "cv2.destroyAllWindows()"
   ]
  },
  {
   "cell_type": "markdown",
   "id": "5964404c",
   "metadata": {},
   "source": [
    "### Contours without Canny Edge"
   ]
  },
  {
   "cell_type": "code",
   "execution_count": 3,
   "id": "528a3af8",
   "metadata": {},
   "outputs": [
    {
     "name": "stdout",
     "output_type": "stream",
     "text": [
      "1\n"
     ]
    }
   ],
   "source": [
    "import cv2\n",
    "import numpy as np\n",
    "\n",
    "# Create a black image\n",
    "image = np.zeros((800, 600, 3), dtype=np.uint8)\n",
    "\n",
    "# Draw a filled red rectangle abd white circle\n",
    "cv2.rectangle(image, (100, 100), (500, 500), (0, 0, 255), -1)\n",
    "cv2.circle(image, (300, 300), 90, (255, 255, 255), -1)\n",
    "\n",
    "# Convert the image to grayscale\n",
    "gray = cv2.cvtColor(image, cv2.COLOR_BGR2GRAY)\n",
    "\n",
    "# Find contours in the grayscale image\n",
    "contours, _ = cv2.findContours(gray, cv2.RETR_EXTERNAL, cv2.CHAIN_APPROX_SIMPLE)\n",
    "print(len(contours))\n",
    "# Draw contours on the original image\n",
    "cv2.drawContours(image, contours, -1, (0, 255, 0), 2)\n",
    "\n",
    "cv2.imshow(\"Contours\", image)\n",
    "cv2.waitKey(0)\n",
    "cv2.destroyAllWindows()"
   ]
  },
  {
   "cell_type": "markdown",
   "id": "d2e8a3d8",
   "metadata": {},
   "source": [
    "### Contours with Canny Edge"
   ]
  },
  {
   "cell_type": "code",
   "execution_count": 3,
   "id": "1fab1575",
   "metadata": {},
   "outputs": [
    {
     "name": "stdout",
     "output_type": "stream",
     "text": [
      "235\n"
     ]
    }
   ],
   "source": [
    "image1 = cv2.imread(\"person.jpg\")\n",
    "scaled_image1 = cv2.resize(image1, (300,350))\n",
    "canny_edges = cv2.Canny(scaled_image1, 50, 150)\n",
    "\n",
    "cv2.imshow(\"Canny Edge image\", canny_edges)\n",
    "\n",
    "# Find contours in the grayscale image\n",
    "contours, _ = cv2.findContours(canny_edges, cv2.RETR_EXTERNAL, cv2.CHAIN_APPROX_SIMPLE)\n",
    "print(len(contours))\n",
    "\n",
    "contour_image = np.zeros_like(scaled_image1)\n",
    "\n",
    "# Draw contours on the original image\n",
    "cv2.drawContours(contour_image, contours, -1, (0, 0, 255), 5)\n",
    "\n",
    "cv2.imshow(\"Contours Images\", contour_image)\n",
    "\n",
    "\n",
    "cv2.waitKey(0)\n",
    "cv2.destroyAllWindows()"
   ]
  },
  {
   "cell_type": "markdown",
   "id": "f33f0c6a",
   "metadata": {},
   "source": [
    "## Threshold Algorithms"
   ]
  },
  {
   "cell_type": "code",
   "execution_count": 15,
   "id": "04d6adfe",
   "metadata": {},
   "outputs": [],
   "source": [
    "image1 = cv2.imread(\"numberPlate.jpg\",cv2.IMREAD_GRAYSCALE)\n",
    "scaled_image1 = cv2.resize(image1, (300,350))\n",
    "_, binary_threshold_image = cv2.threshold(scaled_image1, 200, 255, cv2.THRESH_BINARY)\n",
    "cv2.imshow(\"Binary threshold Images\", binary_threshold_image)\n",
    "cv2.waitKey(0)\n",
    "cv2.destroyAllWindows()"
   ]
  },
  {
   "cell_type": "markdown",
   "id": "195ce926",
   "metadata": {},
   "source": [
    "#### Adaptive Threshold Algorithms"
   ]
  },
  {
   "cell_type": "code",
   "execution_count": 11,
   "id": "a09ef0ff",
   "metadata": {},
   "outputs": [],
   "source": [
    "image1 = cv2.imread(\"numberPlate.jpg\",cv2.IMREAD_GRAYSCALE)\n",
    "scaled_image1 = cv2.resize(image1, (300,350))\n",
    "adaptive_threshold_image = cv2.adaptiveThreshold(scaled_image1, 255, cv2.ADAPTIVE_THRESH_MEAN_C, cv2.THRESH_BINARY, 11, 2)\n",
    "cv2.imshow(\"Adaptive threshold Images\", adaptive_threshold_image)\n",
    "cv2.waitKey(0)\n",
    "cv2.destroyAllWindows()"
   ]
  },
  {
   "cell_type": "markdown",
   "id": "c1494a14",
   "metadata": {},
   "source": [
    "## Threshold Algorithms"
   ]
  },
  {
   "cell_type": "code",
   "execution_count": 24,
   "id": "f61e686c",
   "metadata": {},
   "outputs": [],
   "source": [
    "import cv2\n",
    "\n",
    "image = cv2.imread('numberPlate.jpg', cv2.IMREAD_GRAYSCALE)\n",
    "\n",
    "_, binary_threshold_image = cv2.threshold(image, 190, 255, cv2.THRESH_BINARY)\n",
    "adaptive_threshold_image = cv2.adaptiveThreshold(image, 255, cv2.ADAPTIVE_THRESH_MEAN_C, cv2.THRESH_BINARY, 11, 2)\n",
    "_, otsu_threshold_image = cv2.threshold(image, 190, 255, cv2.THRESH_BINARY + cv2.THRESH_OTSU)\n",
    "inrange_threshold_image = cv2.inRange(image, 190,255)\n",
    "\n",
    "cv2.imshow(\"Original Images\", image)\n",
    "cv2.imshow(\"Binary threshold Images\", binary_threshold_image)\n",
    "cv2.imshow(\"Adaptive threshold Images\", adaptive_threshold_image)\n",
    "cv2.imshow(\"otsu threshold Images\", otsu_threshold_image)\n",
    "cv2.imshow(\"inrange threshold Images\", inrange_threshold_image)\n",
    "\n",
    "cv2.waitKey(0)\n",
    "cv2.destroyAllWindows()"
   ]
  },
  {
   "cell_type": "markdown",
   "id": "0e201917",
   "metadata": {},
   "source": [
    "# "
   ]
  },
  {
   "cell_type": "markdown",
   "id": "7954c814",
   "metadata": {},
   "source": [
    "## Morphological Transformation\n",
    " 1. Affects the Foreground objects\n",
    " 2. Used to reduce the noise of an image"
   ]
  },
  {
   "cell_type": "code",
   "execution_count": 2,
   "id": "1617174d",
   "metadata": {},
   "outputs": [],
   "source": [
    "img = cv2.imread('alphabet.jpg',cv2.IMREAD_GRAYSCALE)\n",
    "image = cv2.resize(img,(500,500))\n",
    "cv2.imshow('Original Grayscale Image', image)\n",
    "\n",
    "# Define kernel for operations\n",
    "kernel = np.ones((10, 10), np.uint8)\n",
    "\n",
    "# Erosion: Erodes(damages) away the boundaries of foreground objects / strinking the foreground color image\n",
    "# use to remove the noise from the picture\n",
    "erosion_image = cv2.erode(image, kernel, iterations=1)\n",
    "\n",
    "cv2.imshow('Erosion Image', erosion_image)\n",
    "\n",
    "# Dilation: Expands the boundaries of foreground objects\n",
    "dilation_image = cv2.dilate(image, kernel, iterations=1)\n",
    "\n",
    "cv2.imshow('Dilation Image', dilation_image)\n",
    "\n",
    "# Opening: Erosion followed by dilation, useful for noise reduction\n",
    "opening_image = cv2.morphologyEx(image, cv2.MORPH_OPEN, kernel)\n",
    "\n",
    "cv2.imshow('Opening Image', opening_image)\n",
    "\n",
    "# Closing: Dilation followed by erosion, useful for closing small holes in objects\n",
    "closing_image = cv2.morphologyEx(image, cv2.MORPH_CLOSE, kernel)\n",
    "\n",
    "cv2.imshow('Closing Image', closing_image)\n",
    "\n",
    "cv2.waitKey(0)\n",
    "cv2.destroyAllWindows()"
   ]
  },
  {
   "cell_type": "markdown",
   "id": "ad046c07",
   "metadata": {},
   "source": [
    "# Histogram"
   ]
  },
  {
   "cell_type": "code",
   "execution_count": 4,
   "id": "a64d80bd",
   "metadata": {},
   "outputs": [],
   "source": [
    "image = cv2.imread('person.jpg')\n",
    "\n",
    "histogram = cv2.calcHist([image], [0], None, [256], [0, 180])\n",
    "                      # image, channel[0,1,2] BGR, color mask, histogram size of each channel, specification of color\n",
    "hist_image = np.zeros((256, 256), dtype=np.uint8)\n",
    "cv2.normalize(histogram, histogram, 0, hist_image.shape[0], cv2.NORM_MINMAX)\n",
    "\n",
    "for i in range(256):\n",
    "    cv2.line(hist_image, (i, hist_image.shape[0]), (i, hist_image.shape[0] - int(histogram[i])), 255)\n",
    "\n",
    "cv2.imshow('Histogram', hist_image)\n",
    "cv2.waitKey(0)\n",
    "cv2.destroyAllWindows()"
   ]
  },
  {
   "cell_type": "markdown",
   "id": "ba328ebb",
   "metadata": {},
   "source": [
    "# Templates Matching"
   ]
  },
  {
   "cell_type": "code",
   "execution_count": 4,
   "id": "96d7f067",
   "metadata": {},
   "outputs": [],
   "source": [
    "import cv2\n",
    "\n",
    "image = cv2.imread('dog.jpg')\n",
    "main_image = cv2.resize(image,(300,400))\n",
    "template = cv2.imread('person.jpg')\n",
    "result = cv2.matchTemplate(main_image, template, cv2.TM_CCOEFF_NORMED)\n",
    "\n",
    "# Find the location of the matched area\n",
    "min_val, max_val, min_loc, max_loc = cv2.minMaxLoc(result)\n",
    "\n",
    "# Draw a rectangle around the matched area\n",
    "h, w, _ = template.shape\n",
    "cv2.rectangle(main_image, max_loc, (max_loc[0] + w, max_loc[1] + h), (0, 255, 0), 2)\n",
    "\n",
    "# Display the result\n",
    "cv2.imshow('Matching Result', cv2.resize(main_image,(800,800)))\n",
    "cv2.imshow(\"Org Image\",template)\n",
    "cv2.waitKey(0)\n",
    "cv2.destroyAllWindows()"
   ]
  },
  {
   "cell_type": "code",
   "execution_count": null,
   "id": "25bf32c8",
   "metadata": {},
   "outputs": [],
   "source": [
    "import cv2\n",
    "import numpy as np\n",
    "im1=cv2.resize(cv2.imread(\"\",cv2.IMREAD_GRAYSCALE),(480,480))\n",
    "im2=cv2.resize(cv2.imread(\"icon.png\",cv2.IMREAD_GRAYSCALE),(480,480))\n",
    "print(im1.shape)\n",
    "print(im2.shape)\n",
    "W,H=im1.shape[:2]\n",
    "#Read Images and Convert them to Grayscale\n",
    "match=cv2.matchTemplate(im1,im2,method=cv2.TM_CCOEFF_NORMED)\n",
    "threshold=126\n",
    "(x,y)=np.where(match>=threshold)\n",
    "boxes=[]\n",
    "for(a,b) in zip(x,y):\n",
    "    boxes.append((x,y,x+W,y+H))\n",
    "    \n",
    "for(a1,a2,a3,a4) in boxes:\n",
    "    cv2.rectangle(im1,(x1,y1),(x2,y2),(0,255,0),2)\n",
    "cv2.imshow(\"Final Output\",im1)\n",
    "cv2.imshow(\"Template Output 2\",im2)\n",
    "cv2.waitKey(0)\n",
    "cv2.destroyAllWindows()"
   ]
  },
  {
   "cell_type": "markdown",
   "id": "2d057640",
   "metadata": {},
   "source": [
    "## Image Pyramid"
   ]
  },
  {
   "cell_type": "code",
   "execution_count": 5,
   "id": "12c37a76",
   "metadata": {},
   "outputs": [],
   "source": [
    "import cv2\n",
    "import numpy as np\n",
    "\n",
    "image = cv2.imread('logo.jpg')\n",
    "\n",
    "gaussian_pyramid = [image]\n",
    "for i in range(6):\n",
    "    image = cv2.pyrDown(image)\n",
    "    gaussian_pyramid.append(image)\n",
    "\n",
    "for i, level_image in enumerate(gaussian_pyramid):\n",
    "    cv2.imshow(f'Gaussian Pyramid Level {i}', level_image)\n",
    "    \n",
    "cv2.waitKey(0)\n",
    "cv2.destroyAllWindows()"
   ]
  },
  {
   "cell_type": "code",
   "execution_count": 1,
   "id": "2c3b848e",
   "metadata": {},
   "outputs": [
    {
     "name": "stdout",
     "output_type": "stream",
     "text": [
      "(174, 386, 3)\n",
      "(87, 193, 3)\n",
      "(44, 97, 3)\n",
      "(22, 49, 3)\n",
      "(11, 25, 3)\n",
      "(6, 13, 3)\n",
      "(3, 7, 3)\n"
     ]
    }
   ],
   "source": [
    "import cv2\n",
    "import numpy as np\n",
    "\n",
    "image = cv2.imread('logo.jpg')\n",
    "\n",
    "gaussian_pyramid = [image]\n",
    "\n",
    "for i in range(6):\n",
    "    image = cv2.pyrDown(image)\n",
    "    gaussian_pyramid.append(image)\n",
    "\n",
    "for i, level_image in enumerate(gaussian_pyramid):\n",
    "    cv2.imshow(f'Gaussian Pyramid Level {i}', level_image)\n",
    "    print(level_image.shape)\n",
    "    \n",
    "# Construct the Laplacian pyramid from the Gaussian pyramid\n",
    "\n",
    "laplacian_pyramid = [gaussian_pyramid[5]]\n",
    "for i in range(3, 0, -1):\n",
    "    expanded = cv2.pyrUp(gaussian_pyramid[i])\n",
    "    laplacian = cv2.subtract(cv2.resize(gaussian_pyramid[i],(480,480)),cv2.resize(expanded,(480,480)))\n",
    "    laplacian_pyramid.append(laplacian)\n",
    "\n",
    "for i, level_image in enumerate(laplacian_pyramid):\n",
    "    cv2.imshow(f'Laplacian Pyramid Level {i}', level_image)\n",
    "\n",
    "cv2.waitKey(0)\n",
    "cv2.destroyAllWindows()"
   ]
  },
  {
   "cell_type": "markdown",
   "id": "bde2925e",
   "metadata": {},
   "source": [
    "## Practice"
   ]
  },
  {
   "cell_type": "markdown",
   "id": "9ebfc26e",
   "metadata": {},
   "source": [
    "### 1. Choose any image and convert it into HSV and thn convert that HSV images into different sizes and save them on the disk with name as image480x480.jpg where the 480,will  be replaced with the size of the images"
   ]
  },
  {
   "cell_type": "code",
   "execution_count": 18,
   "id": "956f8670",
   "metadata": {},
   "outputs": [
    {
     "name": "stdout",
     "output_type": "stream",
     "text": [
      "(1024, 1024, 3)\n",
      "(512, 512, 3)\n",
      "(256, 256, 3)\n",
      "(128, 128, 3)\n",
      "(64, 64, 3)\n",
      "(32, 32, 3)\n",
      "(16, 16, 3)\n"
     ]
    }
   ],
   "source": [
    "import cv2\n",
    "import numpy as np\n",
    "\n",
    "original_image = cv2.imread(\"person.jpg\")\n",
    "cv2.imshow(\"Original Image\", original_image)\n",
    "\n",
    "# Convert from BGR to HSV\n",
    "hsv_image = cv2.cvtColor(original_image, cv2.COLOR_BGR2HSV)\n",
    "cv2.imshow(\"HSV Image\", hsv_image)\n",
    "\n",
    "gaussian_pyramid = [hsv_image]\n",
    "for i in range(6):\n",
    "    hsv_image = cv2.pyrDown(hsv_image)\n",
    "    gaussian_pyramid.append(hsv_image)\n",
    "\n",
    "for i, level_image in enumerate(gaussian_pyramid):\n",
    "    cv2.imshow(f'Gaussian Pyramid Level {i}', level_image)\n",
    "    print(level_image.shape)\n",
    "    cv2.imwrite(f'image{level_image.shape}.jpg',level_image)\n",
    "\n",
    "cv2.waitKey(0)\n",
    "cv2.destroyAllWindows()"
   ]
  },
  {
   "cell_type": "markdown",
   "id": "a0f6030a",
   "metadata": {},
   "source": [
    "### 2. choose any image, apply any filter on that and then resize it where the size of all the generated images should be bigger than the original image and save it on the disk with same naming patterns as the given question"
   ]
  },
  {
   "cell_type": "code",
   "execution_count": 19,
   "id": "2dd6b06f",
   "metadata": {},
   "outputs": [],
   "source": [
    "import cv2\n",
    "import numpy as np\n",
    "\n",
    "image = cv2.imread(\"dog.jpg\")\n",
    "cv2.imshow(\"Original Image\", image)\n",
    "\n",
    "color_overlay = np.zeros_like(image)\n",
    "color_overlay[:, :] = [148, 76, 143]  #(BGR format)\n",
    "result_img = cv2.addWeighted(image, 1, color_overlay, 1, 0)\n",
    "\n",
    "gaussian_pyramid = [result_img]\n",
    "for i in range(6):\n",
    "    result_img = cv2.pyrUp(result_img)\n",
    "    gaussian_pyramid.append(result_img)\n",
    "\n",
    "for i, level_image in enumerate(gaussian_pyramid):\n",
    "    cv2.imshow(f'Gaussian Pyramid Level {i}', level_image)\n",
    "    cv2.imwrite('image480x480.jpg',level_image)\n",
    "\n",
    "\n",
    "cv2.waitKey(0)\n",
    "cv2.destroyAllWindows()"
   ]
  },
  {
   "cell_type": "markdown",
   "id": "d832a173",
   "metadata": {},
   "source": [
    "### 3. On a image check if the value of pixels are less than 169 replace those with Black and the others with white and obtain a final image. With the FInal image, add Blur to it with kernel size of 5x5 but make sure to choose the edge sensitive blurring."
   ]
  },
  {
   "cell_type": "code",
   "execution_count": 24,
   "id": "4373c18d",
   "metadata": {},
   "outputs": [],
   "source": [
    "image = cv2.imread('dog.jpg', cv2.IMREAD_GRAYSCALE)\n",
    "cv2.imshow('Original Grayscale Image', image)\n",
    "\n",
    "threshold_value = 169  # Threshold value\n",
    "_, binary_threshold_image = cv2.threshold(image, threshold_value, 255, cv2.THRESH_BINARY)\n",
    "\n",
    "cv2.imshow('Binary Threshold Image', binary_threshold_image)\n",
    "\n",
    "kernel_size = (5, 5)  # Kernel size for the average blur filter\n",
    "gaussian_blur_image = cv2.GaussianBlur(binary_threshold_image, kernel_size, 0)\n",
    "\n",
    "cv2.imshow('Gaussian Blurred Image', gaussian_blur_image)\n",
    "\n",
    "cv2.waitKey(0)\n",
    "cv2.destroyAllWindows()"
   ]
  },
  {
   "cell_type": "markdown",
   "id": "03a5fcba",
   "metadata": {},
   "source": [
    "### "
   ]
  },
  {
   "cell_type": "markdown",
   "id": "ffad6029",
   "metadata": {},
   "source": [
    "## Hough Line Transformation ( Connecting Neighbour Line of same pixel)\n",
    "\n",
    "1) Finds edges in an image using Canny Edge Detecttion\n",
    "\n",
    "2) Here we set the threshold for the min and max radius as defined in \n",
    "\n",
    "    cv2.HoughCircles(\n",
    "        blurred, cv2.HOUGH_GRADIENT, dp=1, minDist=50, param1=200, param2=30, minRadius=10, maxRadius=50\n",
    "    )\n",
    "\n",
    "3) Accumulator returns the circles which match the radii and centers"
   ]
  },
  {
   "cell_type": "code",
   "execution_count": 12,
   "id": "b13e5dd9",
   "metadata": {},
   "outputs": [],
   "source": [
    "import cv2\n",
    "import numpy as np\n",
    "\n",
    "\n",
    "image = cv2.imread('hough.jpg', cv2.IMREAD_GRAYSCALE)\n",
    "\n",
    "blurred = cv2.GaussianBlur(image, (5, 5), 0)\n",
    "\n",
    "circles = cv2.HoughCircles(\n",
    "    blurred, cv2.HOUGH_GRADIENT, dp=1, minDist=50, param1=200, param2=30, minRadius=10, maxRadius=50\n",
    ")\n",
    "if circles is not None:\n",
    "    circles = np.uint16(np.around(circles))\n",
    "    for circle in circles[0, :]:\n",
    "        cv2.circle(image, (circle[0], circle[1]), circle[2], (0, 255, 0), 2)\n",
    "\n",
    "cv2.imshow('Hough Circles', image)\n",
    "cv2.waitKey(0)\n",
    "cv2.destroyAllWindows()\n"
   ]
  },
  {
   "cell_type": "code",
   "execution_count": null,
   "id": "5c6a088a",
   "metadata": {},
   "outputs": [],
   "source": [
    "import cv2\n",
    "import numpy as np\n",
    "image = cv2.imread('street.jpg')\n",
    "gray = cv2.cvtColor(image, cv2.COLOR_BGR2GRAY)\n",
    "edges = cv2.Canny(gray, 50, 150)\n",
    "lines = cv2.HoughLinesP(edges, 1, np.pi / 180, 150)\n",
    "for line in lines:\n",
    "    x1,y1,x2,y2 = line[0]\n",
    "    cv2.line(image, (x1, y1), (x2, y2), (0, 0, 255), 2)\n",
    "\n",
    "cv2.imshow(str((lines)), image)\n",
    "cv2.waitKey(0)\n",
    "cv2.destroyAllWindows()"
   ]
  },
  {
   "cell_type": "markdown",
   "id": "035ee673",
   "metadata": {},
   "source": [
    "# "
   ]
  },
  {
   "cell_type": "markdown",
   "id": "dd2f7eba",
   "metadata": {},
   "source": [
    "### WaterShed Algorithms [ Reason to Use Watershed - To get a segemented Image Output , draw line of foreground and background images]\n",
    "\n",
    "1) Preprocessing\n",
    "2) Apply Thresholding\n",
    "3) Morphological Transformations (DeNoising) / Removing Noise | Dilate/Erode\n",
    "4) Creating a Marker Image\n",
    "5) Apply Watershed Algo\n",
    "6) Display Segemented"
   ]
  },
  {
   "cell_type": "code",
   "execution_count": 13,
   "id": "5589e020",
   "metadata": {},
   "outputs": [],
   "source": [
    "## import cv2\n",
    "import numpy as np\n",
    "\n",
    "image = cv2.imread('dog.jpg')\n",
    "gray_image = cv2.cvtColor(image, cv2.COLOR_BGR2GRAY)\n",
    "\n",
    "_, thresh = cv2.threshold(gray_image, 0, 255, cv2.THRESH_BINARY_INV + cv2.THRESH_OTSU)\n",
    "\n",
    "\n",
    "# Perform morphological operations to clean the image\n",
    "kernel = np.ones((3, 3), np.uint8)\n",
    "opening = cv2.morphologyEx(thresh, cv2.MORPH_OPEN, kernel, iterations=2)\n",
    "\n",
    "# Identify the background area\n",
    "sure_bg = cv2.dilate(opening, kernel, iterations=3)\n",
    "\n",
    "# Perform distance transform\n",
    "dist_transform = cv2.distanceTransform(opening, cv2.DIST_L2, 5)\n",
    "\n",
    "# Threshold the distance transform to obtain sure foreground\n",
    "_, sure_fg = cv2.threshold(dist_transform, 0.7 * dist_transform.max(), 255, 0)\n",
    "\n",
    "# Subtract sure foreground from sure background to obtain unknown region\n",
    "sure_fg = np.uint8(sure_fg)\n",
    "unknown = cv2.subtract(sure_bg, sure_fg)\n",
    "\n",
    "# Marker labeling for watershed algorithm\n",
    "_, markers = cv2.connectedComponents(sure_fg)\n",
    "markers = markers + 1\n",
    "markers[unknown == 255] = 0\n",
    "\n",
    "# Apply watershed algorithm\n",
    "cv2.watershed(image, markers)\n",
    "image[markers == -1] = [0, 0, 255]  # Mark watershed boundaries in red\n",
    "\n",
    "cv2.imshow('Segmented Image', image)\n",
    "cv2.waitKey(0)\n",
    "cv2.destroyAllWindows()"
   ]
  },
  {
   "cell_type": "markdown",
   "id": "2ebdc28b",
   "metadata": {},
   "source": [
    "### Grabcut - Foreground Extraction on a image - Gaussian Mixture Model"
   ]
  },
  {
   "cell_type": "code",
   "execution_count": 3,
   "id": "553f5b8d",
   "metadata": {},
   "outputs": [],
   "source": [
    "import cv2\n",
    "import numpy as np\n",
    "\n",
    "image = cv2.imread('group.jpg')\n",
    "mask = np.zeros(image.shape[:2], np.uint8)\n",
    "\n",
    "\n",
    "# Define the rectangle for initial GrabCut algorithm - bacially crop square images on a given co-ordinates\n",
    "# GrabCut is Based on GraphCut Model along with Gaussian Mixture Model\n",
    "\n",
    "rect = (10, 10, 450, 290) # 2 start point, 2 end points \n",
    "\n",
    "# Initialize the foreground and background models\n",
    "bgd_model = np.zeros((1, 65), np.float64)\n",
    "fgd_model = np.zeros((1, 65), np.float64)\n",
    "\n",
    "# Apply GrabCut algorithm \n",
    "cv2.grabCut(image, mask, rect, bgd_model, fgd_model, 5, cv2.GC_INIT_WITH_RECT)\n",
    "\n",
    "# Modify the mask to create a binary mask for foreground and background\n",
    "mask2 = np.where((mask == 2) | (mask == 0), 0, 1).astype('uint8')\n",
    "\n",
    "# Multiply the original image with the binary mask to extract the foreground\n",
    "result = image * mask2[:, :, np.newaxis]\n",
    "cv2.imshow('Original Image', image)\n",
    "cv2.imshow('Foreground Extraction', result)\n",
    "cv2.waitKey(0)\n",
    "cv2.destroyAllWindows()"
   ]
  },
  {
   "cell_type": "markdown",
   "id": "e38966e9",
   "metadata": {},
   "source": [
    "# "
   ]
  },
  {
   "cell_type": "markdown",
   "id": "33c87af5",
   "metadata": {},
   "source": [
    "### Understanding Features\n",
    "1. Harris Corner Detection\n",
    "2. Shi-Tomasi Corner Detector & Good Features to Track\n",
    "3. Introduction to SIFT (Scale-Invariant Feature Transform)\n",
    "4. Introduction to SURF (Speeded-Up Robust Features)\n",
    "5. FAST Algorithm for Corner Detection\n",
    "6. BRIEF (Binary Robust Independent Elementary Features)\n",
    "7. ORB (Oriented FAST and Rotated BRIEF)\n",
    "8. Feature Matching\n",
    "9. Homography to find Objects"
   ]
  },
  {
   "cell_type": "markdown",
   "id": "fd0bb34d",
   "metadata": {},
   "source": [
    "### Feature Matching & Homography to find Objects"
   ]
  },
  {
   "cell_type": "code",
   "execution_count": null,
   "id": "80b52ad5",
   "metadata": {},
   "outputs": [],
   "source": [
    "import cv2\n",
    "import numpy as np\n",
    "\n",
    "img1 = cv2.imread('icon.jpg', cv2.IMREAD_GRAYSCALE)\n",
    "img2 = cv2.imread('logo.jpg', cv2.IMREAD_GRAYSCALE)\n",
    "\n",
    "#Create ORB detector\n",
    "orb = cv2.ORB_create()\n",
    "#get keypoints and descriptors\n",
    "keypoints1, descriptors1 = orb.detectAndCompute(img1, None)\n",
    "keypoints2, descriptors2 = orb.detectAndCompute(img2, None)\n",
    "\n",
    "# Create BFMatcher (Brute-Force Matcher) object\n",
    "bf = cv2.BFMatcher(cv2.NORM_HAMMING, crossCheck=True)\n",
    "matches = bf.match(descriptors1, descriptors2)\n",
    "\n",
    "# Sort them based on distance\n",
    "matches = sorted(matches, key=lambda x: x.distance)\n",
    "img_matches = cv2.drawMatches(img1, keypoints1, img2, keypoints2, matches[:10], None, flags=cv2.DrawMatchesFlags_NOT_DRAW_SINGLE_POINTS)\n",
    "cv2.imshow('Matches', img_matches)\n",
    "\n",
    "# Extract matched keypoints\n",
    "src_pts = np.float32([keypoints1[m.queryIdx].pt for m in matches]).reshape(-1, 1, 2)\n",
    "dst_pts = np.float32([keypoints2[m.trainIdx].pt for m in matches]).reshape(-1, 1, 2)\n",
    "homography, _ = cv2.findHomography(src_pts, dst_pts, cv2.RANSAC, 5.0)\n",
    "\n",
    "# Apply Homography to the template image corners to find the object\n",
    "h, w = img1.shape\n",
    "corners = np.float32([[0, 0], [0, h - 1], [w - 1, h - 1], [w - 1, 0]]).reshape(-1, 1, 2)\n",
    "transformed_corners = cv2.perspectiveTransform(corners, homography)\n",
    "img2_rectangle = cv2.polylines(img2, [np.int32(transformed_corners)], True, 255, 3, cv2.LINE_AA)\n",
    "\n",
    "cv2.imshow('Object Detection', img2_rectangle)\n",
    "cv2.waitKey(0)\n",
    "cv2.destroyAllWindows()"
   ]
  },
  {
   "cell_type": "markdown",
   "id": "5d748935",
   "metadata": {},
   "source": [
    "### SIFT\n",
    "  SIFT is Used in Real-world objects,\n",
    "  Slow and Accurate,\n",
    "  it use gaussian pyramid"
   ]
  },
  {
   "cell_type": "code",
   "execution_count": 1,
   "id": "a7de024b",
   "metadata": {},
   "outputs": [],
   "source": [
    "import cv2\n",
    "image = cv2.imread('dog.jpg', cv2.IMREAD_GRAYSCALE)\n",
    "# Create a SIFT object\n",
    "sift = cv2.SIFT_create()\n",
    "# Detect keypoints and compute descriptors\n",
    "keypoints, descriptors = sift.detectAndCompute(image, None)\n",
    "# Draw keypoints on the image\n",
    "image_with_keypoints = cv2.drawKeypoints(image, keypoints, None)\n",
    "cv2.imshow('Image with SIFT Keypoints', image_with_keypoints)\n",
    "cv2.waitKey(0)\n",
    "cv2.destroyAllWindows()"
   ]
  },
  {
   "cell_type": "markdown",
   "id": "666adcc8",
   "metadata": {},
   "source": [
    "## Harris Corner"
   ]
  },
  {
   "cell_type": "code",
   "execution_count": null,
   "id": "133e4a56",
   "metadata": {},
   "outputs": [],
   "source": [
    "# for color image\n",
    "\n",
    "import numpy as np\n",
    "import cv2 as cv\n",
    "\n",
    "img = cv.imread('corner.jpg')\n",
    "gray = cv.cvtColor(img,cv.COLOR_BGR2GRAY)\n",
    "gray = np.float32(gray)\n",
    "\n",
    "dst = cv.cornerHarris(gray,2,3,0.04)\n",
    "#result is dilated for marking the corners, not important\n",
    "dst = cv.dilate(dst,None)\n",
    "# Threshold for an optimal value, it may vary depending on the image.\n",
    "img[dst>0.01*dst.max()]=[0,0,255]\n",
    "cv.imshow('dst',img)\n",
    "\n",
    "cv2.waitKey(0)\n",
    "cv2.destroyAllWindows()"
   ]
  },
  {
   "cell_type": "code",
   "execution_count": null,
   "id": "c7e5dbc5",
   "metadata": {},
   "outputs": [],
   "source": [
    "# for gray scale image\n",
    "\n",
    "import numpy as np\n",
    "import cv2 as cv\n",
    "\n",
    "img = cv.imread('corner.jpg', cv.IMREAD_GRAYSCALE)\n",
    "gray = np.float32(img)\n",
    "\n",
    "dst = cv.cornerHarris(gray, 2, 3, 0.04)\n",
    "dst = cv.dilate(dst, None)\n",
    "\n",
    "# Threshold for an optimal value, it may vary depending on the image.\n",
    "img[dst > 0.01 * dst.max()] = 255  # Use a single-channel value for grayscale\n",
    "\n",
    "cv.imshow('dst', img)\n",
    "cv.waitKey(0)\n",
    "cv.destroyAllWindows()"
   ]
  },
  {
   "cell_type": "markdown",
   "id": "bf60ce94",
   "metadata": {},
   "source": [
    "## Shi-tomshi Corner"
   ]
  },
  {
   "cell_type": "code",
   "execution_count": null,
   "id": "46e0b5e1",
   "metadata": {},
   "outputs": [],
   "source": [
    "import cv2\n",
    "import numpy as np\n",
    "\n",
    "image = cv2.imread('corner.jpg', cv2.IMREAD_GRAYSCALE)\n",
    "\n",
    "# Detect Shi-Tomasi corners\n",
    "corners = cv2.goodFeaturesToTrack(image, maxCorners=25, qualityLevel=0.01, minDistance=10)\n",
    "\n",
    "# Convert corners to integers\n",
    "corners = np.int0(corners)\n",
    "\n",
    "# Draw circles around the detected corners\n",
    "image_with_corners = image.copy()\n",
    "for corner in corners:\n",
    "    x, y = corner.ravel()\n",
    "    cv2.circle(image_with_corners, (x, y), 6, 18, -1)\n",
    "    \n",
    "cv2.imshow('Original Image', image)\n",
    "cv2.imshow('Image with Shi-Tomasi Corners', image_with_corners)\n",
    "cv2.waitKey(0)\n",
    "cv2.destroyAllWindows()\n"
   ]
  },
  {
   "cell_type": "markdown",
   "id": "f761686b",
   "metadata": {},
   "source": [
    "### SURF - it use laplasian pyramid"
   ]
  },
  {
   "cell_type": "code",
   "execution_count": null,
   "id": "1141dc0b",
   "metadata": {},
   "outputs": [],
   "source": [
    "# SURF - we can't use this function bcz it is patient module\n",
    "\n",
    "import cv2\n",
    "\n",
    "image = cv2.imread('corner.jpg', cv2.IMREAD_GRAYSCALE)\n",
    "\n",
    "# Create a SURF object\n",
    "surf = cv2.xfeatures2d.SURF_create()\n",
    "\n",
    "# Detect keypoints and compute descriptors\n",
    "keypoints, descriptors = surf.detectAndCompute(image, None)\n",
    "\n",
    "# Draw keypoints on the image\n",
    "image_with_keypoints = cv2.drawKeypoints(image, keypoints, None)\n",
    "cv2.imshow('Image with SURF Keypoints', image_with_keypoints)\n",
    "cv2.waitKey(0)\n",
    "cv2.destroyAllWindows()"
   ]
  },
  {
   "cell_type": "markdown",
   "id": "dc55027f",
   "metadata": {},
   "source": [
    "### ORB "
   ]
  },
  {
   "cell_type": "code",
   "execution_count": 2,
   "id": "6e06a839",
   "metadata": {},
   "outputs": [
    {
     "data": {
      "image/png": "[encoded data removed]",
      "text/plain": [
       "<Figure size 640x480 with 1 Axes>"
      ]
     },
     "metadata": {},
     "output_type": "display_data"
    },
    {
     "data": {
      "text/plain": [
       "(<matplotlib.image.AxesImage at 0x25068fc2250>, None)"
      ]
     },
     "execution_count": 2,
     "metadata": {},
     "output_type": "execute_result"
    }
   ],
   "source": [
    "import numpy as np\n",
    "import cv2 as cv\n",
    "from matplotlib import pyplot as plt\n",
    "img = cv.imread('corner.jpg', cv.IMREAD_GRAYSCALE)\n",
    "# Initiate ORB detector\n",
    "orb = cv.ORB_create()\n",
    "# find the keypoints with ORB\n",
    "kp = orb.detect(img,None)\n",
    "# compute the descriptors with ORB\n",
    "kp, des = orb.compute(img, kp)\n",
    "# draw only keypoints location,not size and orientation\n",
    "img2 = cv.drawKeypoints(img, kp, None, color=(0,255,0), flags=0)\n",
    "plt.imshow(img2), plt.show()"
   ]
  },
  {
   "cell_type": "markdown",
   "id": "da5d35c1",
   "metadata": {},
   "source": [
    "## Mirror Image"
   ]
  },
  {
   "cell_type": "code",
   "execution_count": 2,
   "id": "19f453ea",
   "metadata": {},
   "outputs": [],
   "source": [
    "import cv2\n",
    "import numpy as np\n",
    "\n",
    "image = cv2.imread('person.jpg')\n",
    "scaled_image = cv2.resize(image, (300,350))\n",
    "mirrored_image = cv2.flip(scaled_image, 1)\n",
    "\n",
    "# Display the original and mirrored images\n",
    "cv2.imshow('Original Image', scaled_image)\n",
    "cv2.imshow('Mirrored Image', mirrored_image)\n",
    "\n",
    "cv2.waitKey(0)\n",
    "cv2.destroyAllWindows()\n"
   ]
  },
  {
   "cell_type": "code",
   "execution_count": null,
   "id": "744953a1",
   "metadata": {},
   "outputs": [],
   "source": []
  }
 ],
 "metadata": {
  "kernelspec": {
   "display_name": "Python 3 (ipykernel)",
   "language": "python",
   "name": "python3"
  },
  "language_info": {
   "codemirror_mode": {
    "name": "ipython",
    "version": 3
   },
   "file_extension": ".py",
   "mimetype": "text/x-python",
   "name": "python",
   "nbconvert_exporter": "python",
   "pygments_lexer": "ipython3",
   "version": "3.11.4"
  }
 },
 "nbformat": 4,
 "nbformat_minor": 5
}
