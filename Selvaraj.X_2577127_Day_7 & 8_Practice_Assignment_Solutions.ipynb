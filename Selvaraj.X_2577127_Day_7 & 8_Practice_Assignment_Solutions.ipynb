{
 "cells": [
  {
   "cell_type": "markdown",
   "id": "3f91711a",
   "metadata": {},
   "source": [
    "# Implementation of Data Structure in Python"
   ]
  },
  {
   "cell_type": "markdown",
   "id": "04444bca",
   "metadata": {},
   "source": [
    "##                                                DAY - 7 Practice Exercise"
   ]
  },
  {
   "cell_type": "markdown",
   "id": "033c454f",
   "metadata": {},
   "source": [
    "### 1. Linear Search"
   ]
  },
  {
   "cell_type": "code",
   "execution_count": 11,
   "id": "ba3a8347",
   "metadata": {},
   "outputs": [],
   "source": [
    "def Linear_search(lst_data,element):\n",
    "    data = lst_data\n",
    "    element = element\n",
    "    found = False\n",
    "    for i in range(0,len(data)):\n",
    "        if data[i] == element:\n",
    "            print(f'Element {element} is in {i+1} position.')\n",
    "            found = True\n",
    "    if found is False:\n",
    "         print(f'Element {element} Not Found in the given list')"
   ]
  },
  {
   "cell_type": "code",
   "execution_count": 12,
   "id": "3c2f4013",
   "metadata": {},
   "outputs": [
    {
     "name": "stdout",
     "output_type": "stream",
     "text": [
      "Element 89 is in 4 position.\n"
     ]
    }
   ],
   "source": [
    "Linear_search([10,40,2,89,29],89)"
   ]
  },
  {
   "cell_type": "code",
   "execution_count": 13,
   "id": "02a8937f",
   "metadata": {},
   "outputs": [
    {
     "name": "stdout",
     "output_type": "stream",
     "text": [
      "Element -2 Not Found in the given list\n"
     ]
    }
   ],
   "source": [
    "Linear_search([10,40,2,89,29],-2)"
   ]
  },
  {
   "cell_type": "markdown",
   "id": "81450463",
   "metadata": {},
   "source": [
    "### 2. Binary_search"
   ]
  },
  {
   "cell_type": "code",
   "execution_count": 18,
   "id": "2b42dee7",
   "metadata": {},
   "outputs": [
    {
     "name": "stdout",
     "output_type": "stream",
     "text": [
      "Enter the number of elements: 6\n",
      "Enter element 1: 5\n",
      "Enter element 2: 34\n",
      "Enter element 3: 27\n",
      "Enter element 4: 67\n",
      "Enter element 5: 12\n",
      "Enter element 6: 24\n",
      "\n",
      "Enter the element to search for: 67\n",
      "\n",
      "Sorted list: [5, 12, 24, 27, 34, 67]\n",
      "\n",
      "Element 67 is at position 6\n"
     ]
    }
   ],
   "source": [
    "def Binary_search(lst_data, element):\n",
    "    data = lst_data\n",
    "    data.sort()  # Sorting the list in-place\n",
    "    print()\n",
    "    print('Sorted list:', data)\n",
    "    print()\n",
    "    \n",
    "    found = False\n",
    "    n = len(data)\n",
    "    first = 0\n",
    "    last = n - 1\n",
    "    \n",
    "    while first <= last and not found:\n",
    "        mid = (first + last) // 2\n",
    "        if data[mid] == element:\n",
    "            print(f'Element {element} is at position {mid + 1}')\n",
    "            found = True\n",
    "        else:\n",
    "            if element < data[mid]:\n",
    "                last = mid - 1\n",
    "            else:\n",
    "                first = mid + 1\n",
    "    \n",
    "    if not found:\n",
    "        print(f'Element {element} is not found')\n",
    "\n",
    "\n",
    "data = []            \n",
    "n = int(input('Enter the number of elements: '))\n",
    "for i in range(n):\n",
    "    x = int(input(f'Enter element {i + 1}: '))\n",
    "    data.append(x)\n",
    "print()   \n",
    "element = int(input('Enter the element to search for: '))\n",
    "Binary_search(data, element)\n"
   ]
  },
  {
   "cell_type": "markdown",
   "id": "b9336635",
   "metadata": {},
   "source": [
    "### 6. Singly Linked List"
   ]
  },
  {
   "cell_type": "code",
   "execution_count": 44,
   "id": "bec99e69",
   "metadata": {},
   "outputs": [],
   "source": [
    "class Node:\n",
    "    def __init__(self,data):\n",
    "        #we initaialized empty node....\n",
    "        \n",
    "        self.data = data #data value\n",
    "        self.next = None #reference or address of next node\n",
    "        \n",
    "class singly_linked_list:\n",
    "    def __init__(self):\n",
    "        self.head = None # Empty list and head always pointing the first node in the linked list\n",
    "    \n",
    "    def append(self, data):\n",
    "        new_data = Node(data)\n",
    "        if self.head is None:\n",
    "            self.head = new_data\n",
    "        else:\n",
    "            current = self.head\n",
    "            while current.next is not None:\n",
    "                current = current.next\n",
    "            current.next = new_data #node1.next = node2\n",
    "    \n",
    "    \n",
    "    def display(self):\n",
    "        current = self.head\n",
    "        while current is not None:\n",
    "            print(current.data,end='->')\n",
    "            current = current.next\n",
    "        print(None)\n",
    "        \n",
    "    def find_smallest(self):\n",
    "        if not self.head:\n",
    "            return None\n",
    "        current = self.head\n",
    "        smallest = current.data\n",
    "        while current:\n",
    "            if current.data < smallest:\n",
    "                smallest = current.data\n",
    "            current = current.next\n",
    "        return smallest\n",
    "\n",
    "    def insert_if_not_duplicate(self, data):\n",
    "        if not self.head:\n",
    "            self.head = Node(data)\n",
    "        else:\n",
    "            current = self.head\n",
    "            while current.next:\n",
    "                if current.data == data:\n",
    "                    return\n",
    "                current = current.next\n",
    "            if current.data != data:\n",
    "                current.next = Node(data)\n",
    "\n",
    "    def display_reverse(self):\n",
    "        def print_reverse(node):\n",
    "            if node:\n",
    "                print_reverse(node.next)\n",
    "                print(node.data)\n",
    "        \n",
    "        print_reverse(self.head)\n",
    "                    \n",
    "    \n",
    "    "
   ]
  },
  {
   "cell_type": "code",
   "execution_count": 45,
   "id": "1a9e1803",
   "metadata": {},
   "outputs": [],
   "source": [
    "linked_list = singly_linked_list()\n"
   ]
  },
  {
   "cell_type": "code",
   "execution_count": 46,
   "id": "2fd4bca8",
   "metadata": {},
   "outputs": [],
   "source": [
    "linked_list.append(10)\n",
    "linked_list.append(5)\n",
    "linked_list.append(8)\n",
    "linked_list.append(5)\n",
    "linked_list.append(3)\n"
   ]
  },
  {
   "cell_type": "code",
   "execution_count": 47,
   "id": "654642f0",
   "metadata": {},
   "outputs": [
    {
     "name": "stdout",
     "output_type": "stream",
     "text": [
      "10->5->8->5->3->None\n"
     ]
    }
   ],
   "source": [
    "linked_list.display()"
   ]
  },
  {
   "cell_type": "code",
   "execution_count": 48,
   "id": "dbe7c4a9",
   "metadata": {},
   "outputs": [
    {
     "name": "stdout",
     "output_type": "stream",
     "text": [
      "Smallest element: 3\n",
      "Elements in reverse order:\n",
      "7\n",
      "3\n",
      "5\n",
      "8\n",
      "5\n",
      "10\n"
     ]
    }
   ],
   "source": [
    "\n",
    "\n",
    "# Finding the smallest element\n",
    "smallest = linked_list.find_smallest()\n",
    "print(\"Smallest element:\", smallest)\n",
    "\n",
    "# Inserting a non-duplicate element\n",
    "linked_list.insert_if_not_duplicate(7)\n",
    "linked_list.insert_if_not_duplicate(5)\n",
    "\n",
    "# Displaying elements in reverse order\n",
    "print(\"Elements in reverse order:\")\n",
    "linked_list.display_reverse()"
   ]
  },
  {
   "cell_type": "markdown",
   "id": "fb00b127",
   "metadata": {},
   "source": [
    "### 7 . Stack"
   ]
  },
  {
   "cell_type": "code",
   "execution_count": 60,
   "id": "dcc4c8ae",
   "metadata": {},
   "outputs": [],
   "source": [
    "class Stack:\n",
    "    def __init__(self):\n",
    "        self.items = []\n",
    "\n",
    "    def push(self, item):\n",
    "        self.items.append(item)\n",
    "\n",
    "    def pop(self):\n",
    "        if not self.is_empty():\n",
    "            return self.items.pop()\n",
    "        else:\n",
    "            return \"Stack is empty\"\n",
    "\n",
    "    def is_empty(self):\n",
    "        return len(self.items) == 0\n",
    "\n",
    "    def display(self):\n",
    "        if not self.is_empty():\n",
    "            print(\"Stack elements: \\n\")\n",
    "            for item in reversed(self.items):\n",
    "                print(item)\n",
    "        else:\n",
    "            print(\"Stack is empty\")\n",
    "\n",
    "# Creating a stack\n",
    "stack = Stack()"
   ]
  },
  {
   "cell_type": "code",
   "execution_count": 61,
   "id": "f8721970",
   "metadata": {},
   "outputs": [
    {
     "name": "stdout",
     "output_type": "stream",
     "text": [
      "Stack elements: \n",
      "\n",
      "raj\n",
      "2577127\n",
      "selva\n"
     ]
    }
   ],
   "source": [
    "#i) Pushing elements onto the stack\n",
    "stack.push('selva')\n",
    "stack.push(2577127)\n",
    "stack.push('raj')\n",
    "\n",
    "# Displaying the stack\n",
    "stack.display()"
   ]
  },
  {
   "cell_type": "code",
   "execution_count": 62,
   "id": "a71ab71e",
   "metadata": {},
   "outputs": [
    {
     "name": "stdout",
     "output_type": "stream",
     "text": [
      "\n",
      "Popped item: raj\n"
     ]
    }
   ],
   "source": [
    "#ii) Popping elements from the stack\n",
    "popped_item = stack.pop()\n",
    "print()\n",
    "print(\"Popped item:\", popped_item)"
   ]
  },
  {
   "cell_type": "code",
   "execution_count": 63,
   "id": "41581cc4",
   "metadata": {},
   "outputs": [
    {
     "name": "stdout",
     "output_type": "stream",
     "text": [
      "Stack elements: \n",
      "\n",
      "2577127\n",
      "selva\n"
     ]
    }
   ],
   "source": [
    "#iii) Displaying the updated stack\n",
    "stack.display()\n"
   ]
  },
  {
   "cell_type": "markdown",
   "id": "d0a87959",
   "metadata": {},
   "source": [
    "### 8. Queue"
   ]
  },
  {
   "cell_type": "code",
   "execution_count": 75,
   "id": "2765a968",
   "metadata": {},
   "outputs": [],
   "source": [
    "class Queue:\n",
    "    def __init__(self):\n",
    "        self.items = []\n",
    "\n",
    "    def insert(self, item):\n",
    "        self.items.append(item)\n",
    "\n",
    "    def delete(self):\n",
    "        if not self.is_empty():\n",
    "            return self.items.pop(0)\n",
    "        else:\n",
    "            return \"Queue is empty\"\n",
    "\n",
    "    def is_empty(self):\n",
    "        return len(self.items) == 0\n",
    "\n",
    "    def display(self):\n",
    "        if not self.is_empty():\n",
    "            print(\"Queue elements:\")\n",
    "            for item in self.items:\n",
    "                if item == self.items[0]:\n",
    "                    print(item,'<--top')\n",
    "                else:\n",
    "                    print(item)\n",
    "        else:\n",
    "            print(\"Queue is empty\")\n",
    "\n",
    "# Creating a queue\n",
    "queue = Queue()"
   ]
  },
  {
   "cell_type": "code",
   "execution_count": 76,
   "id": "b82dd721",
   "metadata": {},
   "outputs": [
    {
     "name": "stdout",
     "output_type": "stream",
     "text": [
      "Queue elements:\n",
      "5 <--top\n",
      "10\n",
      "15\n"
     ]
    }
   ],
   "source": [
    "#i) Inserting elements into the queue\n",
    "queue.insert(5)\n",
    "queue.insert(10)\n",
    "queue.insert(15)\n",
    "\n",
    "# Displaying the queue\n",
    "queue.display()"
   ]
  },
  {
   "cell_type": "code",
   "execution_count": 77,
   "id": "3128b57f",
   "metadata": {},
   "outputs": [
    {
     "name": "stdout",
     "output_type": "stream",
     "text": [
      "Deleted item: 5\n"
     ]
    }
   ],
   "source": [
    "#ii) Deleting elements from the queue\n",
    "deleted_item = queue.delete()\n",
    "print(\"Deleted item:\", deleted_item)"
   ]
  },
  {
   "cell_type": "code",
   "execution_count": 78,
   "id": "fedc7a18",
   "metadata": {},
   "outputs": [
    {
     "name": "stdout",
     "output_type": "stream",
     "text": [
      "Queue elements:\n",
      "10 <--top\n",
      "15\n"
     ]
    }
   ],
   "source": [
    "#iii) Displaying the updated queue\n",
    "queue.display()\n"
   ]
  },
  {
   "cell_type": "markdown",
   "id": "24d7b339",
   "metadata": {},
   "source": [
    "### 9. Infix expression to postfix expression using stack"
   ]
  },
  {
   "cell_type": "code",
   "execution_count": 5,
   "id": "1e594fc6",
   "metadata": {},
   "outputs": [],
   "source": [
    "def infix_to_postfix(expression):\n",
    "    precedence = {'+': 1, '-': 1, '*': 2, '/': 2, '^': 3}\n",
    "    stack = []\n",
    "    postfix = []\n",
    "    \n",
    "    for char in expression:\n",
    "        if char.isalnum() or char == ' ':\n",
    "            postfix.append(char)\n",
    "        elif char == '(':\n",
    "            stack.append(char)\n",
    "        elif char == ')':\n",
    "            while stack and stack[-1] != '(':\n",
    "                postfix.append(stack.pop())\n",
    "            stack.pop()\n",
    "        else:\n",
    "            while stack and stack[-1] != '(' and precedence[char] <= precedence.get(stack[-1], 0):\n",
    "                postfix.append(stack.pop())\n",
    "            stack.append(char)\n",
    "\n",
    "    while stack:\n",
    "        postfix.append(stack.pop())\n",
    "\n",
    "    return ''.join(postfix)\n",
    "\n",
    "\n",
    "# Test the infix to postfix conversion\n",
    "infix_expr1 = \"A/B^C+D*E-F*G\"\n",
    "infix_expr2 = \"(B^2-4*A*C)^(1/2) (100)\""
   ]
  },
  {
   "cell_type": "code",
   "execution_count": 6,
   "id": "369cb8bd",
   "metadata": {},
   "outputs": [
    {
     "name": "stdout",
     "output_type": "stream",
     "text": [
      "Infix Expression 1: A/B^C+D*E-F*G\n",
      "\n",
      "Postfix Expression 1: ABC^/DE*+FG*-\n"
     ]
    }
   ],
   "source": [
    "postfix_expr1 = infix_to_postfix(infix_expr1)\n",
    "print(\"Infix Expression 1:\", infix_expr1)\n",
    "print()\n",
    "print(\"Postfix Expression 1:\", postfix_expr1)"
   ]
  },
  {
   "cell_type": "code",
   "execution_count": 8,
   "id": "4f8131e6",
   "metadata": {},
   "outputs": [
    {
     "name": "stdout",
     "output_type": "stream",
     "text": [
      "Infix Expression 2: (B^2-4*A*C)^(1/2) (100)\n",
      "\n",
      "Postfix Expression 2: B2^4A*C*-12/ 100^\n"
     ]
    }
   ],
   "source": [
    "postfix_expr2 = infix_to_postfix(infix_expr2)\n",
    "print(\"Infix Expression 2:\", infix_expr2)\n",
    "print()\n",
    "print(\"Postfix Expression 2:\", postfix_expr2)"
   ]
  },
  {
   "cell_type": "markdown",
   "id": "976eb40f",
   "metadata": {},
   "source": [
    "## DAY - 8 Practice Exercise"
   ]
  },
  {
   "cell_type": "markdown",
   "id": "4216ea5e",
   "metadata": {},
   "source": [
    "### Sorting Algorithms"
   ]
  },
  {
   "cell_type": "markdown",
   "id": "c6912401",
   "metadata": {},
   "source": [
    "#### 3. Selection Sort"
   ]
  },
  {
   "cell_type": "code",
   "execution_count": 20,
   "id": "9ce62ee9",
   "metadata": {},
   "outputs": [
    {
     "name": "stdout",
     "output_type": "stream",
     "text": [
      "Enter number of element in the list :4\n",
      "Enter the element 1:124\n",
      "Enter the element 2:56\n",
      "Enter the element 3:89\n",
      "Enter the element 4:3\n",
      "\n",
      "Sorted List : [3, 56, 89, 124]\n"
     ]
    }
   ],
   "source": [
    "def selection_sort(arr):\n",
    "    sorted_list = []\n",
    "    while arr:\n",
    "        min_index = arr.index(min(arr))\n",
    "        sorted_list.append(arr.pop(min_index))\n",
    "    return sorted_list\n",
    "\n",
    "\n",
    "n = int(input('Enter number of element in the list :'))\n",
    "unsorted_list = []\n",
    "for i in range(0,n):\n",
    "    x=int(input((f'Enter the element {i+1}:')))\n",
    "    unsorted_list.append(x)\n",
    "sorted_list = selection_sort(unsorted_list)\n",
    "print()\n",
    "print(\"Sorted List :\", sorted_list)\n"
   ]
  },
  {
   "cell_type": "markdown",
   "id": "4d95c442",
   "metadata": {},
   "source": [
    "#### 4. Insertion Sort"
   ]
  },
  {
   "cell_type": "code",
   "execution_count": 21,
   "id": "e5507fe2",
   "metadata": {},
   "outputs": [
    {
     "name": "stdout",
     "output_type": "stream",
     "text": [
      "Enter number of element in the list :5\n",
      "Entert the element 1 : 89\n",
      "Entert the element 2 : 45\n",
      "Entert the element 3 : 23\n",
      "Entert the element 4 : 7\n",
      "Entert the element 5 : 8\n",
      "\n",
      "Sorted List : [7, 8, 23, 45, 89]\n"
     ]
    }
   ],
   "source": [
    "def insertion_sort(arr):\n",
    "    sorted_list = []\n",
    "    for element in arr:\n",
    "        if not sorted_list:\n",
    "            sorted_list.append(element)\n",
    "        else:\n",
    "            for i in range(len(sorted_list)):\n",
    "                if element < sorted_list[i]:\n",
    "                    sorted_list.insert(i, element)\n",
    "                    break\n",
    "            else:\n",
    "                sorted_list.append(element)\n",
    "    return sorted_list\n",
    "\n",
    "unsorted_list = []\n",
    "n = int(input('Enter number of element in the list :'))\n",
    "for i in range(0,n):\n",
    "    x=int(input((f'Entert the element {i+1} : ')))\n",
    "    unsorted_list.append(x)\n",
    "sorted_list = insertion_sort(unsorted_list)\n",
    "print()\n",
    "print(\"Sorted List :\", sorted_list)\n"
   ]
  },
  {
   "cell_type": "markdown",
   "id": "19f7e38d",
   "metadata": {},
   "source": [
    "#### 5 . Merge Sort"
   ]
  },
  {
   "cell_type": "code",
   "execution_count": 23,
   "id": "cbaa2b4d",
   "metadata": {},
   "outputs": [
    {
     "name": "stdout",
     "output_type": "stream",
     "text": [
      "Original List: [45, 23, 6, 89, 345, 790, 10, -2]\n",
      "\n",
      "Sorted List : [-2, 6, 10, 23, 45, 89, 345, 790]\n"
     ]
    }
   ],
   "source": [
    "def merge_sort(arr):\n",
    "    if len(arr) > 1:\n",
    "        mid = len(arr) // 2\n",
    "        left_half = arr[:mid]\n",
    "        right_half = arr[mid:]\n",
    "\n",
    "        merge_sort(left_half)\n",
    "        merge_sort(right_half)\n",
    "\n",
    "        i = j = k = 0\n",
    "\n",
    "        while i < len(left_half) and j < len(right_half):\n",
    "            if left_half[i] < right_half[j]:\n",
    "                arr[k] = left_half[i]\n",
    "                i += 1\n",
    "            else:\n",
    "                arr[k] = right_half[j]\n",
    "                j += 1\n",
    "            k += 1\n",
    "\n",
    "        while i < len(left_half):\n",
    "            arr[k] = left_half[i]\n",
    "            i += 1\n",
    "            k += 1\n",
    "\n",
    "        while j < len(right_half):\n",
    "            arr[k] = right_half[j]\n",
    "            j += 1\n",
    "            k += 1\n",
    "\n",
    "\n",
    "arr = [45,23,6,89,345,790,10,-2]\n",
    "print(\"Original List:\", arr)\n",
    "\n",
    "merge_sort(arr)\n",
    "print()\n",
    "print(\"Sorted List :\", arr)\n"
   ]
  }
 ],
 "metadata": {
  "kernelspec": {
   "display_name": "Python 3 (ipykernel)",
   "language": "python",
   "name": "python3"
  },
  "language_info": {
   "codemirror_mode": {
    "name": "ipython",
    "version": 3
   },
   "file_extension": ".py",
   "mimetype": "text/x-python",
   "name": "python",
   "nbconvert_exporter": "python",
   "pygments_lexer": "ipython3",
   "version": "3.11.4"
  }
 },
 "nbformat": 4,
 "nbformat_minor": 5
}
