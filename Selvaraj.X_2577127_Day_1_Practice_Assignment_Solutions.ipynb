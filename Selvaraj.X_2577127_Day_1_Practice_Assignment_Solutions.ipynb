{
 "cells": [
  {
   "cell_type": "markdown",
   "id": "5d864bd1",
   "metadata": {},
   "source": [
    "# Language Fundamentals"
   ]
  },
  {
   "cell_type": "markdown",
   "id": "6ac53e4b",
   "metadata": {},
   "source": [
    "### 1. Manipulate Using a List"
   ]
  },
  {
   "cell_type": "code",
   "execution_count": 5,
   "id": "cdc1592d",
   "metadata": {},
   "outputs": [
    {
     "data": {
      "text/plain": [
       "[20, 'selva', 378.33, 70, -10, 'raj']"
      ]
     },
     "execution_count": 5,
     "metadata": {},
     "output_type": "execute_result"
    }
   ],
   "source": [
    "#i) To add new elements to the end of the list\n",
    "\n",
    "lst= [20,'selva',378.33,70,-10]\n",
    "lst.append('raj')\n",
    "\n",
    "lst"
   ]
  },
  {
   "cell_type": "code",
   "execution_count": 7,
   "id": "69142775",
   "metadata": {},
   "outputs": [
    {
     "data": {
      "text/plain": [
       "['raj', -10, 70, 378.33, 'selva', 20]"
      ]
     },
     "execution_count": 7,
     "metadata": {},
     "output_type": "execute_result"
    }
   ],
   "source": [
    "#ii)To reverse elements in the list\n",
    "lst.reverse()\n",
    "lst"
   ]
  },
  {
   "cell_type": "code",
   "execution_count": 9,
   "id": "51197319",
   "metadata": {},
   "outputs": [
    {
     "name": "stdout",
     "output_type": "stream",
     "text": [
      "list of elements multiple times :\n",
      " ['raj', -10, 70, 378.33, 'selva', 20, 'raj', -10, 70, 378.33, 'selva', 20, 'raj', -10, 70, 378.33, 'selva', 20]\n"
     ]
    }
   ],
   "source": [
    "#iii)To display same list of elements multiple times.\n",
    "print('list of elements multiple times :\\n',lst*3)"
   ]
  },
  {
   "cell_type": "code",
   "execution_count": 11,
   "id": "2e345142",
   "metadata": {},
   "outputs": [
    {
     "data": {
      "text/plain": [
       "['raj', -10, 70, 378.33, 'selva', 20, 44, 60, 77, 'concate', '10']"
      ]
     },
     "execution_count": 11,
     "metadata": {},
     "output_type": "execute_result"
    }
   ],
   "source": [
    "#iv) To concatenate two List\n",
    "\n",
    "lst1=[44,60,77,'concate','10']\n",
    "lst.extend(lst1)\n",
    "lst"
   ]
  },
  {
   "cell_type": "markdown",
   "id": "4629cd37",
   "metadata": {},
   "source": [
    "### 2. Write a python program to do in tuples"
   ]
  },
  {
   "cell_type": "code",
   "execution_count": 37,
   "id": "d803663d",
   "metadata": {},
   "outputs": [
    {
     "data": {
      "text/plain": [
       "(20, 8735, 200, 'tuple', 'element')"
      ]
     },
     "execution_count": 37,
     "metadata": {},
     "output_type": "execute_result"
    }
   ],
   "source": [
    "tuples = (20,8735,200,'tuple')\n",
    "\n",
    "#i) Manipilate Using Tuples\n",
    "#ii)To add new element to end of the tuples\n",
    "\n",
    "#We can't manipulate and Adding new element in the tuple is not possible because Tuple is immutable in nature. \n",
    "#so creating an new tuple variable to add new tuple elements.\n",
    "\n",
    "element=70\n",
    "new_tuple = tuples+('element',)\n",
    "new_tuple\n"
   ]
  },
  {
   "cell_type": "code",
   "execution_count": 38,
   "id": "9055b266",
   "metadata": {},
   "outputs": [
    {
     "data": {
      "text/plain": [
       "['tuple', 200, 8735, 20]"
      ]
     },
     "execution_count": 38,
     "metadata": {},
     "output_type": "execute_result"
    }
   ],
   "source": [
    "#iii) To reverse elements in the list\n",
    "\n",
    "lst=list(tuples) #Converted tuple to list for reverse an element\n",
    "lst.reverse()\n",
    "lst"
   ]
  },
  {
   "cell_type": "code",
   "execution_count": 39,
   "id": "67bc7f76",
   "metadata": {},
   "outputs": [
    {
     "data": {
      "text/plain": [
       "(20, 8735, 200, 'tuple', 20, 8735, 200, 'tuple')"
      ]
     },
     "execution_count": 39,
     "metadata": {},
     "output_type": "execute_result"
    }
   ],
   "source": [
    "#iv) Display same element multiple times)\n",
    "tuples*2"
   ]
  },
  {
   "cell_type": "code",
   "execution_count": 40,
   "id": "b02a5604",
   "metadata": {},
   "outputs": [
    {
     "data": {
      "text/plain": [
       "(20, 8735, 200, 'tuple', 17, 87, 90)"
      ]
     },
     "execution_count": 40,
     "metadata": {},
     "output_type": "execute_result"
    }
   ],
   "source": [
    "#v) Concatenate Two tuples\n",
    "tuples1 =(17,87,90)\n",
    "concate = tuples + tuples1\n",
    "\n",
    "concate"
   ]
  },
  {
   "cell_type": "code",
   "execution_count": 44,
   "id": "04dbb82d",
   "metadata": {},
   "outputs": [
    {
     "data": {
      "text/plain": [
       "[17, 87, 90]"
      ]
     },
     "execution_count": 44,
     "metadata": {},
     "output_type": "execute_result"
    }
   ],
   "source": [
    "#vi) sort element in the list Ascending order\n",
    "tuples_sort=list(tuples1)\n",
    "tuples_sort.sort()\n",
    "tuples_sort"
   ]
  },
  {
   "cell_type": "markdown",
   "id": "eba71fca",
   "metadata": {},
   "source": [
    "### 3.Write a Python program to implement the following using list"
   ]
  },
  {
   "cell_type": "code",
   "execution_count": 45,
   "id": "278a246f",
   "metadata": {},
   "outputs": [
    {
     "data": {
      "text/plain": [
       "[10, 20, 30, 40, 50, 60, 70, 80, 90, 100, 110, 120]"
      ]
     },
     "execution_count": 45,
     "metadata": {},
     "output_type": "execute_result"
    }
   ],
   "source": [
    "#i) create list with integers \n",
    "lst =[10,20,30,40,50,60,70,80,90,100,110,120]\n",
    "lst"
   ]
  },
  {
   "cell_type": "code",
   "execution_count": 50,
   "id": "e233899a",
   "metadata": {},
   "outputs": [
    {
     "data": {
      "text/plain": [
       "120"
      ]
     },
     "execution_count": 50,
     "metadata": {},
     "output_type": "execute_result"
    }
   ],
   "source": [
    "#ii) Display last number in the list\n",
    "lst[11:]\n",
    "#or\n",
    "lst[-1]"
   ]
  },
  {
   "cell_type": "code",
   "execution_count": 51,
   "id": "a9932d78",
   "metadata": {},
   "outputs": [
    {
     "data": {
      "text/plain": [
       "[10, 20, 30, 40]"
      ]
     },
     "execution_count": 51,
     "metadata": {},
     "output_type": "execute_result"
    }
   ],
   "source": [
    "#iii) command for displaying the values from the list[0:4]\n",
    "lst[0:4]"
   ]
  },
  {
   "cell_type": "code",
   "execution_count": 52,
   "id": "19c87748",
   "metadata": {},
   "outputs": [
    {
     "data": {
      "text/plain": [
       "[30, 40, 50, 60, 70, 80, 90, 100, 110, 120]"
      ]
     },
     "execution_count": 52,
     "metadata": {},
     "output_type": "execute_result"
    }
   ],
   "source": [
    "#iv) command for displaying the values from the list[2:]\n",
    "lst[2:]"
   ]
  },
  {
   "cell_type": "code",
   "execution_count": 53,
   "id": "cc737a03",
   "metadata": {},
   "outputs": [
    {
     "data": {
      "text/plain": [
       "[10, 20, 30, 40, 50, 60]"
      ]
     },
     "execution_count": 53,
     "metadata": {},
     "output_type": "execute_result"
    }
   ],
   "source": [
    "#v) command for displaying the values from the list[:6]\n",
    "lst[:6]"
   ]
  },
  {
   "cell_type": "markdown",
   "id": "3fb7481f",
   "metadata": {},
   "source": [
    "### 4. Write a Python program: tuple1 = (10,50,20,40,30)"
   ]
  },
  {
   "cell_type": "code",
   "execution_count": 64,
   "id": "844316c4",
   "metadata": {},
   "outputs": [
    {
     "data": {
      "text/plain": [
       "(10, 50)"
      ]
     },
     "execution_count": 64,
     "metadata": {},
     "output_type": "execute_result"
    }
   ],
   "source": [
    "tuple1 =  (10,50,20,40,30)\n",
    "#i) display element 10 and 50 from tuple1\n",
    "tuple1[0:2]"
   ]
  },
  {
   "cell_type": "code",
   "execution_count": 65,
   "id": "51fe8278",
   "metadata": {},
   "outputs": [
    {
     "data": {
      "text/plain": [
       "5"
      ]
     },
     "execution_count": 65,
     "metadata": {},
     "output_type": "execute_result"
    }
   ],
   "source": [
    "#ii)Display Length of tuple1\n",
    "len(tuple1)"
   ]
  },
  {
   "cell_type": "code",
   "execution_count": 66,
   "id": "80a96a9d",
   "metadata": {},
   "outputs": [
    {
     "data": {
      "text/plain": [
       "10"
      ]
     },
     "execution_count": 66,
     "metadata": {},
     "output_type": "execute_result"
    }
   ],
   "source": [
    "#iii)Find Minimum element from tuple1\n",
    "min = tuple1[0]\n",
    "for i in range(1,len(tuple1)):\n",
    "    if(tuple1[i]< min):\n",
    "        min = tuple1[i]\n",
    "min"
   ]
  },
  {
   "cell_type": "code",
   "execution_count": 72,
   "id": "18500c93",
   "metadata": {},
   "outputs": [
    {
     "data": {
      "text/plain": [
       "140"
      ]
     },
     "execution_count": 72,
     "metadata": {},
     "output_type": "execute_result"
    }
   ],
   "source": [
    "#iv)add all elements in tuple1\n",
    "sum_element =0\n",
    "for i in range(1,len(tuple1)):\n",
    "    sum_element +=tuple1[i];\n",
    "sum_element"
   ]
  },
  {
   "cell_type": "code",
   "execution_count": 73,
   "id": "8da97a3d",
   "metadata": {},
   "outputs": [
    {
     "data": {
      "text/plain": [
       "(10, 50, 20, 40, 30, 10, 50, 20, 40, 30, 10, 50, 20, 40, 30)"
      ]
     },
     "execution_count": 73,
     "metadata": {},
     "output_type": "execute_result"
    }
   ],
   "source": [
    "#v)Display same tuple1 muliple times\n",
    "tuple1*3"
   ]
  },
  {
   "cell_type": "markdown",
   "id": "4569b8b6",
   "metadata": {},
   "source": [
    "### 5. Write a python Program"
   ]
  },
  {
   "cell_type": "code",
   "execution_count": 74,
   "id": "99bd3328",
   "metadata": {},
   "outputs": [
    {
     "data": {
      "text/plain": [
       "8"
      ]
     },
     "execution_count": 74,
     "metadata": {},
     "output_type": "execute_result"
    }
   ],
   "source": [
    "#i)Calculate length of string\n",
    "\n",
    "string ='selvaraj'\n",
    "len(string)"
   ]
  },
  {
   "cell_type": "code",
   "execution_count": 79,
   "id": "8d4c4d13",
   "metadata": {},
   "outputs": [
    {
     "data": {
      "text/plain": [
       "'jaravles'"
      ]
     },
     "execution_count": 79,
     "metadata": {},
     "output_type": "execute_result"
    }
   ],
   "source": [
    "#ii)Reverse words in a string\n",
    "\n",
    "reverse=string[::-1]\n",
    "reverse"
   ]
  },
  {
   "cell_type": "code",
   "execution_count": 83,
   "id": "bc70530a",
   "metadata": {},
   "outputs": [
    {
     "data": {
      "text/plain": [
       "'jaravlesjaravlesjaravlesjaravles'"
      ]
     },
     "execution_count": 83,
     "metadata": {},
     "output_type": "execute_result"
    }
   ],
   "source": [
    "#iii)Display same string multiple times\n",
    "reverse*4"
   ]
  },
  {
   "cell_type": "code",
   "execution_count": 84,
   "id": "89fa83e5",
   "metadata": {},
   "outputs": [
    {
     "data": {
      "text/plain": [
       "'selvaraj2577127'"
      ]
     },
     "execution_count": 84,
     "metadata": {},
     "output_type": "execute_result"
    }
   ],
   "source": [
    "#iv) Concatenate two string\n",
    "string1 = '2577127'\n",
    "concate = string + string1\n",
    "concate"
   ]
  },
  {
   "cell_type": "code",
   "execution_count": 89,
   "id": "413b872e",
   "metadata": {},
   "outputs": [
    {
     "data": {
      "text/plain": [
       "'India'"
      ]
     },
     "execution_count": 89,
     "metadata": {},
     "output_type": "execute_result"
    }
   ],
   "source": [
    "#v)Slicing String to display \"india\"\n",
    "Str1 =\"south India\"\n",
    "Str1[6:]"
   ]
  },
  {
   "cell_type": "markdown",
   "id": "299f3695",
   "metadata": {},
   "source": [
    "### 6. dictionary in Python"
   ]
  },
  {
   "cell_type": "code",
   "execution_count": 26,
   "id": "dc2db44b",
   "metadata": {},
   "outputs": [],
   "source": [
    "#i) Create a dictionary with some initial key-value pairs\n",
    "my_dict = {\n",
    "    'name': 'selvaraj',\n",
    "    'age': 30,\n",
    "    'city': 'Tamil Nadu'\n",
    "}\n"
   ]
  },
  {
   "cell_type": "code",
   "execution_count": 27,
   "id": "e0bae656",
   "metadata": {},
   "outputs": [
    {
     "name": "stdout",
     "output_type": "stream",
     "text": [
      "Name: selvaraj\n",
      "Age: 30\n",
      "Keys: ['name', 'age', 'city']\n"
     ]
    }
   ],
   "source": [
    "#ii) Accessing values using keys\n",
    "print(\"Name:\", my_dict['name'])  # Accessing value by key 'name'\n",
    "print(\"Age:\", my_dict['age'])    # Accessing value by key 'age'\n",
    "\n",
    "keys = list(my_dict.keys())      # Get a list of keys\n",
    "print(\"Keys:\", keys)\n"
   ]
  },
  {
   "cell_type": "code",
   "execution_count": 28,
   "id": "1d47975c",
   "metadata": {},
   "outputs": [
    {
     "name": "stdout",
     "output_type": "stream",
     "text": [
      "Updated Age: 32\n"
     ]
    }
   ],
   "source": [
    "#iii) Function to update age\n",
    "def update_age(new_age):\n",
    "    my_dict['age'] = new_age\n",
    "\n",
    "# Update the age using the function\n",
    "update_age(32)\n",
    "print(\"Updated Age:\", my_dict['age'])\n"
   ]
  },
  {
   "cell_type": "code",
   "execution_count": 29,
   "id": "c8388976",
   "metadata": {},
   "outputs": [
    {
     "name": "stdout",
     "output_type": "stream",
     "text": [
      "Dictionary after clearing: {}\n"
     ]
    }
   ],
   "source": [
    "#iv) Clear all values in the dictionary\n",
    "my_dict.clear()\n",
    "print(\"Dictionary after clearing:\", my_dict)\n",
    "\n",
    "# Delete the entire dictionary\n",
    "del my_dict\n",
    "\n"
   ]
  },
  {
   "cell_type": "markdown",
   "id": "1a99d086",
   "metadata": {},
   "source": [
    "### 7. Python program to insert a number to any position in a list"
   ]
  },
  {
   "cell_type": "code",
   "execution_count": 97,
   "id": "38693631",
   "metadata": {},
   "outputs": [
    {
     "data": {
      "text/plain": [
       "[1, 2, 3, 4, 10, -1000, 5, 6, 7, 8, 9]"
      ]
     },
     "execution_count": 97,
     "metadata": {},
     "output_type": "execute_result"
    }
   ],
   "source": [
    "lst = [1,2,3,4,5,6,7,8,9]\n",
    "\n",
    "lst.insert(4,10) #insert(position, element)\n",
    "lst.insert(5,-1000)\n",
    "lst\n"
   ]
  },
  {
   "cell_type": "markdown",
   "id": "e394ec9c",
   "metadata": {},
   "source": [
    "### 8. Python program to delete a number from the list by a index"
   ]
  },
  {
   "cell_type": "code",
   "execution_count": 98,
   "id": "2b23460e",
   "metadata": {},
   "outputs": [
    {
     "data": {
      "text/plain": [
       "[1, 2, 3, 10, -1000, 5, 6, 8, 9]"
      ]
     },
     "execution_count": 98,
     "metadata": {},
     "output_type": "execute_result"
    }
   ],
   "source": [
    "lst.pop(3)\n",
    "lst.pop(7)\n",
    "lst"
   ]
  },
  {
   "cell_type": "markdown",
   "id": "1029378d",
   "metadata": {},
   "source": [
    "### 9. Write a program to display a number from 1 to 100"
   ]
  },
  {
   "cell_type": "code",
   "execution_count": 102,
   "id": "f3e4d623",
   "metadata": {},
   "outputs": [
    {
     "name": "stdout",
     "output_type": "stream",
     "text": [
      "1 \n",
      "\n",
      "2 \n",
      "\n",
      "3 \n",
      "\n",
      "4 \n",
      "\n",
      "5 \n",
      "\n",
      "6 \n",
      "\n",
      "7 \n",
      "\n",
      "8 \n",
      "\n",
      "9 \n",
      "\n",
      "10 \n",
      "\n",
      "11 \n",
      "\n",
      "12 \n",
      "\n",
      "13 \n",
      "\n",
      "14 \n",
      "\n",
      "15 \n",
      "\n",
      "16 \n",
      "\n",
      "17 \n",
      "\n",
      "18 \n",
      "\n",
      "19 \n",
      "\n",
      "20 \n",
      "\n",
      "21 \n",
      "\n",
      "22 \n",
      "\n",
      "23 \n",
      "\n",
      "24 \n",
      "\n",
      "25 \n",
      "\n",
      "26 \n",
      "\n",
      "27 \n",
      "\n",
      "28 \n",
      "\n",
      "29 \n",
      "\n",
      "30 \n",
      "\n",
      "31 \n",
      "\n",
      "32 \n",
      "\n",
      "33 \n",
      "\n",
      "34 \n",
      "\n",
      "35 \n",
      "\n",
      "36 \n",
      "\n",
      "37 \n",
      "\n",
      "38 \n",
      "\n",
      "39 \n",
      "\n",
      "40 \n",
      "\n",
      "41 \n",
      "\n",
      "42 \n",
      "\n",
      "43 \n",
      "\n",
      "44 \n",
      "\n",
      "45 \n",
      "\n",
      "46 \n",
      "\n",
      "47 \n",
      "\n",
      "48 \n",
      "\n",
      "49 \n",
      "\n",
      "50 \n",
      "\n",
      "51 \n",
      "\n",
      "52 \n",
      "\n",
      "53 \n",
      "\n",
      "54 \n",
      "\n",
      "55 \n",
      "\n",
      "56 \n",
      "\n",
      "57 \n",
      "\n",
      "58 \n",
      "\n",
      "59 \n",
      "\n",
      "60 \n",
      "\n",
      "61 \n",
      "\n",
      "62 \n",
      "\n",
      "63 \n",
      "\n",
      "64 \n",
      "\n",
      "65 \n",
      "\n",
      "66 \n",
      "\n",
      "67 \n",
      "\n",
      "68 \n",
      "\n",
      "69 \n",
      "\n",
      "70 \n",
      "\n",
      "71 \n",
      "\n",
      "72 \n",
      "\n",
      "73 \n",
      "\n",
      "74 \n",
      "\n",
      "75 \n",
      "\n",
      "76 \n",
      "\n",
      "77 \n",
      "\n",
      "78 \n",
      "\n",
      "79 \n",
      "\n",
      "80 \n",
      "\n",
      "81 \n",
      "\n",
      "82 \n",
      "\n",
      "83 \n",
      "\n",
      "84 \n",
      "\n",
      "85 \n",
      "\n",
      "86 \n",
      "\n",
      "87 \n",
      "\n",
      "88 \n",
      "\n",
      "89 \n",
      "\n",
      "90 \n",
      "\n",
      "91 \n",
      "\n",
      "92 \n",
      "\n",
      "93 \n",
      "\n",
      "94 \n",
      "\n",
      "95 \n",
      "\n",
      "96 \n",
      "\n",
      "97 \n",
      "\n",
      "98 \n",
      "\n",
      "99 \n",
      "\n",
      "100 \n",
      "\n"
     ]
    }
   ],
   "source": [
    "for i in range(0,100):\n",
    "   print(i+1,'\\n')"
   ]
  },
  {
   "cell_type": "markdown",
   "id": "a5bb2efa",
   "metadata": {},
   "source": [
    "### 10. Write a program to to find the sum of all items in a tuple"
   ]
  },
  {
   "cell_type": "code",
   "execution_count": 105,
   "id": "fa91487e",
   "metadata": {},
   "outputs": [
    {
     "data": {
      "text/plain": [
       "130"
      ]
     },
     "execution_count": 105,
     "metadata": {},
     "output_type": "execute_result"
    }
   ],
   "source": [
    "tuples=(3,10,17,100)\n",
    "sum=0\n",
    "x=len(tuples)\n",
    "for i in range(0, x):\n",
    "    sum +=tuples[i]\n",
    "\n",
    "sum"
   ]
  },
  {
   "cell_type": "markdown",
   "id": "65ea9b96",
   "metadata": {},
   "source": [
    "### 11. Creating a dictionary containing three lambda functions square, cube and square root:"
   ]
  },
  {
   "cell_type": "code",
   "execution_count": 117,
   "id": "c37933ad",
   "metadata": {},
   "outputs": [
    {
     "name": "stdout",
     "output_type": "stream",
     "text": [
      "Enter value of x: 3\n",
      "The Square of 3 is 9\n",
      "The cube of 3 is 27\n",
      "The squareroot of 3 is 1.7320508075688772\n"
     ]
    }
   ],
   "source": [
    "\n",
    "\n",
    "dict_lambda ={\n",
    "    'square': lambda x: x**2,\n",
    "    'cube': lambda x: x**3,\n",
    "    'squareroot': lambda x: x**0.5\n",
    "}\n",
    "\n",
    "x=int(input(\"Enter value of x: \"))\n",
    "\n",
    "square_res = dict_lambda['square'](x)\n",
    "cube_res = dict_lambda['cube'](x)\n",
    "squareroot_res = dict_lambda['squareroot'](x)\n",
    "\n",
    "print('The Square of {} is {}'.format(x,square_res))\n",
    "print('The cube of {} is {}'.format(x,cube_res))\n",
    "print('The squareroot of {} is {}'.format(x,squareroot_res))\n"
   ]
  },
  {
   "cell_type": "markdown",
   "id": "8159075d",
   "metadata": {},
   "source": [
    "### 12. A list of word is given. Find the words from the list that have their second character in uppertcase"
   ]
  },
  {
   "cell_type": "code",
   "execution_count": 2,
   "id": "40b4e8a2",
   "metadata": {},
   "outputs": [
    {
     "name": "stdout",
     "output_type": "stream",
     "text": [
      "hOw\n",
      "ARe\n"
     ]
    }
   ],
   "source": [
    "ls =['hello','Dear','hOw','ARe','You']\n",
    "\n",
    "for word in ls:\n",
    "    if(word[1].isupper()):\n",
    "        print(word)\n"
   ]
  },
  {
   "cell_type": "markdown",
   "id": "3981e362",
   "metadata": {},
   "source": [
    "### 13. Find how much they will weigh on the moon. (Use map and lambda functions) Formula : wMoon = (wEarth * GMoon) / GEarth\n",
    "i) Weight of people in kg\n",
    "   WeightOnEarth = {'John': 45, 'Shelly':65, 'Marry': 35)\n",
    "ii) Gravitational force on the Moon: 1.622 m/52\n",
    "    GMoon = 1.622\n",
    "iii)Gravitational force on the Earth: 9.81 m/s2\n",
    "    GEarth = 9.81\n",
    "\n"
   ]
  },
  {
   "cell_type": "code",
   "execution_count": 3,
   "id": "73a8a6ad",
   "metadata": {},
   "outputs": [
    {
     "name": "stdout",
     "output_type": "stream",
     "text": [
      "{'John': 7.440366972477065, 'Shelly': 10.747196738022426, 'Marry': 5.786952089704383}\n"
     ]
    }
   ],
   "source": [
    "WeightOnEarth = {'John': 45, 'Shelly': 65, 'Marry': 35}\n",
    "GMoon = 1.622\n",
    "GEarth = 9.81\n",
    "\n",
    "# Use map and lambda to calculate weights on the Moon\n",
    "WeightOnMoon = list(map(lambda name, weight: (weight * GMoon) / GEarth, WeightOnEarth.keys(), WeightOnEarth.values()))\n",
    "\n",
    "WeightOnMoonDict = dict(zip(WeightOnEarth.keys(), WeightOnMoon))\n",
    "print(WeightOnMoonDict)\n"
   ]
  },
  {
   "cell_type": "markdown",
   "id": "e96d128b",
   "metadata": {},
   "source": [
    "# Control Structures"
   ]
  },
  {
   "cell_type": "markdown",
   "id": "2faed152",
   "metadata": {},
   "source": [
    "### 1. N Prime number"
   ]
  },
  {
   "cell_type": "code",
   "execution_count": 5,
   "id": "72d53aa6",
   "metadata": {},
   "outputs": [
    {
     "name": "stdout",
     "output_type": "stream",
     "text": [
      "Enter the value of n: 10\n",
      "Not Prime number\n"
     ]
    }
   ],
   "source": [
    "n = int(input(\"Enter the value of n: \"))\n",
    "count =0\n",
    "for i in range(1,n+1):\n",
    "    if(n%i==0):\n",
    "        count+=1\n",
    "if(count==2):\n",
    "    print('prime number')\n",
    "else:\n",
    "    print('Not Prime number')\n",
    "    \n",
    "    "
   ]
  },
  {
   "cell_type": "markdown",
   "id": "49ce1079",
   "metadata": {},
   "source": [
    "### 2. calculates the salary of an employee"
   ]
  },
  {
   "cell_type": "code",
   "execution_count": 5,
   "id": "2c6d4491",
   "metadata": {},
   "outputs": [
    {
     "name": "stdout",
     "output_type": "stream",
     "text": [
      "Enter Basic Salary: 40000\n",
      "Enter House Allowance (HA): 10000\n",
      "Enter Travel Allowance (TA): 2000\n",
      "Enter Dearness Allowance (DA): 2000\n",
      "Gross Salary: 54000.0\n",
      "Tax Deduction is 10% of Gross Salary : 5400.0\n",
      "Net Salary: 48600.0\n"
     ]
    }
   ],
   "source": [
    "basic_salary = float(input(\"Enter Basic Salary: \"))\n",
    "HA = float(input(\"Enter House Allowance (HA): \"))\n",
    "TA = float(input(\"Enter Travel Allowance (TA): \"))\n",
    "DA = float(input(\"Enter Dearness Allowance (DA): \"))\n",
    "\n",
    "gross_salary = basic_salary + HA + TA + DA\n",
    "\n",
    "tax = 0.10 * gross_salary\n",
    "\n",
    "net_salary = gross_salary - tax\n",
    "\n",
    "print(\"Gross Salary:\", gross_salary)\n",
    "print(\"Tax Deduction is 10% of Gross Salary :\", tax)\n",
    "print(\"Net Salary:\", net_salary)\n"
   ]
  },
  {
   "cell_type": "markdown",
   "id": "3e87add7",
   "metadata": {},
   "source": [
    "### 3. Search for string in the given list"
   ]
  },
  {
   "cell_type": "code",
   "execution_count": 12,
   "id": "bb3f8c2f",
   "metadata": {},
   "outputs": [
    {
     "name": "stdout",
     "output_type": "stream",
     "text": [
      "enter string : \n",
      "good\n",
      "Given string is in the list\n"
     ]
    }
   ],
   "source": [
    "ls=['good','morning','everyone']\n",
    "\n",
    "search_string =input('enter string : \\n')\n",
    "found = False\n",
    "for string in ls:\n",
    "    if(string == search_string):\n",
    "        found = True\n",
    "        break\n",
    "if found:\n",
    "    print('Given string is in the list')\n",
    "else:\n",
    "    print('Given string is not in the list')\n",
    "    \n",
    "    "
   ]
  },
  {
   "cell_type": "markdown",
   "id": "d9b1017b",
   "metadata": {},
   "source": [
    "### 4. Accept string and calculate the number of upper-case and lower-case letter"
   ]
  },
  {
   "cell_type": "code",
   "execution_count": 11,
   "id": "b0121219",
   "metadata": {},
   "outputs": [
    {
     "name": "stdout",
     "output_type": "stream",
     "text": [
      "Enter a string: GooD\n",
      "Count of Uppercase letters: 2\n",
      "Count of Lowercase letters: 2\n"
     ]
    }
   ],
   "source": [
    "string = input(\"Enter a string: \")\n",
    "uppercase_count = 0\n",
    "lowercase_count = 0\n",
    "for char in string:\n",
    "    if char.isupper():\n",
    "        uppercase_count += 1\n",
    "    elif char.islower():\n",
    "        lowercase_count += 1\n",
    "\n",
    "print(\"Count of Uppercase letters:\", uppercase_count)\n",
    "print(\"Count of Lowercase letters:\", lowercase_count)"
   ]
  },
  {
   "cell_type": "markdown",
   "id": "6b468c01",
   "metadata": {},
   "source": [
    "### 5. Sum of Odd and Even Numbers between 12 and 37"
   ]
  },
  {
   "cell_type": "code",
   "execution_count": 12,
   "id": "31a234e2",
   "metadata": {},
   "outputs": [
    {
     "name": "stdout",
     "output_type": "stream",
     "text": [
      "Sum of even numbers: 312\n",
      "Sum of odd numbers: 325\n"
     ]
    }
   ],
   "source": [
    "even = 0\n",
    "odd = 0\n",
    "\n",
    "for num in range(12, 38):\n",
    "    if num % 2 == 0:\n",
    "        even+=num\n",
    "    else:\n",
    "        odd+=num\n",
    "\n",
    "print(\"Sum of even numbers:\", even)\n",
    "print(\"Sum of odd numbers:\", odd)"
   ]
  },
  {
   "cell_type": "markdown",
   "id": "f42f3796",
   "metadata": {},
   "source": [
    "### 6. Print table of any number"
   ]
  },
  {
   "cell_type": "code",
   "execution_count": 13,
   "id": "0db9dd01",
   "metadata": {},
   "outputs": [
    {
     "name": "stdout",
     "output_type": "stream",
     "text": [
      "Enter a number: 3\n",
      "3 x 1 = 3\n",
      "3 x 2 = 6\n",
      "3 x 3 = 9\n",
      "3 x 4 = 12\n",
      "3 x 5 = 15\n",
      "3 x 6 = 18\n",
      "3 x 7 = 21\n",
      "3 x 8 = 24\n",
      "3 x 9 = 27\n",
      "3 x 10 = 30\n"
     ]
    }
   ],
   "source": [
    "num = int(input(\"Enter a number: \"))\n",
    "\n",
    "for i in range(1, 11):  \n",
    "    product = num * i\n",
    "    print('{} x {} = {}'.format(num,i,product))"
   ]
  },
  {
   "cell_type": "markdown",
   "id": "2104f038",
   "metadata": {},
   "source": [
    "### 7. Sum of first 10 prime number"
   ]
  },
  {
   "cell_type": "code",
   "execution_count": 57,
   "id": "933e3dee",
   "metadata": {},
   "outputs": [
    {
     "name": "stdout",
     "output_type": "stream",
     "text": [
      "Sum of the first 10 prime numbers: 129\n"
     ]
    }
   ],
   "source": [
    "def prime_number(n):\n",
    "    sumofPrime = 0 \n",
    "    count_prime = 0\n",
    "    \n",
    "    for i in range(2, n + 1):\n",
    "        count = 0\n",
    "        for j in range(1, i + 1):\n",
    "            if i % j == 0:\n",
    "                count = count + 1\n",
    "        if count == 2:\n",
    "            sumofPrime = sumofPrime + i  \n",
    "            count_prime += 1\n",
    "            if count_prime == 10: \n",
    "                break\n",
    "\n",
    "    print(\"Sum of the first 10 prime numbers:\", sumofPrime)\n",
    "\n",
    "prime_number(30)\n",
    "\n"
   ]
  },
  {
   "cell_type": "markdown",
   "id": "3292313e",
   "metadata": {},
   "source": [
    "### 8. Implement arithmetic operations using nested if statement"
   ]
  },
  {
   "cell_type": "code",
   "execution_count": 17,
   "id": "bfee3b05",
   "metadata": {},
   "outputs": [
    {
     "name": "stdout",
     "output_type": "stream",
     "text": [
      "Enter the first number: 23\n",
      "Enter the second number: 54\n",
      "Enter the operation (+, -, *, /): /\n",
      "0.42592592592592593\n"
     ]
    }
   ],
   "source": [
    "num1 = float(input(\"Enter the first number: \"))\n",
    "num2 = float(input(\"Enter the second number: \"))\n",
    "operation = input(\"Enter the operation (+, -, *, /): \")\n",
    "\n",
    "if operation == '+':\n",
    "    result = num1 + num2\n",
    "    print(result)\n",
    "elif operation == '-':\n",
    "    result = num1 - num2\n",
    "    print(result)\n",
    "elif operation == '*':\n",
    "    result = num1 * num2\n",
    "    print(result)\n",
    "elif operation == '/':\n",
    "    if num2 != 0: \n",
    "        result = num1 / num2\n",
    "        print(result)\n",
    "    else:\n",
    "        print(\"Error: Division by zero\")\n",
    "else:\n",
    "    print(\"Invalid operation\")"
   ]
  },
  {
   "cell_type": "markdown",
   "id": "9a925124",
   "metadata": {},
   "source": [
    "### 9. Temperature in celsius and convert it to Fahrenheit"
   ]
  },
  {
   "cell_type": "code",
   "execution_count": 1,
   "id": "48cec8e5",
   "metadata": {},
   "outputs": [
    {
     "name": "stdout",
     "output_type": "stream",
     "text": [
      "Enter temperature in Celsius: 10\n",
      "10.0 degrees Celsius is equal to 50.0 degrees Fahrenheit\n"
     ]
    }
   ],
   "source": [
    "celsius = float(input(\"Enter temperature in Celsius: \"))\n",
    "\n",
    "fahrenheit = (celsius * 9/5) + 32\n",
    "\n",
    "print(\"{} degrees Celsius is equal to {} degrees Fahrenheit\".format(celsius,fahrenheit))"
   ]
  },
  {
   "cell_type": "markdown",
   "id": "1ba46c06",
   "metadata": {},
   "source": [
    "### 10. Maximum and minimum number in the list"
   ]
  },
  {
   "cell_type": "code",
   "execution_count": 21,
   "id": "c2ecc66c",
   "metadata": {},
   "outputs": [
    {
     "name": "stdout",
     "output_type": "stream",
     "text": [
      "maximum value is 12 and Minimum Value is -2\n"
     ]
    }
   ],
   "source": [
    "ls =[3, 1, 7, 12, 5, 9, -2, 8]\n",
    "max=min=ls[0]\n",
    "\n",
    "for i in range(1,len(ls)):\n",
    "    if max < ls[i]:\n",
    "        max = ls[i]\n",
    "\n",
    "for i in range(1,len(ls)):\n",
    "    if min > ls[i]:\n",
    "        min = ls[i]\n",
    "\n",
    "print('maximum value is {} and Minimum Value is {}'.format(max,min))"
   ]
  },
  {
   "cell_type": "markdown",
   "id": "fe1580c9",
   "metadata": {},
   "source": [
    "### 11. number of seconds in 30-day month 30 days, 24 hours in a day, 60 minutes per day, 60 seconds in a minute"
   ]
  },
  {
   "cell_type": "code",
   "execution_count": 3,
   "id": "e4c83b0f",
   "metadata": {},
   "outputs": [
    {
     "name": "stdout",
     "output_type": "stream",
     "text": [
      "Number of seconds in a 30-day month is 2592000\n"
     ]
    }
   ],
   "source": [
    "days_in_month = 30\n",
    "hours_in_day = 24\n",
    "minutes_in_hour = 60\n",
    "seconds_in_minute = 60\n",
    "\n",
    "seconds_in_30_day_month = days_in_month * hours_in_day * minutes_in_hour * seconds_in_minute\n",
    "\n",
    "print('Number of seconds in a 30-day month is {}'.format(seconds_in_30_day_month))\n"
   ]
  },
  {
   "cell_type": "markdown",
   "id": "3c45c52a",
   "metadata": {},
   "source": [
    "### 12. Print number of seconds in year"
   ]
  },
  {
   "cell_type": "code",
   "execution_count": 2,
   "id": "9b524cc8",
   "metadata": {},
   "outputs": [
    {
     "name": "stdout",
     "output_type": "stream",
     "text": [
      "Seconds in a year is 31536000\n"
     ]
    }
   ],
   "source": [
    "days_year = 365\n",
    "seconds_day = 24*60*60\n",
    "\n",
    "seconds_year = days_year * seconds_day\n",
    "print('Seconds in a year is {}'.format(seconds_year))"
   ]
  },
  {
   "cell_type": "markdown",
   "id": "9c92fd06",
   "metadata": {},
   "source": [
    "### 13. A high-speed train can travel at an average speed of 150 mph, how long will it take a train travelling at this speed to travel from London to Glasgow which is 414 miles away?"
   ]
  },
  {
   "cell_type": "code",
   "execution_count": 5,
   "id": "5ce4a1a5",
   "metadata": {},
   "outputs": [
    {
     "name": "stdout",
     "output_type": "stream",
     "text": [
      "Hours to travel from London to Glasgow at 150 mph is 2.76\n"
     ]
    }
   ],
   "source": [
    "distance = 414\n",
    "speed = 150\n",
    "\n",
    "time_hours = distance / speed\n",
    "\n",
    "print('Hours to travel from London to Glasgow at 150 mph is {}'.format(time_hours))\n"
   ]
  },
  {
   "cell_type": "markdown",
   "id": "1c013919",
   "metadata": {},
   "source": [
    "### 14. Write a python program that defines a variable called days_in_each_school_year and assign 192 to the variable. The program should then print out the total hours that you spend in school from year 7 to year 11, if each day you spend 6 hours in school days_in_each_school_year = 192"
   ]
  },
  {
   "cell_type": "code",
   "execution_count": 6,
   "id": "b29e7e2a",
   "metadata": {},
   "outputs": [
    {
     "name": "stdout",
     "output_type": "stream",
     "text": [
      "Total hours spent in school from year 7 to year 11 is  51840\n"
     ]
    }
   ],
   "source": [
    "days_in_each_school_year = 192\n",
    "\n",
    "total_hours = 0\n",
    "for year in range(7, 12):\n",
    "    total_hours += year * days_in_each_school_year * 6\n",
    "print('Total hours spent in school from year 7 to year 11 is ', total_hours)"
   ]
  },
  {
   "cell_type": "markdown",
   "id": "ec27b580",
   "metadata": {},
   "source": [
    "### 15. Determine the eldest and youngest of the three"
   ]
  },
  {
   "cell_type": "code",
   "execution_count": 9,
   "id": "88923524",
   "metadata": {},
   "outputs": [
    {
     "name": "stdout",
     "output_type": "stream",
     "text": [
      "Enter Ram's age: 40\n",
      "Enter Sam's age: 15\n",
      "Enter Khan's age: 50\n",
      "The eldest among Ram, Sam, and Khan is \"Khan\" age of 50\n",
      "The youngest among Ram, Sam, and Khan is \"Sam\" age of 15\n"
     ]
    }
   ],
   "source": [
    "ram_age = int(input(\"Enter Ram's age: \"))\n",
    "sam_age = int(input(\"Enter Sam's age: \"))\n",
    "khan_age = int(input(\"Enter Khan's age: \"))\n",
    "\n",
    "eldest_age = max(ram_age, sam_age, khan_age)\n",
    "youngest_age = min(ram_age, sam_age, khan_age)\n",
    "\n",
    "if ram_age == sam_age == khan_age:\n",
    "    print(\"Ram, Sam, and Khan are of the same age.\")\n",
    "\n",
    "else:\n",
    "    if eldest_age == ram_age:\n",
    "        eldest_name = \"Ram\"\n",
    "    elif eldest_age == sam_age:\n",
    "        eldest_name = \"Sam\"\n",
    "    else:\n",
    "        eldest_name = \"Khan\"\n",
    "\n",
    "    if youngest_age == ram_age:\n",
    "        youngest_name = \"Ram\"\n",
    "    elif youngest_age == sam_age:\n",
    "        youngest_name = \"Sam\"\n",
    "    else:\n",
    "        youngest_name = \"Khan\"\n",
    "\n",
    "    print('The eldest among Ram, Sam, and Khan is \"{}\" age of {}'.format(eldest_name,eldest_age))\n",
    "    print('The youngest among Ram, Sam, and Khan is \"{}\" age of {}'.format(youngest_name,youngest_age))"
   ]
  },
  {
   "cell_type": "markdown",
   "id": "6e89b42a",
   "metadata": {},
   "source": [
    "### 16. Rotate a list by right n times with and without slicing technique."
   ]
  },
  {
   "cell_type": "code",
   "execution_count": 14,
   "id": "1d6cdf23",
   "metadata": {},
   "outputs": [
    {
     "name": "stdout",
     "output_type": "stream",
     "text": [
      "Rotated list with slicing: [3, 4, 5, 1, 2]\n",
      "Rotated list without slicing: [2, 3, 4, 5, 1]\n"
     ]
    }
   ],
   "source": [
    "def with_slicing(input_list, n):\n",
    "    n = n % len(input_list)\n",
    "    rotated_list = input_list[-n:] + input_list[:-n]\n",
    "    return rotated_list\n",
    "\n",
    "lst = [1, 2, 3, 4, 5]\n",
    "n = 3\n",
    "rotated_list = with_slicing(lst, n)\n",
    "print(\"Rotated list with slicing:\", rotated_list)\n",
    "\n",
    "def without_slicing(input_list, n):\n",
    "    n = n % len(input_list)  \n",
    "    rotated_list = [0] * len(input_list)\n",
    "    \n",
    "    for i in range(len(input_list)):\n",
    "        new_index = (i + n) % len(input_list)\n",
    "        rotated_list[new_index] = input_list[i]\n",
    "    \n",
    "    return rotated_list\n",
    "\n",
    "lst = [1, 2, 3, 4, 5]\n",
    "n = 4\n",
    "rotated_list = without_slicing(lst, n)\n",
    "print(\"Rotated list without slicing:\", rotated_list)\n"
   ]
  },
  {
   "cell_type": "markdown",
   "id": "e230a258",
   "metadata": {},
   "source": [
    "### 17. Print the patterns"
   ]
  },
  {
   "cell_type": "code",
   "execution_count": 19,
   "id": "8d10f46e",
   "metadata": {},
   "outputs": [
    {
     "name": "stdout",
     "output_type": "stream",
     "text": [
      "       1 \n",
      "      1 1 \n",
      "     1 2 1 \n",
      "    1 3 3 1 \n",
      "   1 4 6 4 1 \n",
      "  1 5 10 10 5 1 \n",
      " 1 6 15 20 15 6 1 \n"
     ]
    }
   ],
   "source": [
    "#pattern 1\n",
    "\n",
    "def pattern1(n):\n",
    "    for i in range(n):\n",
    "        num = 1\n",
    "        for j in range(1, n - i + 1):\n",
    "            print(\" \", end=\"\")\n",
    "        for j in range(i + 1):\n",
    "            print(num, end=\" \")\n",
    "            num = num * (i - j) // (j + 1)\n",
    "        print()\n",
    "\n",
    "pattern1(7)\n"
   ]
  },
  {
   "cell_type": "code",
   "execution_count": 20,
   "id": "38e96c9d",
   "metadata": {},
   "outputs": [
    {
     "name": "stdout",
     "output_type": "stream",
     "text": [
      "*\n",
      "**\n",
      "***\n",
      "****\n",
      "*****\n"
     ]
    }
   ],
   "source": [
    "# Pattern2\n",
    "\n",
    "def Pattern2(n):\n",
    "    for i in range(1, n + 1):\n",
    "        print(\"*\" * i)\n",
    "Pattern2(5)\n"
   ]
  },
  {
   "cell_type": "code",
   "execution_count": 33,
   "id": "e483b28b",
   "metadata": {},
   "outputs": [
    {
     "name": "stdout",
     "output_type": "stream",
     "text": [
      "      * \r\n",
      "     * * \r\n",
      "    * * * \r\n",
      "   * * * * \r\n",
      "  * * * * * \r\n",
      " * * * * * * \r\n",
      "* * * * * * * \r\n"
     ]
    }
   ],
   "source": [
    "# pattern3\n",
    "def triangle(n):\n",
    "    k = n - 1\n",
    " \n",
    "    # outer loop to handle number of rows\n",
    "    for i in range(0, n):\n",
    "     \n",
    "        # inner loop to handle number spaces\n",
    "        for j in range(0, k):\n",
    "            print(end=\" \")\n",
    "        k = k - 1\n",
    "     \n",
    "        # inner loop to handle number of columns\n",
    "        for j in range(0, i+1):\n",
    "            print(\"* \", end=\"\")\n",
    "        print(\"\\r\")\n",
    "\n",
    "triangle(7)\n",
    "\n",
    "\n",
    "\n"
   ]
  },
  {
   "cell_type": "code",
   "execution_count": 39,
   "id": "3f1cd162",
   "metadata": {},
   "outputs": [
    {
     "name": "stdout",
     "output_type": "stream",
     "text": [
      "p\n",
      "py\n",
      "pyt\n",
      "pyth\n",
      "pytho\n",
      "python\n"
     ]
    }
   ],
   "source": [
    "#pattern 4\n",
    "def python_pattern(text):\n",
    "    for i in range(1, len(text) + 1):\n",
    "        print(text[:i])\n",
    "\n",
    "text = \"python\"\n",
    "python_pattern(text)\n",
    "\n"
   ]
  },
  {
   "cell_type": "code",
   "execution_count": null,
   "id": "df9c0960",
   "metadata": {},
   "outputs": [],
   "source": []
  }
 ],
 "metadata": {
  "kernelspec": {
   "display_name": "Python 3 (ipykernel)",
   "language": "python",
   "name": "python3"
  },
  "language_info": {
   "codemirror_mode": {
    "name": "ipython",
    "version": 3
   },
   "file_extension": ".py",
   "mimetype": "text/x-python",
   "name": "python",
   "nbconvert_exporter": "python",
   "pygments_lexer": "ipython3",
   "version": "3.11.4"
  }
 },
 "nbformat": 4,
 "nbformat_minor": 5
}
