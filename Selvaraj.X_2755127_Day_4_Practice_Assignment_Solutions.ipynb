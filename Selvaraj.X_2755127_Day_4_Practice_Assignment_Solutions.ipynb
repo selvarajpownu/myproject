{
 "cells": [
  {
   "cell_type": "markdown",
   "id": "e64dc212",
   "metadata": {},
   "source": [
    "# Exceptions and Command-Line Arguments"
   ]
  },
  {
   "cell_type": "markdown",
   "id": "ad4c917f",
   "metadata": {},
   "source": [
    "### 1.Calculate Percentage and grade to each subjects."
   ]
  },
  {
   "cell_type": "code",
   "execution_count": 17,
   "id": "6c3f4bfe",
   "metadata": {},
   "outputs": [
    {
     "name": "stdout",
     "output_type": "stream",
     "text": [
      "Enter physics mark : 60\n",
      "Enter Chemistry mark : 90\n",
      "Enter Biology mark : 45\n",
      "Enter Maths mark : 76\n",
      "Enter Computer mark : 99\n",
      "********************************************************************************\n",
      "Physics : Grade E\n",
      "Chemistry : Grade B\n",
      "Biology : Grade F\n",
      "Maths : Grade A\n",
      "Computer : Grade D\n"
     ]
    }
   ],
   "source": [
    "import sys\n",
    "\n",
    "\n",
    "def subject_grade(n):\n",
    "    mark_list = n\n",
    "    percent =int(''.join(map(str, mark_list)))\n",
    "    if percent>=90:\n",
    "        return \"Grade A\"\n",
    "    elif percent >= 80:\n",
    "        return \"Grade B\"\n",
    "    elif percent >= 70:\n",
    "        return \"Grade C\"\n",
    "    elif percent >= 60:\n",
    "        return \"Grade D\"\n",
    "    elif percent >= 40:\n",
    "        return \"Grade E\"\n",
    "    elif percent < 40:\n",
    "        return \"Grade F\"\n",
    "\n",
    "def grade(*sub_mark):\n",
    "    subjects = list(sub_mark)\n",
    "    try:\n",
    "        physics =int(input(\"Enter physics mark : \"))\n",
    "        Chemistry =int(input(\"Enter Chemistry mark : \"))\n",
    "        Biology =int(input(\"Enter Biology mark : \"))\n",
    "        Maths =int(input(\"Enter Maths mark : \"))\n",
    "        Computer=int(input(\"Enter Computer mark : \"))\n",
    "        print('*'*80)\n",
    "        mark =subjects[0:1]\n",
    "        print('Physics :',subject_grade(mark))\n",
    "        mark =subjects[1:2]\n",
    "        print('Chemistry :',subject_grade(mark))\n",
    "        mark =subjects[2:3]\n",
    "        print('Biology :',subject_grade(mark))\n",
    "        mark =subjects[3:4]\n",
    "        print('Maths :',subject_grade(mark))\n",
    "        mark =subjects[4:5]\n",
    "        print('Computer :',subject_grade(mark))\n",
    "    except:\n",
    "        print(sys.exc_info()[0])\n",
    "        print('Marks not entered in the field')\n",
    "\n",
    "\n",
    "grade(physics,Chemistry,Biology,Maths,Computer)\n",
    "            "
   ]
  },
  {
   "cell_type": "markdown",
   "id": "1c88c3d4",
   "metadata": {},
   "source": [
    "### 2. Calculate Total electicty bill"
   ]
  },
  {
   "cell_type": "code",
   "execution_count": 140,
   "id": "df879ebe",
   "metadata": {},
   "outputs": [],
   "source": [
    "def total_bill(charges):\n",
    "    ch1 = 50*0.5\n",
    "    ch2 = 100*0.75\n",
    "    ch3 = 100*1.2\n",
    "    \n",
    "    if charges <=50:\n",
    "        bill = charges*0.5\n",
    "        Total_bill = bill + bill*.2\n",
    "        return Total_bill\n",
    "    elif charges in range(51,151):\n",
    "        bill = ch1 + ((charges-50)*0.75)\n",
    "        Total_bill = bill + bill*.2\n",
    "        return Total_bill\n",
    "    elif charges in range(151,251):\n",
    "        bill = ch1+ch2+((charges-150)*1.20)\n",
    "        Total_bill = bill + bill*.2\n",
    "        return Total_bill\n",
    "    elif charges >250:\n",
    "        bill = ch1+ch2+ch3+((charges-250)*1.50)\n",
    "        Total_bill = bill + bill*.2\n",
    "        return Total_bill\n",
    "       \n",
    "        \n",
    "\n",
    "        \n",
    "    "
   ]
  },
  {
   "cell_type": "code",
   "execution_count": 141,
   "id": "d3de621a",
   "metadata": {},
   "outputs": [
    {
     "name": "stdout",
     "output_type": "stream",
     "text": [
      "Enter the Unit charges used :500\n",
      "Total Electricity bill Rs: 714.0\n",
      "\n",
      "Enter the Unit charges used :380\n",
      "Total Electricity bill Rs: 498.0\n",
      "\n",
      "Enter the Unit charges used :35\n",
      "Total Electricity bill Rs: 21.0\n",
      "\n",
      "Enter the Unit charges used :78\n",
      "Total Electricity bill Rs: 55.2\n",
      "\n",
      "Enter the Unit charges used :-1\n",
      "Enter positive integer\n"
     ]
    }
   ],
   "source": [
    "while True:\n",
    "        try:\n",
    "            charges = int(input('Enter the Unit charges used :')) \n",
    "            if charges <0:\n",
    "                raise ValueError('Enter positive integer')\n",
    "            else:     \n",
    "                print('Total Electricity bill Rs:',total_bill(charges))\n",
    "                print()\n",
    "        except ValueError as e:\n",
    "            print(e)\n",
    "            break"
   ]
  },
  {
   "cell_type": "markdown",
   "id": "6f76f439",
   "metadata": {},
   "source": [
    "### 3. Exception handling, input week number and output Weekday"
   ]
  },
  {
   "cell_type": "code",
   "execution_count": 57,
   "id": "c36f046f",
   "metadata": {},
   "outputs": [
    {
     "name": "stdout",
     "output_type": "stream",
     "text": [
      "Enter Week number from 1 to 7 : 6\n",
      "Week day of 6 is Saturday\n",
      "\n",
      "Enter Week number from 1 to 7 : 2\n",
      "Week day of 2 is Tuesday\n",
      "\n",
      "Enter Week number from 1 to 7 : 7\n",
      "Week day of 7 is sunday\n",
      "\n",
      "Enter Week number from 1 to 7 : 0\n",
      "Enter positive integer\n"
     ]
    }
   ],
   "source": [
    "while True:\n",
    "    try:\n",
    "        week_num = int(input(\"Enter Week number from 1 to 7 : \"))\n",
    "        if 1<=week_num<=7:\n",
    "            week_days =['Monday','Tuesday','Wednesday','Thursday','Friday','Saturday','sunday']\n",
    "            print('Week day of {} is {}'.format(week_num,week_days[week_num-1]))\n",
    "            print()\n",
    "        else:\n",
    "            raise ValueError('Enter positive integer')\n",
    "    except ValueError as e:\n",
    "        print(e)\n",
    "        break"
   ]
  },
  {
   "cell_type": "markdown",
   "id": "0e1e704f",
   "metadata": {},
   "source": [
    "### 4.Word count using CLA"
   ]
  },
  {
   "cell_type": "code",
   "execution_count": 123,
   "id": "814a2c17",
   "metadata": {},
   "outputs": [
    {
     "data": {
      "text/plain": [
       "56"
      ]
     },
     "execution_count": 123,
     "metadata": {},
     "output_type": "execute_result"
    }
   ],
   "source": [
    "#create apple.txt file\n",
    "file = open('apple.txt','w')\n",
    "file.write(\"learning command line arguments through jupiter and line\")"
   ]
  },
  {
   "cell_type": "code",
   "execution_count": 124,
   "id": "f831cd94",
   "metadata": {},
   "outputs": [
    {
     "name": "stdout",
     "output_type": "stream",
     "text": [
      "learning: 1\n",
      "command: 1\n",
      "line: 2\n",
      "arguments: 1\n",
      "through: 1\n",
      "jupiter: 1\n",
      "and: 1\n"
     ]
    }
   ],
   "source": [
    "#word count program\n",
    "#wordcount.py\n",
    "\n",
    "def word_count():\n",
    "    word_count_dict = {}\n",
    "    with open('apple.txt', 'r') as file:\n",
    "        for line in file.readlines():\n",
    "            for word in line.split():\n",
    "                word = word.strip().lower()\n",
    "                if word:\n",
    "                    if word in word_count_dict:\n",
    "                        word_count_dict[word] += 1\n",
    "                    else:\n",
    "                        word_count_dict[word] = 1\n",
    "    return word_count_dict\n",
    "\n",
    "count_word = word_count()\n",
    "for word, count in count_word.items():\n",
    "    print(f\"{word}: {count}\")\n"
   ]
  },
  {
   "cell_type": "code",
   "execution_count": null,
   "id": "7c1e7459",
   "metadata": {},
   "outputs": [],
   "source": [
    "#command.py\n",
    "import sys\n",
    "import wordcount\n",
    "\n",
    "if len(sys.argv) != 2:\n",
    "    print(\"Usage: python command.py <filename>\")\n",
    "    sys.exit(1)\n",
    "\n",
    "filename = sys.argv[1]\n",
    "word_counts = wordcount.count_words(filename)"
   ]
  },
  {
   "cell_type": "raw",
   "id": "8c2a49ee",
   "metadata": {},
   "source": [
    "OUTPUT :\n",
    "*****************************************************************\n",
    "PS C:\\Users\\2001s\\Desktop> python command.py apple.txt\n",
    "learning: 1\n",
    "command: 1\n",
    "line: 2\n",
    "arguments: 1\n",
    "through: 1\n",
    "jupiter: 1\n",
    "and: 1"
   ]
  },
  {
   "cell_type": "markdown",
   "id": "c59b10c2",
   "metadata": {},
   "source": [
    "### 5.Program to print most frequent words in the file\n",
    "\n",
    "i)Open the text file in read mode\n",
    "\n",
    "ii) Read the file content and make it lowercase and Split the text into words\n",
    "\n",
    "iii) and iv) Sort the words by frequency in order\n",
    "\n",
    "v) Print the most frequent words"
   ]
  },
  {
   "cell_type": "code",
   "execution_count": 135,
   "id": "98484e5d",
   "metadata": {},
   "outputs": [],
   "source": [
    "#i)Open the text file in read mode\n",
    "with open('apple.txt', 'r') as file:\n",
    "    #ii) Read the file content and make it lowercase and Split the text into words\n",
    "    text = file.read().lower()\n",
    "words = text.split()"
   ]
  },
  {
   "cell_type": "code",
   "execution_count": 136,
   "id": "4088a389",
   "metadata": {},
   "outputs": [],
   "source": [
    "word_count = {}\n",
    "\n",
    "for word in words:\n",
    "    word_count[word] = word_count.get(word, 0) + 1"
   ]
  },
  {
   "cell_type": "code",
   "execution_count": 137,
   "id": "417d784e",
   "metadata": {},
   "outputs": [
    {
     "name": "stdout",
     "output_type": "stream",
     "text": [
      "content in the file is :  learning command line arguments through jupiter and line\n",
      "\n",
      "Most frequent words in the file is :\n",
      "line: 2 times\n"
     ]
    }
   ],
   "source": [
    "#iii) and iv) Sort the words by frequency in desc order to pick the first\n",
    "sorted_words = sorted(word_count.items(), key=lambda x: x[1], reverse=True)\n",
    "\n",
    "# v) Print the most frequent words \n",
    "with open('apple.txt', 'r') as file:\n",
    "    print('content in the file is : ',file.read())\n",
    "    print()\n",
    "print(\"Most frequent words in the file is :\")\n",
    "for word, frequency in sorted_words[:1]:\n",
    "    print(f\"{word}: {frequency} times\")"
   ]
  },
  {
   "cell_type": "markdown",
   "id": "b20f9bb2",
   "metadata": {},
   "source": [
    "### 6. File Processing with Command-Line Arguments"
   ]
  },
  {
   "cell_type": "code",
   "execution_count": null,
   "id": "cefc4489",
   "metadata": {},
   "outputs": [],
   "source": [
    "import sys\n",
    "\n",
    "def process_files(input_file, output_file):\n",
    "    try:\n",
    "        with open(input_file, 'r') as input_file:\n",
    "            content = input_file.read()\n",
    "\n",
    "        # content copying to the output file\n",
    "        with open(output_file, 'w') as output_file:\n",
    "            output_file.write(content)\n",
    "\n",
    "        print(\"File processing successful.\")\n",
    "\n",
    "    except FileNotFoundError:\n",
    "        print('Error: File is not found or Invalid file path')\n",
    "        sys.exit(1)\n",
    "    except PermissionError:\n",
    "        print('Error: Permission denied when writing to output file.')\n",
    "        sys.exit(1)\n",
    "    except Exception as e:\n",
    "        print('An error occurred: {}'.format(e))\n",
    "        sys.exit(1)\n",
    "\n",
    "\n",
    "# Check the correct number of CLA is given\n",
    "if len(sys.argv) != 3:\n",
    "    print(\"Argument Missing: python program.py filename1 filename2\")\n",
    "    sys.exit(1)\n",
    "\n",
    "input_file = sys.argv[1]\n",
    "output_file = sys.argv[2]\n",
    "\n",
    "process_files(input_file, output_file)\n"
   ]
  },
  {
   "cell_type": "raw",
   "id": "7c5a99f7",
   "metadata": {},
   "source": [
    "OUTPUT : CLA ouput listed below....\n",
    "\n",
    "**********************************************************************************************************\n",
    "\n",
    "PS C:\\Users\\2001s\\Desktop> python .\\file_processing.py input.txt output.txt\n",
    "File processing successful.\n",
    "\n",
    "PS C:\\Users\\2001s\\Desktop> python .\\file_processing.py input.txt\n",
    "Argument Missing: python program.py filename1 filename2\n",
    "\n",
    "PS C:\\Users\\2001s\\Desktop> python .\\file_processing.py input.txt \\Documents\\output.\n",
    "txt\n",
    "Error: File is not found or Invalid file path\n"
   ]
  }
 ],
 "metadata": {
  "kernelspec": {
   "display_name": "Python 3 (ipykernel)",
   "language": "python",
   "name": "python3"
  },
  "language_info": {
   "codemirror_mode": {
    "name": "ipython",
    "version": 3
   },
   "file_extension": ".py",
   "mimetype": "text/x-python",
   "name": "python",
   "nbconvert_exporter": "python",
   "pygments_lexer": "ipython3",
   "version": "3.11.4"
  }
 },
 "nbformat": 4,
 "nbformat_minor": 5
}
