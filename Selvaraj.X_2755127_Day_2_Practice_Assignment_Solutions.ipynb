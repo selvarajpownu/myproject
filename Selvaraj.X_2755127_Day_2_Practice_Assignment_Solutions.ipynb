{
 "cells": [
  {
   "cell_type": "markdown",
   "id": "ed404c37",
   "metadata": {},
   "source": [
    "# Functions"
   ]
  },
  {
   "cell_type": "markdown",
   "id": "9033435d",
   "metadata": {},
   "source": [
    "### 1. Function to list even and odd numbers in a list"
   ]
  },
  {
   "cell_type": "code",
   "execution_count": 8,
   "id": "fd376fa5",
   "metadata": {},
   "outputs": [
    {
     "name": "stdout",
     "output_type": "stream",
     "text": [
      "Even number in the List : [2, 4, 6, 10]\n",
      "Odd number in the List : [7, 5, 9]\n"
     ]
    }
   ],
   "source": [
    "def even_odd_list(numbers):\n",
    "    #List comphersion\n",
    "    even_numbers = [num for num in numbers if num % 2 == 0]\n",
    "    print('Even number in the List :', even_numbers)\n",
    "    odd_numbers = [num for num in numbers if num % 2 != 0]\n",
    "    print('Odd number in the List :', odd_numbers)\n",
    "lst = [2,4,7,5,6,9,10]\n",
    "even_odd_list(lst)"
   ]
  },
  {
   "cell_type": "markdown",
   "id": "4ca4cf6d",
   "metadata": {},
   "source": [
    "### 2. Print number of even integers in given list"
   ]
  },
  {
   "cell_type": "code",
   "execution_count": 21,
   "id": "7ffb8c61",
   "metadata": {},
   "outputs": [
    {
     "name": "stdout",
     "output_type": "stream",
     "text": [
      "Enter number of elements2\n",
      "6\n",
      "7\n",
      "count of even number in the given list 1\n"
     ]
    }
   ],
   "source": [
    "def count_even(numbers):\n",
    "    count = 0\n",
    "    for num in numbers:\n",
    "        if num%2 == 0:\n",
    "            count+=1\n",
    "    return print('count of even number in the given list', count)\n",
    "\n",
    "lst = []\n",
    "n = int(input('Enter number of elements'))\n",
    "for i in range(0,n):\n",
    "    ele =int(input())\n",
    "    lst.append(ele)\n",
    "\n",
    "count_even(lst)"
   ]
  },
  {
   "cell_type": "code",
   "execution_count": 28,
   "id": "7a38ed58",
   "metadata": {},
   "outputs": [
    {
     "name": "stdout",
     "output_type": "stream",
     "text": [
      "Enter Positive integer : \n",
      "7\n",
      "22\n",
      "11.0\n",
      "34.0\n",
      "17.0\n",
      "52.0\n",
      "26.0\n",
      "13.0\n",
      "40.0\n",
      "20.0\n",
      "10.0\n",
      "5.0\n",
      "16.0\n",
      "8.0\n",
      "4.0\n",
      "2.0\n",
      "1.0\n",
      "1\n"
     ]
    }
   ],
   "source": [
    "def positive_int(n):\n",
    "    while n!=1:\n",
    "        if n%2 == 0:\n",
    "            n = n/2\n",
    "            print(n)\n",
    "        else:\n",
    "            n=n*3 + 1\n",
    "            print(n)\n",
    "    print('1')\n",
    "\n",
    "n=int(input('Enter Positive integer : \\n'))\n",
    "positive_int(n)"
   ]
  },
  {
   "cell_type": "markdown",
   "id": "a2fae2a8",
   "metadata": {},
   "source": [
    "### 4. Sum of multiples of 3 or 5 below 500"
   ]
  },
  {
   "cell_type": "code",
   "execution_count": 31,
   "id": "e746a10e",
   "metadata": {},
   "outputs": [
    {
     "name": "stdout",
     "output_type": "stream",
     "text": [
      "Sum of multiples of 3 or 5 below 500 is : 57918\n"
     ]
    }
   ],
   "source": [
    "def sum_multiples():\n",
    "    sumof =0\n",
    "    for i in range(1,500):\n",
    "        if i%3==0 or i%5 ==0 :\n",
    "            sumof+=i\n",
    "    return print('Sum of multiples of 3 or 5 below 500 is :', sumof)\n",
    "sum_multiples()"
   ]
  },
  {
   "cell_type": "markdown",
   "id": "de01755a",
   "metadata": {},
   "source": [
    "### 5. First n prime number"
   ]
  },
  {
   "cell_type": "code",
   "execution_count": 50,
   "id": "a1ee197a",
   "metadata": {},
   "outputs": [
    {
     "name": "stdout",
     "output_type": "stream",
     "text": [
      "2\n",
      "3\n",
      "5\n",
      "7\n"
     ]
    }
   ],
   "source": [
    "def prime_number(n):\n",
    "    for i in range(2,n+1):\n",
    "        count =0\n",
    "        for j in range(1,i+1):\n",
    "            if i%j==0:\n",
    "                count = count +1\n",
    "        if count==2:\n",
    "            print(i)\n",
    "\n",
    "prime_number(7)"
   ]
  },
  {
   "cell_type": "markdown",
   "id": "ff5b2720",
   "metadata": {},
   "source": [
    "### 6. Compute Matrix Muliplication"
   ]
  },
  {
   "cell_type": "code",
   "execution_count": 70,
   "id": "607262a1",
   "metadata": {},
   "outputs": [
    {
     "name": "stdout",
     "output_type": "stream",
     "text": [
      "36 41 \n",
      "64 73 \n"
     ]
    }
   ],
   "source": [
    "def matrix_multiply():\n",
    "    a = [[2,3],[4,5]]\n",
    "    b = [[6,7],[8,9]]\n",
    "    c = [[0, 0], [0, 0]]\n",
    "    \n",
    "    for i in range(len(a)):\n",
    "        for j in range(len(a)):\n",
    "            c[i][j] =0\n",
    "            for k in range(len(a)):\n",
    "                c[i][j]+= a[i][k] * b[k][j]\n",
    "            print(c[i][j],end=' ')\n",
    "        print()\n",
    "\n",
    "matrix_multiply()"
   ]
  },
  {
   "cell_type": "markdown",
   "id": "83adf0e3",
   "metadata": {},
   "source": [
    "### 7. Vowels in String"
   ]
  },
  {
   "cell_type": "code",
   "execution_count": 72,
   "id": "424cff1c",
   "metadata": {},
   "outputs": [
    {
     "data": {
      "text/plain": [
       "3"
      ]
     },
     "execution_count": 72,
     "metadata": {},
     "output_type": "execute_result"
    }
   ],
   "source": [
    "def vowels():\n",
    "    string ='selvaraj'\n",
    "    vowel = 'AEIOUaeiou'\n",
    "    count =0\n",
    "    for char in string:\n",
    "        if char in vowel:\n",
    "            count+=1\n",
    "    return count\n",
    "vowels()"
   ]
  },
  {
   "cell_type": "markdown",
   "id": "5604f809",
   "metadata": {},
   "source": [
    "### 8. Factorial using Recursive Function"
   ]
  },
  {
   "cell_type": "code",
   "execution_count": 77,
   "id": "5f283f51",
   "metadata": {},
   "outputs": [
    {
     "name": "stdout",
     "output_type": "stream",
     "text": [
      "Enter number : \n",
      "4\n"
     ]
    },
    {
     "data": {
      "text/plain": [
       "24"
      ]
     },
     "execution_count": 77,
     "metadata": {},
     "output_type": "execute_result"
    }
   ],
   "source": [
    "def fact(n):\n",
    "    if n == 0:\n",
    "        return 1\n",
    "    else:\n",
    "        return n*fact(n-1)\n",
    "n=int(input('Enter number : \\n'))\n",
    "fact(n)\n"
   ]
  },
  {
   "cell_type": "markdown",
   "id": "de320ed2",
   "metadata": {},
   "source": [
    "### 9. Fibonacci series"
   ]
  },
  {
   "cell_type": "code",
   "execution_count": 85,
   "id": "26e89ea0",
   "metadata": {},
   "outputs": [
    {
     "name": "stdout",
     "output_type": "stream",
     "text": [
      "Enter number : 6\n",
      "0\n",
      "1\n",
      "1\n",
      "2\n",
      "3\n",
      "5\n"
     ]
    }
   ],
   "source": [
    "def fibonacci(n):\n",
    "    a=0\n",
    "    b=1\n",
    "    c=0\n",
    "    print(a)\n",
    "    print(b)\n",
    "    for i in range(3,n+1):\n",
    "        c=a+b\n",
    "        a=b\n",
    "        b=c\n",
    "        print(c)\n",
    "        \n",
    "n=int(input('Enter number : '))\n",
    "fibonacci(n)"
   ]
  },
  {
   "cell_type": "markdown",
   "id": "b2be4d6b",
   "metadata": {},
   "source": [
    "### 10. Reverse an integer in reverse order using without inbuild function "
   ]
  },
  {
   "cell_type": "code",
   "execution_count": 97,
   "id": "b10840a1",
   "metadata": {},
   "outputs": [
    {
     "data": {
      "text/plain": [
       "54321"
      ]
     },
     "execution_count": 97,
     "metadata": {},
     "output_type": "execute_result"
    }
   ],
   "source": [
    "def reverse():\n",
    "    n = 12345\n",
    "    sumof =0\n",
    "    while n!=0:\n",
    "        remainder = n%10\n",
    "        sumof = sumof *10 + remainder\n",
    "        n=n//10\n",
    "    return sumof\n",
    "    \n",
    "    \n",
    "reverse()"
   ]
  },
  {
   "cell_type": "markdown",
   "id": "e89d8746",
   "metadata": {},
   "source": [
    "### 11.Display all integer within range of 200-300 whose sum of digit is even number"
   ]
  },
  {
   "cell_type": "code",
   "execution_count": 101,
   "id": "a45c82c9",
   "metadata": {},
   "outputs": [
    {
     "data": {
      "text/plain": [
       "12450"
      ]
     },
     "execution_count": 101,
     "metadata": {},
     "output_type": "execute_result"
    }
   ],
   "source": [
    "def sumof_digit():\n",
    "    sumof =0\n",
    "    for i in range(200,300):\n",
    "        if(i%2==0):\n",
    "            sumof+=i\n",
    "    return sumof\n",
    "sumof_digit()"
   ]
  },
  {
   "cell_type": "markdown",
   "id": "6c63dadf",
   "metadata": {},
   "source": [
    "### 12. Number of digits and the sum of digits for a given integer "
   ]
  },
  {
   "cell_type": "code",
   "execution_count": 3,
   "id": "033783e6",
   "metadata": {},
   "outputs": [
    {
     "name": "stdout",
     "output_type": "stream",
     "text": [
      "Count of digit is 5 and sum of digit is 28\n"
     ]
    }
   ],
   "source": [
    "def digits_and_sum(number):\n",
    "    num_str = str(number)# Convert the number to a string\n",
    "    num_digits = len(num_str)\n",
    "    digit_sum = sum(int(digit) for digit in num_str)    \n",
    "    return print('Count of digit is {} and sum of digit is {}'.format(num_digits, digit_sum))\n",
    "\n",
    "digits_and_sum(78562)\n"
   ]
  },
  {
   "cell_type": "markdown",
   "id": "f39bc78f",
   "metadata": {},
   "source": [
    "#### 13.Write functions called is _sorted that takes a list as a parameter and return True if the list is sorted in ascending order and False otherwise and has_ duplicates that takes a list and returns True if there is any element that appears more than once. It should not modify the original list."
   ]
  },
  {
   "cell_type": "code",
   "execution_count": 37,
   "id": "0d6e88ae",
   "metadata": {},
   "outputs": [
    {
     "name": "stdout",
     "output_type": "stream",
     "text": [
      "False\n",
      "True\n"
     ]
    }
   ],
   "source": [
    "def is_sorted():\n",
    "    lst = [1, 2, 7, 3, 4, 5]\n",
    "    lst.sort()\n",
    "    if lst == lst.sort():\n",
    "        return True\n",
    "    else:\n",
    "        return False\n",
    "\n",
    "def has_duplicates():\n",
    "    lst = [1, 2, 7, 7, 4, 5]\n",
    "    seen = set()\n",
    "    for n in lst:\n",
    "        if n in seen:\n",
    "            return True\n",
    "        seen.add(n)\n",
    "    return False\n",
    "    \n",
    "print(is_sorted())\n",
    "print(has_duplicates())"
   ]
  },
  {
   "cell_type": "markdown",
   "id": "6521bae9",
   "metadata": {},
   "source": [
    "#### 14. Write functions called nested _sum that takes a list of integers and adds up the elements from all the nested lists and cumsum that takes a list of numbers and returns the cumulative sum; that is, a new list where the ith element is the sum of the first i + 1 elements from the original list."
   ]
  },
  {
   "cell_type": "code",
   "execution_count": 40,
   "id": "0f3aef0a",
   "metadata": {},
   "outputs": [
    {
     "name": "stdout",
     "output_type": "stream",
     "text": [
      "43\n",
      "[11, 23, 55, 59, 61]\n"
     ]
    }
   ],
   "source": [
    "def nested_sum(nested_list):\n",
    "    total = 0\n",
    "    for sublist in nested_list:\n",
    "        if isinstance(sublist, list):\n",
    "            total += nested_sum(sublist)\n",
    "        else:\n",
    "            total += sublist\n",
    "    return total\n",
    "\n",
    "def cumsum(numbers):\n",
    "    cumulative_sum = 0\n",
    "    result = []\n",
    "    for num in numbers:\n",
    "        cumulative_sum += num\n",
    "        result.append(cumulative_sum)\n",
    "    return result\n",
    "\n",
    "nested_list = [10, [20, 13]]\n",
    "print(nested_sum(nested_list)) \n",
    "\n",
    "numbers = [11, 12, 32, 4, 2]\n",
    "print(cumsum(numbers))\n"
   ]
  },
  {
   "cell_type": "code",
   "execution_count": null,
   "id": "51ff0e9c",
   "metadata": {},
   "outputs": [],
   "source": []
  }
 ],
 "metadata": {
  "kernelspec": {
   "display_name": "Python 3 (ipykernel)",
   "language": "python",
   "name": "python3"
  },
  "language_info": {
   "codemirror_mode": {
    "name": "ipython",
    "version": 3
   },
   "file_extension": ".py",
   "mimetype": "text/x-python",
   "name": "python",
   "nbconvert_exporter": "python",
   "pygments_lexer": "ipython3",
   "version": "3.11.4"
  }
 },
 "nbformat": 4,
 "nbformat_minor": 5
}
