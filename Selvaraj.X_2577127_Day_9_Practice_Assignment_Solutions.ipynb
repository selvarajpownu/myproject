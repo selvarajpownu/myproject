{
 "cells": [
  {
   "cell_type": "markdown",
   "id": "7f803527",
   "metadata": {},
   "source": [
    "# NUMPY Practice assignment mini case study"
   ]
  },
  {
   "cell_type": "code",
   "execution_count": 1,
   "id": "bab29255",
   "metadata": {},
   "outputs": [],
   "source": [
    "import numpy as np\n",
    "\n",
    "np_olympic_country = np.array(['GBR', 'China', 'RUS', 'US', 'KOR', 'JPN', 'GER'])\n",
    "np_olympic_country_gold = np.array([29, 38, 24, 46, 13, 7, 11])\n",
    "np_olympic_country_silver = np.array([17, 28, 25, 28, 8, 14, 11])\n",
    "np_olympic_country_bronze = np.array([19, 22, 32, 29, 7, 17, 14])\n"
   ]
  },
  {
   "cell_type": "code",
   "execution_count": 2,
   "id": "c51a3296",
   "metadata": {},
   "outputs": [
    {
     "data": {
      "text/plain": [
       "array(['GBR', 'China', 'RUS', 'US', 'KOR', 'JPN', 'GER'], dtype='<U5')"
      ]
     },
     "execution_count": 2,
     "metadata": {},
     "output_type": "execute_result"
    }
   ],
   "source": [
    "np_olympic_country"
   ]
  },
  {
   "cell_type": "markdown",
   "id": "7b288b0f",
   "metadata": {},
   "source": [
    "### 1. Index of maximum gold country"
   ]
  },
  {
   "cell_type": "code",
   "execution_count": 7,
   "id": "746eaa67",
   "metadata": {},
   "outputs": [
    {
     "name": "stdout",
     "output_type": "stream",
     "text": [
      "Index of maximum gold country :  3\n"
     ]
    }
   ],
   "source": [
    "max_country_gold = np_olympic_country_gold.argmax()\n",
    "print('Index of maximum gold country : ',max_country_gold)"
   ]
  },
  {
   "cell_type": "markdown",
   "id": "89e2e420",
   "metadata": {},
   "source": [
    "### 2. Country With maximum gold"
   ]
  },
  {
   "cell_type": "code",
   "execution_count": 8,
   "id": "7be3734c",
   "metadata": {},
   "outputs": [
    {
     "name": "stdout",
     "output_type": "stream",
     "text": [
      " Country With maximum gold is : US\n"
     ]
    }
   ],
   "source": [
    "print(' Country With maximum gold is :', np_olympic_country[max_country_gold])"
   ]
  },
  {
   "cell_type": "markdown",
   "id": "5ffb2c96",
   "metadata": {},
   "source": [
    "### 3. Country with gold more than 20 Medals"
   ]
  },
  {
   "cell_type": "code",
   "execution_count": 11,
   "id": "55d203ab",
   "metadata": {},
   "outputs": [
    {
     "name": "stdout",
     "output_type": "stream",
     "text": [
      "Country with gold more than 20 Medals..\n",
      "\n",
      "GBR\n",
      "China\n",
      "RUS\n",
      "US\n"
     ]
    }
   ],
   "source": [
    "n = len(np_olympic_country_gold)\n",
    "print('Country with gold more than 20 Medals..\\n')\n",
    "for i in range(0,n):\n",
    "    if np_olympic_country_gold[i] > 20:\n",
    "        print(np_olympic_country[i])\n",
    "        "
   ]
  },
  {
   "cell_type": "markdown",
   "id": "34591c25",
   "metadata": {},
   "source": [
    "### 4. Evaluate Dataset and print medals"
   ]
  },
  {
   "cell_type": "code",
   "execution_count": 13,
   "id": "4a0a6590",
   "metadata": {},
   "outputs": [
    {
     "name": "stdout",
     "output_type": "stream",
     "text": [
      "Country with gold Medals..\n",
      "\n",
      "GBR : 29\n",
      "China : 38\n",
      "RUS : 24\n",
      "US : 46\n",
      "KOR : 13\n",
      "JPN : 7\n",
      "GER : 11\n"
     ]
    }
   ],
   "source": [
    "# 1.Country with gold Medals\n",
    "n = len(np_olympic_country_gold)\n",
    "print('Country with gold Medals..\\n')\n",
    "for i in range(0,n):\n",
    "    print(f'{np_olympic_country[i]} : {np_olympic_country_gold[i]}')"
   ]
  },
  {
   "cell_type": "code",
   "execution_count": 21,
   "id": "97fec5d1",
   "metadata": {},
   "outputs": [
    {
     "name": "stdout",
     "output_type": "stream",
     "text": [
      "Country with Total Medals..\n",
      "\n",
      "GBR   : 65\n",
      "China   : 88\n",
      "RUS   : 81\n",
      "US   : 103\n",
      "KOR   : 28\n",
      "JPN   : 38\n",
      "GER   : 36\n"
     ]
    }
   ],
   "source": [
    "#2. total Medals of each country\n",
    "n = len(np_olympic_country_gold)\n",
    "print('Country with Total Medals..\\n')\n",
    "total_medals =()\n",
    "for i in range(0,n):\n",
    "    total_medals = np_olympic_country_bronze[i] + np_olympic_country_gold[i]+np_olympic_country_silver[i]\n",
    "    print(f'{np_olympic_country[i]}   : {total_medals}')"
   ]
  },
  {
   "cell_type": "markdown",
   "id": "939bcb5a",
   "metadata": {},
   "source": [
    "# Numpy Practice Assignments"
   ]
  },
  {
   "cell_type": "markdown",
   "id": "1639d0fb",
   "metadata": {},
   "source": [
    "### 1. 3 X 3 X 3 array matrix using random values"
   ]
  },
  {
   "cell_type": "code",
   "execution_count": 29,
   "id": "a488df9d",
   "metadata": {},
   "outputs": [],
   "source": [
    "ran_val = np.random.random((3,3,3))"
   ]
  },
  {
   "cell_type": "code",
   "execution_count": 30,
   "id": "0a62bf66",
   "metadata": {},
   "outputs": [
    {
     "name": "stdout",
     "output_type": "stream",
     "text": [
      "[[[0.38772794 0.80214186 0.51464898]\n",
      "  [0.71780847 0.93576473 0.46475414]\n",
      "  [0.9084361  0.37546986 0.01752809]]\n",
      "\n",
      " [[0.93686563 0.67510835 0.69936653]\n",
      "  [0.41300084 0.25770247 0.2150205 ]\n",
      "  [0.41030351 0.23096799 0.05952148]]\n",
      "\n",
      " [[0.94429416 0.67076369 0.37084775]\n",
      "  [0.24644638 0.54675841 0.30284696]\n",
      "  [0.97816598 0.85364414 0.57567883]]]\n"
     ]
    }
   ],
   "source": [
    "print(ran_val)"
   ]
  },
  {
   "cell_type": "markdown",
   "id": "d21c8b28",
   "metadata": {},
   "source": [
    "### 2. 5 X 5 matrix with 1 2 3 4 values below diagonals"
   ]
  },
  {
   "cell_type": "code",
   "execution_count": 32,
   "id": "1296d29d",
   "metadata": {},
   "outputs": [
    {
     "data": {
      "text/plain": [
       "array([[1., 0., 0., 0., 0.],\n",
       "       [0., 1., 0., 0., 0.],\n",
       "       [0., 0., 1., 0., 0.],\n",
       "       [0., 0., 0., 1., 0.],\n",
       "       [0., 0., 0., 0., 1.]])"
      ]
     },
     "execution_count": 32,
     "metadata": {},
     "output_type": "execute_result"
    }
   ],
   "source": [
    "d = np.eye(5)\n",
    "d"
   ]
  },
  {
   "cell_type": "code",
   "execution_count": 38,
   "id": "0c08bf5e",
   "metadata": {},
   "outputs": [],
   "source": [
    "for i in range(1,len(d)):\n",
    "    for j in range(0,i):\n",
    "        d[i][j] = j+1"
   ]
  },
  {
   "cell_type": "code",
   "execution_count": 39,
   "id": "6892768a",
   "metadata": {},
   "outputs": [
    {
     "data": {
      "text/plain": [
       "array([[1., 0., 0., 0., 0.],\n",
       "       [1., 1., 0., 0., 0.],\n",
       "       [1., 2., 1., 0., 0.],\n",
       "       [1., 2., 3., 1., 0.],\n",
       "       [1., 2., 3., 4., 1.]])"
      ]
     },
     "execution_count": 39,
     "metadata": {},
     "output_type": "execute_result"
    }
   ],
   "source": [
    "d\n"
   ]
  },
  {
   "cell_type": "markdown",
   "id": "3c76a3cb",
   "metadata": {},
   "source": [
    "### 3. 8X8 matrix with checkboard pattern"
   ]
  },
  {
   "cell_type": "code",
   "execution_count": 44,
   "id": "be5eee7a",
   "metadata": {},
   "outputs": [
    {
     "name": "stdout",
     "output_type": "stream",
     "text": [
      "[[0 1 0 1 0 1 0 1]\n",
      " [1 0 1 0 1 0 1 0]\n",
      " [0 1 0 1 0 1 0 1]\n",
      " [1 0 1 0 1 0 1 0]\n",
      " [0 1 0 1 0 1 0 1]\n",
      " [1 0 1 0 1 0 1 0]\n",
      " [0 1 0 1 0 1 0 1]\n",
      " [1 0 1 0 1 0 1 0]]\n"
     ]
    }
   ],
   "source": [
    "checkerboard = np.zeros((8, 8), dtype=int)\n",
    "\n",
    "\n",
    "checkerboard[1::2, ::2] = 1\n",
    "checkerboard[::2, 1::2] = 1\n",
    "\n",
    "print(checkerboard)"
   ]
  },
  {
   "cell_type": "markdown",
   "id": "5f862528",
   "metadata": {},
   "source": [
    "### 4. Normalize the 5x5 matrix using random"
   ]
  },
  {
   "cell_type": "code",
   "execution_count": 46,
   "id": "83a2df0e",
   "metadata": {},
   "outputs": [
    {
     "name": "stdout",
     "output_type": "stream",
     "text": [
      "Original Matrix:\n",
      "[[0.27079529 0.36996627 0.58743581 0.35328403 0.00140357]\n",
      " [0.02823023 0.8240139  0.50859168 0.23048022 0.91375174]\n",
      " [0.44185842 0.44580931 0.85362438 0.62020952 0.72323758]\n",
      " [0.10660695 0.90642345 0.64903037 0.64015627 0.32024658]\n",
      " [0.81580153 0.50891772 0.21317691 0.51722119 0.57616378]]\n",
      "\n",
      "Normalized Matrix:\n",
      "[[0.29527293 0.40397155 0.64233399 0.3856866  0.        ]\n",
      " [0.02940397 0.9016408  0.55591509 0.25108468 1.        ]\n",
      " [0.48277057 0.48710103 0.93409604 0.67825636 0.79118262]\n",
      " [0.11531055 0.99196766 0.7098461  0.70011945 0.34947514]\n",
      " [0.89263944 0.55627244 0.23211899 0.56537365 0.62997902]]\n"
     ]
    }
   ],
   "source": [
    "# Create a random 5x5 matrix\n",
    "random_matrix = np.random.rand(5, 5)\n",
    "\n",
    "# Find the minimum and maximum values in the matrix\n",
    "min_value = random_matrix.min()\n",
    "max_value = random_matrix.max()\n",
    "\n",
    "# Normalize the matrix to range [0, 1]\n",
    "normalized_matrix = (random_matrix - min_value) / (max_value - min_value)\n",
    "\n",
    "print(\"Original Matrix:\")\n",
    "print(random_matrix)\n",
    "\n",
    "print(\"\\nNormalized Matrix:\")\n",
    "print(normalized_matrix)\n"
   ]
  },
  {
   "cell_type": "markdown",
   "id": "20f09fcc",
   "metadata": {},
   "source": [
    "### 5. find common values between two arrays"
   ]
  },
  {
   "cell_type": "code",
   "execution_count": 48,
   "id": "1afe5c24",
   "metadata": {},
   "outputs": [
    {
     "name": "stdout",
     "output_type": "stream",
     "text": [
      "Common values: [ 4 15]\n"
     ]
    }
   ],
   "source": [
    "array1 = np.array([12, 2, 3, 4, 15])\n",
    "array2 = np.array([33, 4, 15, 6, 7])\n",
    "\n",
    "common_values = np.intersect1d(array1, array2)\n",
    "\n",
    "print(\"Common values:\", common_values)\n"
   ]
  },
  {
   "cell_type": "markdown",
   "id": "a3af160d",
   "metadata": {},
   "source": [
    "### 6. get the dates of yesterday, today, and tomorrow"
   ]
  },
  {
   "cell_type": "code",
   "execution_count": 50,
   "id": "1caeedab",
   "metadata": {},
   "outputs": [
    {
     "name": "stdout",
     "output_type": "stream",
     "text": [
      "Yesterday: 2023-09-20\n",
      "Today: 2023-09-21\n",
      "Tomorrow: 2023-09-22\n"
     ]
    }
   ],
   "source": [
    "from datetime import datetime, timedelta\n",
    "today = datetime.now()\n",
    "\n",
    "# Calculate yesterday and tomorrow\n",
    "yesterday = today - timedelta(days=1)\n",
    "tomorrow = today + timedelta(days=1)\n",
    "\n",
    "print(\"Yesterday:\", yesterday.strftime('%Y-%m-%d'))\n",
    "print(\"Today:\", today.strftime('%Y-%m-%d'))\n",
    "print(\"Tomorrow:\", tomorrow.strftime('%Y-%m-%d'))\n"
   ]
  },
  {
   "cell_type": "markdown",
   "id": "d865b37f",
   "metadata": {},
   "source": [
    "### 7. Consider two random arrays A and B, check if they are equal"
   ]
  },
  {
   "cell_type": "code",
   "execution_count": 61,
   "id": "b4f869d4",
   "metadata": {},
   "outputs": [
    {
     "name": "stdout",
     "output_type": "stream",
     "text": [
      "value of Array A :[0.5415344  0.60971082 0.25525986 0.48505614 0.7698278 ]  \n",
      "\n",
      "Value of Array B : [0.64517698 0.07615852 0.21985817 0.40970614 0.08551208] \n",
      "\n",
      "Arrays A and B are not equal.\n"
     ]
    }
   ],
   "source": [
    "A = np.random.rand(5)\n",
    "B = np.random.rand(5)\n",
    "print(f'value of Array A :{A}  \\n')\n",
    "print(f'Value of Array B : {B} \\n')\n",
    "are_equal = np.array_equal(A, B)\n",
    "\n",
    "if are_equal:\n",
    "    print(\"Arrays A and B are equal.\")\n",
    "else:\n",
    "    print(\"Arrays A and B are not equal.\")\n"
   ]
  },
  {
   "cell_type": "markdown",
   "id": "b73c43ea",
   "metadata": {},
   "source": [
    "### 8. Create random vector of size 10 and replace the maximum value by 0"
   ]
  },
  {
   "cell_type": "code",
   "execution_count": 57,
   "id": "40cac7d8",
   "metadata": {},
   "outputs": [
    {
     "name": "stdout",
     "output_type": "stream",
     "text": [
      "Random vector: \n",
      " [0.83976428 0.58785742 0.29192122 0.40766973 0.52883836 0.04804868\n",
      " 0.76926908 0.14643853 0.56822364 0.21794787]\n",
      "\n",
      "Random vector with the maximum value: \n",
      " 0.8397642796512598\n",
      "\n",
      "Random vector with the maximum value replaced with 0 : \n",
      " [0.         0.58785742 0.29192122 0.40766973 0.52883836 0.04804868\n",
      " 0.76926908 0.14643853 0.56822364 0.21794787]\n"
     ]
    }
   ],
   "source": [
    "random_vector = np.random.random(10)\n",
    "\n",
    "# Find the index of the maximum value\n",
    "max_index = np.argmax(random_vector)\n",
    "print(\"Random vector: \\n\", random_vector)\n",
    "print()\n",
    "print(\"Random vector with the maximum value: \\n\", random_vector[max_index])\n",
    "random_vector[max_index] = 0\n",
    "print()\n",
    "print(\"Random vector with the maximum value replaced with 0 : \\n\", random_vector)\n"
   ]
  },
  {
   "cell_type": "markdown",
   "id": "1ad14181",
   "metadata": {},
   "source": [
    "### 9. print all the values of an array"
   ]
  },
  {
   "cell_type": "code",
   "execution_count": 62,
   "id": "c8b2484f",
   "metadata": {},
   "outputs": [
    {
     "name": "stdout",
     "output_type": "stream",
     "text": [
      "[190   3   2  13  45 367  89]\n"
     ]
    }
   ],
   "source": [
    "my_array = np.array([190,3,2,13,45,367,89])\n",
    "\n",
    "print(my_array)"
   ]
  },
  {
   "cell_type": "markdown",
   "id": "d6253485",
   "metadata": {},
   "source": [
    "### 10. Subtract the mean of each row of a matrix"
   ]
  },
  {
   "cell_type": "code",
   "execution_count": 65,
   "id": "74e44f17",
   "metadata": {},
   "outputs": [
    {
     "name": "stdout",
     "output_type": "stream",
     "text": [
      "Mean of each rows: [0.51108025 0.64141336 0.4211645 ]\n",
      "\n",
      "Original Matrix:\n",
      "[[0.07945305 0.98877767 0.08450956 0.89158074]\n",
      " [0.25174907 0.77680577 0.9558407  0.58125788]\n",
      " [0.23609981 0.87316508 0.06689923 0.50849387]]\n",
      "\n",
      "Matrix with row means subtracted:\n",
      "[[-0.43162721  0.47769742 -0.42657069  0.38050049]\n",
      " [-0.38966429  0.13539242  0.31442734 -0.06015547]\n",
      " [-0.18506469  0.45200058 -0.35426527  0.08732937]]\n"
     ]
    }
   ],
   "source": [
    "random_matrix = np.random.rand(3, 4)\n",
    "\n",
    "row_means = np.mean(random_matrix, axis=1)\n",
    "print('Mean of each rows:',row_means)\n",
    "print()\n",
    "normalized_matrix = random_matrix - row_means[:, np.newaxis]\n",
    "\n",
    "print(\"Original Matrix:\")\n",
    "print(random_matrix)\n",
    "print()\n",
    "print(\"Matrix with row means subtracted:\")\n",
    "print(normalized_matrix)"
   ]
  },
  {
   "cell_type": "markdown",
   "id": "a4dcc1c0",
   "metadata": {},
   "source": [
    "### 11.Consider a given vector, how to add 1 to each element indexed by a second vector (be careful with repeated indices)"
   ]
  },
  {
   "cell_type": "code",
   "execution_count": 79,
   "id": "a93c590a",
   "metadata": {},
   "outputs": [
    {
     "name": "stdout",
     "output_type": "stream",
     "text": [
      "Modified Vector:\n",
      "[2 3 3 5 6]\n"
     ]
    }
   ],
   "source": [
    "vector = np.array([1, 2, 3, 4, 5])\n",
    "\n",
    "# Indices to add 1 to\n",
    "indices_to_add = np.array([0, 1, 3, 4])\n",
    "\n",
    "# Add 1 to the specified elements\n",
    "vector[indices_to_add] += 1\n",
    "\n",
    "print(\"Modified Vector:\")\n",
    "print(vector)"
   ]
  },
  {
   "cell_type": "markdown",
   "id": "3682fe3b",
   "metadata": {},
   "source": [
    "### 12.get the diagonal of a dot product"
   ]
  },
  {
   "cell_type": "code",
   "execution_count": 80,
   "id": "5a70b5ab",
   "metadata": {},
   "outputs": [
    {
     "name": "stdout",
     "output_type": "stream",
     "text": [
      "Matrix A:\n",
      "[[1 2]\n",
      " [3 4]]\n",
      "\n",
      "Matrix B:\n",
      "[[5 6]\n",
      " [7 8]]\n",
      "\n",
      "Dot Product:\n",
      "[[19 22]\n",
      " [43 50]]\n",
      "\n",
      "Diagonal of Dot Product:\n",
      "[19 50]\n"
     ]
    }
   ],
   "source": [
    "A = np.array([[1, 2],\n",
    "              [3, 4]])\n",
    "\n",
    "B = np.array([[5, 6],\n",
    "              [7, 8]])\n",
    "\n",
    "\n",
    "dot_product = np.dot(A, B)\n",
    "\n",
    "diagonal = np.diag(dot_product) # Get the diagonal elements\n",
    "\n",
    "print(\"Matrix A:\")\n",
    "print(A)\n",
    "\n",
    "print(\"\\nMatrix B:\")\n",
    "print(B)\n",
    "\n",
    "print(\"\\nDot Product:\")\n",
    "print(dot_product)\n",
    "\n",
    "print(\"\\nDiagonal of Dot Product:\")\n",
    "print(diagonal)"
   ]
  },
  {
   "cell_type": "markdown",
   "id": "c12eea2d",
   "metadata": {},
   "source": [
    "### 13. find the most frequent value in an array"
   ]
  },
  {
   "cell_type": "code",
   "execution_count": 67,
   "id": "11c72b79",
   "metadata": {},
   "outputs": [
    {
     "name": "stdout",
     "output_type": "stream",
     "text": [
      "Array:\n",
      "[6 2 3 9 1 6 9 8 8 3 8 8 6 0 8 2 8 7 8 2 0 5 8 8 7 5 9 5 7 7 9 8 6 9 1 8 7\n",
      " 4 2 7 8 6 1 3 3 4 4 9 1 7] \n",
      "\n",
      "Most frequent value: 8\n"
     ]
    }
   ],
   "source": [
    "x = np.random.randint(0, 10, 50)\n",
    "\n",
    "most_frequent_value = np.bincount(x).argmax()\n",
    "\n",
    "print(\"Array:\")\n",
    "print(x,'\\n')\n",
    "print(\"Most frequent value:\", most_frequent_value)"
   ]
  },
  {
   "cell_type": "markdown",
   "id": "969d25ea",
   "metadata": {},
   "source": [
    "### 14. get the n largest values of an array"
   ]
  },
  {
   "cell_type": "code",
   "execution_count": 70,
   "id": "5b6aae64",
   "metadata": {},
   "outputs": [
    {
     "name": "stdout",
     "output_type": "stream",
     "text": [
      "Enter the n value between 1 and 9:4\n",
      "Array:\n",
      "[ 45   2  -9  56 345  11   7  89  98]\n",
      "4 Largest Values in Array : [ 56  89  98 345]\n"
     ]
    }
   ],
   "source": [
    "arr = np.array([45,2,-9,56,345,11,7,89,98])\n",
    "\n",
    "n = int(input(f'Enter the n value between 1 and {len(arr)}:'))\n",
    "\n",
    "n_largest_values = np.partition(arr, -n)[-n:]\n",
    "\n",
    "print(\"Array:\")\n",
    "print(arr)\n",
    "print(f\"{n} Largest Values in Array :\", n_largest_values)"
   ]
  },
  {
   "cell_type": "markdown",
   "id": "0663038f",
   "metadata": {},
   "source": [
    "### 15 .create a record array from a regular array"
   ]
  },
  {
   "cell_type": "code",
   "execution_count": 72,
   "id": "fbfc6c9a",
   "metadata": {},
   "outputs": [
    {
     "name": "stdout",
     "output_type": "stream",
     "text": [
      "Regular Array:\n",
      "[('Selva', 22) ('Raj', 79)]\n",
      "\n",
      "Record Array:\n",
      "(('Selva', 22), ('Raj', 79))\n"
     ]
    }
   ],
   "source": [
    "regular_array = np.array([(\"Selva\", 22), (\"Raj\", 79)], dtype=[('name', 'U10'), ('age', int)])\n",
    "\n",
    "record_array = np.rec.fromarrays(regular_array.T, names='name,age')\n",
    "\n",
    "print(\"Regular Array:\")\n",
    "print(regular_array)\n",
    "print()\n",
    "print(\"Record Array:\")\n",
    "print(record_array)"
   ]
  },
  {
   "cell_type": "markdown",
   "id": "1413a44d",
   "metadata": {},
   "source": [
    "### 16. swap two rows of an array"
   ]
  },
  {
   "cell_type": "code",
   "execution_count": 73,
   "id": "af073d7e",
   "metadata": {},
   "outputs": [
    {
     "name": "stdout",
     "output_type": "stream",
     "text": [
      "Array with Rows Swapped:\n",
      "[[4 5 6]\n",
      " [1 2 3]\n",
      " [7 8 9]]\n"
     ]
    }
   ],
   "source": [
    "arr = np.array([[1, 2, 3],\n",
    "                [4, 5, 6],\n",
    "                [7, 8, 9]])\n",
    "\n",
    "# Swapping rows 0 and 1\n",
    "arr[[0, 1]] = arr[[1, 0]]\n",
    "\n",
    "print(\"Array with Rows Swapped:\")\n",
    "print(arr)"
   ]
  },
  {
   "cell_type": "markdown",
   "id": "8fba5c9c",
   "metadata": {},
   "source": [
    "### 17. Write python code to reshape to the next dimension of numpy array?"
   ]
  },
  {
   "cell_type": "code",
   "execution_count": 76,
   "id": "d3296dcb",
   "metadata": {},
   "outputs": [
    {
     "name": "stdout",
     "output_type": "stream",
     "text": [
      "Original Array (3x3):\n",
      "[[ 23  34 121]\n",
      " [ 23  22  67]\n",
      " [686 434 123]]\n",
      "\n",
      "Reshaped Array (3x3x1):\n",
      "[[[ 23]\n",
      "  [ 34]\n",
      "  [121]]\n",
      "\n",
      " [[ 23]\n",
      "  [ 22]\n",
      "  [ 67]]\n",
      "\n",
      " [[686]\n",
      "  [434]\n",
      "  [123]]]\n"
     ]
    }
   ],
   "source": [
    "x = np.array([[23, 34, 121],\n",
    "              [23, 22, 67],\n",
    "              [686, 434, 123]])\n",
    "\n",
    "\n",
    "# Reshape to the next dimension (3x3x1)\n",
    "reshaped_x = x.reshape((3, 3, 1))\n",
    "\n",
    "print(\"Original Array (3x3):\")\n",
    "print(x)\n",
    "\n",
    "print(\"\\nReshaped Array (3x3x1):\")\n",
    "print(reshaped_x)"
   ]
  }
 ],
 "metadata": {
  "kernelspec": {
   "display_name": "Python 3 (ipykernel)",
   "language": "python",
   "name": "python3"
  },
  "language_info": {
   "codemirror_mode": {
    "name": "ipython",
    "version": 3
   },
   "file_extension": ".py",
   "mimetype": "text/x-python",
   "name": "python",
   "nbconvert_exporter": "python",
   "pygments_lexer": "ipython3",
   "version": "3.11.4"
  }
 },
 "nbformat": 4,
 "nbformat_minor": 5
}
