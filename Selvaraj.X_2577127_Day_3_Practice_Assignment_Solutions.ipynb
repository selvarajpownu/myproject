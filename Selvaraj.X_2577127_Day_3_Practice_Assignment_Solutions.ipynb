{
 "cells": [
  {
   "cell_type": "markdown",
   "id": "f9ca764a",
   "metadata": {},
   "source": [
    "## File Handling"
   ]
  },
  {
   "cell_type": "markdown",
   "id": "ae5e4144",
   "metadata": {},
   "source": [
    "### 1. File reading and writing upto 50 at a time."
   ]
  },
  {
   "cell_type": "code",
   "execution_count": 223,
   "id": "5ff0fe9c",
   "metadata": {},
   "outputs": [
    {
     "name": "stdout",
     "output_type": "stream",
     "text": [
      "File reading and writing upto 50 characters at a time. \n"
     ]
    }
   ],
   "source": [
    "def function(read_file, write_file):\n",
    "        with open(read_file, 'r') as source:\n",
    "            with open(write_file, 'w') as destination:\n",
    "                chunk = source.read(50)\n",
    "                while chunk:\n",
    "                    destination.write(chunk)\n",
    "                    chunk = source.read(50)\n",
    "        print('File reading and writing upto 50 characters at a time. ')\n",
    "   \n",
    "        \n",
    "with open('read_file.txt','r') as file:\n",
    "    function(\"read_file.txt\", \"write_file.txt\")\n"
   ]
  },
  {
   "cell_type": "code",
   "execution_count": 224,
   "id": "a1753ed9",
   "metadata": {},
   "outputs": [
    {
     "data": {
      "text/plain": [
       "28"
      ]
     },
     "execution_count": 224,
     "metadata": {},
     "output_type": "execute_result"
    }
   ],
   "source": [
    "f=open('textfile1.txt','w')\n",
    "f.write(\"Selvaraj.X 2577127 Mphasis  \")"
   ]
  },
  {
   "cell_type": "markdown",
   "id": "ce7ffa9d",
   "metadata": {},
   "source": [
    "### 2.Print all numbers and count of blankspace in text file"
   ]
  },
  {
   "cell_type": "code",
   "execution_count": 226,
   "id": "492173c3",
   "metadata": {},
   "outputs": [
    {
     "name": "stdout",
     "output_type": "stream",
     "text": [
      "The numbers in the file are: ['2577127']\n",
      "The number of blank spaces in the file is: 4\n"
     ]
    }
   ],
   "source": [
    "def numbers_blank(filename):\n",
    "    with open(filename, \"r\") as f:\n",
    "        numbers = []\n",
    "        count = 0\n",
    "        for line in f.readlines():\n",
    "            for word in line.split():\n",
    "                if word.isdigit():\n",
    "                    numbers.append(word)\n",
    "            for blank in line:\n",
    "                if blank.isspace():\n",
    "                    count+=1\n",
    "    print(\"The numbers in the file are:\", numbers)\n",
    "    print(\"The number of blank spaces in the file is:\", count)\n",
    "    \n",
    "numbers_blank(\"textfile1.txt\")\n"
   ]
  },
  {
   "cell_type": "markdown",
   "id": "d3d24835",
   "metadata": {},
   "source": [
    "### 3. Replace pattern string in the file by takes argument as pattern string"
   ]
  },
  {
   "cell_type": "code",
   "execution_count": 182,
   "id": "875d411b",
   "metadata": {},
   "outputs": [
    {
     "name": "stdout",
     "output_type": "stream",
     "text": [
      "Input file content : selva selva selva sel selva\n",
      "\n",
      "Output file content : raj raj raj sel raj\n",
      "\n"
     ]
    }
   ],
   "source": [
    "def sed(pattern, replacement, input_file, output_file):\n",
    "    try:\n",
    "        with open(input_file, \"r\") as f:\n",
    "            contents = f.read()\n",
    "            print('Input file content :',contents)\n",
    "        with open(output_file, \"w\") as f:\n",
    "            final_con=contents.replace(pattern, replacement)\n",
    "            f.write(final_con)\n",
    "            print('Output file content :',final_con)\n",
    "            \n",
    "    except FileNotFoundError as e:\n",
    "        print(f\"Error: {e}\")\n",
    "        exit(1)\n",
    "    except Exception as e:\n",
    "        print(f\"Error: {e}\")\n",
    "        exit(1)\n",
    "\n",
    "sed(\"selva\",\"raj\",\"input_file.txt\", \"ouput_file.txt\")"
   ]
  },
  {
   "cell_type": "markdown",
   "id": "3005a273",
   "metadata": {},
   "source": [
    "### 4. Log Data Analysis: read log file and extract information"
   ]
  },
  {
   "cell_type": "code",
   "execution_count": 168,
   "id": "8ee7847c",
   "metadata": {},
   "outputs": [
    {
     "data": {
      "text/plain": [
       "'127.0.0.1 - - [13/Sep/2023:17:05:48 +0530] \"GET /index.html HTTP/1.1\" 200 612\\n127.0.0.1 - - [13/Sep/2023:17:06:04 +0530] \"POST /login HTTP/1.1\" 200 123\\n127.0.0.1 - - [13/Sep/2023:17:06:21 +0530] \"GET /products.html HTTP/1.1\" 200 897\\n127.0.0.1 - - [13/Sep/2023:17:06:37 +0530] \"PUT /cart HTTP/1.1\" 200 456\\n127.0.0.1 - - [13/Sep/2023:17:07:03 +0530] \"DELETE /cart/item HTTP/1.1\" 200 123'"
      ]
     },
     "execution_count": 168,
     "metadata": {},
     "output_type": "execute_result"
    }
   ],
   "source": [
    "log_read =open('network.txt','r')"
   ]
  },
  {
   "cell_type": "code",
   "execution_count": 308,
   "id": "f7fe7c0b",
   "metadata": {},
   "outputs": [
    {
     "name": "stdout",
     "output_type": "stream",
     "text": [
      "Number of Unique Users: 1\n",
      "Most Common Action: /index.html\n"
     ]
    }
   ],
   "source": [
    "from collections import defaultdict\n",
    "from operator import itemgetter\n",
    "\n",
    "log_file = \"network.txt\" \n",
    "user_actions = defaultdict(int)\n",
    "\n",
    "def extract_user_action(log_entry):\n",
    "    parts = log_entry.split()\n",
    "    if len(parts) >= 7:\n",
    "        user_id = parts[0]\n",
    "        action = parts[6]\n",
    "        return user_id, action\n",
    "    else:\n",
    "        return None, None\n",
    "\n",
    "with open(log_file, \"r\") as file: # Read and process the log file\n",
    "    for line in file:\n",
    "        user_id, action = extract_user_action(line)\n",
    "        if user_id and action:\n",
    "            user_actions[(user_id, action)] += 1\n",
    "\n",
    "# Calculate the number of unique users\n",
    "unique_users = set(user_id for user_id, _ in user_actions.keys()) \n",
    "# Find the most common action\n",
    "most_common_action, most_common_action_count = max(user_actions.items(), key=itemgetter(1))\n",
    "\n",
    "print(\"Number of Unique Users:\", len(unique_users))\n",
    "print(\"Most Common Action:\", most_common_action[1])\n"
   ]
  },
  {
   "cell_type": "markdown",
   "id": "4fe381f7",
   "metadata": {},
   "source": [
    "### 5. Text file search and replace"
   ]
  },
  {
   "cell_type": "code",
   "execution_count": 183,
   "id": "aa6cb3b8",
   "metadata": {},
   "outputs": [
    {
     "name": "stdout",
     "output_type": "stream",
     "text": [
      "Before file content : selva selva selva sel selva\n",
      "\n",
      "After replaced file content : raj raj raj sel raj\n",
      "\n"
     ]
    }
   ],
   "source": [
    "\n",
    "file_path = \"input_file.txt\"\n",
    "search_string = \"selva\"  \n",
    "replace_string = \"raj\"\n",
    "\n",
    "with open(file_path, \"r\") as file:\n",
    "    file_contents = file.read()\n",
    "    print('Before file content :',file_contents)\n",
    "\n",
    "new_file_contents = file_contents.replace(search_string, replace_string) #replace function\n",
    "\n",
    "# Write the updated content back to the file\n",
    "with open(file_path, \"w\") as file:\n",
    "    file.write(new_file_contents)\n",
    "    print('After replaced file content :',new_file_contents)\n",
    "    "
   ]
  },
  {
   "cell_type": "markdown",
   "id": "ea2d6fd9",
   "metadata": {},
   "source": [
    "### 6. Concatenate multiple file into single file"
   ]
  },
  {
   "cell_type": "code",
   "execution_count": 186,
   "id": "02e90bb4",
   "metadata": {},
   "outputs": [
    {
     "name": "stdout",
     "output_type": "stream",
     "text": [
      "Enter the number of input files: 2\n",
      "Enter the name of input file 1: input_file.txt\n",
      "Enter the name of input file 2: textfile1.txt\n",
      "Enter the name of the output file: output_file.txt\n",
      "Files concatenated successfully!\n"
     ]
    }
   ],
   "source": [
    "def concate_files(input_files, output_file):\n",
    "    with open(output_file, 'w') as output:\n",
    "        for input_file in input_files:\n",
    "            with open(input_file, 'r') as file:\n",
    "                print(file.read())\n",
    "                output.write(file.read())\n",
    "                output.write(\"\\n\")\n",
    "    print(\"Files concatenated successfully!\")\n",
    "    \n",
    "\n",
    "# Get input file names from the user\n",
    "num_files = int(input(\"Enter the number of input files: \"))\n",
    "input_files = []\n",
    "for i in range(num_files):\n",
    "    file_name = input(f\"Enter the name of input file {i + 1}: \")\n",
    "    input_files.append(file_name)\n",
    "\n",
    "# Get the output file name from the user\n",
    "output_file = input(\"Enter the name of the output file: \")\n",
    "\n",
    "concate_files(input_files, output_file)\n"
   ]
  },
  {
   "cell_type": "markdown",
   "id": "ad446684",
   "metadata": {},
   "source": [
    "### 7. Perform following operations:\n",
    "i) read words in input.txt\n",
    "ii) calculate length and store in dict\n",
    "iii)store in dict word:length\n",
    "iv) close the files\n",
    "v)with using proper error handling"
   ]
  },
  {
   "cell_type": "code",
   "execution_count": 263,
   "id": "28c8d9f1",
   "metadata": {},
   "outputs": [
    {
     "data": {
      "text/plain": [
       "True"
      ]
     },
     "execution_count": 263,
     "metadata": {},
     "output_type": "execute_result"
    }
   ],
   "source": [
    "f=open('input.txt','w')\n",
    "f.writable()"
   ]
  },
  {
   "cell_type": "code",
   "execution_count": 279,
   "id": "aa9e9a0f",
   "metadata": {},
   "outputs": [
    {
     "data": {
      "text/plain": [
       "24"
      ]
     },
     "execution_count": 279,
     "metadata": {},
     "output_type": "execute_result"
    }
   ],
   "source": [
    "f.write('''apple\n",
    "banana\n",
    "cherry\n",
    "date''')"
   ]
  },
  {
   "cell_type": "code",
   "execution_count": 300,
   "id": "615e7e97",
   "metadata": {},
   "outputs": [
    {
     "data": {
      "text/plain": [
       "'apple\\nbanana\\ncherry\\ndate'"
      ]
     },
     "execution_count": 300,
     "metadata": {},
     "output_type": "execute_result"
    }
   ],
   "source": [
    "#i)read words from input.txt\n",
    "f=open('input.txt','r')\n",
    "f.read()"
   ]
  },
  {
   "cell_type": "code",
   "execution_count": 305,
   "id": "17e39295",
   "metadata": {},
   "outputs": [
    {
     "name": "stdout",
     "output_type": "stream",
     "text": [
      "['apple', 'banana', 'cherry', 'date']\n",
      "apple:5\n",
      "banana:6\n",
      "cherry:6\n",
      "date:4\n",
      "\n"
     ]
    }
   ],
   "source": [
    "def read_words(filename):\n",
    "    #v)error handling\n",
    "    try:\n",
    "        with open(filename, \"r\") as f:\n",
    "            words = f.read().split()\n",
    "        return words\n",
    "    except FileNotFoundError as e:\n",
    "        print('file is empty {}'.format(e))\n",
    "        exit(1)\n",
    "#ii) calculate length and store in dict\n",
    "def calculate_word_lengths(words):\n",
    "    word_lengths = {}\n",
    "    for word in words:\n",
    "        word_lengths[word] = len(word)\n",
    "    return word_lengths\n",
    "\n",
    "#iii)store in dict word:length\n",
    "def write_word_lengths(word_lengths, filename):\n",
    "    with open(filename, \"w\") as f:\n",
    "        for word, length in word_lengths.items():\n",
    "            f.write('{}:{}\\n'.format(word,length))\n",
    "\n",
    "def main():\n",
    "    words = read_words(\"input.txt\")\n",
    "    print(words)  \n",
    "    word_lengths = calculate_word_lengths(words)\n",
    "    write_word_lengths(word_lengths, \"output.txt\")\n",
    "    with open('output.txt','r') as words_with_length:\n",
    "        print(words_with_length.read())\n",
    "        words_with_length.close()\n",
    "\n",
    "main()\n",
    "#iv) close the files\n",
    "words.close()"
   ]
  },
  {
   "cell_type": "markdown",
   "id": "abecd3ce",
   "metadata": {},
   "source": [
    "### 8. Python program accomplish following task:\n",
    "1.Gets the student grades\n",
    "2.Adds a student grade\n",
    "3.Views the student grades\n",
    "4.import error handling"
   ]
  },
  {
   "cell_type": "code",
   "execution_count": 306,
   "id": "432d26dc",
   "metadata": {},
   "outputs": [
    {
     "name": "stdout",
     "output_type": "stream",
     "text": [
      "1. Add student grade\n",
      "2. View student grades\n",
      "3. Quit\n",
      "Enter your choice: 1\n",
      "Enter the subject: it\n",
      "Enter the student name: selva\n",
      "Enter the grade: a\n",
      "Grade added successfully!\n",
      "1. Add student grade\n",
      "2. View student grades\n",
      "3. Quit\n",
      "Enter your choice: 3\n"
     ]
    }
   ],
   "source": [
    "import os\n",
    "\n",
    "#Gets the student grades\n",
    "def get_student_grades(subject):\n",
    "    filename = f\"{subject}_grades.txt\"\n",
    "    if not os.path.exists(filename):\n",
    "        return []\n",
    "\n",
    "    with open(filename, \"r\") as f:\n",
    "        grades = []\n",
    "        for line in f:\n",
    "            grades.append(line.strip())\n",
    "\n",
    "    return grades\n",
    "\n",
    "#Adds a student grade\n",
    "def add_student_grade(subject, student_name, grade):\n",
    "    try:\n",
    "        filename = f\"{subject}_grades.txt\"\n",
    "        with open(filename, \"a\") as f:\n",
    "            f.write(f\"{student_name} {grade}\\n\")\n",
    "    except IOError:\n",
    "        print(\"Error: Could not write to the grade file.\")\n",
    "        \n",
    "#Views the student grades\n",
    "def view_student_grades(student_name):\n",
    "    for subject in [\"Math\", \"Science\", \"English\", \"History\"]:\n",
    "        grades = get_student_grades(subject)\n",
    "        for grade_entry in grades:\n",
    "            parts = grade_entry.split()\n",
    "            if len(parts) == 2 and parts[0] == student_name:\n",
    "                print(f\"Subject: {subject}\")\n",
    "                print(f\"Grade: {parts[1]}\")\n",
    "\n",
    "def student_grade():\n",
    "    while True:\n",
    "        print(\"1. Add student grade\")\n",
    "        print(\"2. View student grades\")\n",
    "        print(\"3. Quit\")\n",
    "\n",
    "        choice = input(\"Enter your choice: \")\n",
    "\n",
    "        if choice == \"1\":\n",
    "            subject = input(\"Enter the subject: \")\n",
    "            student_name = input(\"Enter the student name: \")\n",
    "            grade = input(\"Enter the grade: \")\n",
    "            add_student_grade(subject, student_name, grade)\n",
    "            print(\"Grade added successfully!\")\n",
    "\n",
    "        elif choice == \"2\":\n",
    "            student_name = input(\"Enter the student name: \")\n",
    "            view_student_grades(student_name)\n",
    "\n",
    "        elif choice == \"3\":\n",
    "            break\n",
    "\n",
    "        else:\n",
    "            print(\"Invalid choice\")\n",
    "\n",
    "\n",
    "student_grade()\n"
   ]
  },
  {
   "cell_type": "code",
   "execution_count": null,
   "id": "70f9f582",
   "metadata": {},
   "outputs": [],
   "source": []
  }
 ],
 "metadata": {
  "kernelspec": {
   "display_name": "Python 3 (ipykernel)",
   "language": "python",
   "name": "python3"
  },
  "language_info": {
   "codemirror_mode": {
    "name": "ipython",
    "version": 3
   },
   "file_extension": ".py",
   "mimetype": "text/x-python",
   "name": "python",
   "nbconvert_exporter": "python",
   "pygments_lexer": "ipython3",
   "version": "3.11.4"
  }
 },
 "nbformat": 4,
 "nbformat_minor": 5
}
