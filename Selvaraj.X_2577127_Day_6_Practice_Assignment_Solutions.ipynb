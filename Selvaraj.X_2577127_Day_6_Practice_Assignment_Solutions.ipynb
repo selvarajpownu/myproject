{
 "cells": [
  {
   "cell_type": "markdown",
   "id": "783fe96f",
   "metadata": {},
   "source": [
    "# Object Oriented Programing in Python"
   ]
  },
  {
   "cell_type": "markdown",
   "id": "8a0db420",
   "metadata": {},
   "source": [
    "### 1. Calculate area and perimeter for circle and rectangle"
   ]
  },
  {
   "cell_type": "code",
   "execution_count": 16,
   "id": "10442e1c",
   "metadata": {},
   "outputs": [
    {
     "name": "stdout",
     "output_type": "stream",
     "text": [
      "Enter Radius :4\n",
      "Enter Length :6\n",
      "Enter Width :8\n"
     ]
    }
   ],
   "source": [
    "class Shape:\n",
    "    def __init__(self,radius = int(input('Enter Radius :')),length = int(input('Enter Length :')),width = int(input('Enter Width :'))):\n",
    "        self.radius = radius\n",
    "        self.length = length\n",
    "        self.width = width\n",
    "\n",
    "    \n",
    "class Circle(Shape):\n",
    "    def area_circle(self):\n",
    "        self.area = 3.14 *self.radius*self.radius\n",
    "    def perimeter_circle(self):\n",
    "        self.perimeter = 2 * 3.14 * self.radius\n",
    "    def display(self):\n",
    "        print(f\"Area of circle for radius {self.radius} is {self.area}\")\n",
    "        print(f\"Perimeter of circle for radius {self.radius} is {self.perimeter}\")\n",
    "        \n",
    "class Rectangle(Shape):\n",
    "    def area_rectangle(self):\n",
    "        self.area = self.length*self.width\n",
    "    def perimeter_rectangle(self):\n",
    "        self.perimeter = 2 * (self.length+self.width)\n",
    "    def display(self):\n",
    "        print(f\"Area of rectangle for radius {self.radius} is {self.area}\")\n",
    "        print(f\"Perimeter of rectangle for radius {self.radius} is {self.perimeter}\")\n",
    "    \n",
    "        \n",
    "\n",
    "c = Circle()\n",
    "r = Rectangle()\n",
    "        \n",
    "        "
   ]
  },
  {
   "cell_type": "code",
   "execution_count": 17,
   "id": "9dcd7deb",
   "metadata": {},
   "outputs": [
    {
     "name": "stdout",
     "output_type": "stream",
     "text": [
      "Area of circle for radius 4 is 50.24\n",
      "Perimeter of circle for radius 4 is 25.12\n"
     ]
    }
   ],
   "source": [
    "# area and perimeter for circle\n",
    "c.area_circle()\n",
    "c.perimeter_circle()\n",
    "c.display()"
   ]
  },
  {
   "cell_type": "code",
   "execution_count": 18,
   "id": "5c79c886",
   "metadata": {},
   "outputs": [
    {
     "name": "stdout",
     "output_type": "stream",
     "text": [
      "Area of rectangle for radius 4 is 48\n",
      "Perimeter of rectangle for radius 4 is 28\n"
     ]
    }
   ],
   "source": [
    "#area and perimeter for rectangle\n",
    "r.area_rectangle()\n",
    "r.perimeter_rectangle()\n",
    "r.display()"
   ]
  },
  {
   "cell_type": "code",
   "execution_count": 21,
   "id": "154d8ecb",
   "metadata": {},
   "outputs": [
    {
     "name": "stdout",
     "output_type": "stream",
     "text": [
      "Who is superstar of Tamil cinema\n",
      "1. Rajini\n",
      "2. Kamal\n",
      "3. Vijay\n",
      "Enter your choice (1, 2, 3): 1\n",
      "what is vijay's Upcoming Movie\n",
      "1. Varisu\n",
      "2. Bigil\n",
      "3. Leo\n",
      "Enter your choice (1, 2, 3): 3\n",
      "Your score: 2 out of 2\n"
     ]
    }
   ],
   "source": [
    "#quizzes and questions\n",
    "\n",
    "class Question:\n",
    "    def __init__(self, text, options, correct_option):\n",
    "        self.text = text\n",
    "        self.options = options\n",
    "        self.correct_option = correct_option\n",
    "\n",
    "    def is_correct(self, selected_option):\n",
    "        return selected_option == self.correct_option\n",
    "\n",
    "class Quiz:\n",
    "    def __init__(self, name, questions):\n",
    "        self.name = name\n",
    "        self.questions = questions\n",
    "\n",
    "    def take_quiz(self):\n",
    "        score = 0\n",
    "        for question in self.questions:\n",
    "            print(question.text)\n",
    "            for i, option in enumerate(question.options):\n",
    "                print(f\"{i + 1}. {option}\")\n",
    "            user_choice = int(input(\"Enter your choice (1, 2, 3): \"))\n",
    "            if question.is_correct(user_choice - 1):\n",
    "                score += 1\n",
    "        return score\n",
    "\n",
    "# creating q1 and q2 object for Question class\n",
    "q1 = Question(\"Who is superstar of Tamil cinema\", [\"Rajini\", \"Kamal\", \"Vijay\"], 0)\n",
    "q2 = Question(\"what is vijay's Upcoming Movie\", [\"Varisu\", \"Bigil\", \"Leo\"], 2)\n",
    "\n",
    "# creating quiz object for Quiz class\n",
    "quiz = Quiz(\"Cinima Quiz :\", [q1, q2])\n",
    "\n",
    "# Take the quiz\n",
    "user_score = quiz.take_quiz()\n",
    "print(f\"Your score: {user_score} out of {len(quiz.questions)}\")\n",
    "\n"
   ]
  },
  {
   "cell_type": "code",
   "execution_count": 23,
   "id": "5d7c6552",
   "metadata": {},
   "outputs": [
    {
     "name": "stdout",
     "output_type": "stream",
     "text": [
      "User: selvaraj\n",
      "Cinima Quiz :: 2 out of 2\n"
     ]
    }
   ],
   "source": [
    "# Store user progress in dictionary\n",
    "user_progress = {\n",
    "    \"username\": \"selvaraj\",\n",
    "    \"quizzes_taken\": {\n",
    "        quiz.name: user_score\n",
    "    }\n",
    "}\n",
    "\n",
    "# Retrieve user progress\n",
    "print(f\"User: {user_progress['username']}\")\n",
    "for quiz_name, score in user_progress['quizzes_taken'].items():\n",
    "    print(f\"{quiz_name}: {score} out of 2\")\n"
   ]
  },
  {
   "cell_type": "markdown",
   "id": "a177e40c",
   "metadata": {},
   "source": [
    "### 2. Calculate Person eligiblity for Voting"
   ]
  },
  {
   "cell_type": "code",
   "execution_count": 13,
   "id": "9572925d",
   "metadata": {},
   "outputs": [
    {
     "name": "stdout",
     "output_type": "stream",
     "text": [
      "Enter name :selvaraj\n",
      "Enter age :22\n"
     ]
    }
   ],
   "source": [
    "class Person: \n",
    "    def get_name(self):\n",
    "        return self.__name\n",
    "    \n",
    "    def get_age(self):\n",
    "        return self.__age\n",
    "    \n",
    "    def set_details(self,name,age):\n",
    "        self.__name = name\n",
    "        self.__age = age\n",
    "    \n",
    "class Voting():\n",
    "    def __init__(self,person):\n",
    "        self.person = p\n",
    "    \n",
    "    def Vote_eligiblity(self):\n",
    "        if self.person.get_age() >= 18:\n",
    "            print(f\"{self.person.get_name()} is Eligible for Voting\")\n",
    "        else:\n",
    "            print(f\"{self.person.get_name()} is Not Eligible for Voting\")\n",
    "\n",
    "p = Person()\n",
    "p.set_details(name = input('Enter name :'),age = int(input('Enter age :')))\n",
    "\n",
    "\n"
   ]
  },
  {
   "cell_type": "code",
   "execution_count": 14,
   "id": "5dc6ccfd",
   "metadata": {},
   "outputs": [
    {
     "name": "stdout",
     "output_type": "stream",
     "text": [
      "selvaraj is Eligible for Voting\n"
     ]
    }
   ],
   "source": [
    "\n",
    "#passing person object to access the private data\n",
    "v = Voting(p)\n",
    "v.Vote_eligiblity()"
   ]
  },
  {
   "cell_type": "markdown",
   "id": "a866cc6c",
   "metadata": {},
   "source": [
    "### 3. Banking System"
   ]
  },
  {
   "cell_type": "code",
   "execution_count": 33,
   "id": "aca3089d",
   "metadata": {},
   "outputs": [],
   "source": [
    "class BankAccount:\n",
    "    def __init__(self, account_number, account_holder_name, balance):\n",
    "        # Private attributes with getter and setter methods\n",
    "        self._account_number = account_number\n",
    "        self._account_holder_name = account_holder_name\n",
    "        self._balance = balance\n",
    "\n",
    "   \n",
    "    def get_account_number(self):\n",
    "        return self._account_number\n",
    "    def set_account_number(self, account_number):\n",
    "        self._account_number = account_number\n",
    "\n",
    "    def get_account_holder_name(self):\n",
    "        return self._account_holder_name\n",
    "    def set_account_holder_name(self, account_holder_name):\n",
    "        self._account_holder_name = account_holder_name\n",
    "\n",
    "    def get_balance(self):\n",
    "        return self._balance\n",
    "\n",
    "    # Deposit method with error handling\n",
    "    def deposit(self, deposit_amt):\n",
    "        if deposit_amt > 0:\n",
    "            self._balance += deposit_amt\n",
    "            return f\"Deposited Rs.{deposit_amt}. New balance: Rs.{self._balance}\"\n",
    "        else:\n",
    "            return \"Invalid deposit amount.\"\n",
    "\n",
    "    # Withdraw method with error handling\n",
    "    def withdraw(self, withdraw_amt):\n",
    "        if withdraw_amt > 0 and withdraw_amt <= self._balance:\n",
    "            self._balance -= withdraw_amt\n",
    "            return f\"Withdrew ${withdraw_amt}. New balance: ${self._balance}\"\n",
    "        else:\n",
    "            return \"Insufficient funds or invalid withdrawal amount.\""
   ]
  },
  {
   "cell_type": "code",
   "execution_count": 34,
   "id": "3838e141",
   "metadata": {},
   "outputs": [],
   "source": [
    "class SavingsAccount(BankAccount):\n",
    "    def __init__(self, account_number, account_holder_name, balance, interest_rate):\n",
    "        super().__init__(account_number, account_holder_name, balance)\n",
    "        # Private attribute for interest rate with getter and setter methods\n",
    "        self._interest_rate = interest_rate\n",
    "\n",
    "   \n",
    "    def get_interest_rate(self):\n",
    "        return self._interest_rate\n",
    "\n",
    "    # Setter for interest_rate\n",
    "    def set_interest_rate(self, interest_rate):\n",
    "        self._interest_rate = interest_rate\n",
    "\n",
    "    # Method to calculate and add interest with error handling\n",
    "    def calculate_interest(self):\n",
    "        if self._interest_rate >= 0:\n",
    "            interest = (self._balance * self._interest_rate) / 100\n",
    "            self._balance += interest\n",
    "            return f\"Interest added: Rs.{interest}. New balance: Rs.{self._balance}\"\n",
    "        else:\n",
    "            return \"Invalid interest rate.\"\n"
   ]
  },
  {
   "cell_type": "code",
   "execution_count": 35,
   "id": "ee781eca",
   "metadata": {},
   "outputs": [],
   "source": [
    "savings_account = SavingsAccount(\"123\", \"Selva\", 10000, 2.5)\n"
   ]
  },
  {
   "cell_type": "code",
   "execution_count": 36,
   "id": "71bf4a2f",
   "metadata": {},
   "outputs": [
    {
     "name": "stdout",
     "output_type": "stream",
     "text": [
      "Deposited Rs.200. New balance: Rs.10200\n",
      "Interest added: Rs.255.0. New balance: Rs.10455.0\n"
     ]
    }
   ],
   "source": [
    "print(savings_account.deposit(200))\n",
    "print(savings_account.calculate_interest())"
   ]
  },
  {
   "cell_type": "code",
   "execution_count": 37,
   "id": "67339707",
   "metadata": {},
   "outputs": [],
   "source": [
    "class CheckingAccount(BankAccount):\n",
    "    def __init__(self, account_number, account_holder_name, balance, overdraft_limit):\n",
    "        super().__init__(account_number, account_holder_name, balance)\n",
    "        # Private attribute for overdraft limit with getter and setter methods\n",
    "        self._overdraft_limit = overdraft_limit\n",
    "\n",
    "    # Getter for overdraft_limit\n",
    "    def get_overdraft_limit(self):\n",
    "        return self._overdraft_limit\n",
    "\n",
    "    # Setter for overdraft_limit\n",
    "    def set_overdraft_limit(self, overdraft_limit):\n",
    "        self._overdraft_limit = overdraft_limit\n",
    "\n",
    "    # Withdraw method for checking account with overdraft handling\n",
    "    def withdraw(self, withdraw_amt):\n",
    "        if withdraw_amt > 0:\n",
    "            if withdraw_amt <= self._balance:\n",
    "                self._balance -= withdraw_amt\n",
    "                return f\"Withdrew Rs.{withdraw_amt}. New balance: Rs.{self._balance}\"\n",
    "            elif withdraw_amt <= (self._balance + self._overdraft_limit):\n",
    "                overdraft_used = withdraw_amt - self._balance\n",
    "                self._balance = 0\n",
    "                return f\"Withdrew Rs.{withdraw_amt} with overdraft. Overdraft used: Rs.{overdraft_used}. New balance: Rs.{self._balance}\"\n",
    "            else:\n",
    "                return \"Exceeded overdraft limit.\"\n",
    "        else:\n",
    "            return \"Invalid withdrawal amount.\""
   ]
  },
  {
   "cell_type": "code",
   "execution_count": 38,
   "id": "17e588c5",
   "metadata": {},
   "outputs": [],
   "source": [
    "checking_account = CheckingAccount(\"124\", \"Raj\", 500, 100)"
   ]
  },
  {
   "cell_type": "code",
   "execution_count": 40,
   "id": "0d6331e7",
   "metadata": {},
   "outputs": [
    {
     "name": "stdout",
     "output_type": "stream",
     "text": [
      "Deposited Rs.700. New balance: Rs.1300\n",
      "Withdrew Rs.500. New balance: Rs.800\n"
     ]
    }
   ],
   "source": [
    "print(checking_account.deposit(700))\n",
    "print(checking_account.withdraw(500))"
   ]
  },
  {
   "cell_type": "markdown",
   "id": "95df6419",
   "metadata": {},
   "source": [
    "### 4.Developing an employee management system for a company"
   ]
  },
  {
   "cell_type": "code",
   "execution_count": 1,
   "id": "203f4439",
   "metadata": {},
   "outputs": [],
   "source": [
    "class Employee:\n",
    "    def __init__(self, name, employee_id, salary):\n",
    "        # Private attributes with getter and setter methods\n",
    "        self._name = name\n",
    "        self._employee_id = employee_id\n",
    "        self._salary = salary\n",
    "\n",
    "   \n",
    "    def get_name(self):\n",
    "        return self._name\n",
    "    def set_name(self, name):\n",
    "        self._name = name\n",
    "\n",
    "    \n",
    "    def get_employee_id(self):\n",
    "        return self._employee_id\n",
    "    def set_employee_id(self, employee_id):\n",
    "        self._employee_id = employee_id\n",
    "\n",
    "    def get_salary(self):\n",
    "        return self._salary\n",
    "    def set_salary(self, salary):\n",
    "        self._salary = salary\n",
    "\n",
    "    # Method to calculate salary\n",
    "    def calculate_salary(self):\n",
    "        pass\n",
    "\n",
    "class FullTimeEmployee(Employee):\n",
    "    def __init__(self, name, employee_id, annual_salary):\n",
    "        super().__init__(name, employee_id, annual_salary)\n",
    "\n",
    "    # Override the calculate_salary method for full-time employees\n",
    "    def calculate_salary(self):\n",
    "        return self._salary\n",
    "\n",
    "class PartTimeEmployee(Employee):\n",
    "    def __init__(self, name, employee_id, hourly_rate, hours_worked):\n",
    "        super().__init__(name, employee_id, hourly_rate)\n",
    "        self._hours_worked = hours_worked\n",
    "\n",
    "    def get_hours_worked(self):\n",
    "        return self._hours_worked\n",
    "    def set_hours_worked(self, hours_worked):\n",
    "        self._hours_worked = hours_worked\n",
    "\n",
    "    # Override the calculate_salary method for part-time employees\n",
    "    def calculate_salary(self):\n",
    "        return self._salary * self._hours_worked\n",
    "\n",
    "\n",
    "    \n",
    "#name, employee_id, annual_salary\n",
    "full_time_employee = FullTimeEmployee(\"Selvaraj\", \"123\", 100000)\n",
    "\n",
    "#name, employee_id, hourly_rate, hours_worked\n",
    "part_time_employee = PartTimeEmployee(\"Govind\", \"124\", 20, 40)\n"
   ]
  },
  {
   "cell_type": "code",
   "execution_count": 3,
   "id": "c9ebf3ec",
   "metadata": {},
   "outputs": [
    {
     "name": "stdout",
     "output_type": "stream",
     "text": [
      "Full-Time Employee ---> Name: Selvaraj, Salary: Rs.100000\n",
      "Part-Time Employee ---> Name: Govind, Salary: Rs.800 for 40 Hours\n"
     ]
    }
   ],
   "source": [
    "# Calculate and display salaries\n",
    "print(f\"Full-Time Employee ---> Name: {full_time_employee.get_name()}, Salary: Rs.{full_time_employee.calculate_salary()}\")\n",
    "print(f\"Part-Time Employee ---> Name: {part_time_employee.get_name()}, Salary: Rs.{part_time_employee.calculate_salary()} for {part_time_employee.get_hours_worked()} Hours\")"
   ]
  },
  {
   "cell_type": "markdown",
   "id": "1fdd8c32",
   "metadata": {},
   "source": [
    "### 5.Library Management System-Scenario"
   ]
  },
  {
   "cell_type": "code",
   "execution_count": 31,
   "id": "45f6fc2b",
   "metadata": {},
   "outputs": [],
   "source": [
    "from datetime import datetime, timedelta\n",
    "\n",
    "class Book:\n",
    "    def __init__(self, title, author, book_type):\n",
    "        self._title = title\n",
    "        self._author = author\n",
    "        self._book_type = book_type\n",
    "        self._available = True\n",
    "\n",
    "    def get_title(self):\n",
    "        return self._title\n",
    "\n",
    "    def set_title(self, title):\n",
    "        self._title = title\n",
    "\n",
    "    def get_author(self):\n",
    "        return self._author\n",
    "\n",
    "    def set_author(self, author):\n",
    "        self._author = author\n",
    "\n",
    "    def get_book_type(self):\n",
    "        return self._book_type\n",
    "\n",
    "    def set_book_type(self, book_type):\n",
    "        self._book_type = book_type\n",
    "\n",
    "    def is_available(self):\n",
    "        return self._available\n",
    "\n",
    "    def check_out(self):\n",
    "        if self._available:\n",
    "            self._available = False\n",
    "            return \"Book checked out successfully.\"\n",
    "        else:\n",
    "            return \"Book is already checked out.\"\n",
    "\n",
    "    def return_book(self):\n",
    "        if not self._available:\n",
    "            self._available = True\n",
    "            return \"Book returned successfully.\"\n",
    "        else:\n",
    "            return \"Book is not checked out.\"\n",
    "\n",
    "class Patron:\n",
    "    def __init__(self, name, patron_id):\n",
    "        self._name = name\n",
    "        self._patron_id = patron_id\n",
    "\n",
    "    def get_name(self):\n",
    "        return self._name\n",
    "\n",
    "    def set_name(self, name):\n",
    "        self._name = name\n",
    "\n",
    "    def get_patron_id(self):\n",
    "        return self._patron_id\n",
    "\n",
    "    def set_patron_id(self, patron_id):\n",
    "        self._patron_id = patron_id\n",
    "\n",
    "class Transaction:\n",
    "    def __init__(self, book, patron):\n",
    "        self._book = book\n",
    "        self._patron = patron\n",
    "        self._due_date = datetime.now() + timedelta(days=14) #duration of due date\n",
    "\n",
    "    def get_due_date(self):\n",
    "        return self._due_date\n",
    "\n",
    "    def set_due_date(self, due_date):\n",
    "        self._due_date = due_date\n",
    "\n",
    "    def is_overdue(self):\n",
    "        return datetime.now() > self._due_date\n",
    "\n",
    "\n",
    "# objects with attributes\n",
    "fiction_book = Book(\"Harry Potter\", \"Harry\", \"Fiction\")\n",
    "non_fiction_book = Book(\"Python fundamentals\", \"Govind\", \"Non-Fiction\")\n",
    "\n",
    "library_patron = Patron(\"Selvaraj\", \"2577127\")"
   ]
  },
  {
   "cell_type": "code",
   "execution_count": 26,
   "id": "6621f365",
   "metadata": {},
   "outputs": [
    {
     "name": "stdout",
     "output_type": "stream",
     "text": [
      "Book checked out successfully.\n",
      "Book checked out successfully.\n"
     ]
    }
   ],
   "source": [
    "transaction_fiction = Transaction(fiction_book, library_patron)\n",
    "transaction_non_fiction = Transaction(non_fiction_book, library_patron)\n",
    "\n",
    "print(fiction_book.check_out())\n",
    "print(non_fiction_book.check_out())"
   ]
  },
  {
   "cell_type": "code",
   "execution_count": 29,
   "id": "82996cc9",
   "metadata": {},
   "outputs": [
    {
     "name": "stdout",
     "output_type": "stream",
     "text": [
      "Book is not checked out.\n",
      "Book is not checked out.\n"
     ]
    }
   ],
   "source": [
    "#To return the book\n",
    "print(fiction_book.return_book())\n",
    "print(non_fiction_book.return_book())"
   ]
  },
  {
   "cell_type": "code",
   "execution_count": 30,
   "id": "27d1c5f6",
   "metadata": {},
   "outputs": [
    {
     "name": "stdout",
     "output_type": "stream",
     "text": [
      "Fiction book due date: 2023-09-16 21:51:06.749878\n",
      "Non-Fiction book due date: 2023-09-18 21:51:06.750878\n",
      "\n",
      "Fiction book overdue: True\n",
      "Non-Fiction book overdue: False\n"
     ]
    }
   ],
   "source": [
    "print(f\"Fiction book due date: {transaction_fiction.get_due_date()}\")\n",
    "print(f\"Non-Fiction book due date: {transaction_non_fiction.get_due_date()}\")\n",
    "\n",
    "\n",
    "print()\n",
    "transaction_fiction.set_due_date(datetime.now() - timedelta(days=2))#2 days delay\n",
    "print(f\"Fiction book overdue: {transaction_fiction.is_overdue()}\")\n",
    "\n",
    "transaction_non_fiction.set_due_date(datetime.now() - timedelta())#no delay\n",
    "print(f\"Non-Fiction book overdue: {transaction_non_fiction.is_overdue()}\")"
   ]
  },
  {
   "cell_type": "markdown",
   "id": "5cd2ae56",
   "metadata": {},
   "source": [
    "### 6.Online Shopping Cart"
   ]
  },
  {
   "cell_type": "code",
   "execution_count": 26,
   "id": "91e9748f",
   "metadata": {},
   "outputs": [],
   "source": [
    "class Product:\n",
    "    def __init__(self, product_id, name, price):\n",
    "        self._product_id = product_id\n",
    "        self._name = name\n",
    "        self._price = price\n",
    "\n",
    "    def get_product_id(self):\n",
    "        return self._product_id\n",
    "\n",
    "    def set_product_id(self, product_id):\n",
    "        self._product_id = product_id\n",
    "\n",
    "    def get_name(self):\n",
    "        return self._name\n",
    "\n",
    "    def set_name(self, name):\n",
    "        self._name = name\n",
    "\n",
    "    def get_price(self):\n",
    "        return self._price\n",
    "\n",
    "    def set_price(self, price):\n",
    "        self._price = price\n",
    "\n",
    "class Electronics(Product):\n",
    "    def __init__(self, product_id, name, price, brand):\n",
    "        super().__init__(product_id, name, price)\n",
    "        self._brand = brand\n",
    "\n",
    "    def get_brand(self):\n",
    "        return self._brand\n",
    "\n",
    "    def set_brand(self, brand):\n",
    "        self._brand = brand\n",
    "\n",
    "class Clothing(Product):\n",
    "    def __init__(self, product_id, name, price, size):\n",
    "        super().__init__(product_id, name, price)\n",
    "        self._size = size\n",
    "\n",
    "    def get_size(self):\n",
    "        return self._size\n",
    "\n",
    "    def set_size(self, size):\n",
    "        self._size = size\n",
    "\n",
    "class ShoppingCart:\n",
    "    def __init__(self):\n",
    "        self._items = []\n",
    "\n",
    "    def add_item(self, product, quantity):\n",
    "        self._items.append({\"product\": product, \"quantity\": quantity})\n",
    "\n",
    "    def remove_item(self, product):\n",
    "        self._items = [item for item in self._items if item[\"product\"] != product]\n",
    "\n",
    "    def calculate_total_cost(self):\n",
    "        total_cost = sum(item[\"product\"].get_price() * item[\"quantity\"] for item in self._items)\n",
    "        return total_cost\n",
    "\n",
    "class Order:\n",
    "    def __init__(self, order_id, items):\n",
    "        self._order_id = order_id\n",
    "        self._items = items\n",
    "        self._status = \"Processing\"\n",
    "\n",
    "    def get_order_id(self):\n",
    "        return self._order_id\n",
    "\n",
    "    def get_status(self):\n",
    "        return self._status\n",
    "\n",
    "    def set_status(self, status):\n",
    "        self._status = status\n",
    "\n",
    "\n",
    "gadget = Electronics(1, \"iPhone 15\", 80000, \"Apple\")\n",
    "t_shirt = Clothing(2, \"Gens\", 1000, \"XL\")\n"
   ]
  },
  {
   "cell_type": "code",
   "execution_count": 27,
   "id": "1244ac2e",
   "metadata": {},
   "outputs": [],
   "source": [
    "cart = ShoppingCart()\n",
    "\n",
    "# product, quantity\n",
    "cart.add_item(gadget, 2)\n",
    "cart.add_item(t_shirt, 3)"
   ]
  },
  {
   "cell_type": "code",
   "execution_count": 28,
   "id": "06730987",
   "metadata": {},
   "outputs": [
    {
     "name": "stdout",
     "output_type": "stream",
     "text": [
      "Total cost in the cart: Rs.163000\n"
     ]
    }
   ],
   "source": [
    "total_cost = cart.calculate_total_cost()\n",
    "print(f\"Total cost in the cart: Rs.{total_cost}\")"
   ]
  },
  {
   "cell_type": "code",
   "execution_count": 29,
   "id": "7d14c2cb",
   "metadata": {},
   "outputs": [
    {
     "name": "stdout",
     "output_type": "stream",
     "text": [
      "Order ID: 1, Status: Shipped\n"
     ]
    }
   ],
   "source": [
    "#Product orders\n",
    "\n",
    "order = Order(1, cart._items)\n",
    "order.set_status(\"Shipped\")\n",
    "\n",
    "print(f\"Order ID: {order.get_order_id()}, Status: {order.get_status()}\")"
   ]
  },
  {
   "cell_type": "code",
   "execution_count": 30,
   "id": "0bd0fd95",
   "metadata": {},
   "outputs": [
    {
     "name": "stdout",
     "output_type": "stream",
     "text": [
      "Order ID: 2, Status: Dispatched\n"
     ]
    }
   ],
   "source": [
    "order = Order(2, cart._items)\n",
    "order.set_status(\"Dispatched\")\n",
    "\n",
    "print(f\"Order ID: {order.get_order_id()}, Status: {order.get_status()}\")"
   ]
  }
 ],
 "metadata": {
  "kernelspec": {
   "display_name": "Python 3 (ipykernel)",
   "language": "python",
   "name": "python3"
  },
  "language_info": {
   "codemirror_mode": {
    "name": "ipython",
    "version": 3
   },
   "file_extension": ".py",
   "mimetype": "text/x-python",
   "name": "python",
   "nbconvert_exporter": "python",
   "pygments_lexer": "ipython3",
   "version": "3.11.4"
  }
 },
 "nbformat": 4,
 "nbformat_minor": 5
}
